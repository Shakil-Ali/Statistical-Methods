{
 "cells": [
  {
   "cell_type": "markdown",
   "metadata": {},
   "source": [
    "# Week 9 - Estimation\n",
    "\n",
    "This is a Jupyter notebook to explore the material in (Ross, 2017, Chp. 9). \n",
    "\n"
   ]
  },
  {
   "cell_type": "code",
   "execution_count": 1,
   "metadata": {},
   "outputs": [],
   "source": [
    "%matplotlib inline\n",
    "# from now on we'll start each notebook with the library imports\n",
    "# and special commands to keep these things in one place (which\n",
    "# is good practice). The line above is jupyter command to get \n",
    "# matplotlib to plot inline (between cells)\n",
    "# Next we import the libraries and give them short names\n",
    "import numpy as np\n",
    "import scipy.stats as stats\n",
    "import matplotlib.pyplot as plt\n",
    "from collections import Counter\n",
    "from collections import defaultdict"
   ]
  },
  {
   "cell_type": "markdown",
   "metadata": {},
   "source": [
    "## Exercise A\n",
    "\n",
    "Complete questions 1 and 3  from (Ross, 2017, Sec. 9.2 Problems). The text is repeated below for convenience:\n",
    "\n",
    "> 1. Consider a trial in which a jury must decide between hypothesis A that\n",
    "the defendant is guilty and hypothesis B that he or she is innocent.\n",
    "(a) In the framework of hypothesis testing and the U.S. legal system,\n",
    "which of the hypotheses should be the null hypothesis?\n",
    "(b) What do you think would be the appropriate significance level in\n",
    "this situation?\n",
    "\n",
    "> 3. Suppose a test of\n",
    ">\n",
    ">    $H_0 : \\mu = 0$ against\n",
    ">\n",
    ">    $H_1 : \\mu \\neq 0$\n",
    ">\n",
    ">    resulted in rejection of H 0 at the 5 percent level of significance. Which of\n",
    "the following statements is (are) accurate?\n",
    ">\n",
    ">    (a) The data proved that μ is significantly different from 0, meaning\n",
    "that it is far away from 0.\n",
    ">\n",
    ">    (b) The data were significantly strong enough to conclude that μ is not\n",
    "equal to 0.\n",
    ">\n",
    ">    (c) The probability that μ is equal to 0 is less than 0.05.\n",
    ">\n",
    ">    (d) The hypothesis that μ is equal to 0 was rejected by a procedure that\n",
    "would have resulted in rejection only 5 percent of the time when μ\n",
    "is equal to 0."
   ]
  },
  {
   "cell_type": "markdown",
   "metadata": {},
   "source": [
    "*complete your answers in Markdown*\n",
    "\n",
    "### Exercise A\n",
    "#### Question 1\n",
    "\n",
    "Consider a trial in which a jury must decide between hypothesis A that the defendant is guilty and hypothesis B that he or she is innocent. \n",
    "\n",
    "(a) In the framework of hypothesis testing and the U.S. legal system, which of the hypotheses should be the null hypothesis? \n",
    "\n",
    "$H_0 : $ Hypothesis B - defendant that he or she is innocent\n",
    "\n",
    "$H_1 : $ Hypothesis A - defendant is guilty\n",
    "\n",
    "(b) What do you think would be the appropriate significance level in this situation?\n",
    "\n",
    "Significance level should be small ($\\alpha{}$ = 0.10, 0.05, and 0.01)\n",
    "\n",
    "#### Question 3\n",
    "\n",
    "Suppose a test of\n",
    "\n",
    "$H_0$ : $\\mu$ = $0$ against\n",
    "\n",
    "$H_1$ : $\\mu$ $\\neq$ $0$\n",
    "\n",
    "resulted in rejection of H 0 at the 5 percent level of significance. Which of\n",
    "the following statements is (are) accurate?\n",
    "\n",
    "(a) The data proved that μ is significantly different from 0, meaning\n",
    "that it is far away from 0.\n",
    "\n",
    "This statement is not accurate as it only proved that μ is not equal to 0\n",
    "\n",
    "(b) The data were significantly strong enough to conclude that μ is not\n",
    "equal to 0.\n",
    "\n",
    "This statement is accurate as there was a 95% of level of significance for this case\n",
    "\n",
    "(c) The probability that μ is equal to 0 is less than 0.05.\n",
    "\n",
    "This statement is not accurate, as it is strictly 5% or less\n",
    "\n",
    "(d) The hypothesis that μ is equal to 0 was rejected by a procedure that\n",
    "would have resulted in rejection only 5 percent of the time when μ\n",
    "is equal to 0.\n",
    "\n",
    "This statement is not accurate as the procedure and probability is always the same for the outcome being not equal to or equal to 0.\n"
   ]
  },
  {
   "cell_type": "markdown",
   "metadata": {},
   "source": [
    "### Exercise B\n",
    "\n",
    "Complete question 1 from Problems for (Ross, 2017, Sec. 9.3) and question 1 from Problems for (Ross, 2017, Sec. 8.3.1). The text of each is repeated below for convenience:\n",
    "\n",
    "#### Section 9.3(.0)\n",
    "> 1. The device that an astronomer utilizes to measure distances results in\n",
    "measurements that have a mean value equal to the actual distance of the\n",
    "object being surveyed and a standard deviation of 0.5 light-years. Present\n",
    "theory indicates that the actual distance from Earth to the asteroid Phyla\n",
    "is 14.4 light-years. Test this hypothesis, at the 5 percent level of significance, \n",
    "if six independent measurements yielded the data\n",
    ">\n",
    ">    15.1, 14.8, 14.0, 15.2, 14.7, 14.5\n",
    "\n",
    "#### Section 9.3.1\n",
    "\n",
    "> 1. The weights of salmon grown at a commercial hatchery are normally dis-\n",
    "tributed with a standard deviation of 1.2 pounds. The hatchery claims\n",
    "that the mean weight of this year’s crop is at least 7.6 pounds. Suppose a\n",
    "random sample of 16 fish yielded an average weight of 7.2 pounds. Is this\n",
    "strong enough evidence to reject the hatchery’s claims at the\n",
    ">\n",
    ">    (a) 5 percent level of significance?\n",
    ">\n",
    ">    (b) 1 percent level of significance?\n",
    ">\n",
    ">    (c) What is the p value?\n"
   ]
  },
  {
   "cell_type": "markdown",
   "metadata": {},
   "source": [
    "*complete your answers in Markdown using the code-block below for computation*"
   ]
  },
  {
   "cell_type": "code",
   "execution_count": 2,
   "metadata": {},
   "outputs": [
    {
     "name": "stdout",
     "output_type": "stream",
     "text": [
      "Exercise B\n",
      "Section 9.3.0 - Question 1\n",
      "Standard Deviation = 0.5\n",
      "Mu = 14.4\n",
      "H0 (Null Hypothesis): mu = mu0 = 14.4\n",
      "H1: mu != mu0 = 14.4\n",
      "Significance Level = 0.05\n",
      "Data = [15.1 14.8 14.  15.2 14.7 14.5]\n",
      "Number of Data Values = 6\n",
      "X bar = 14.716666666666667\n",
      "Standard Error = 0.20412414523193154\n",
      "T Test = 1.5513435037626782\n",
      "Now, we need to find p value using t test at 0.05 significance level with degree of freedom (6 - 1) = 5\n",
      "Degrees of freedom = 5\n",
      "P-value = 0.1815179651046933\n",
      "P-value = 0.182\n",
      "Here, the p value is greater than significance level (0.05) so we can't reject the null hypothesis\n",
      "\n",
      "\n",
      "Section 9.3.1 - Question 1\n",
      "(a) 5 percent level of significance?\n",
      "SD = 1.2\n",
      "Mu = 7.6\n",
      "Sample Size = 16\n",
      "Significance Level = 0.05\n",
      "H0 (Null Hypothesis): mu = mu0 = 14.4\n",
      "H1: mu != mu0 = 14.4\n",
      "x_bar = 7.2\n",
      "Standard Error = 0.3\n",
      "T Test = -1.3333333333333317\n",
      "cdf = 0.9087887802741319\n",
      "P_value = 0.0912\n",
      "Therefore, since p-value (0.0912) is greater than all considerable significance levels (alpha = 0.01,0.05), we fail to reject the null hypothesis. In other words, we do not have enough evidence to disprove the claims.\n"
     ]
    }
   ],
   "source": [
    "## supporting code for Exercise B\n",
    "\n",
    "print(\"Exercise B\")\n",
    "\n",
    "\"\"\"\n",
    "The device that an astronomer utilizes to measure distances results in measurements that have a mean \n",
    "value equal to the actual distance of the object being surveyed and a standard deviation of 0.5 light-years. \n",
    "Present theory indicates that the actual distance from Earth to the asteroid Phyla is 14.4 light-years. \n",
    "Test this hypothesis, at the 5 percent level of significance, if six independent measurements yielded the data\n",
    "\n",
    "15.1, 14.8, 14.0, 15.2, 14.7, 14.5\n",
    "\"\"\"\n",
    "\n",
    "print(\"Section 9.3.0 - Question 1\")\n",
    "sd = 0.5\n",
    "print(f\"Standard Deviation = {sd}\")\n",
    "mu = 14.4\n",
    "print(f\"Mu = {mu}\")\n",
    "print(\"H0 (Null Hypothesis): mu = mu0 = 14.4\")\n",
    "print(\"H1: mu != mu0 = 14.4\")\n",
    "sl = 0.05\n",
    "print(f\"Significance Level = {sl}\")\n",
    "data = np.array([15.1, 14.8, 14.0, 15.2, 14.7, 14.5])\n",
    "print(f\"Data = {data}\")\n",
    "n = len(data)\n",
    "print(f\"Number of Data Values = {n}\")\n",
    "x_bar = np.sum(data)/n\n",
    "print(f\"X bar = {x_bar}\")\n",
    "standard_error = sd/(n**0.5)\n",
    "print(f\"Standard Error = {standard_error}\")\n",
    "t_test = (x_bar-mu)/standard_error\n",
    "print(f\"T Test = {t_test}\")\n",
    "print(\"Now, we need to find p value using t test at 0.05 significance level with degree of freedom (6 - 1) = 5\")\n",
    "dof = n-1\n",
    "print(f\"Degrees of freedom = {dof}\")\n",
    "p_val = stats.t.sf(t_test, dof)*2\n",
    "print(f\"P-value = {p_val}\")\n",
    "print(f\"P-value = {round(p_val,3)}\")\n",
    "print(\"Here, the p value is greater than significance level (0.05) so we can't reject the null hypothesis\")\n",
    "print('\\n')\n",
    "\n",
    "\"\"\"\n",
    "The weights of salmon grown at a commercial hatchery are normally distributed with a standard deviation of 1.2 pounds. \n",
    "The hatchery claims that the mean weight of this year’s crop is at least 7.6 pounds. \n",
    "Suppose a random sample of 16 fish yielded an average weight of 7.2 pounds. \n",
    "Is this strong enough evidence to reject the hatchery’s claims at the\n",
    "\n",
    "(a) 5 percent level of significance?\n",
    "\n",
    "(b) 1 percent level of significance?\n",
    "\n",
    "(c) What is the p value?\n",
    "\"\"\"\n",
    "print(\"Section 9.3.1 - Question 1\")\n",
    "print(\"(a) 5 percent level of significance?\")\n",
    "sd = 1.2\n",
    "print(f\"SD = {sd}\")\n",
    "mu = 7.6\n",
    "print(f\"Mu = {mu}\")\n",
    "n = 16\n",
    "print(f\"Sample Size = {n}\")\n",
    "sl = 0.05\n",
    "print(f\"Significance Level = {sl}\")\n",
    "print(\"H0 (Null Hypothesis): mu = mu0 = 14.4\")\n",
    "print(\"H1: mu != mu0 = 14.4\")\n",
    "x_bar = 7.2\n",
    "print(f\"x_bar = {x_bar}\")\n",
    "standard_error = sd/(n**0.5)\n",
    "print(f\"Standard Error = {standard_error}\")\n",
    "t_test = (x_bar-mu)/standard_error\n",
    "print(f\"T Test = {t_test}\")\n",
    "t_test = t_test * (-1)\n",
    "cdf = stats.norm.cdf(t_test)\n",
    "print(f\"cdf = {cdf}\")\n",
    "p_val = 1-cdf\n",
    "print(f\"P_value = {round(p_val,4)}\")\n",
    "print(f\"Therefore, since p-value ({round(p_val,4)}) is greater than all considerable significance levels (alpha = 0.01,0.05), we fail to reject the null hypothesis. In other words, we do not have enough evidence to disprove the claims.\")\n"
   ]
  },
  {
   "cell_type": "markdown",
   "metadata": {},
   "source": [
    "## Exercise C\n",
    "\n",
    "Complete questions 3 and 18 from (Ross, 2017, Sec. 9.4 Problems). The text is repeated below for convenience:\n",
    "\n",
    "> 3. To test the hypothesis that a normal population has mean 100, a random sample of size 10 is chosen. If the sample mean is 110, will you reject the\n",
    "null hypothesis if the following is known?\n",
    ">\n",
    ">    (a) The population standard deviation is known to equal 15.\n",
    ">\n",
    ">    (b) The population standard deviation is unknown, and the sample standard deviation is 15.\n",
    ">\n",
    ">    Use the 5 percent level of significance.\n",
    "\n",
    ">18. In 2001, entering students at a certain university had an average score of\n",
    "542 on the verbal part of the SAT. A random sample of the scores of 20 students in the 2003 class resulted in these scores:\n",
    ">\n",
    ">    542, 490, 582, 511, 515, 564, 500, 602, 488, 512, 518,\n",
    "522, 505, 569, 575, 515, 520, 528, 533, 515\n",
    ">\n",
    ">    Do the given data prove that the average score has decreased to below 542? Use the 5 percent level of significance.\n",
    "\n",
    "For 18., also calculate the p-value."
   ]
  },
  {
   "cell_type": "markdown",
   "metadata": {},
   "source": [
    "*complete your answers in Markdown using the code-block below for computation*"
   ]
  },
  {
   "cell_type": "code",
   "execution_count": 3,
   "metadata": {},
   "outputs": [
    {
     "name": "stdout",
     "output_type": "stream",
     "text": [
      "Exercise C\n",
      "Question 3\n",
      "(a) The population standard deviation is known to equal 15.\n",
      "Mu0 = 100\n",
      "H0 (Null Hypothesis): mu = mu0 = 100\n",
      "H1: mu != mu0 = 100\n",
      "Sample Size = 10\n",
      "Sample Mean (x bar) = 110\n",
      "Significance Level = 0.05\n",
      "SD = 15\n",
      "Standard Error = 4.743416490252569\n",
      "T Test = 2.1081851067789197\n",
      "Now, we need to find p value using t test at 0.05 significance level with degree of freedom (10 - 1) = 9\n",
      "Degrees of freedom = 10\n",
      "P-value = 0.061228795670166467\n",
      "P-value = 0.061\n",
      "Here, the p value is greater than significance level (0.05) so we can't reject the null hypothesis\n",
      "\n",
      "\n",
      "(b) The population standard deviation is unknown, and the sample standard deviation is 15.\n",
      "Mu0 = 100\n",
      "H0 (Null Hypothesis): mu = mu0 = 100\n",
      "H1: mu != mu0 = 100\n",
      "Sample Size = 10\n",
      "Sample Mean (x bar) = 110\n",
      "Significance Level = 0.05\n",
      "SD = 15\n",
      "Standard Error = 4.743416490252569\n",
      "T Test = 2.1081851067789197\n",
      "Now, we need to find p value using t test at 0.05 significance level with degree of freedom (10 - 1) = 9\n",
      "Degrees of freedom = 9\n",
      "P-value = 0.0642588490958516\n",
      "P-value = 0.064\n",
      "Here, the p value is greater than significance level (0.05) so we can't reject the null hypothesis\n",
      "\n",
      "\n"
     ]
    }
   ],
   "source": [
    "## supporting code for exercise C\n",
    "\n",
    "print(\"Exercise C\")\n",
    "\n",
    "\"\"\"\n",
    "To test the hypothesis that a normal population has mean 100, a random sample of size 10 is chosen. \n",
    "If the sample mean is 110, will you reject the null hypothesis if the following is known?\n",
    "\n",
    "(a) The population standard deviation is known to equal 15.\n",
    "\n",
    "(b) The population standard deviation is unknown, and the sample standard deviation is 15.\n",
    "\n",
    "Use the 5 percent level of significance.\n",
    "\"\"\"\n",
    "\n",
    "print(\"Question 3\")\n",
    "print(\"(a) The population standard deviation is known to equal 15.\")\n",
    "mu = 100\n",
    "print(f\"Mu0 = {mu}\")\n",
    "print(\"H0 (Null Hypothesis): mu = mu0 = 100\")\n",
    "print(\"H1: mu != mu0 = 100\")\n",
    "n = 10\n",
    "print(f\"Sample Size = {n}\")\n",
    "x_bar = 110\n",
    "print(f\"Sample Mean (x bar) = {x_bar}\")\n",
    "sl = 0.05\n",
    "print(f\"Significance Level = {sl}\")\n",
    "sd = 15\n",
    "print(f\"SD = {sd}\")\n",
    "standard_error = sd/(n**0.5)\n",
    "print(f\"Standard Error = {standard_error}\")\n",
    "t_test = (x_bar-mu)/standard_error\n",
    "print(f\"T Test = {t_test}\")\n",
    "print(\"Now, we need to find p value using t test at 0.05 significance level with degree of freedom (10 - 1) = 9\")\n",
    "dof = n\n",
    "print(f\"Degrees of freedom = {dof}\")\n",
    "p_val = stats.t.sf(t_test, dof)*2\n",
    "print(f\"P-value = {p_val}\")\n",
    "print(f\"P-value = {round(p_val,3)}\")\n",
    "print(\"Here, the p value is greater than significance level (0.05) so we can't reject the null hypothesis\")\n",
    "print('\\n')\n",
    "\n",
    "print(\"(b) The population standard deviation is unknown, and the sample standard deviation is 15.\")\n",
    "mu = 100\n",
    "print(f\"Mu0 = {mu}\")\n",
    "print(\"H0 (Null Hypothesis): mu = mu0 = 100\")\n",
    "print(\"H1: mu != mu0 = 100\")\n",
    "n = 10\n",
    "print(f\"Sample Size = {n}\")\n",
    "x_bar = 110\n",
    "print(f\"Sample Mean (x bar) = {x_bar}\")\n",
    "sl = 0.05\n",
    "print(f\"Significance Level = {sl}\")\n",
    "s_sd = 15\n",
    "print(f\"SD = {sd}\")\n",
    "standard_error = s_sd/(n**0.5)\n",
    "print(f\"Standard Error = {standard_error}\")\n",
    "t_test = (x_bar-mu)/standard_error\n",
    "print(f\"T Test = {t_test}\")\n",
    "print(\"Now, we need to find p value using t test at 0.05 significance level with degree of freedom (10 - 1) = 9\")\n",
    "dof = n-1\n",
    "print(f\"Degrees of freedom = {dof}\")\n",
    "p_val = stats.t.sf(t_test, dof)*2\n",
    "print(f\"P-value = {p_val}\")\n",
    "print(f\"P-value = {round(p_val,3)}\")\n",
    "print(\"Here, the p value is greater than significance level (0.05) so we can't reject the null hypothesis\")\n",
    "print('\\n')\n",
    "\n"
   ]
  },
  {
   "cell_type": "markdown",
   "metadata": {},
   "source": [
    "## Exercise D\n",
    "\n",
    "Complete questions 1. and 14. from problems for (Ross, 2017, Sec. 9.5). The text is repeated below for convenience:\n",
    "\n",
    "\n",
    "> 1. A standard drug is known to be effective in 72 percent of cases in which it is used to treat a certain infection. A new drug has been developed, and testing has found it to be effective in 42 cases out of 50. Is this strong enough evidence to prove that the new drug is more effective than the old one? Find the relevant p value.\n",
    "\n",
    "Would you reject this at (a) the 5% level and (b) at the 1% level?\n",
    "\n",
    "\n",
    "> 14. A statistics student wants to test the hypothesis that a certain coin is\n",
    "equally likely to land on either heads or tails when it is flipped. The student flips the coin 200 times, obtaining 116 heads and 84 tails.\n",
    ">\n",
    ">    (a) For the 5 percent level of significance, what conclusion should be drawn?\n",
    ">\n",
    ">    (b) What are the null and the alternative hypotheses?\n",
    ">\n",
    ">    (c) What is the p value?\n"
   ]
  },
  {
   "cell_type": "markdown",
   "metadata": {},
   "source": [
    "*complete your answers in Markdown using the code-block below for computation*"
   ]
  },
  {
   "cell_type": "code",
   "execution_count": 4,
   "metadata": {},
   "outputs": [
    {
     "name": "stdout",
     "output_type": "stream",
     "text": [
      "Exercise D\n",
      "Question 1\n",
      "H0: p <= 0.72\n",
      "H1: p > 0.72\n",
      "In hope to eject hypothesis. The p-value of this test is equal to:\n",
      "n = 50\n",
      "X = 42\n",
      "p = 0.84\n",
      "Binomial(50,0.84)\n",
      "But given mean p = 72%, Binomial(50,0.72)\n",
      "p value = 0.0365\n",
      "Where we have used that X|H0 ~ Binom(50,0.72)\n",
      "So if consider sl = 0.1,0.05, we would reject null hypothesis\n",
      "and conclude new method is more efficient\n",
      "However, if alpha = 0.01, we would not be able to make that conclusion\n",
      "\n",
      "\n",
      "Question 14\n",
      "n = 200\n",
      "x = 54\n",
      "p0 = 0.5\n",
      "mu = 100, np0 = 100\n",
      "sd  7.0710678118654755\n",
      "Significance Level = 0.05\n",
      "H0: p = 0.5\n",
      "H1: p != 0.5\n",
      "Test Statistics (X) = 116 (successes were taken to be heads)\n",
      "p value = 2[Min(P[X <= 116], P{X>=116})]\n",
      "Now, P[X<116] = P{X <= 116.5} apprx = P{Z<=(116.5-100)/7.0711}\n",
      "P[Z <= 2.3334] = 0.9901, and P{X >= 116} approx = 0.0141\n",
      "Hence, p value = 0.0282\n",
      "Therefore, p val is less than 0.05 sl\n",
      "Hence, H0 is rejected at the 5% level of significance \n",
      "That is, the data are consisent with the alternative hupothesis that the proportion of heads (tails) is not equal to 50%\n"
     ]
    }
   ],
   "source": [
    "## supporting code for Exercise D\n",
    "\n",
    "print(\"Exercise D\")\n",
    "\n",
    "\"\"\"\n",
    "A standard drug is known to be effective in 72 percent \n",
    "of cases in which it is used to treat a certain infection. \n",
    "A new drug has been developed, and testing has found it \n",
    "to be effective in 42 cases out of 50. Is this strong \n",
    "enough evidence to prove that the new drug is more effective \n",
    "than the old one? Find the relevant p value.\n",
    "\"\"\"\n",
    "print(\"Question 1\")\n",
    "print(\"H0: p <= 0.72\")\n",
    "print(\"H1: p > 0.72\")\n",
    "print(\"In hope to eject hypothesis. The p-value of this test is equal to:\")\n",
    "n = 50\n",
    "print(f\"n = {n}\")\n",
    "X = 42\n",
    "print(f\"X = {X}\")\n",
    "p = X/n\n",
    "print(f\"p = {p}\")\n",
    "print(f\"Binomial({n},{p})\")\n",
    "print(f\"But given mean p = 72%, Binomial({n},0.72)\")\n",
    "p_val = 0.0365\n",
    "print(f\"p value = {p_val}\")\n",
    "print(\"Where we have used that X|H0 ~ Binom(50,0.72)\")\n",
    "print(\"So if consider sl = 0.1,0.05, we would reject null hypothesis\")\n",
    "print(\"and conclude new method is more efficient\")\n",
    "print(\"However, if alpha = 0.01, we would not be able to make that conclusion\")\n",
    "print('\\n')\n",
    "\n",
    "\"\"\"\n",
    "A statistics student wants to test the hypothesis \n",
    "that a certain coin is equally likely to land on \n",
    "either heads or tails when it is flipped. \n",
    "The student flips the coin 200 times, obtaining 116 \n",
    "heads and 84 tails.\n",
    "\n",
    "(a) For the 5 percent level of significance, \n",
    "what conclusion should be drawn?\n",
    "\n",
    "(b) What are the null and the alternative hypotheses?\n",
    "\n",
    "(c) What is the p value?\n",
    "\"\"\"\n",
    "\n",
    "print(\"Question 14\")\n",
    "n = 200\n",
    "print(f\"n = {n}\")\n",
    "x = 54\n",
    "print(f\"x = {x}\")\n",
    "p0 = 0.5\n",
    "print(f\"p0 = {p0}\")\n",
    "mu = 100\n",
    "np0 = 100\n",
    "print(f\"mu = {mu}, np0 = {np0}\")\n",
    "sd = (np0*(1-p0))**0.5\n",
    "print(f\"sd  {sd}\")\n",
    "sl = 0.05\n",
    "print(f\"Significance Level = {sl}\")\n",
    "print(\"H0: p = 0.5\")\n",
    "print(\"H1: p != 0.5\")\n",
    "test_stat = 116\n",
    "print(f\"Test Statistics (X) = {test_stat} (successes were taken to be heads)\")\n",
    "print(\"p value = 2[Min(P[X <= 116], P{X>=116})]\")\n",
    "print(\"Now, P[X<116] = P{X <= 116.5} apprx = P{Z<=(116.5-100)/7.0711}\")\n",
    "print(\"P[Z <= 2.3334] = 0.9901, and P{X >= 116} approx = 0.0141\")\n",
    "p_val = 0.0282\n",
    "print(f\"Hence, p value = {p_val}\")\n",
    "print(\"Therefore, p val is less than 0.05 sl\")\n",
    "print(\"Hence, H0 is rejected at the 5% level of significance \")\n",
    "print(\"That is, the data are consisent with the alternative hupothesis that the proportion of heads (tails) is not equal to 50%\")\n",
    "\n"
   ]
  },
  {
   "cell_type": "code",
   "execution_count": null,
   "metadata": {},
   "outputs": [],
   "source": []
  },
  {
   "cell_type": "markdown",
   "metadata": {},
   "source": [
    "# LECTURE SLIDES TOPICS"
   ]
  },
  {
   "cell_type": "markdown",
   "metadata": {},
   "source": [
    "## Tests concerning mean of normal population with known variance\n",
    "\n",
    "https://www.youtube.com/watch?v=2GU_R7G5m-8&ab_channel=zedstatistics\n"
   ]
  },
  {
   "cell_type": "markdown",
   "metadata": {},
   "source": [
    "### One Tailed Example\n",
    "\n",
    "Question:\n",
    "\n",
    "The manager of a department store is thinking about establishing a new billing system for the store’s credit customers. \n",
    "She determines that the new system will be cost effective only if the mean monthly account is greater than £70. \n",
    "A random sample of 200 monthly accounts is drawn for which the sample mean account is £74. \n",
    "The manager knows that the accounts are normally distributed with a standard deviation of £30. \n",
    "Is there enough evidence at the 5 percent level of significance to conclude that the new system will be cost effective?\n",
    "\n",
    "Answer:\n",
    "\n",
    "##### STEP 1: STATE NULL AND ALTERNATE HYPOTHESES\n",
    "\n",
    "Tip: Always put what you are testing for in the alternate hypothesis ($H_1$)\n",
    "\n",
    "$H_0: $ $\\mu{}$ = 70 (some people put less than)\n",
    "\n",
    "$H_1: $ $\\mu{}$ > 70\n",
    "\n",
    "##### STEP 2: CALCULATE TEST STATISTIC\n",
    "\n",
    "$\\bar{X} = 74$\n",
    "\n",
    "$\\sigma = 30$\n",
    "\n",
    "$n = 200$\n",
    "\n",
    "Z = $\\frac{\\bar{X} - \\mu{}}{\\frac{\\sigma{}}{\\sqrt{n}}}$\n",
    "\n",
    "Z = $\\frac{74 - 70}{\\frac{30}{\\sqrt{200}}}$\n",
    "\n",
    "Z = 1.8856 = 1.886 (3 s.f.)\n",
    "\n",
    "##### STEP 3: CONSIDER DECISION RULE\n",
    "\n",
    "Z = $\\frac{\\bar{X} - \\mu{}}{\\frac{\\sigma{}}{\\sqrt{n}}}$ ~ $N(0,1)$\n",
    "\n",
    "5 percent significance level (0.05)\n",
    "\n",
    "Z-crit = 1.645 (= NORM.S.INV(0.95))\n",
    "\n",
    "Therefore, we reject of Z > 1.645\n",
    "\n",
    "##### STEP 3a: CALCULATE p-VALUE\n",
    "\n",
    "The p-value is the probability of getting a sample as extreme as ours, given the null hypothesis is TRUE\n",
    "\n",
    "p-value = 1 - NORM.S.DIST(1.886,TRUE) = 0.030\n",
    "\n",
    "TRUE = CDF, FALSE = PMF\n",
    "\n",
    "##### STEP 4: STATE REJECTION DECISION\n",
    "\n",
    "Reject $H_0$ at 5% level of significance as Z > 1.645 (Z = 1.8856)\n",
    "\n",
    "OR\n",
    "\n",
    "Reject $H_0$ at 5% level of significance as p < 0.05 (p = 0.030)\n",
    "\n",
    "##### STEP 5: CONCLUSION\n",
    "\n",
    "There is enough evidence at the 5% level of significance to suggest that the mean monthly account is greater than £70\n"
   ]
  },
  {
   "cell_type": "markdown",
   "metadata": {},
   "source": [
    "### Two Tailed Example\n",
    "\n",
    "Question:\n",
    "\n",
    "A new toll road is being built and financed on the expectation that 8,500 cars will use it per day. In the first 30 days of its operation, a daily average of 8,120 cars were found to have used the toll road. Using the 1% level of significance, test whether the expectation was incorrect. (Assume that the distribution of daily road users is normally distributed with a standard devation of 950)\n",
    "\n",
    "Answer:\n",
    "\n",
    "##### STEP 1: STATE NULL AND ALTERNATE HYPOTHESES\n",
    "\n",
    "$H_0:$ $\\mu{}$ = 8500\n",
    "\n",
    "$H_1:$ $\\mu{}$ $\\neq$ 8500\n",
    "\n",
    "##### STEP 2: CALCULATE TEST STATISTIC\n",
    "\n",
    "$\\bar{X} = 8120$\n",
    "\n",
    "$\\sigma = 950$\n",
    "\n",
    "$n = 30$\n",
    "\n",
    "Z = $\\frac{\\bar{X} - \\mu{}}{\\frac{\\sigma{}}{\\sqrt{n}}}$\n",
    "\n",
    "Z = $\\frac{8120 - 8500}{\\frac{950}{\\sqrt{30}}}$\n",
    "\n",
    "Z = -2.191 = -2.19 (3 s.f.)\n",
    "\n",
    "##### STEP 3: CONSIDER DECISION RULE\n",
    "\n",
    "Z = $\\frac{\\bar{X} - \\mu{}}{\\frac{\\sigma{}}{\\sqrt{n}}}$ ~ $N(0,1)$\n",
    "\n",
    "1 percent significance level (0.01)\n",
    "\n",
    "Because two-tailed: each tail gets 0.005\n",
    "\n",
    "Z-crit = 2.576 (= NORM.S.INV(0.995) - this because we just want one tail value above and we will know the other one)\n",
    "\n",
    "Therefore, we reject of Z > 2.576 or Z < -2.576\n",
    "\n",
    "##### STEP 3a: CALCULATE p-VALUE\n",
    "\n",
    "The p-value is the probability of getting a sample as extreme as ours, given the null hypothesis is TRUE\n",
    "\n",
    "p-value = NORM.S.DIST(-2.191,TRUE) = 0.0142\n",
    "\n",
    "No '1 - NORM' becaus it is on left handside, one tailed example had Z on right hand side\n",
    "\n",
    "Because two-tailed test, values more extreme, therefore:\n",
    "\n",
    "p-value = NORM.S.DIST(-2.191,TRUE) * 2 = 0.0285\n",
    "\n",
    "TRUE = CDF, FALSE = PMF\n",
    "\n",
    "##### STEP 4: STATE REJECTION DECISION\n",
    "\n",
    "Do not reject $H_0$ at 1% level of significance as -2.576 < Z < 2.576 (Z = 2.191)\n",
    "\n",
    "OR\n",
    "\n",
    "Do not reject $H_0$ at 1% level of significance as p > 0.01 (p = 0.0285)\n",
    "\n",
    "##### STEP 5: CONCLUSION\n",
    "\n",
    "There is NOT enough evidence at the 1% level of significance to suggest that the daily average of cars using the road is DIFFERENT from 8,500\n",
    "\n"
   ]
  },
  {
   "cell_type": "markdown",
   "metadata": {},
   "source": [
    "## The t-test for mean of normal population with unknown variance\n",
    "\n",
    "https://www.youtube.com/watch?v=Z8E3hi8INZk&ab_channel=zedstatistics\n"
   ]
  },
  {
   "cell_type": "markdown",
   "metadata": {},
   "source": [
    "Question:\n",
    "\n",
    "An online fashion store called Showdonkey advertises that its average delivery time is less than six hours for local deliveries. A random sample of the amount of time taken to deliver packages to an address in Stanmore produced the following delivery times (rounded to the nearest hour): \n",
    "\n",
    "7 3 4 6 10 5 6 4 3 8 \n",
    "\n",
    "Is there sufficient evidence to support Showdonkey's advertisement, at the 5% level of significance?\n",
    "\n",
    "Answer:\n",
    "\n",
    "##### STEP 1: STATE NULL AND ALTERNATE HYPOTHESES\n",
    "\n",
    "$H_0: \\mu{} = 6 $\n",
    "\n",
    "$H_1: \\mu{}  < 6$\n",
    "\n",
    "##### STEP 2: CALCULATE TEST STATISTIC\n",
    "\n",
    "7 3 4 6 10 5 6 4 3 8\n",
    "\n",
    "$\\bar{X} = 5.6$\n",
    "\n",
    "Sample Variance = $S^2 = \\frac{sum(X - \\bar{X})^2}{n-1}$\n",
    "\n",
    "Sample SD (S) = 2.27 \n",
    "\n",
    "t = $\\frac{\\bar{X}-\\mu{}}{\\frac{S}{\\sqrt{n}}}$\n",
    "\n",
    "t = $\\frac{5.6-6}{\\frac{2.27}{\\sqrt{10}}}$\n",
    "\n",
    "t stat (t-dist), not Z, because don't know the population SD is\n",
    "\n",
    "t = -0.557\n",
    "\n",
    "##### STEP 3: CONSIDER DECISION RULE\n",
    "\n",
    "t = $\\frac{\\bar{X}-\\mu{}}{\\frac{S}{\\sqrt{n}}}$ ~ $t_{DF}$\n",
    "\n",
    "Degree of Freedom ($t_{DF}$) = n - 1 = 10 - 1 = 9\n",
    "\n",
    "t-crit = -1.833 (=T.INV(0.05,9))\n",
    "\n",
    "Reject if t < -1.833\n",
    "\n",
    "##### STEP 3a: CALCULATE p-VALUE\n",
    "\n",
    "The p-value is the probability of getting a sample as extreme as ours, given the null hypothesis is TRUE\n",
    "\n",
    "p-value = T.DIST(-0.557,9,TRUE) = 0.296\n",
    "\n",
    "##### STEP 4: STATE REJECTION DECISION\n",
    "\n",
    "Do not reject $H_0$ at 5% level of significance as t > -1.833 (t = -0.557)\n",
    "\n",
    "OR\n",
    "\n",
    "Do not reject $H_0$ at 5% level of significance as p > 0.05 (p = 0.296)\n",
    "\n",
    "NOTE: You can check if you have correct conclusion if t stat and p value agree, else, something has been done wrong in calculation\n",
    "\n",
    "##### STEP 5: CONCLUSION\n",
    "\n",
    "While the sample mean ws 5.6 hours, there is NOT enough evidence at the 5% level of significance to infer that the population average time for delivery is less than 6 hours\n"
   ]
  },
  {
   "cell_type": "markdown",
   "metadata": {},
   "source": [
    "## Hypothesis tests for population proportions\n",
    "\n",
    "https://www.youtube.com/watch?v=bh_5Yr3YjO0&ab_channel=zedstatistics\n"
   ]
  },
  {
   "cell_type": "markdown",
   "metadata": {},
   "source": [
    "Question:\n",
    "\n",
    "Gigi's Pizza regularly surveys its customers. On the basis of these surveys, the management of the chain claims that at least 75% of its customers rate the food as excellent. A consumer testing service wants to examine the claim by asking 460 customers to rate the food. Seventy one per cent rated the food as excellent. Is there enough evidence at the \n",
    "\n",
    "(a) 5% and \n",
    "\n",
    "(b) 1% level of significance to reject management's claim?\n",
    "\n",
    "Answer:\n",
    "\n",
    "##### STEP 1: STATE NULL AND ALTERNATE HYPOTHESES\n",
    "\n",
    "$H_0: \\mu{} = 0.75$\n",
    "\n",
    "$H_1: \\mu{}  < 0.75$\n",
    "\n",
    "##### STEP 2: CALCULATE TEST STATISTIC\n",
    "\n",
    "$\\hat{p}$ = 0.71\n",
    "\n",
    "$p$ = 0.75\n",
    "\n",
    "$n$ = 460\n",
    "\n",
    "In this case we have a binomial distribution\n",
    "\n",
    "As np > 5 and n(1-p) > 5, C.L.T (Central Limit Theorem) applies\n",
    "\n",
    "Therefore, test statistic will be approximately normally distributed\n",
    "\n",
    "$\\frac{\\hat{p} - p}{\\sqrt{\\frac{p(1-p)}{n}}}$ $approx =$ $N(0,1)$\n",
    "\n",
    "Z = $\\frac{\\hat{p} - p}{\\sqrt{\\frac{p(1-p)}{n}}}$\n",
    "\n",
    "Z = $\\frac{0.71 - 0.75}{\\sqrt{\\frac{(0.75)(0.25)}{460}}}$\n",
    "\n",
    "Z = -1.981\n",
    "\n",
    "##### STEP 3: CONSIDER DECISION RULE \n",
    "\n",
    "Note: only one tailed hypotheses, if two tailed, split significance level\n",
    "\n",
    "5% level of significance:\n",
    "\n",
    "0.05 level of significance\n",
    "\n",
    "Z-crit = -1.645 (=NORM.S.INV(0.05))\n",
    "\n",
    "Reject if Z < -1.645\n",
    "\n",
    "1% level of significance:\n",
    "\n",
    "0.01 level of significance\n",
    "\n",
    "Z-crit = -2.33 (=NORM.S.INV(0.01))\n",
    "\n",
    "Reject if Z < -2.33\n",
    "\n",
    "##### STEP 3a: CALCULATE p-VALUE\n",
    "\n",
    "The p-value is the probability of getting a sample as extreme as ours, given the null hypothesis is TRUE\n",
    "\n",
    "p-value = NORM.S.DIST(-1.981,TRUE) = 0.0238\n",
    "\n",
    "##### STEP 4: STATE REJECTION DECISION\n",
    "\n",
    "5% level of significance:\n",
    "\n",
    "Reject $H_0$ at 5% level of significance as Z < -1.645 (Z = -1.981)\n",
    "\n",
    "OR\n",
    "\n",
    "Reject $H_0$ at 5% level of significance as p < 0.05 (p = 0.0238)\n",
    "\n",
    "1% level of significance:\n",
    "\n",
    "Do not reject $H_0$ at 1% level of significance as Z > -2.33 (Z = -1.981)\n",
    "\n",
    "OR\n",
    "\n",
    "Do not reject $H_0$ at 1% level of significance as p > 0.01 (p = 0.0238)\n",
    "\n",
    "\n",
    "##### STEP 5: CONCLUSION\n",
    "\n",
    "There is enough evidence at the 5% level of significance  (but not the 1% level of significance) to suggest that the proportion of customers rating Gigi's food as \"excellent\" is less than 75%.\n"
   ]
  },
  {
   "cell_type": "markdown",
   "metadata": {},
   "source": []
  },
  {
   "cell_type": "markdown",
   "metadata": {},
   "source": [
    "# QUIZ 9+10"
   ]
  },
  {
   "cell_type": "markdown",
   "metadata": {},
   "source": [
    "## QUESTION 1 - PART A\n",
    "\n",
    "A scientist works with a colony of many thousands of mice. The average weight of all the mice is known to be 19.5 grammes with SD 3.4 grammes. She asks her first lab assistant to select 22 mice for an experiment, but is concerned that the selection of the mice may not be truly random and is instead is biased in some way. The selected mice may have been those that were slowest in avoiding the assistant, and this might influence the outcome of the experiment. The weights of the mice selected by the first assistant are as follows:\n",
    "\n",
    "13.7,22.1,17.0,12.4,16.4,7.8,20.4,21.1,19.7,17.5,18.4,\n",
    "\n",
    "25.2,15.1,23.0,18.3,23.9,14.8,20.6,17.2,16.0,18.4,15.5\n",
    "\n",
    "She decides to perform a hypothesis test at 10% significance level to see if the weights recorded indicated that the sample was not consistent with a random sample from the colony. In particular, she wants to test the null hypothesis that the sample distributions mean is the same as the mean of the colony. Consider the most appropriate test:"
   ]
  },
  {
   "cell_type": "markdown",
   "metadata": {},
   "source": [
    "### What is the value the test statistic? (give your answer to 3 decimal places)"
   ]
  },
  {
   "cell_type": "code",
   "execution_count": 5,
   "metadata": {},
   "outputs": [
    {
     "name": "stdout",
     "output_type": "stream",
     "text": [
      "x_bar = 17.931818181818183\n",
      "mu = 19.5\n",
      "sd = 3.4\n",
      "n = 22\n",
      "test_stat = -2.163360210078986 = -2.163\n"
     ]
    }
   ],
   "source": [
    "data = np.array([13.7,22.1,17.0,12.4,16.4,7.8,20.4,21.1,19.7,17.5,18.4,25.2,15.1,23.0,18.3,23.9,14.8,20.6,17.2,16.0,18.4,15.5])\n",
    "x_bar = np.sum(data)/len(data)\n",
    "print(f\"x_bar = {x_bar}\")\n",
    "mu = 19.5\n",
    "print(f\"mu = {mu}\")\n",
    "sd = 3.4\n",
    "print(f\"sd = {sd}\")\n",
    "n = 22\n",
    "print(f\"n = {n}\")\n",
    "test_stat = (x_bar-mu)/(sd/(n**0.5))\n",
    "print(f\"test_stat = {test_stat} = {round(test_stat,3)}\")\n"
   ]
  },
  {
   "cell_type": "markdown",
   "metadata": {},
   "source": [
    "### What is the value of the (z-percentile) threshold use for the significance level test? (give your answer to 3 decimal places)"
   ]
  },
  {
   "cell_type": "code",
   "execution_count": 6,
   "metadata": {},
   "outputs": [
    {
     "name": "stdout",
     "output_type": "stream",
     "text": [
      "sl = 0.1\n",
      "Because two tailed, each tail gets: 0.05\n",
      "Z = 1.644853627 = 1.645\n"
     ]
    }
   ],
   "source": [
    "sl = 0.1\n",
    "print(f\"sl = {sl}\")\n",
    "print(f\"Because two tailed, each tail gets: {sl/2}\")\n",
    "Z = 1.644853627\n",
    "print(f\"Z = {Z} = {round(Z,3)}\")\n"
   ]
  },
  {
   "cell_type": "markdown",
   "metadata": {},
   "source": [
    "### What is the p-value of the test statistic? (give your answer to 3 significant figures)"
   ]
  },
  {
   "cell_type": "code",
   "execution_count": 7,
   "metadata": {},
   "outputs": [
    {
     "name": "stdout",
     "output_type": "stream",
     "text": [
      "0.030513\n"
     ]
    }
   ],
   "source": [
    "pval = 0.030513485\n",
    "print(f\"{round(pval, 6)}\")"
   ]
  },
  {
   "cell_type": "markdown",
   "metadata": {},
   "source": [
    "## QUESTION 1 - PART B\n",
    "\n",
    "The scientist has two lab assistants and subsequently decides that so long as the second assistant doesn't appear to collect mice differently from the first the experiments can go ahead. She asks the second assistant to collect $12$ mice and decides to test whether there is a difference between the two assistants sampling distributions. The weights of the mice collected by the second assistant are as follows:\n",
    "\n",
    "21.0,21.9,21.0,22.3,19.0,12.9,13.7,21.3,21.2,18.7,16.4,22.8\n",
    "\n",
    "The scientist assumes that the variance of the two sampling approaches are unknown, but equal, and conducts the appropriate hypothesis test again at a 10% level of significance. Consider the appropriate hypothesis test:"
   ]
  },
  {
   "cell_type": "code",
   "execution_count": 8,
   "metadata": {},
   "outputs": [
    {
     "name": "stdout",
     "output_type": "stream",
     "text": [
      "n = 22\n",
      "x = 17.931818181818183\n",
      "m = 12\n",
      "y = 19.349999999999998\n",
      "sd1 = 4.0298158251235\n",
      "sd2 = 3.337800037586\n",
      "Sx2 = 16.2394155844158\n",
      "Sy2 = 11.140909090909105\n",
      "sd3 = 3.6838079313547505\n",
      "Sp3 = 13.570440875112165\n",
      "Significance Level = 0.1\n",
      "Alpha/2 = 0.05\n",
      "dof = 32\n",
      "t32,alpha/2 = 1.694\n",
      "H0: muX = muY\n",
      "H1: muX != muY\n",
      "test_stat = -1.072747323165922\n",
      "Conclusion, since |T| = 1.072747323165922 < 1.694, we cannot reject H0\n",
      "p_value = 0.28372\n"
     ]
    }
   ],
   "source": [
    "data1 = np.array([13.7,22.1,17.0,12.4,16.4,7.8,20.4,21.1,19.7,17.5,18.4,25.2,15.1,23.0,18.3,23.9,14.8,20.6,17.2,16.0,18.4,15.5])\n",
    "n = len(data1)\n",
    "print(f\"n = {n}\")\n",
    "x = np.sum(data1)/n\n",
    "print(f\"x = {x}\")\n",
    "data2 = np.array([21.0,21.9,21.0,22.3,19.0,12.9,13.7,21.3,21.2,18.7,16.4,22.8])\n",
    "m = len(data2)\n",
    "print(f\"m = {m}\")\n",
    "y = np.sum(data2)/m\n",
    "print(f\"y = {y}\")\n",
    "sd1 = 4.0298158251235\n",
    "print(f\"sd1 = {sd1}\")\n",
    "sd2 = 3.337800037586\n",
    "print(f\"sd2 = {sd2}\")\n",
    "Sx2 = sd1**2\n",
    "print(f\"Sx2 = {Sx2}\")\n",
    "Sy2 = sd2**2\n",
    "print(f\"Sy2 = {Sy2}\")\n",
    "sd3 = (sd1+sd2)/2\n",
    "print(f\"sd3 = {sd3}\")\n",
    "Sp2 = sd3**2\n",
    "print(f\"Sp3 = {Sp2}\")\n",
    "sig_lev = 0.10\n",
    "print(f\"Significance Level = {sig_lev}\")\n",
    "alpha2 = sig_lev/2\n",
    "print(f\"Alpha/2 = {alpha2}\")\n",
    "dof = (n+m)-2\n",
    "print(f\"dof = {dof}\")\n",
    "dof_alpha2 = 1.694\n",
    "print(f\"t32,alpha/2 = {dof_alpha2}\")\n",
    "print(\"H0: muX = muY\")\n",
    "print(\"H1: muX != muY\")\n",
    "test_stat = (x-y)/((Sp2*((1/n)+(1/m)))**0.5)\n",
    "print(f\"test_stat = {test_stat}\")\n",
    "print(f\"Conclusion, since |T| = {test_stat*-1} < {dof_alpha2}, we cannot reject H0\")\n",
    "print(f\"p_value = {0.28372}\")\n"
   ]
  },
  {
   "cell_type": "markdown",
   "metadata": {},
   "source": [
    "## QUESTION 2\n",
    "\n",
    "An experimenter wishes to investigate whether average performance on a particular mobile game is degraded if a particular cognitively fatiguing task is carried out in advance. To do so, he brings in participants on two occasions 1 week apart, and asks them to play the game, on one occasion asking them to complete the fatiguing task first. To control for recent prior experience with the game, he randomises whether they take the fatiguing task before their first or second session.\n",
    "\n",
    "He records the time it takes for each individual to complete a specific level in the game, with stronger players completing the level more quickly. The table shows the times recorded by each player during each session, and which session included the fatiguing task. He wishes to test whether times are longer after the fatiguing task as this would represent a significant finding.\n",
    "\n",
    "The experimenter performs a paired sample t-test at 5% significance leve, and calculates the corresponding t-distributed test statistic:\n"
   ]
  },
  {
   "cell_type": "code",
   "execution_count": 9,
   "metadata": {},
   "outputs": [
    {
     "name": "stdout",
     "output_type": "stream",
     "text": [
      "Non-Fatigue Task = [197.  100.3  75.5 122.6 100.7  88.9  85.3  99.6 101.9 159.3 118.2 126.8\n",
      " 145.1 150.1  97.2  77.6  96.8]\n",
      "Number of Non-Fatigue Data Values = 17\n",
      "Fatigue Task = [223.1 129.3  82.  139.2 129.8 109.5  80.8  95.2  94.3 169.5 106.6 130.8\n",
      " 168.  136.1 117.4  76.5  80.9]\n",
      "Number of Fatigue Data Values = 17\n",
      "diff = [-26.1 -29.   -6.5 -16.6 -29.1 -20.6   4.5   4.4   7.6 -10.2  11.6  -4.\n",
      " -22.9  14.  -20.2   1.1  15.9]\n",
      "d_bar = -7.41764705882353\n",
      "S_d = 15.633027349738\n"
     ]
    }
   ],
   "source": [
    "nonf_task = np.array([197.0,100.3,75.5,122.6,100.7,88.9,85.3,99.6,101.9,159.3,118.2,126.8,145.1,150.1,97.2,77.6,96.8])\n",
    "print(f\"Non-Fatigue Task = {nonf_task}\")\n",
    "n = len(nonf_task)\n",
    "print(f\"Number of Non-Fatigue Data Values = {n}\")\n",
    "f_task = np.array([223.1,129.3,82.0,139.2,129.8,109.5,80.8,95.2,94.3,169.5,106.6,130.8,168.0,136.1,117.4,76.5,80.9])\n",
    "print(f\"Fatigue Task = {f_task}\")\n",
    "m = len(f_task)\n",
    "print(f\"Number of Fatigue Data Values = {m}\")\n",
    "diff = nonf_task - f_task\n",
    "print(f\"diff = {diff}\")\n",
    "d_bar = np.mean(diff)\n",
    "print(f\"d_bar = {d_bar}\")\n",
    "S_d = 15.633027349738\n",
    "print(f\"S_d = {S_d}\")\n"
   ]
  },
  {
   "cell_type": "markdown",
   "metadata": {},
   "source": [
    "### How many degrees of freedom does the test statistic have? (give the precise answer)"
   ]
  },
  {
   "cell_type": "code",
   "execution_count": 10,
   "metadata": {},
   "outputs": [
    {
     "name": "stdout",
     "output_type": "stream",
     "text": [
      "dof = 16\n"
     ]
    }
   ],
   "source": [
    "dof = n-1\n",
    "print(f\"dof = {dof}\")"
   ]
  },
  {
   "cell_type": "markdown",
   "metadata": {},
   "source": [
    "### What is the value of the test statistic? (give the answer to 3 decimal places)"
   ]
  },
  {
   "cell_type": "code",
   "execution_count": 11,
   "metadata": {},
   "outputs": [
    {
     "name": "stdout",
     "output_type": "stream",
     "text": [
      "test_stat = -1.956354430454838 = -1.956\n"
     ]
    }
   ],
   "source": [
    "test_stat = ((n**0.5)*d_bar)/S_d\n",
    "print(f\"test_stat = {test_stat} = {round(test_stat,3)}\")\n"
   ]
  },
  {
   "cell_type": "code",
   "execution_count": 12,
   "metadata": {},
   "outputs": [
    {
     "name": "stdout",
     "output_type": "stream",
     "text": [
      "t_n-1,alpha/2 = t_16,0.05/2 = t_16,0.025\n",
      "thresholdvalue = 2.12\n"
     ]
    }
   ],
   "source": [
    "print(\"t_n-1,alpha/2 = t_16,0.05/2 = t_16,0.025\")\n",
    "thresholdvalue = 2.120\n",
    "print(f\"thresholdvalue = {thresholdvalue}\")"
   ]
  },
  {
   "cell_type": "markdown",
   "metadata": {},
   "source": [
    "## QUESTION 3 - PART A\n",
    "\n",
    "During the COVID pandemic, a researcher is interested in the social influences on the wearing of a mask. She is first interested in whether the sight of others wearing (or not wearing) masks affects the observer's choice to wear a mask. To investigate this, she records data at a shop in her local area.\n",
    "\n",
    "When queuing outside to enter the shop, a customer must wait for another to leave the shop before entering. When they do, the researcher records whether the leaving customer is wearing a mask and whether the person entering then chooses to put on a mask or not.  \n",
    "\n",
    "Table from quiz 9+10\n",
    "\n",
    "Her recorded the data is shown in the Table. For example, she observed 212 customers put on a mask, after seeing someone leave who was not wearing one. She constructs the appropriate hypothesis test to test whether this data showed a difference of any kind between the whether or not the departing customer wore a mask or not."
   ]
  },
  {
   "cell_type": "code",
   "execution_count": 13,
   "metadata": {},
   "outputs": [
    {
     "name": "stdout",
     "output_type": "stream",
     "text": [
      "prev_without_mask = 250\n",
      "X (puts on mask when sees no mask) = 212\n",
      "p1 = 0.848\n",
      "\n",
      "\n",
      "prev_with_mask = 1823\n",
      "Y (puts on mask when sees mask) = 1618\n",
      "p2 = 0.8875479978058146\n",
      "\n",
      "\n",
      "pooled_est = 0.8827785817655571\n",
      "\n",
      "\n",
      "test_stat = -1.8228830615365312 = -1.823\n",
      "\n",
      "\n"
     ]
    }
   ],
   "source": [
    "prev_without_mask = 212+38\n",
    "print(f\"prev_without_mask = {prev_without_mask}\")\n",
    "X = 212\n",
    "print(f\"X (puts on mask when sees no mask) = {X}\")\n",
    "p1 = X/prev_without_mask\n",
    "print(f\"p1 = {p1}\")\n",
    "print('\\n')\n",
    "\n",
    "prev_with_mask = 1618+205\n",
    "print(f\"prev_with_mask = {prev_with_mask}\")\n",
    "Y = 1618\n",
    "print(f\"Y (puts on mask when sees mask) = {Y}\")\n",
    "p2 = Y/prev_with_mask\n",
    "print(f\"p2 = {p2}\")\n",
    "print('\\n')\n",
    "\n",
    "pooled_est = (X+Y)/(prev_without_mask+prev_with_mask)\n",
    "print(f\"pooled_est = {pooled_est}\")\n",
    "print('\\n')\n",
    "\n",
    "test_stat = (p1-p2)/((((1/prev_without_mask)+(1/prev_with_mask))*(pooled_est)*(1-pooled_est))**0.5)\n",
    "print(f\"test_stat = {test_stat} = {round(test_stat,3)}\")\n",
    "print('\\n')\n"
   ]
  },
  {
   "cell_type": "markdown",
   "metadata": {},
   "source": [
    "### What is the value of the appropriate test statistic for the this test (give your answer to 3 decimal places)"
   ]
  },
  {
   "cell_type": "code",
   "execution_count": 14,
   "metadata": {},
   "outputs": [
    {
     "name": "stdout",
     "output_type": "stream",
     "text": [
      "test_stat = -1.8228830615365312 = -1.823\n"
     ]
    }
   ],
   "source": [
    "test_stat = (p1-p2)/((((1/prev_without_mask)+(1/prev_with_mask))*(pooled_est)*(1-pooled_est))**0.5)\n",
    "print(f\"test_stat = {test_stat} = {round(test_stat,3)}\")\n"
   ]
  },
  {
   "cell_type": "markdown",
   "metadata": {},
   "source": [
    "### Indicate whether or not this should be rejected at the 5% significance level."
   ]
  },
  {
   "cell_type": "code",
   "execution_count": 15,
   "metadata": {},
   "outputs": [
    {
     "name": "stdout",
     "output_type": "stream",
     "text": [
      "H0: mu1 >= mu2\n",
      "The number of people who put the mask on \n",
      "H1: H0: mu1 < mu2\n",
      "-1.8228830615365312 < 1.96\n",
      "Therefore, do not reject H0\n"
     ]
    }
   ],
   "source": [
    "print(\"H0: mu1 >= mu2\")\n",
    "print(\"The number of people who put the mask on \")\n",
    "print(\"H1: H0: mu1 < mu2\")\n",
    "Zalphaover2 = 1.960\n",
    "print(f\"{test_stat} < {Zalphaover2}\")\n",
    "print(\"Therefore, do not reject H0\")\n"
   ]
  },
  {
   "cell_type": "markdown",
   "metadata": {},
   "source": [
    "### What is the p-value of the test statistic? (give your answer to 3 significant figures) "
   ]
  },
  {
   "cell_type": "code",
   "execution_count": 16,
   "metadata": {},
   "outputs": [
    {
     "name": "stdout",
     "output_type": "stream",
     "text": [
      "p value = P(Z ≥ -1.8228830615365312) = 0.034227\n"
     ]
    }
   ],
   "source": [
    "pval = 0.034227\n",
    "print(f\"p value = P(Z ≥ {test_stat}) = {pval}\")\n"
   ]
  },
  {
   "cell_type": "markdown",
   "metadata": {},
   "source": [
    "## QUESTION 3 - PART B\n",
    "\n",
    "In a second study, our researcher reads a report that in a survey 81.5% of people reported that they felt it is important to wear masks when travelling on London buses. However, she fears that a recent news story has undermined people's willingness to wear masks. She wishes to test whether the proportion of people now wearing masks on London buses is lower than this number. She conducts a study where a random selection of bus commuters are observed and it is recorded whether or not they are wearing a mask. She observes 1554 people wearing masks appropriately, 420 not wearing masks, and 33 wearing masks inappropriately. She decides that those wearing masks inappropriately should be excluded as they do not inform either way about the hypothesis.\n"
   ]
  },
  {
   "cell_type": "code",
   "execution_count": 17,
   "metadata": {},
   "outputs": [],
   "source": [
    "mask_appr = 1554\n",
    "no_mask = 420 \n",
    "mask_inappr = 33 \n",
    "\n",
    "# NOTE THIS QUESTION IS ABOUT ONE POPULATION (PROPORTION) - MASK WEARERS - THEREFORE LECTURE 9 WILL BE USED\n"
   ]
  },
  {
   "cell_type": "markdown",
   "metadata": {},
   "source": [
    "### What is the sample size?"
   ]
  },
  {
   "cell_type": "code",
   "execution_count": 18,
   "metadata": {},
   "outputs": [
    {
     "name": "stdout",
     "output_type": "stream",
     "text": [
      "Sample Size = 1974\n",
      "H0: p <= p0\n",
      "H1: p > p0\n"
     ]
    }
   ],
   "source": [
    "sample_size = mask_appr + no_mask\n",
    "print(f\"Sample Size = {sample_size}\")\n",
    "print(\"H0: p <= p0\")\n",
    "print(\"H1: p > p0\")\n"
   ]
  },
  {
   "cell_type": "markdown",
   "metadata": {},
   "source": [
    "### What is the associated test statistic? (give the precise value) "
   ]
  },
  {
   "cell_type": "code",
   "execution_count": 19,
   "metadata": {},
   "outputs": [
    {
     "name": "stdout",
     "output_type": "stream",
     "text": [
      "n = 1974\n",
      "X = 1554\n",
      "P Hat = 0.7872340425531915\n",
      "We have a binomial distribution in this case\n",
      "np = 1677.8999999999999 > 5\n",
      "2ndtest = 296.1 > 5\n",
      "Therefore, Central Limit Theorem (CLT) applies, therefore, test stat will be approx normally distributed \n",
      "test_stat = -7.809849049611781\n"
     ]
    }
   ],
   "source": [
    "n = sample_size\n",
    "print(f\"n = {n}\")\n",
    "X = 1554\n",
    "print(f\"X = {X}\")\n",
    "p_hat = X/n\n",
    "print(f\"P Hat = {p_hat}\")\n",
    "p = 0.85\n",
    "print(\"We have a binomial distribution in this case\")\n",
    "np = n*p\n",
    "print(f\"np = {np} > 5\")\n",
    "secondtest = n*(1-p)\n",
    "print(f\"2ndtest = {secondtest} > 5\")\n",
    "print(\"Therefore, Central Limit Theorem (CLT) applies, therefore, test stat will be approx normally distributed \")\n",
    "test_stat = (p_hat-p)/((p*(1-p))/n)**0.5\n",
    "print(f\"test_stat = {test_stat}\")\n"
   ]
  },
  {
   "cell_type": "markdown",
   "metadata": {},
   "source": [
    "### What is the associated p-value? (give the answer to 3 significant figures) "
   ]
  },
  {
   "cell_type": "code",
   "execution_count": 20,
   "metadata": {},
   "outputs": [
    {
     "name": "stdout",
     "output_type": "stream",
     "text": [
      "p value = 2.86282590748677e-15\n"
     ]
    }
   ],
   "source": [
    "p_val = 0.000000000000002862825907486770000000\n",
    "print(f\"p value = {p_val}\")"
   ]
  },
  {
   "cell_type": "markdown",
   "metadata": {},
   "source": [
    "### Can she conclude that the news story has affected peoples willingness to wear a mask? Give the most appropriate response"
   ]
  },
  {
   "cell_type": "code",
   "execution_count": 22,
   "metadata": {},
   "outputs": [
    {
     "name": "stdout",
     "output_type": "stream",
     "text": [
      "p value is extremely small, approx = 0, therefore, reject null hypothesis\n",
      "however, sample is not representative enough, also, inappropriate mask wearers were rejected, also other reasons could exist for the reduction of mask use\n"
     ]
    }
   ],
   "source": [
    "print(f\"p value is extremely small, approx = 0, therefore, reject null hypothesis\")\n",
    "print(f\"however, sample is not representative enough, also, inappropriate mask wearers were rejected, also other reasons could exist for the reduction of mask use\")"
   ]
  }
 ],
 "metadata": {
  "kernelspec": {
   "display_name": "Python 3",
   "language": "python",
   "name": "python3"
  },
  "language_info": {
   "codemirror_mode": {
    "name": "ipython",
    "version": 3
   },
   "file_extension": ".py",
   "mimetype": "text/x-python",
   "name": "python",
   "nbconvert_exporter": "python",
   "pygments_lexer": "ipython3",
   "version": "3.7.3"
  }
 },
 "nbformat": 4,
 "nbformat_minor": 4
}
