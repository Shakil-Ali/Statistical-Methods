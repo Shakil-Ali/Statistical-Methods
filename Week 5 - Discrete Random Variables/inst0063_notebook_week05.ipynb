{
 "cells": [
  {
   "cell_type": "markdown",
   "metadata": {},
   "source": [
    "# Week 5 - Discrete Random Variables\n",
    "\n",
    "This is a Jupyter notebook to explore the material in (Ross, 2017, Chp. 5). \n",
    "\n"
   ]
  },
  {
   "cell_type": "code",
   "execution_count": 1,
   "metadata": {},
   "outputs": [],
   "source": [
    "%matplotlib inline\n",
    "# from now on we'll start each notebook with the library imports\n",
    "# and special commands to keep these things in one place (which\n",
    "# is good practice). The line above is jupyter command to get \n",
    "# matplotlib to plot inline (between cells)\n",
    "# Next we import the libraries and give them short names\n",
    "import numpy as np\n",
    "import scipy.stats as stats\n",
    "import matplotlib.pyplot as plt\n",
    "from collections import Counter\n",
    "from collections import defaultdict"
   ]
  },
  {
   "cell_type": "markdown",
   "metadata": {},
   "source": [
    "## From outcomes to RVs\n",
    "\n",
    "Consider the RV, $X$, equal to the sum of the faces of two dice when rolled. Let's remind outselves how to construct a collection of all possible outcomes $(i,j)$, where $i$ is the face value on the first die and $j$ is the face value on the second die. For outcome $(i,j)$ what value would our RV $X$ take? Does every unique outcome lead to a unique value of $X$?"
   ]
  },
  {
   "cell_type": "code",
   "execution_count": 2,
   "metadata": {},
   "outputs": [
    {
     "name": "stdout",
     "output_type": "stream",
     "text": [
      "outcomes = [(1, 1), (1, 2), (1, 3), (1, 4), (1, 5), (1, 6), (2, 1), (2, 2), (2, 3), (2, 4), (2, 5), (2, 6), (3, 1), (3, 2), (3, 3), (3, 4), (3, 5), (3, 6), (4, 1), (4, 2), (4, 3), (4, 4), (4, 5), (4, 6), (5, 1), (5, 2), (5, 3), (5, 4), (5, 5), (5, 6), (6, 1), (6, 2), (6, 3), (6, 4), (6, 5), (6, 6)]\n",
      "(3, 4) is a valid outcome and leads to value X = 7\n",
      "(4, 3) is a valid outcome and leads to value X = 7\n",
      "(5, 2) is a valid outcome and leads to value X = 7\n"
     ]
    }
   ],
   "source": [
    "# We can list all the unique outcomes as so:\n",
    "outcomes = [(d1,d2) for d1 in range(1,7) for d2 in range(1,7)]\n",
    "print(f\"outcomes = {outcomes}\")\n",
    "\n",
    "# Let's think about pairs (3,4), (4,3) and (5,2), these are all outcomes:\n",
    "for (i,j) in [(3,4), (4,3), (5,2)]:\n",
    "    if (i,j) in outcomes:\n",
    "        print(f\"{(i,j)} is a valid outcome and leads to value X = {i+j}\")\n",
    "# clearly these are distinct outcomes but lead to the same value for X"
   ]
  },
  {
   "cell_type": "markdown",
   "metadata": {},
   "source": [
    "## Exercise A\n",
    "\n",
    "1. What are the possible values $x_i$ that RV $X$ can take? Create an ordered numpy array of these values.\n",
    "2. Calculate and plot the probability distribution (probability mass function) for this RV. (You'll need one probability mass for each value calculated in part 1.)\n",
    "3. **Optional:** Calculate and plot the cummulative distribution function for the same RV. Note that the probability the sum of two dice take a fractional value is zero, and hence for any integer $2 \\leq n \\leq 12$ and any non-integer $n < x < n+1$, then $\\Pr(X \\leq n) = \\Pr(X \\leq x)$.\n"
   ]
  },
  {
   "cell_type": "code",
   "execution_count": 3,
   "metadata": {},
   "outputs": [
    {
     "name": "stdout",
     "output_type": "stream",
     "text": [
      "QUESTION A1\n",
      "outcomes = [(1, 1), (1, 2), (1, 3), (1, 4), (1, 5), (1, 6), (2, 1), (2, 2), (2, 3), (2, 4), (2, 5), (2, 6), (3, 1), (3, 2), (3, 3), (3, 4), (3, 5), (3, 6), (4, 1), (4, 2), (4, 3), (4, 4), (4, 5), (4, 6), (5, 1), (5, 2), (5, 3), (5, 4), (5, 5), (5, 6), (6, 1), (6, 2), (6, 3), (6, 4), (6, 5), (6, 6)]\n",
      "Size of outcomes = 36\n",
      "Possible values xi that RV X can take are = [1, 1, 1, 1, 1, 1, 2, 2, 2, 2, 2, 2, 3, 3, 3, 3, 3, 3, 4, 4, 4, 4, 4, 4, 5, 5, 5, 5, 5, 5, 6, 6, 6, 6, 6, 6]\n",
      "\n",
      "\n",
      "QUESTION A2\n",
      "[1, 2, 3, 4, 5, 6]\n",
      "Counter({1: 6, 2: 6, 3: 6, 4: 6, 5: 6, 6: 6})\n",
      "[0.167, 0.167, 0.167, 0.167, 0.167, 0.167]\n",
      "f(1) = 6/36\n",
      "f(2) = 6/36\n",
      "f(3) = 6/36\n",
      "f(4) = 6/36\n",
      "f(5) = 6/36\n",
      "f(6) = 6/36\n",
      "Sum of these f(qi) is = 1 \n",
      "\n",
      "\n",
      "QUESTION A3\n",
      "F(q = 1) = 6/36\n",
      "F(Q <= 1) = 6/36\n",
      "F(q = 2) = 6/36\n",
      "F(Q <= 2) = 12/36\n",
      "F(q = 3) = 6/36\n",
      "F(Q <= 3) = 18/36\n",
      "F(q = 4) = 6/36\n",
      "F(Q <= 4) = 24/36\n",
      "F(q = 5) = 6/36\n",
      "F(Q <= 5) = 30/36\n",
      "F(q = 6) = 6/36\n",
      "F(Q <= 6) = 36/36 = 1\n"
     ]
    },
    {
     "data": {
      "text/plain": [
       "Text(0.5, 1.0, 'Question A - Part 3')"
      ]
     },
     "execution_count": 3,
     "metadata": {},
     "output_type": "execute_result"
    },
    {
     "data": {
      "image/png": "[encoded data removed]",
      "text/plain": [
       "<Figure size 432x288 with 1 Axes>"
      ]
     },
     "metadata": {
      "needs_background": "light"
     },
     "output_type": "display_data"
    },
    {
     "data": {
      "image/png": "[encoded data removed]",
      "text/plain": [
       "<Figure size 432x288 with 1 Axes>"
      ]
     },
     "metadata": {
      "needs_background": "light"
     },
     "output_type": "display_data"
    }
   ],
   "source": [
    "## to complete\n",
    "# Good video for this work: https://www.youtube.com/watch?v=bGS19PxlGC4&ab_channel=EngineerClearly\n",
    "\n",
    "# 1\n",
    "print(\"QUESTION A1\")\n",
    "# Listing outcomes first\n",
    "print(f\"outcomes = {outcomes}\")\n",
    "print(f\"Size of outcomes = {len(outcomes)}\")\n",
    "# Taking first value from tuples and storing it\n",
    "xi = []\n",
    "for i in outcomes:\n",
    "    val = i[0]\n",
    "    xi.append(val)\n",
    "print(f\"Possible values xi that RV X can take are = {xi}\")\n",
    "print('\\n')\n",
    "\n",
    "#2\n",
    "print(\"QUESTION A2\")\n",
    "# Firstly make list of values and number of occurences\n",
    "unique_xi = []\n",
    "for k in xi:\n",
    "    if k not in unique_xi:\n",
    "        unique_xi.append(k)\n",
    "print(unique_xi)\n",
    "\n",
    "# Count number of times they occur using counter\n",
    "from collections import Counter\n",
    "values_and_occurences = Counter(xi)\n",
    "print(values_and_occurences)\n",
    "probability_mass_func = []\n",
    "for k,v in values_and_occurences.items():\n",
    "    val = round(1/v,3)\n",
    "    probability_mass_func.append(val)\n",
    "print(probability_mass_func)\n",
    "print(f\"f(1) = 6/36\")\n",
    "print(f\"f(2) = 6/36\")\n",
    "print(f\"f(3) = 6/36\")\n",
    "print(f\"f(4) = 6/36\")\n",
    "print(f\"f(5) = 6/36\")\n",
    "print(f\"f(6) = 6/36\")\n",
    "print(f\"Sum of these f(qi) is = 1 \")\n",
    "\n",
    "# Plotting figure\n",
    "plt.figure()\n",
    "plt.plot(unique_xi, probability_mass_func)\n",
    "plt.xlabel(\"x\")\n",
    "plt.ylabel(\"Probability (PMF)\")\n",
    "plt.title(\"Question A - Part 2\")\n",
    "\n",
    "print('\\n')\n",
    "\n",
    "#3\n",
    "print(\"QUESTION A3\")\n",
    "print(\"F(q = 1) = 6/36\")\n",
    "print(\"F(Q <= 1) = 6/36\")\n",
    "print(\"F(q = 2) = 6/36\")\n",
    "print(\"F(Q <= 2) = 12/36\")\n",
    "print(\"F(q = 3) = 6/36\")\n",
    "print(\"F(Q <= 3) = 18/36\")\n",
    "print(\"F(q = 4) = 6/36\")\n",
    "print(\"F(Q <= 4) = 24/36\")\n",
    "print(\"F(q = 5) = 6/36\")\n",
    "print(\"F(Q <= 5) = 30/36\")\n",
    "print(\"F(q = 6) = 6/36\")\n",
    "print(\"F(Q <= 6) = 36/36 = 1\")\n",
    "\n",
    "cdf = [6/36, 12/36, 18/36, 24/36, 30/36, 36/36]\n",
    "\n",
    "# Plotting figure\n",
    "plt.figure()\n",
    "plt.plot(unique_xi, cdf, color='white')\n",
    "plt.hlines(y=6/36,xmin=0.0, xmax=1.0, color='r', linestyle='-')\n",
    "plt.hlines(y=12/36,xmin=1.0, xmax=2.0, color='r', linestyle='-')\n",
    "plt.hlines(y=18/36,xmin=2.0, xmax=3.0, color='r', linestyle='-')\n",
    "plt.hlines(y=24/36,xmin=3.0, xmax=4.0, color='r', linestyle='-')\n",
    "plt.hlines(y=30/36,xmin=4.0, xmax=5.0, color='r', linestyle='-')\n",
    "plt.hlines(y=36/36,xmin=5.0, xmax=6.0, color='r', linestyle='-')\n",
    "plt.xlabel(\"x\")\n",
    "plt.ylabel(\"CDF\")\n",
    "plt.title(\"Question A - Part 3\")\n",
    "\n"
   ]
  },
  {
   "cell_type": "markdown",
   "metadata": {},
   "source": [
    "## Exercise B\n",
    "\n",
    "Consider the RV $Y$, which is the sum of the shown faces of three fair dice.\n",
    "\n",
    "1. Evaluate the raw outcomes of the experiment, the possible values of $Y$, and its probability distribution.\n",
    "2. Calculate the expected value, $E[Y]$. What is expected value for the sum of two dice, $E[X]$?\n",
    "3. What is the expected value of $X+Y$? What is the expected value of an RV $Z$ which is the sum of $5$ dice?\n",
    "4. With what probability will the value of $Y$ equal its expected value $E[Y]$?\n"
   ]
  },
  {
   "cell_type": "code",
   "execution_count": 4,
   "metadata": {},
   "outputs": [
    {
     "name": "stdout",
     "output_type": "stream",
     "text": [
      "EXERCISE B - Part 1\n",
      "Raw outcomes = [(1, 1, 1), (1, 1, 2), (1, 1, 3), (1, 1, 4), (1, 1, 5), (1, 1, 6), (1, 2, 1), (1, 2, 2), (1, 2, 3), (1, 2, 4), (1, 2, 5), (1, 2, 6), (1, 3, 1), (1, 3, 2), (1, 3, 3), (1, 3, 4), (1, 3, 5), (1, 3, 6), (1, 4, 1), (1, 4, 2), (1, 4, 3), (1, 4, 4), (1, 4, 5), (1, 4, 6), (1, 5, 1), (1, 5, 2), (1, 5, 3), (1, 5, 4), (1, 5, 5), (1, 5, 6), (1, 6, 1), (1, 6, 2), (1, 6, 3), (1, 6, 4), (1, 6, 5), (1, 6, 6), (2, 1, 1), (2, 1, 2), (2, 1, 3), (2, 1, 4), (2, 1, 5), (2, 1, 6), (2, 2, 1), (2, 2, 2), (2, 2, 3), (2, 2, 4), (2, 2, 5), (2, 2, 6), (2, 3, 1), (2, 3, 2), (2, 3, 3), (2, 3, 4), (2, 3, 5), (2, 3, 6), (2, 4, 1), (2, 4, 2), (2, 4, 3), (2, 4, 4), (2, 4, 5), (2, 4, 6), (2, 5, 1), (2, 5, 2), (2, 5, 3), (2, 5, 4), (2, 5, 5), (2, 5, 6), (2, 6, 1), (2, 6, 2), (2, 6, 3), (2, 6, 4), (2, 6, 5), (2, 6, 6), (3, 1, 1), (3, 1, 2), (3, 1, 3), (3, 1, 4), (3, 1, 5), (3, 1, 6), (3, 2, 1), (3, 2, 2), (3, 2, 3), (3, 2, 4), (3, 2, 5), (3, 2, 6), (3, 3, 1), (3, 3, 2), (3, 3, 3), (3, 3, 4), (3, 3, 5), (3, 3, 6), (3, 4, 1), (3, 4, 2), (3, 4, 3), (3, 4, 4), (3, 4, 5), (3, 4, 6), (3, 5, 1), (3, 5, 2), (3, 5, 3), (3, 5, 4), (3, 5, 5), (3, 5, 6), (3, 6, 1), (3, 6, 2), (3, 6, 3), (3, 6, 4), (3, 6, 5), (3, 6, 6), (4, 1, 1), (4, 1, 2), (4, 1, 3), (4, 1, 4), (4, 1, 5), (4, 1, 6), (4, 2, 1), (4, 2, 2), (4, 2, 3), (4, 2, 4), (4, 2, 5), (4, 2, 6), (4, 3, 1), (4, 3, 2), (4, 3, 3), (4, 3, 4), (4, 3, 5), (4, 3, 6), (4, 4, 1), (4, 4, 2), (4, 4, 3), (4, 4, 4), (4, 4, 5), (4, 4, 6), (4, 5, 1), (4, 5, 2), (4, 5, 3), (4, 5, 4), (4, 5, 5), (4, 5, 6), (4, 6, 1), (4, 6, 2), (4, 6, 3), (4, 6, 4), (4, 6, 5), (4, 6, 6), (5, 1, 1), (5, 1, 2), (5, 1, 3), (5, 1, 4), (5, 1, 5), (5, 1, 6), (5, 2, 1), (5, 2, 2), (5, 2, 3), (5, 2, 4), (5, 2, 5), (5, 2, 6), (5, 3, 1), (5, 3, 2), (5, 3, 3), (5, 3, 4), (5, 3, 5), (5, 3, 6), (5, 4, 1), (5, 4, 2), (5, 4, 3), (5, 4, 4), (5, 4, 5), (5, 4, 6), (5, 5, 1), (5, 5, 2), (5, 5, 3), (5, 5, 4), (5, 5, 5), (5, 5, 6), (5, 6, 1), (5, 6, 2), (5, 6, 3), (5, 6, 4), (5, 6, 5), (5, 6, 6), (6, 1, 1), (6, 1, 2), (6, 1, 3), (6, 1, 4), (6, 1, 5), (6, 1, 6), (6, 2, 1), (6, 2, 2), (6, 2, 3), (6, 2, 4), (6, 2, 5), (6, 2, 6), (6, 3, 1), (6, 3, 2), (6, 3, 3), (6, 3, 4), (6, 3, 5), (6, 3, 6), (6, 4, 1), (6, 4, 2), (6, 4, 3), (6, 4, 4), (6, 4, 5), (6, 4, 6), (6, 5, 1), (6, 5, 2), (6, 5, 3), (6, 5, 4), (6, 5, 5), (6, 5, 6), (6, 6, 1), (6, 6, 2), (6, 6, 3), (6, 6, 4), (6, 6, 5), (6, 6, 6)]\n",
      "Raw outcomes size = 216\n",
      "Possible values of Y = [3, 4, 5, 6, 7, 8, 4, 5, 6, 7, 8, 9, 5, 6, 7, 8, 9, 10, 6, 7, 8, 9, 10, 11, 7, 8, 9, 10, 11, 12, 8, 9, 10, 11, 12, 13, 4, 5, 6, 7, 8, 9, 5, 6, 7, 8, 9, 10, 6, 7, 8, 9, 10, 11, 7, 8, 9, 10, 11, 12, 8, 9, 10, 11, 12, 13, 9, 10, 11, 12, 13, 14, 5, 6, 7, 8, 9, 10, 6, 7, 8, 9, 10, 11, 7, 8, 9, 10, 11, 12, 8, 9, 10, 11, 12, 13, 9, 10, 11, 12, 13, 14, 10, 11, 12, 13, 14, 15, 6, 7, 8, 9, 10, 11, 7, 8, 9, 10, 11, 12, 8, 9, 10, 11, 12, 13, 9, 10, 11, 12, 13, 14, 10, 11, 12, 13, 14, 15, 11, 12, 13, 14, 15, 16, 7, 8, 9, 10, 11, 12, 8, 9, 10, 11, 12, 13, 9, 10, 11, 12, 13, 14, 10, 11, 12, 13, 14, 15, 11, 12, 13, 14, 15, 16, 12, 13, 14, 15, 16, 17, 8, 9, 10, 11, 12, 13, 9, 10, 11, 12, 13, 14, 10, 11, 12, 13, 14, 15, 11, 12, 13, 14, 15, 16, 12, 13, 14, 15, 16, 17, 13, 14, 15, 16, 17, 18]\n",
      "Probability distribution for each = 3/216\n",
      "\n",
      "\n",
      "EXERCISE B - Part 2\n",
      "For one dice E[Y] = 1/6(1+2+3+4+5+6) = 3.5\n",
      "For 3 dice it is 3.5 * N, therefore E[Y] = 10.5\n",
      "For 2 dice it is 3.5 * N, therefore E[X] = 7\n",
      "\n",
      "\n",
      "EXERCISE B - Part 3\n",
      "[E + Y] = E[X] + E[Y] = 10.5 + 7 = 17.5\n",
      "E[Z] = 3.5 * 5 = 17.5\n",
      "\n",
      "\n",
      "EXERCISE B - Part 4\n",
      "Probability Y = E[Y] is 0 because it is not an integer\n"
     ]
    }
   ],
   "source": [
    "## to complete\n",
    "\n",
    "# 1\n",
    "print(\"EXERCISE B - Part 1\")\n",
    "# We can list all the unique outcomes as so:\n",
    "outcomes2 = [(d1,d2,d3) for d1 in range(1,7) for d2 in range(1,7) for d3 in range(1,7)]\n",
    "print(f\"Raw outcomes = {outcomes2}\")\n",
    "print(f\"Raw outcomes size = {len(outcomes2)}\")\n",
    "# Possible values of Y\n",
    "poss_y_values = []\n",
    "for i in outcomes2:\n",
    "    sumval = i[0] + i[1] + i[2]\n",
    "    poss_y_values.append(sumval)    \n",
    "print(f\"Possible values of Y = {poss_y_values}\")\n",
    "print(f\"Probability distribution for each = 3/216\")\n",
    "\n",
    "print('\\n')\n",
    "print(\"EXERCISE B - Part 2\")\n",
    "# Expected Value of Y (E[Y])\n",
    "print(\"For one dice E[Y] = 1/6(1+2+3+4+5+6) = 3.5\")\n",
    "print(\"For 3 dice it is 3.5 * N, therefore E[Y] = 10.5\")\n",
    "print(\"For 2 dice it is 3.5 * N, therefore E[X] = 7\")\n",
    "\n",
    "print('\\n')\n",
    "print(\"EXERCISE B - Part 3\")\n",
    "print(\"[E + Y] = E[X] + E[Y] = 10.5 + 7 = 17.5\")\n",
    "print(\"E[Z] = 3.5 * 5 = 17.5\")\n",
    "\n",
    "print('\\n')\n",
    "print(\"EXERCISE B - Part 4\")\n",
    "print(\"Probability Y = E[Y] is 0 because it is not an integer\")"
   ]
  },
  {
   "cell_type": "markdown",
   "metadata": {},
   "source": [
    "## Exercise C\n",
    "\n",
    "Consider again the two dice RV $X$ from exercies A, and the three dice RV $Y$ from exercise B.\n",
    "\n",
    "1. What is the variance of each RV, $X$ and $Y$?\n",
    "2. What are the variances of $X+6$ and $\\frac{Y}{2}$?\n",
    "3. What are the standard deviations of $X$ and $Y$?\n",
    "4. What is the expected value and SD of $3X$? What is the expected value and SD of $2Y$? Which SD is larger? Can you explain this? \n",
    "5. What are the values of $E[X^2]$, $E[Y^2]$?\n",
    "6. What is the variance of $X+Y$? What is the variance of $Y - X$"
   ]
  },
  {
   "cell_type": "code",
   "execution_count": 5,
   "metadata": {},
   "outputs": [
    {
     "name": "stdout",
     "output_type": "stream",
     "text": [
      "EXERCISE C - Part 1\n",
      "[0, 1, 2, 3, 4, 5, 6, 7, 8, 9, 10, 11, 12]\n",
      "[0, 0, 0.027777777777777776, 0.05555555555555555, 0.08333333333333333, 0.1111111111111111, 0.1388888888888889, 0.16666666666666666, 0.1388888888888889, 0.1111111111111111, 0.08333333333333333, 0.05555555555555555, 0.027777777777777776]\n",
      "Variance of RV X is = 5.833333333333334\n",
      "\n",
      "\n",
      "[0, 1, 2, 3, 4, 5, 6, 7, 8, 9, 10, 11, 12]\n",
      "[0, 0, 0.027777777777777776, 0.05555555555555555, 0.08333333333333333, 0.1111111111111111, 0.1388888888888889, 0.16666666666666666, 0.1388888888888889, 0.1111111111111111, 0.08333333333333333, 0.05555555555555555, 0.027777777777777776]\n",
      "Variance of RV Y is = 8.75\n",
      "\n",
      "\n",
      "EXERCISE C - Part 2\n",
      "Variance of RV X + 6 is = 5.833333333333334. It is the same because + constants do not alter variance\n",
      "Variance of RV Y / 2 is = 2.1875. The constant (1/2) is squared and multiplied by RV Y's variance\n",
      "\n",
      "\n",
      "EXERCISE C - Part 3\n",
      "Standard Deviation of RV X is = 2.41522945769824. It is square root of the variance of X.\n",
      "Standard Deviation of RV Y is = 2.958039891549808. It is square root of the variance of Y.\n",
      "\n",
      "\n",
      "EXERCISE C - Part 4\n",
      "Standard Deviation of RV 3X is = 7.245688373094719. It is square root of the variance of X, multiplied by 3.\n",
      "Standard Deviation of RV 2Y is = 5.916079783099616. It is square root of the variance of Y, multiplied by 2.\n",
      "3X's standard deviation is larger than 2Y's because the value is greater.\n",
      "The reason it is greater is the constant is larger. This means values around the mean are more spread for X, than Y.\n"
     ]
    }
   ],
   "source": [
    "## to complete\n",
    "import itertools\n",
    "\n",
    "print(\"EXERCISE C - Part 1\")\n",
    "#1\n",
    "# Variance pf RV X\n",
    "rv_X = [0,1,2,3,4,5,6,7,8,9,10,11,12]\n",
    "rv_PX = [0,0,1/36,2/36,3/36,4/36,5/36,6/36,5/36,4/36,3/36,2/36,1/36]\n",
    "rv_EX = 7\n",
    "print(rv_X)\n",
    "print(rv_PX)\n",
    "var_X = []\n",
    "for i,j in zip(rv_X,rv_PX):\n",
    "    val = ((i - rv_EX)**2)*j\n",
    "    var_X.append(val)\n",
    "var_X = np.array(var_X)\n",
    "sum_var_X = np.sum(var_X)\n",
    "print(f\"Variance of RV X is = {sum_var_X}\")\n",
    "\n",
    "print('\\n')\n",
    "\n",
    "# Variance pf RV Y\n",
    "rv_Y = [0,1,2,3,4,5,6,7,8,9,10,11,12,13,14,15,16,17,18]\n",
    "rv_PY = [0,0,0,1/216,3/216,6/216,10/216,15/216,21/216,25/216,27/216,27/216,25/216,21/216,15/216,10/216,6/216,3/216,1/216]\n",
    "rv_EY = 10.5\n",
    "print(rv_X)\n",
    "print(rv_PX)\n",
    "var_Y = []\n",
    "for i,j in zip(rv_Y,rv_PY):\n",
    "    val = ((i - rv_EY)**2)*j\n",
    "    var_Y.append(val)\n",
    "var_Y = np.array(var_Y)\n",
    "sum_var_Y = np.sum(var_Y)\n",
    "print(f\"Variance of RV Y is = {sum_var_Y}\")\n",
    "\n",
    "print('\\n')\n",
    "\n",
    "print(\"EXERCISE C - Part 2\")\n",
    "print(f\"Variance of RV X + 6 is = {sum_var_X}. It is the same because + constants do not alter variance\")\n",
    "print(f\"Variance of RV Y / 2 is = {sum_var_Y * ((1/2)**2)}. The constant (1/2) is squared and multiplied by RV Y's variance\")\n",
    "\n",
    "print('\\n')\n",
    "\n",
    "print(\"EXERCISE C - Part 3\")\n",
    "print(f\"Standard Deviation of RV X is = {(sum_var_X)**0.5}. It is square root of the variance of X.\")\n",
    "print(f\"Standard Deviation of RV Y is = {(sum_var_Y)**0.5}. It is square root of the variance of Y.\")\n",
    "\n",
    "print('\\n')\n",
    "\n",
    "print(\"EXERCISE C - Part 4\")\n",
    "print(f\"Standard Deviation of RV 3X is = {3*((sum_var_X)**0.5)}. It is square root of the variance of X, multiplied by 3.\")\n",
    "print(f\"Standard Deviation of RV 2Y is = {2*((sum_var_Y)**0.5)}. It is square root of the variance of Y, multiplied by 2.\")\n",
    "print(f\"3X's standard deviation is larger than 2Y's because the value is greater.\")\n",
    "print(f\"The reason it is greater is the constant is larger. This means values around the mean are more spread for X, than Y.\")"
   ]
  },
  {
   "cell_type": "markdown",
   "metadata": {},
   "source": [
    "## Exercise D from (Ross, 2017, p. 240, q. 1)\n",
    "\n",
    "Question repeated for convenience:\n",
    "\n",
    "> A perfectly symmetric die that is equally likely to land on any of its 6\n",
    "sides is thrown twice. Let X be the upturned value of the first throw, and\n",
    "let Y be the sum of the two upturned values. Find the joint probability\n",
    "mass function of X and Y .\n",
    "\n",
    "Below outlines some of the steps to this. It calculates a joint probabilty distribution as a 2d numpy array and value arrays for X and Y. Try to follow the steps. The code also outputs the probability distribution in a neat table. Is this table what you would expect?\n",
    "\n",
    "Complete the following questions:\n",
    "\n",
    "1. Calculate the marginal probability distribtions, $\\Pr(X=x)$ and $\\Pr(Y=y)$\n",
    "2. Calculate the expected values, $E[X]$ and $E[Y]$.\n",
    "3. Calculate the standard deviations $SD(X)$ and $SD(Y)$.\n",
    "4. Will the covariance be positive or negative? Calculate the covariance $cov(X,Y)$.\n",
    "5. Will the correlation be close to zero? Calculate the correlation coefficient $corr(X,Y)$."
   ]
  },
  {
   "cell_type": "code",
   "execution_count": 6,
   "metadata": {},
   "outputs": [
    {
     "name": "stdout",
     "output_type": "stream",
     "text": [
      "Joint probability distribution:\n",
      "|\t| Y=2\t| Y=3\t| Y=4\t| Y=5\t| Y=6\t| Y=7\t| Y=8\t| Y=9\t| Y=10\t| Y=11\t| Y=12\t|\n",
      "| X=1\t| 0.028\t| 0.028\t| 0.028\t| 0.028\t| 0.028\t| 0.028\t| 0.000\t| 0.000\t| 0.000\t| 0.000\t| 0.000\t|\n",
      "| X=2\t| 0.000\t| 0.028\t| 0.028\t| 0.028\t| 0.028\t| 0.028\t| 0.028\t| 0.000\t| 0.000\t| 0.000\t| 0.000\t|\n",
      "| X=3\t| 0.000\t| 0.000\t| 0.028\t| 0.028\t| 0.028\t| 0.028\t| 0.028\t| 0.028\t| 0.000\t| 0.000\t| 0.000\t|\n",
      "| X=4\t| 0.000\t| 0.000\t| 0.000\t| 0.028\t| 0.028\t| 0.028\t| 0.028\t| 0.028\t| 0.028\t| 0.000\t| 0.000\t|\n",
      "| X=5\t| 0.000\t| 0.000\t| 0.000\t| 0.000\t| 0.028\t| 0.028\t| 0.028\t| 0.028\t| 0.028\t| 0.028\t| 0.000\t|\n",
      "| X=6\t| 0.000\t| 0.000\t| 0.000\t| 0.000\t| 0.000\t| 0.028\t| 0.028\t| 0.028\t| 0.028\t| 0.028\t| 0.028\t|\n",
      "\n"
     ]
    }
   ],
   "source": [
    "# again the outcomes are as before for two fair dice\n",
    "outcomes = [(i,j) for i in range(1,7) for j in range(1,7)]\n",
    "# for simplicity we'll consider a grid that is indexed from\n",
    "# 0 for both X and Y even though we know that the values that X \n",
    "# can take are 1, 2, 3, 4, 5, 6 the values that Y can take are\n",
    "# 2, ...,12.\n",
    "values_X = np.arange(0,7)\n",
    "values_Y = np.arange(0, 13)\n",
    "# now we can construct the counts (we do this as a numpy array\n",
    "# for the convenience of easy indexing and summing)\n",
    "counts_XY = np.zeros((values_X.size, values_Y.size), dtype=int)\n",
    "# now let's complete the counts array\n",
    "for (i,j) in outcomes:\n",
    "    x = i # RV X takes value of first die\n",
    "    y = i+j # RV Y takes value of sum of dice\n",
    "    counts_XY[x,y] += 1\n",
    "# and now we can strip out the invalid values\n",
    "values_X = values_X[1:]\n",
    "values_Y = values_Y[2:]\n",
    "counts_XY = counts_XY[1:,2:]\n",
    "# we do not have to strip out the invalid values as they\n",
    "# will have 0 counts and hence 0 probability, but they\n",
    "# add unnecessary clutter\n",
    "#\n",
    "# the probabilities are now straightforward to calculate\n",
    "probs_XY = counts_XY/np.sum(counts_XY)\n",
    "\n",
    "## Let's print these in a nice table:\n",
    "# first we define a reusable function\n",
    "def output_joint_probability(values_X, values_Y, probs_XY):\n",
    "    print(\"Joint probability distribution:\")\n",
    "    print('|\\t|',end='')\n",
    "    for y in values_Y:\n",
    "        print(f' Y={y}\\t|', end='')\n",
    "    print()\n",
    "    for i, x in enumerate(values_X):\n",
    "        print(f'| X={x}\\t|', end='')\n",
    "        for j,y in enumerate(values_Y):\n",
    "                print(f' {probs_XY[i,j]:.3f}\\t|', end='')\n",
    "        print()\n",
    "    print()\n",
    "\n",
    "# Now use the function to output the probability distribution\n",
    "output_joint_probability(values_X, values_Y, probs_XY)\n",
    "\n"
   ]
  },
  {
   "cell_type": "code",
   "execution_count": 7,
   "metadata": {},
   "outputs": [
    {
     "name": "stdout",
     "output_type": "stream",
     "text": [
      "Exercise D - Part 1\n",
      "Pr(X = x)\n",
      "Pr(X = 0) = 0.000\n",
      "Pr(X = 1) = 0.168\n",
      "Pr(X = 2) = 0.168\n",
      "Pr(X = 3) = 0.168\n",
      "Pr(X = 4) = 0.168\n",
      "Pr(X = 5) = 0.168\n",
      "Pr(X = 6) = 0.168\n",
      "Pr(Y = y)\n",
      "Pr(Y = 0) = 0.000\n",
      "Pr(Y = 1) = 0.000\n",
      "Pr(Y = 2) = 0.028\n",
      "Pr(Y = 3) = 0.056\n",
      "Pr(Y = 4) = 0.084\n",
      "Pr(Y = 5) = 0.112\n",
      "Pr(Y = 6) = 0.140\n",
      "Pr(Y = 7) = 0.168\n",
      "Pr(Y = 8) = 0.140\n",
      "Pr(Y = 9) = 0.112\n",
      "Pr(Y = 10) = 0.084\n",
      "Pr(Y = 11) = 0.056\n",
      "Pr(Y = 12) = 0.028\n",
      "\n",
      "\n",
      "Exercise D - Part 2\n",
      "E(X) = (0*0.000) + (1*0.168) + (2*0.168) + (3*0.168) + (4*0.168) + (5*0.168) + (6*0.168) = 3.528\n",
      "E(Y) = (0*0.000) + (1*0.000) + (2*0.028) + (3*0.056) + (4*0.084) + (5*0.112) + (6*0.140) + (7*0.168) + (8*0.140) + (9*0.112) + (10*0.084) + (11*0.056) + (12*0.028) = 7.128\n",
      "\n",
      "\n",
      "Exercise D - Part 3\n",
      "Var(X) Variance of RV X is = 2.940790272\n",
      "SD(X) Standard Deviation of RV X is = 1.7148732524592014\n",
      "Var(Y) Variance of RV Y is = 5.896515072\n",
      "SD(Y) Standard Deviation of RV Y is = 2.4282740932604785\n",
      "\n",
      "\n",
      "Exercise D - Part 4\n",
      "Let W be the number on the second die\n",
      "It follows that E(XY) = E(X^2) + E(XW)\n",
      "E(X^2) = 12.446784000000001\n",
      "E(XW) = E(X)E(W) = 7.056\n",
      "E(XY) = 19.502784000000002\n",
      "cov(X,Y) = E[XY] - E[X]E[Y] = -5.6448\n",
      "Covariance of X and Y is negative, therefore large X tend to be associated with small Y (< μy ), and small X with large Y\n",
      "\n",
      "\n",
      "Exercise D - Part 5\n",
      "corr(X,Y) = cov(X,Y)/(SD(X)*SD(Y))\n",
      "corr(X,Y) = -1.3555602526362271\n"
     ]
    }
   ],
   "source": [
    "## to complete\n",
    "\n",
    "# 1\n",
    "print(\"Exercise D - Part 1\")\n",
    "print(\"Pr(X = x)\")\n",
    "print(\"Pr(X = 0) = 0.000\")\n",
    "print(\"Pr(X = 1) = 0.168\")\n",
    "print(\"Pr(X = 2) = 0.168\")\n",
    "print(\"Pr(X = 3) = 0.168\")\n",
    "print(\"Pr(X = 4) = 0.168\")\n",
    "print(\"Pr(X = 5) = 0.168\")\n",
    "print(\"Pr(X = 6) = 0.168\")\n",
    "print(\"Pr(Y = y)\")\n",
    "print(\"Pr(Y = 0) = 0.000\")\n",
    "print(\"Pr(Y = 1) = 0.000\")\n",
    "print(\"Pr(Y = 2) = 0.028\")\n",
    "print(\"Pr(Y = 3) = 0.056\")\n",
    "print(\"Pr(Y = 4) = 0.084\")\n",
    "print(\"Pr(Y = 5) = 0.112\")\n",
    "print(\"Pr(Y = 6) = 0.140\")\n",
    "print(\"Pr(Y = 7) = 0.168\")\n",
    "print(\"Pr(Y = 8) = 0.140\")\n",
    "print(\"Pr(Y = 9) = 0.112\")\n",
    "print(\"Pr(Y = 10) = 0.084\")\n",
    "print(\"Pr(Y = 11) = 0.056\")\n",
    "print(\"Pr(Y = 12) = 0.028\")\n",
    "\n",
    "print('\\n')\n",
    "\n",
    "# 2\n",
    "print(\"Exercise D - Part 2\")\n",
    "print(\"E(X) = (0*0.000) + (1*0.168) + (2*0.168) + (3*0.168) + (4*0.168) + (5*0.168) + (6*0.168) = 3.528\")\n",
    "print(\"E(Y) = (0*0.000) + (1*0.000) + (2*0.028) + (3*0.056) + (4*0.084) + (5*0.112) + (6*0.140) + (7*0.168) + (8*0.140) + (9*0.112) + (10*0.084) + (11*0.056) + (12*0.028) = 7.128\")\n",
    "\n",
    "print('\\n')\n",
    "\n",
    "# 3\n",
    "print(\"Exercise D - Part 3\")\n",
    "# RV X\n",
    "rv_X = [i for i in range(0,7)]\n",
    "rv_PX = [0,0.168,0.168,0.168,0.168,0.168,0.168]\n",
    "rv_EX = 3.528\n",
    "var_X = []\n",
    "for i,j in zip(rv_X, rv_PX):\n",
    "    val = ((i - rv_EX)**2)*j\n",
    "    var_X.append(val)\n",
    "var_X = np.array(var_X)\n",
    "sum_var_X = np.sum(var_X)\n",
    "print(f\"Var(X) Variance of RV X is = {sum_var_X}\")\n",
    "sd_X = (sum_var_X)**0.5\n",
    "print(f\"SD(X) Standard Deviation of RV X is = {sd_X}\")\n",
    "\n",
    "# RV Y\n",
    "rv_Y = [i for i in range(0,13)]\n",
    "rv_PY = [0,0,0.028,0.056,0.084,0.112,0.14,0.168,0.14,0.112,0.084,0.056,0.028]\n",
    "rv_EY = 7.128\n",
    "var_Y = []\n",
    "for i,j in zip(rv_Y, rv_PY):\n",
    "    val = ((i - rv_EY)**2)*j\n",
    "    var_Y.append(val)\n",
    "var_Y = np.array(var_Y)\n",
    "sum_var_Y = np.sum(var_Y)\n",
    "print(f\"Var(Y) Variance of RV Y is = {sum_var_Y}\")\n",
    "sd_Y = (sum_var_Y)**0.5\n",
    "print(f\"SD(Y) Standard Deviation of RV Y is = {sd_Y}\")\n",
    "\n",
    "print('\\n')\n",
    "\n",
    "# 4\n",
    "print(\"Exercise D - Part 4\")\n",
    "print(f\"Let W be the number on the second die\")\n",
    "print(f\"It follows that E(XY) = E(X^2) + E(XW)\")\n",
    "print(f\"E(X^2) = {rv_EX**2}\")\n",
    "print(f\"E(XW) = E(X)E(W) = {rv_EX*2}\")\n",
    "print(f\"E(XY) = {(rv_EX**2)+(rv_EX*2)}\")\n",
    "rv_EXY = (rv_EX**2)+(rv_EX*2)\n",
    "print(f\"cov(X,Y) = E[XY] - E[X]E[Y] = {rv_EXY - (rv_EX*rv_EY)}\")\n",
    "covXY = rv_EXY - (rv_EX*rv_EY)\n",
    "print(\"Covariance of X and Y is negative, therefore large X tend to be associated with small Y (< μy ), and small X with large Y\")\n",
    "\n",
    "print('\\n')\n",
    "\n",
    "# 5\n",
    "print(\"Exercise D - Part 5\")\n",
    "print(\"corr(X,Y) = cov(X,Y)/(SD(X)*SD(Y))\")\n",
    "corrXY = covXY/(sd_X * sd_Y)\n",
    "print(f\"corr(X,Y) = {corrXY}\")\n",
    "# Out of -1 and 1 because cov(X,Y) calculated wrong - need to work on calculating covariance"
   ]
  },
  {
   "cell_type": "markdown",
   "metadata": {},
   "source": [
    "## Exercise E from (Ross, 2017, p. 248, q. 19)\n",
    "   \n",
    "Text repeated for convenience:\n",
    "\n",
    "> The probability that a fluorescent bulb burns for at least 500 hours is\n",
    "0.90. Of 8 such bulbs, find the probability that\n",
    ">\n",
    "> (a) All 8 burn for at least 500 hours.\n",
    ">\n",
    "> (b) Exactly 7 burn for at least 500 hours.\n",
    ">\n",
    "> (c) What is the expected value of the number of bulbs that burn for at\n",
    "least 500 hours?\n",
    ">\n",
    "> (d) What is the variance of the number of bulbs that burn for at least\n",
    "500 hours?"
   ]
  },
  {
   "cell_type": "markdown",
   "metadata": {},
   "source": [
    "(to complete as markdown)\n",
    "\n",
    "(a) \n",
    "<br>\n",
    "X -> B(n,p)\n",
    "<br>\n",
    "n = 8, p = 0.9\n",
    "<br>\n",
    "$P(X = 8)$ = ( 8  8 ) * $0.90^8$ * $(0.10)^0$\n",
    "<br>\n",
    "$P(X = 8)$ = 1 * $0.90^8$ * 1\n",
    "<br>\n",
    "$P(X = 8)$ = $0.90^8$"
   ]
  },
  {
   "cell_type": "code",
   "execution_count": 8,
   "metadata": {},
   "outputs": [
    {
     "name": "stdout",
     "output_type": "stream",
     "text": [
      "P(X = 8) = 0.4304672100000001\n"
     ]
    }
   ],
   "source": [
    "qe_a_px8 = (0.9**8)\n",
    "print(f\"P(X = 8) = {qe_a_px8}\")"
   ]
  },
  {
   "cell_type": "markdown",
   "metadata": {},
   "source": [
    "(b)\n",
    "<br>\n",
    "$P(X = 8)$ = ( 8  7 ) * $0.90^7$ * $(0.10)^1$\n",
    "<br>\n",
    "$P(X = 8)$ = 8 * $0.90^7$ * $(0.10)^1$"
   ]
  },
  {
   "cell_type": "code",
   "execution_count": 9,
   "metadata": {},
   "outputs": [
    {
     "name": "stdout",
     "output_type": "stream",
     "text": [
      "P(X = 8) = 0.38263752000000006\n"
     ]
    }
   ],
   "source": [
    "qe_b_px8 = 8*(0.9**7)*0.10\n",
    "print(f\"P(X = 8) = {qe_b_px8}\")"
   ]
  },
  {
   "cell_type": "markdown",
   "metadata": {},
   "source": [
    "(c)\n",
    "<br>\n",
    "$E(X) = n * p$\n",
    "<br>\n",
    "$E(X) = 8 * 0.9$"
   ]
  },
  {
   "cell_type": "code",
   "execution_count": 10,
   "metadata": {},
   "outputs": [
    {
     "name": "stdout",
     "output_type": "stream",
     "text": [
      "E(X) = 7.2\n"
     ]
    }
   ],
   "source": [
    "qe_c_ex = 8*0.9\n",
    "print(f\"E(X) = {qe_c_ex}\")"
   ]
  },
  {
   "cell_type": "markdown",
   "metadata": {},
   "source": [
    "(d)\n",
    "<br>\n",
    "$Var(X) = np(1-p)$\n",
    "<br>\n",
    "$Var(X) = 8*0.9(1-0.9)$"
   ]
  },
  {
   "cell_type": "code",
   "execution_count": 11,
   "metadata": {},
   "outputs": [
    {
     "name": "stdout",
     "output_type": "stream",
     "text": [
      "Var(X) = 0.7199999999999999\n"
     ]
    }
   ],
   "source": [
    "qe_d_varx = (8*0.9)*(1-0.9)\n",
    "print(f\"Var(X) = {qe_d_varx}\")"
   ]
  },
  {
   "cell_type": "markdown",
   "metadata": {},
   "source": [
    "## Scipy for probability distributions \n",
    "\n",
    "The `scipy.stats` module has a number of probability distributions and allows you to calculate various associated values with relative ease. See the example code below for the binomial. The documentation can be found [here](https://docs.scipy.org/doc/scipy/reference/generated/scipy.stats.binom.html)."
   ]
  },
  {
   "cell_type": "code",
   "execution_count": 12,
   "metadata": {},
   "outputs": [
    {
     "name": "stdout",
     "output_type": "stream",
     "text": [
      "Pr(X=8) = 0.08113003332934526\n",
      "Pr(X<=6) = 0.015242525769771012\n"
     ]
    },
    {
     "data": {
      "image/png": "[encoded data removed]",
      "text/plain": [
       "<Figure size 432x288 with 1 Axes>"
      ]
     },
     "metadata": {
      "needs_background": "light"
     },
     "output_type": "display_data"
    }
   ],
   "source": [
    "# consider a binomial RV X with n=15 and p=0.7\n",
    "# note that scipy.stats has been imported with short name stats\n",
    "# create the distribution\n",
    "n = 15\n",
    "p = 0.7\n",
    "rv = stats.binom(n, p)\n",
    "# this is called a frozen distribution and can be used to \n",
    "# calculate various values associated with it.\n",
    "\n",
    "# pmf is the probability mass function.\n",
    "# So to calculate the probability of, say, 8 successes use\n",
    "print(f\"Pr(X=8) = {rv.pmf(8)}\")\n",
    "\n",
    "# The pmf function takes a numpy array as input and will \n",
    "# return an array of probability masses.\n",
    "# Knowing we must have between 0 and 15 successes we can \n",
    "# plot the whole distribution very simply:\n",
    "xs = np.arange(16) # values 0 to 15 as a numpy array\n",
    "plt.figure()\n",
    "color = 'r'\n",
    "plt.vlines(xs, 0, rv.pmf(xs), color=color)\n",
    "plt.plot(xs, rv.pmf(xs), 'o', color=color)\n",
    "plt.xlabel('Number of successes')\n",
    "plt.ylabel('Probability')\n",
    "\n",
    "\n",
    "# cdf is the cumulative distribution function\n",
    "# so to calculate the probability of, say, 6 or fewer successes use\n",
    "print(f\"Pr(X<=6) = {rv.cdf(6)}\")\n",
    "\n",
    "# There are other useful functions too, such as the percent\n",
    "# point function, ppf, which is used for percentiles. You can\n",
    "# explore these in your own time.\n"
   ]
  },
  {
   "cell_type": "markdown",
   "metadata": {},
   "source": [
    "## Exercise F\n",
    "\n",
    "You are going to explore the `scipy.stats` functionality to calculate various values associated with the binomial and hypergeometric distribution. Look up the documentation for `scipy.stats.binom` and `scipy.stats.hypergeom`. \n",
    "\n",
    "A toy manufacturer produces a particular to from a manufacturing process with a probability of fault of $0.01$. Assuming the faults are independent, if the manufacturing process produces $500$ copies of the toy, with what probability will there be:\n",
    "\n",
    "1. Exactly 4 faults.\n",
    "2. Exactly 10 faults.\n",
    "3. 10 or fewer faults.\n",
    "\n",
    "*Hint: Is this a binomial or a hypergeometric distribution? What are the parameters*\n",
    "\n",
    "The toy manufacturer produces $500$ copies of the toy and there are $10$ faults. Assuming a retailer purchases $50$ units from the manufacturer, with what probability will the retailer have:\n",
    "\n",
    "4. No faulty units.\n",
    "5. 1 faulty unit\n",
    "6. 3 or more faulty units.\n",
    "\n",
    "*Hint: Is this a binomial or a hypergeometric distribution? What are the parameters*\n"
   ]
  },
  {
   "cell_type": "code",
   "execution_count": 13,
   "metadata": {},
   "outputs": [
    {
     "name": "stdout",
     "output_type": "stream",
     "text": [
      "QUESTION F - Part 1\n",
      "P(X = 4) = 0.17599549861154118\n"
     ]
    }
   ],
   "source": [
    "## to complete\n",
    "\n",
    "#1\n",
    "print(\"QUESTION F - Part 1\")\n",
    "n = 500\n",
    "p = 0.01\n",
    "rv = stats.binom(n, p)\n",
    "print(f\"P(X = 4) = {rv.pmf(4)}\")"
   ]
  },
  {
   "cell_type": "code",
   "execution_count": 14,
   "metadata": {},
   "outputs": [
    {
     "name": "stdout",
     "output_type": "stream",
     "text": [
      "QUESTION F - Part 2\n",
      "P(X = 10) = 0.017858539548711225\n"
     ]
    }
   ],
   "source": [
    "#2\n",
    "print(\"QUESTION F - Part 2\")\n",
    "n = 500\n",
    "p = 0.01\n",
    "rv = stats.binom(n, p)\n",
    "print(f\"P(X = 10) = {rv.pmf(10)}\")"
   ]
  },
  {
   "cell_type": "code",
   "execution_count": 15,
   "metadata": {},
   "outputs": [
    {
     "name": "stdout",
     "output_type": "stream",
     "text": [
      "QUESTION F - Part 3\n",
      "P(X <= 10) = 0.9867564329002179\n"
     ]
    }
   ],
   "source": [
    "#3\n",
    "print(\"QUESTION F - Part 3\")\n",
    "n = 500\n",
    "p = 0.01\n",
    "rv = stats.binom(n, p)\n",
    "print(f\"P(X <= 10) = {rv.cdf(10)}\")"
   ]
  },
  {
   "cell_type": "code",
   "execution_count": 16,
   "metadata": {},
   "outputs": [
    {
     "name": "stdout",
     "output_type": "stream",
     "text": [
      "QUESTION F - Part 4\n",
      "P(No faulty units) = 0.345162174846034\n"
     ]
    }
   ],
   "source": [
    "#4\n",
    "print(\"QUESTION F - Part 4\")\n",
    "\n",
    "[M, n, N] = [500, 10, 50]\n",
    "rv = stats.hypergeom.pmf(0, M, n, N)\n",
    "print(f\"P(No faulty units) = {rv}\")"
   ]
  },
  {
   "cell_type": "code",
   "execution_count": 17,
   "metadata": {},
   "outputs": [
    {
     "name": "stdout",
     "output_type": "stream",
     "text": [
      "QUESTION F - Part 5\n",
      "P(1 faulty units) = 0.3913403342926385\n"
     ]
    }
   ],
   "source": [
    "#5\n",
    "print(\"QUESTION F - Part 5\")\n",
    "\n",
    "[M, n, N] = [500, 10, 50]\n",
    "rv = stats.hypergeom.pmf(1, M, n, N)\n",
    "print(f\"P(1 faulty units) = {rv}\")"
   ]
  },
  {
   "cell_type": "code",
   "execution_count": 18,
   "metadata": {},
   "outputs": [
    {
     "name": "stdout",
     "output_type": "stream",
     "text": [
      "QUESTION F - Part 5\n",
      "P(1 faulty units) = 0.01186117502185513\n"
     ]
    }
   ],
   "source": [
    "#6\n",
    "print(\"QUESTION F - Part 5\")\n",
    "\n",
    "[M, n, N] = [500, 10, 50]\n",
    "rv = stats.hypergeom.cdf(3, M, n, N)\n",
    "print(f\"P(1 faulty units) = {1 - rv}\")"
   ]
  },
  {
   "cell_type": "code",
   "execution_count": 19,
   "metadata": {},
   "outputs": [],
   "source": [
    "##############################################################\n",
    "\n",
    "# FOLLOWING BLOCKS FOR QUIZ 4\n",
    "\n",
    "##############################################################"
   ]
  },
  {
   "cell_type": "code",
   "execution_count": 20,
   "metadata": {},
   "outputs": [
    {
     "name": "stdout",
     "output_type": "stream",
     "text": [
      "P(X = 0) = 0.2024036209368622\n"
     ]
    }
   ],
   "source": [
    "# Quiz 4 - Question 6\n",
    "\"\"\"A car manufacturer receives large shipments of a particular car part. \n",
    "They randomly choose 12 units from the shipment of parts for testing. \n",
    "If 2 or more of this sample are faulty, then they get a discount on the shipment; otherwise they must pay full price. \n",
    "Suppose that a shipment of 150 units has 18 defective. \n",
    "(Give your answers to 4 decimal places):\"\"\"\n",
    "\n",
    "# First part \n",
    "[M, n, N] = [150, 18, 12]\n",
    "rv = stats.hypergeom.pmf(0, M, n, N)\n",
    "print(f\"P(X = 0) = {rv}\")"
   ]
  },
  {
   "cell_type": "code",
   "execution_count": 21,
   "metadata": {},
   "outputs": [
    {
     "name": "stdout",
     "output_type": "stream",
     "text": [
      "P(X = 1) = 0.36131555473026455\n"
     ]
    }
   ],
   "source": [
    "# Second part \n",
    "[M, n, N] = [150, 18, 12]\n",
    "rv = stats.hypergeom.pmf(1, M, n, N)\n",
    "print(f\"P(X = 1) = {rv}\")"
   ]
  },
  {
   "cell_type": "code",
   "execution_count": 22,
   "metadata": {},
   "outputs": [
    {
     "name": "stdout",
     "output_type": "stream",
     "text": [
      "P(X >= 2) = 0.15937095246992317\n"
     ]
    }
   ],
   "source": [
    "# Third part \n",
    "[M, n, N] = [150, 18, 12]\n",
    "rv = stats.hypergeom.cdf(2, M, n, N)\n",
    "print(f\"P(X >= 2) = {1 - rv}\")"
   ]
  },
  {
   "cell_type": "code",
   "execution_count": 23,
   "metadata": {},
   "outputs": [
    {
     "name": "stdout",
     "output_type": "stream",
     "text": [
      "Event S is Mirabel getting an A in statistics\n",
      "Event P is Mirabel getting an A in physics\n",
      "P(S) = 0.30\n",
      "P(P) = 0.50\n",
      "P(S U P) = 0.65\n"
     ]
    }
   ],
   "source": [
    "# Quiz 4 - Question 3\n",
    "\"\"\"Mirabel has a 30 percent chance of receiving an A grade in statistics, a 50 percent \n",
    "chance of receiving an A in physics, and an 65 percent chance of receiving an A in either \n",
    "statistics or physics (or both).\n",
    "\"\"\"\n",
    "print(\"Event S is Mirabel getting an A in statistics\")\n",
    "print(\"Event P is Mirabel getting an A in physics\")\n",
    "print(\"P(S) = 0.30\")\n",
    "print(\"P(P) = 0.50\")\n",
    "print(\"P(S U P) = 0.65\")\n"
   ]
  },
  {
   "cell_type": "code",
   "execution_count": 27,
   "metadata": {},
   "outputs": [
    {
     "name": "stdout",
     "output_type": "stream",
     "text": [
      "P(AUB)' = 1 - P(AUB)\n",
      "P(AUB)' = 1 - 0.65\n",
      "P(AUB)' = 0.35\n"
     ]
    }
   ],
   "source": [
    "# Part 1 - Does not receive an A in either statistics or physics? \n",
    "print(\"P(AUB)' = 1 - P(AUB)\")\n",
    "print(\"P(AUB)' = 1 - 0.65\")\n",
    "print(f\"P(AUB)' = {1 - 0.65}\")"
   ]
  },
  {
   "cell_type": "code",
   "execution_count": 26,
   "metadata": {},
   "outputs": [
    {
     "name": "stdout",
     "output_type": "stream",
     "text": [
      "P(A U B) = P(A) + P(B) - P(A n B)\n",
      "P(A n B) = P(A) + P(B) - P(A U B)\n",
      "P(A n B) = 0.30 + 0.50 - 0.65\n",
      "P(A n B) = 0.80 - 0.65\n",
      "P(A n B) = 0.15\n"
     ]
    }
   ],
   "source": [
    "# Part 2 - Receives As in both statistics and physics?\n",
    "print(\"P(A U B) = P(A) + P(B) - P(A n B)\")\n",
    "# Rearrange\n",
    "print(\"P(A n B) = P(A) + P(B) - P(A U B)\")\n",
    "# Substitute value\n",
    "print(\"P(A n B) = 0.30 + 0.50 - 0.65\")\n",
    "print(\"P(A n B) = 0.80 - 0.65\")\n",
    "print(f\"P(A n B) = {round(0.80 - 0.65,2)}\")"
   ]
  },
  {
   "cell_type": "code",
   "execution_count": 28,
   "metadata": {},
   "outputs": [
    {
     "data": {
      "text/plain": [
       "'15 girls and 25 boys are randomly lined up \\n(give your answers to the following as a decimal \\nto at most 3 decimal places):\\n'"
      ]
     },
     "execution_count": 28,
     "metadata": {},
     "output_type": "execute_result"
    }
   ],
   "source": [
    "# Quiz 4 - Question 4\n",
    "\"\"\"15 girls and 25 boys are randomly lined up \n",
    "(give your answers to the following as a decimal \n",
    "to at most 3 decimal places):\n",
    "\"\"\""
   ]
  },
  {
   "cell_type": "code",
   "execution_count": 31,
   "metadata": {},
   "outputs": [
    {
     "name": "stdout",
     "output_type": "stream",
     "text": [
      "The 2nd position can be occupied by any of the 15 children\n",
      "There are 25 possible boys\n",
      "P(2nd is a boy) = number of boys/total number\n",
      "P(2nd is a boy) = 25/40\n",
      "P(2nd is a boy) = 0.625\n"
     ]
    }
   ],
   "source": [
    "# Part 1 \n",
    "\"\"\"What is the probability that the person in the second position is a boy?\"\"\"\n",
    "print(\"The 2nd position can be occupied by any of the 15 children\")\n",
    "print(\"There are 25 possible boys\")\n",
    "print(\"P(2nd is a boy) = number of boys/total number\")\n",
    "print(\"P(2nd is a boy) = 25/40\")\n",
    "print(f\"P(2nd is a boy) = {25/40}\")"
   ]
  },
  {
   "cell_type": "code",
   "execution_count": 36,
   "metadata": {},
   "outputs": [
    {
     "name": "stdout",
     "output_type": "stream",
     "text": [
      "The 2nd position can be occupied by any of the 40 children.\n",
      "There is 1 way for it to be occupied by Alfred.\n",
      "P(Alfred in second position) = 1/40\n",
      "P(Alfred in second position) = 0.025\n"
     ]
    }
   ],
   "source": [
    "# Part 2\n",
    "\"\"\"What is the probability that Alfred (one of the boys) is in the second position?\"\"\"\n",
    "print(\"The 2nd position can be occupied by any of the 40 children.\")\n",
    "print(\"There is 1 way for it to be occupied by Alfred.\")\n",
    "print(\"P(Alfred in second position) = 1/40\")\n",
    "print(f\"P(Alfred in second position) = {1/40}\")"
   ]
  },
  {
   "cell_type": "code",
   "execution_count": null,
   "metadata": {},
   "outputs": [],
   "source": [
    "# Quiz 4 - Question 5\n",
    "\n",
    "\"\"\"Many psychologists believe that birth order and personality are related. \n",
    "To study this hypothesis, 400 elementary school children were randomly selected \n",
    "and then given a test to measure confidence. \n",
    "On the results of this test each of the students was classified as being \n",
    "either confident or not confident. The numbers falling into each of the possible categories are: (Numbers on quiz in table)\"\"\""
   ]
  },
  {
   "cell_type": "code",
   "execution_count": 37,
   "metadata": {},
   "outputs": [
    {
     "name": "stdout",
     "output_type": "stream",
     "text": [
      "P(child first born) = 62+105/400\n",
      "P(child first born) = 167/400\n",
      "P(child first born) = 0.4175\n"
     ]
    }
   ],
   "source": [
    "# Part 1 - What is the probability that the child is a firstborn?\n",
    "print(\"P(child first born) = 62+105/400\")\n",
    "print(\"P(child first born) = 167/400\")\n",
    "print(f\"P(child first born) = {167/400}\")"
   ]
  },
  {
   "cell_type": "code",
   "execution_count": 38,
   "metadata": {},
   "outputs": [
    {
     "name": "stdout",
     "output_type": "stream",
     "text": [
      "P(child rated confident) = 62+60/400\n",
      "P(child rated confident) = 122/400\n",
      "P(child rated confident) = 0.305\n"
     ]
    }
   ],
   "source": [
    "# Part 2 - What is the probability that the child is rated confident?\n",
    "print(\"P(child rated confident) = 62+60/400\")\n",
    "print(\"P(child rated confident) = 122/400\")\n",
    "print(f\"P(child rated confident) = {122/400}\")"
   ]
  },
  {
   "cell_type": "code",
   "execution_count": 40,
   "metadata": {},
   "outputs": [
    {
     "name": "stdout",
     "output_type": "stream",
     "text": [
      "P(C | FB) = P(C n FB)/P(FB)\n",
      "P(C | FB) = (62/400)/(167/400)\n",
      "P(C | FB) = 0.3713\n"
     ]
    }
   ],
   "source": [
    "# Part 3 - What is the conditional probability that the child is rated confident given that they are firstborn? \n",
    "# Event child confident = C\n",
    "# Event child first born = FB\n",
    "print(\"P(C | FB) = P(C n FB)/P(FB)\")\n",
    "print(\"P(C | FB) = (62/400)/(167/400)\")\n",
    "print(f\"P(C | FB) = {round((62/400)/(167/400),4)}\")"
   ]
  },
  {
   "cell_type": "code",
   "execution_count": 42,
   "metadata": {},
   "outputs": [
    {
     "name": "stdout",
     "output_type": "stream",
     "text": [
      "P(C | NFB) = P(C n NFB)/P(NFB)\n",
      "P(C | NFB) = (60/400)/(233/400)\n",
      "P(C | NFB) = 0.2575\n"
     ]
    }
   ],
   "source": [
    "# Part 4 - What is the conditional probability that the child is rated confident given that they are not firstborn?\n",
    "# Event child confident = C\n",
    "# Event not first born = NBF\n",
    "print(\"P(C | NFB) = P(C n NFB)/P(NFB)\")\n",
    "print(\"P(C | NFB) = (60/400)/(233/400)\")\n",
    "print(f\"P(C | NFB) = {round((60/400)/(233/400),4)}\")"
   ]
  },
  {
   "cell_type": "code",
   "execution_count": 43,
   "metadata": {},
   "outputs": [
    {
     "name": "stdout",
     "output_type": "stream",
     "text": [
      "P(FB | C) = P(FB n C)/P(C)\n",
      "P(FB | C) = (62/400)/(122/400)\n",
      "P(FB | C) = 0.5081967213114754\n",
      "P(FB | C) = 0.5082\n"
     ]
    }
   ],
   "source": [
    "# Part 5 - What is the conditional probability that the child is a firstborn given that they are rated confident?\n",
    "# Event first born = FB\n",
    "# Event confident = C\n",
    "print(\"P(FB | C) = P(FB n C)/P(C)\")\n",
    "print(\"P(FB | C) = (62/400)/(122/400)\")\n",
    "print(f\"P(FB | C) = {(62/400)/(122/400)}\")\n",
    "print(f\"P(FB | C) = {round((62/400)/(122/400),4)}\")"
   ]
  }
 ],
 "metadata": {
  "kernelspec": {
   "display_name": "Python 3",
   "language": "python",
   "name": "python3"
  },
  "language_info": {
   "codemirror_mode": {
    "name": "ipython",
    "version": 3
   },
   "file_extension": ".py",
   "mimetype": "text/x-python",
   "name": "python",
   "nbconvert_exporter": "python",
   "pygments_lexer": "ipython3",
   "version": "3.7.3"
  }
 },
 "nbformat": 4,
 "nbformat_minor": 4
}
