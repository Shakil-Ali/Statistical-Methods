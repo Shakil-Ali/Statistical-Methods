{
 "cells": [
  {
   "cell_type": "markdown",
   "metadata": {},
   "source": [
    "# Week 2 - Describing Data-Sets\n",
    "\n",
    "This is a short Jupyter notebook to explore the material in (Ross, 2017, Chp. 2) with the use of Python. \n",
    "\n"
   ]
  },
  {
   "cell_type": "code",
   "execution_count": 1,
   "metadata": {},
   "outputs": [],
   "source": [
    "%matplotlib inline\n",
    "# from now on we'll start each notebook with the library imports\n",
    "# and special commands to keep these things in one place (which\n",
    "# is good practice). The line above is jupyter command to get \n",
    "# matplotlib to plot inline (between cells)\n",
    "# Next we import the libraries and give them short names\n",
    "import numpy as np\n",
    "import matplotlib.pyplot as plt"
   ]
  },
  {
   "cell_type": "markdown",
   "metadata": {},
   "source": [
    "## List comprehensions\n",
    "\n",
    "List comprehensions are a handy way to transform lists (or generators) into other lists or generators. Let's see some quick examples based on (Grus, 2019, Chp. 2).\n"
   ]
  },
  {
   "cell_type": "code",
   "execution_count": 2,
   "metadata": {},
   "outputs": [
    {
     "name": "stdout",
     "output_type": "stream",
     "text": [
      "first even_numbers = [0, 2, 4, 6, 8]\n",
      "second even_numbers = [0, 2, 4, 6, 8]\n",
      "\n",
      "squares = [0, 1, 4, 9, 16]\n",
      "\n",
      "even_squares = [0, 4, 16, 36, 64]\n",
      "\n",
      "pairs = [(0, 0), (0, 1), (0, 2), (0, 3), (0, 4), (1, 0), (1, 1), (1, 2), (1, 3), (1, 4), (2, 0), (2, 1), (2, 2), (2, 3), (2, 4), (3, 0), (3, 1), (3, 2), (3, 3), (3, 4), (4, 0), (4, 1), (4, 2), (4, 3), (4, 4)]\n",
      "\n",
      "increasing_pairs = [(0, 1), (0, 2), (0, 3), (0, 4), (1, 2), (1, 3), (1, 4), (2, 3), (2, 4), (3, 4)]\n",
      "\n"
     ]
    }
   ],
   "source": [
    "# We can transform from the range generator into even numbers\n",
    "# this first way uses a calculation to double all elements of\n",
    "# the feeding collection\n",
    "even_numbers = [2*x for x in range(5)] \n",
    "print(f\"first even_numbers = {even_numbers}\")\n",
    "# this uses an if statement to filter elements \n",
    "# using the modulo operator (%) \n",
    "even_numbers = [x for x in range(10) if x % 2 == 0] \n",
    "print(f\"second even_numbers = {even_numbers}\\n\")\n",
    "\n",
    "# we can create square numbers similarly\n",
    "# x**2 == x*x\n",
    "squares = [x**2 for x in range(5)]\n",
    "print(f\"squares = {squares}\\n\")\n",
    "\n",
    "# we can reuse old lists to create more\n",
    "even_squares = [x**2 for x in even_numbers]\n",
    "print(f\"even_squares = {even_squares}\\n\")\n",
    "\n",
    "# With multiple fors you get all pairs of values\n",
    "pairs = [(x,y) for x in range(5) for y in range(5)]\n",
    "print(f\"pairs = {pairs}\\n\")\n",
    "\n",
    "# With multiple fors you can reuse variables within\n",
    "# the inner for expression, e.g.\n",
    "increasing_pairs = [(x,y) for x in range(5) for y in range(x+1,5)]\n",
    "print(f\"increasing_pairs = {increasing_pairs}\\n\")"
   ]
  },
  {
   "cell_type": "markdown",
   "metadata": {},
   "source": [
    "## Exercise A\n",
    "\n",
    "Now experiment with your own list comprehensions.\n",
    "\n",
    "Try to create:\n",
    "\n",
    "1. A list of odd numbers, minimum 1 maximum 9, using a calculation (no if)\n",
    "1. A list of odd numbers, minimum 3, maximum 7, using an if and a filter\n",
    "1. Reuse your odd numbers list to create a list of negative cubes from your odd numbers\n",
    "1. Reuse the even numbers from before and odd numbers here to create a list of all pairs (e,o) where e is even and o is odd.\n",
    "1. In any way you choose, create a list of pairs (x,y) for all values 0 <= x <= 10, 0 <= y <= 10 such that if x is even y is odd, and if x is odd y is even."
   ]
  },
  {
   "cell_type": "code",
   "execution_count": 3,
   "metadata": {},
   "outputs": [
    {
     "name": "stdout",
     "output_type": "stream",
     "text": [
      "odd_numbers = [1, 3, 5, 7, 9]\n",
      "odd_numbers2 = [3, 5, 7]\n",
      "\n",
      "negative_cubes = [-1, -27, -125, -343, -729]\n",
      "\n",
      "even_odd_pairs = [(0, 1), (0, 3), (0, 5), (0, 7), (0, 9), (2, 1), (2, 3), (2, 5), (2, 7), (2, 9), (4, 1), (4, 3), (4, 5), (4, 7), (4, 9), (6, 1), (6, 3), (6, 5), (6, 7), (6, 9), (8, 1), (8, 3), (8, 5), (8, 7), (8, 9)]\n",
      "\n",
      "diagonal_gridpoints = [(0, 1), (0, 3), (0, 5), (0, 7), (0, 9), (1, 0), (1, 2), (1, 4), (1, 6), (1, 8), (1, 10), (2, 1), (2, 3), (2, 5), (2, 7), (2, 9), (3, 0), (3, 2), (3, 4), (3, 6), (3, 8), (3, 10), (4, 1), (4, 3), (4, 5), (4, 7), (4, 9), (5, 0), (5, 2), (5, 4), (5, 6), (5, 8), (5, 10), (6, 1), (6, 3), (6, 5), (6, 7), (6, 9), (7, 0), (7, 2), (7, 4), (7, 6), (7, 8), (7, 10), (8, 1), (8, 3), (8, 5), (8, 7), (8, 9), (9, 0), (9, 2), (9, 4), (9, 6), (9, 8), (9, 10), (10, 1), (10, 3), (10, 5), (10, 7), (10, 9)]\n",
      "\n"
     ]
    }
   ],
   "source": [
    "# to complete\n",
    "# Here are my answers, but you may have used a slightly different method.\n",
    "# That is fine, so long as your lists are as required.\n",
    "odd_numbers = [2*n +1 for n in range(5)]\n",
    "odd_numbers2 = [n for n in range(3,8) if n % 2 == 1]\n",
    "\n",
    "print(f\"odd_numbers = {odd_numbers}\")\n",
    "print(f\"odd_numbers2 = {odd_numbers2}\\n\")\n",
    "\n",
    "negative_cubes = [-n**3 for n in odd_numbers]\n",
    "print(f\"negative_cubes = {negative_cubes}\\n\")\n",
    "\n",
    "even_odd_pairs = [(e,o) for e in even_numbers for o in odd_numbers]\n",
    "print(f\"even_odd_pairs = {even_odd_pairs}\\n\")\n",
    "\n",
    "diagonal_gridpoints = [(x,y) for x in range(11) for y in range(11) \n",
    "                       if (x+y) % 2 == 1]\n",
    "print(f\"diagonal_gridpoints = {diagonal_gridpoints}\\n\")\n",
    "\n"
   ]
  },
  {
   "cell_type": "markdown",
   "metadata": {},
   "source": [
    "## Frequency Tables\n",
    "Here we'll explore a few ways of creating frequency tables with Python. First, we need some data, and here we'll use the sick day data from (Ross, 2017, p. 18). Let's create the data first, then look at a simple method to count frequencies using native Python (no fancy libraries)."
   ]
  },
  {
   "cell_type": "code",
   "execution_count": 4,
   "metadata": {},
   "outputs": [
    {
     "name": "stdout",
     "output_type": "stream",
     "text": [
      "possible values are: [0, 1, 2, 3, 4, 5, 6, 7, 8, 9]\n",
      "The associated counts are: [12, 8, 5, 4, 5, 8, 0, 5, 2, 1]\n"
     ]
    }
   ],
   "source": [
    "#\n",
    "data = [2, 2, 0, 0, 5, 8, 3, 4, 1, 0, 0, 7, 1, 7, 1, 5, 4, 0, 4, 0, 1, 8, 9, 7, 0,\n",
    "        1, 7, 2, 5, 5, 4, 3, 3, 0, 0, 2, 5, 1, 3, 0, 1, 0, 2, 4, 5, 0, 5, 7, 5, 1]\n",
    "\n",
    "# knowing the data contains only small integers we decide we want a \n",
    "# function that given an integer counts the frequency of that in the list.\n",
    "min_val = min(data)\n",
    "max_val = max(data)\n",
    "# we want all integers from min to max, so pass max_val+1 for upper bound\n",
    "# range is a generator, so we must convert this to a list\n",
    "values = list(range(min_val, max_val+1))\n",
    "# print possible values\n",
    "print(f\"possible values are: {values}\")\n",
    "# now we'll collect the counts\n",
    "counts = []\n",
    "for val in values:\n",
    "    counts.append(data.count(val))\n",
    "print(f\"The associated counts are: {counts}\")"
   ]
  },
  {
   "cell_type": "markdown",
   "metadata": {},
   "source": [
    "## Exercise B\n",
    "The frequency counting of data is useful functionality. Create a function <code>get_int_values_and_counts</code> that takes a list of ints and return the values and counts. Use a list comprehension to achieve this.\n",
    "\n",
    "Add another function <code>print_counts_table</code> to print the table in an clear manner."
   ]
  },
  {
   "cell_type": "code",
   "execution_count": 5,
   "metadata": {},
   "outputs": [
    {
     "name": "stdout",
     "output_type": "stream",
     "text": [
      "\n",
      "Nicely in a table this is:\n",
      "-----------------\n",
      "| value\t| count\t|\n",
      "-----------------\n",
      "| 0\t| 12\t|\n",
      "| 1\t| 8\t|\n",
      "| 2\t| 5\t|\n",
      "| 3\t| 4\t|\n",
      "| 4\t| 5\t|\n",
      "| 5\t| 8\t|\n",
      "| 6\t| 0\t|\n",
      "| 7\t| 5\t|\n",
      "| 8\t| 2\t|\n",
      "| 9\t| 1\t|\n",
      "-----------------\n"
     ]
    }
   ],
   "source": [
    "# to complete\n",
    "# ideally we want to do this for any similar list of counts so we create\n",
    "# a function. This includes a document string to tell us what the function does.\n",
    "def get_int_values_and_counts(data):\n",
    "    \"\"\"Returns list of sequential integer values and their counts from data.\n",
    "    \n",
    "    Parameters:\n",
    "    -----------\n",
    "    data : list of ints/iterable of ints\n",
    "        \n",
    "    Returns:\n",
    "    --------\n",
    "    values : list\n",
    "        sequential list of integer from min to max values\n",
    "    counts : list\n",
    "        associated list of counts for each integer input\n",
    "    \"\"\"\n",
    "    # get min and max value\n",
    "    min_val = min(data)\n",
    "    max_val = max(data)\n",
    "    # we want all integers from min to max, so pass max_val+1 for upper bound\n",
    "    # range is a generator, so we must convert this to a list\n",
    "    values = list(range(min_val, max_val+1))\n",
    "    # now we'll collect the counts\n",
    "    counts = []\n",
    "    for val in values:\n",
    "        counts.append(data.count(val))\n",
    "    return values, counts\n",
    "\n",
    "# let's also create a function so we can output this nicely\n",
    "def print_counts_table(values, counts):\n",
    "    \"\"\"Prints to screen a text based table of a set of values and their\n",
    "    associated counts.\n",
    "    \n",
    "    Parameters:\n",
    "    -----------\n",
    "    values : list\n",
    "        sequential list of integer from min to max values\n",
    "    counts : list\n",
    "        associated list of counts for each integer input\n",
    "    \"\"\"\n",
    "    header_row = \"| value\\t| count\\t|\"\n",
    "    value_row = \"| %d\\t| %d\\t|\"\n",
    "    # calculate the length of header row\n",
    "    row_width = len(header_row.expandtabs())\n",
    "    # now we can create a line to separate rows where appropriate\n",
    "    hline = \"-\"*row_width\n",
    "    # now print it\n",
    "    print(hline)\n",
    "    print(header_row)\n",
    "    print(hline)\n",
    "    for val, count in zip(values, counts):\n",
    "        print(value_row % (val, count))\n",
    "    print(hline)\n",
    "\n",
    "print(\"\\nNicely in a table this is:\")\n",
    "values, counts = get_int_values_and_counts(data)\n",
    "print_counts_table(values, counts)"
   ]
  },
  {
   "cell_type": "markdown",
   "metadata": {},
   "source": [
    "## Line Graphs, Bar Graphs and Frequency Polygons\n",
    "\n",
    "Here we'll plot first a bar graph using the frequency data to show the simplicity of matplotlib. There are a number of ways to customise plots like these (see the [documentation for <code>matplotlib.pyplot.bar</code>](https://matplotlib.org/3.1.1/api/_as_gen/matplotlib.pyplot.bar.html)). However, we'll just stick to the basics for now."
   ]
  },
  {
   "cell_type": "code",
   "execution_count": 6,
   "metadata": {},
   "outputs": [
    {
     "data": {
      "text/plain": [
       "Text(0, 0.5, 'Frequency')"
      ]
     },
     "execution_count": 6,
     "metadata": {},
     "output_type": "execute_result"
    },
    {
     "data": {
      "image/png": "[encoded data removed]",
      "text/plain": [
       "<Figure size 432x288 with 1 Axes>"
      ]
     },
     "metadata": {
      "needs_background": "light"
     },
     "output_type": "display_data"
    }
   ],
   "source": [
    "# to get into the habit, we'll always call plt.figure before\n",
    "# we plot each graph (if you are just plotting one graph this\n",
    "# isn't necessary)\n",
    "plt.figure()\n",
    "# now plot with bars\n",
    "plt.bar(values, counts)\n",
    "\n",
    "# don't forget to add axis labels\n",
    "plt.xlabel(\"Days of sick leave taken\")\n",
    "plt.ylabel(\"Frequency\")\n",
    "\n",
    "\n"
   ]
  },
  {
   "cell_type": "markdown",
   "metadata": {},
   "source": [
    "Frequency polygons are straightforward too, and use the <code>matplotlib.pyplot.plot</code> command instead (see the [documentation](https://matplotlib.org/3.1.1/api/_as_gen/matplotlib.pyplot.plot.html).\n"
   ]
  },
  {
   "cell_type": "code",
   "execution_count": 7,
   "metadata": {},
   "outputs": [
    {
     "data": {
      "text/plain": [
       "Text(0, 0.5, 'Frequency')"
      ]
     },
     "execution_count": 7,
     "metadata": {},
     "output_type": "execute_result"
    },
    {
     "data": {
      "image/png": "[encoded data removed]",
      "text/plain": [
       "<Figure size 432x288 with 1 Axes>"
      ]
     },
     "metadata": {
      "needs_background": "light"
     },
     "output_type": "display_data"
    }
   ],
   "source": [
    "# No need to import library again\n",
    "plt.figure()\n",
    "# 'o-' argument sets circular markers and unbroken line\n",
    "# keyword arguments ms (marker size), and lw (line width)\n",
    "# are used to make the plot display clearly\n",
    "plt.plot(values, counts,'o-', ms=8, lw=1)\n",
    "\n",
    "# don't forget to add axis labels\n",
    "plt.xlabel(\"Days of sick leave taken\")\n",
    "plt.ylabel(\"Frequency\")\n",
    "\n"
   ]
  },
  {
   "cell_type": "markdown",
   "metadata": {},
   "source": [
    "There is no simple function to get the line graphs described in (Ross, 2017, Chp. 2). In the matplotlib documentation, and many other places, line graphs, or line plots, describe the sort of plot in the above cell (called Frequency Polygons by Ross). We can reconstruct the desired look of these plots though in one of two ways. Either with thin bars with a dot at the top, or with separate vertical lines with a dot at the top. "
   ]
  },
  {
   "cell_type": "code",
   "execution_count": 8,
   "metadata": {},
   "outputs": [
    {
     "name": "stdout",
     "output_type": "stream",
     "text": [
      "Xs =\n",
      "[[0 1 2 3 4 5 6 7 8 9]\n",
      " [0 1 2 3 4 5 6 7 8 9]]\n",
      "Ys =\n",
      "[[ 0.  0.  0.  0.  0.  0.  0.  0.  0.  0.]\n",
      " [12.  8.  5.  4.  5.  8.  0.  5.  2.  1.]]\n"
     ]
    },
    {
     "data": {
      "text/plain": [
       "Text(0.5, 1.0, 'Line Graph with vertical lines')"
      ]
     },
     "execution_count": 8,
     "metadata": {},
     "output_type": "execute_result"
    },
    {
     "data": {
      "image/png": "[encoded data removed]",
      "text/plain": [
       "<Figure size 432x288 with 1 Axes>"
      ]
     },
     "metadata": {
      "needs_background": "light"
     },
     "output_type": "display_data"
    },
    {
     "data": {
      "image/png": "[encoded data removed]",
      "text/plain": [
       "<Figure size 432x288 with 1 Axes>"
      ]
     },
     "metadata": {
      "needs_background": "light"
     },
     "output_type": "display_data"
    }
   ],
   "source": [
    "# we'll need numpy as well for our second plot\n",
    "import numpy as np\n",
    "\n",
    "## The first plot\n",
    "# Recreating Ross' Line Graphs with thin bars.\n",
    "plt.figure()\n",
    "# plot some thin bars\n",
    "plt.bar(values, counts, width=0.1, edgecolor=\"none\")\n",
    "# now plot markers (without connecting lines between)\n",
    "p = plt.plot(values, counts,'o', ms=8)\n",
    "plt.title(\"Line Graph with thin bars\")\n",
    "# set the x-ticks so all integers show\n",
    "plt.xticks(range(10))\n",
    "\n",
    "## The second plot\n",
    "# let's get the color of the last plot\n",
    "color = p[0].get_color()\n",
    "K = len(values)\n",
    "# create two 2xK matplotlib arrays\n",
    "# Xs, each column is the two x positions of a line\n",
    "# Ys, each column is the two y-positions of a line\n",
    "Xs = np.tile(values,(2,1))\n",
    "Ys = np.zeros((2,K))\n",
    "Ys[1,:] = counts\n",
    "print(f\"Xs =\\n{Xs}\")\n",
    "print(f\"Ys =\\n{Ys}\")\n",
    "plt.figure()\n",
    "# Now plot the vertical lines (all the same color)\n",
    "plt.plot(Xs, Ys, '-', color=color)\n",
    "# And plot the dots at the top (without connecting lines\n",
    "# again the same color)\n",
    "plt.plot(values, counts, 'o', color=color)\n",
    "# for some reason the y-limits are now not quite right,\n",
    "# so we adjust\n",
    "plt.ylim(0, None)\n",
    "# title the plot\n",
    "plt.title(\"Line Graph with vertical lines\")\n"
   ]
  },
  {
   "cell_type": "markdown",
   "metadata": {},
   "source": [
    "The second plot looks nicer I think, but it was a bit of a fiddle to create it. We did however learn a little bit about creating and writing to numpy arrays, and how to plot multiple lines at the same time with <code>matplotlib.pyplot.plot</code>. The real lesson here though is that a) there might not always a simple way to plot something the way you would like to b) there is sufficient functionality within <code>matplotlib</code> that you can reconstruct things relatively straightforwardly if you have the determination."
   ]
  },
  {
   "cell_type": "markdown",
   "metadata": {},
   "source": [
    "## Relative Frequencies\n",
    "\n",
    "Relative frequencies might otherwise be called proportions and are calculated by dividing each frequency by the total number of observations. These operations are very straightforward in python. Let's see again on the Sick Day data.\n"
   ]
  },
  {
   "cell_type": "code",
   "execution_count": 9,
   "metadata": {},
   "outputs": [
    {
     "name": "stdout",
     "output_type": "stream",
     "text": [
      "counts = [12, 8, 5, 4, 5, 8, 0, 5, 2, 1]\n",
      "After converting to numpy array:\n",
      "counts = [12  8  5  4  5  8  0  5  2  1]\n",
      "Calculate the number of observations:\n",
      "num_obs = 50\n",
      "And then calculate relative frequencies:\n",
      "relative_freqs = [0.24 0.16 0.1  0.08 0.1  0.16 0.   0.1  0.04 0.02]\n"
     ]
    },
    {
     "data": {
      "text/plain": [
       "Text(0, 0.5, 'Relative frequency')"
      ]
     },
     "execution_count": 9,
     "metadata": {},
     "output_type": "execute_result"
    },
    {
     "data": {
      "image/png": "[encoded data removed]",
      "text/plain": [
       "<Figure size 432x288 with 1 Axes>"
      ]
     },
     "metadata": {
      "needs_background": "light"
     },
     "output_type": "display_data"
    }
   ],
   "source": [
    "# let's remind ourselves of what the counts data looks like\n",
    "print(f\"counts = {counts}\")\n",
    "# This is a list, but things will be much easier once we\n",
    "# convert to  a <code>numpy.array</code>, so let's do that.\n",
    "# we overwrite the old variable counts with this.\n",
    "counts = np.array(counts)\n",
    "print(\"After converting to numpy array:\")\n",
    "print(f\"counts = {counts}\")\n",
    "\n",
    "# Counting the observations is now straightforward\n",
    "num_obs = np.sum(counts)\n",
    "print(\"Calculate the number of observations:\")\n",
    "print(f\"num_obs = {num_obs}\")\n",
    "\n",
    "# we can now calculate the relative frequencies in a single line\n",
    "relative_freqs = counts/num_obs\n",
    "print(\"And then calculate relative frequencies:\")\n",
    "print(f\"relative_freqs = {relative_freqs}\")\n",
    "\n",
    "# now plot\n",
    "plt.figure()\n",
    "plt.plot(values, relative_freqs, 'o-', ms=8)\n",
    "plt.xlabel(\"Days of sick leave taken\")\n",
    "plt.ylabel(\"Relative frequency\")\n"
   ]
  },
  {
   "cell_type": "markdown",
   "metadata": {},
   "source": [
    "### Pie charts for relative frequencies\n",
    "Another common way to plot relative frequencies is the bar chart, and this can be done with the <code>matplotlib.pyplt.pie</code> function (you should be able to look up the documentation yourself). This is again well supported, and gives a segmented circle with the areas corresponding to the relative frequencies. You do not need to calculate the relative frequencies though, you can simply pass in counts."
   ]
  },
  {
   "cell_type": "code",
   "execution_count": 10,
   "metadata": {},
   "outputs": [
    {
     "data": {
      "image/png": "[encoded data removed]",
      "text/plain": [
       "<Figure size 432x288 with 1 Axes>"
      ]
     },
     "metadata": {},
     "output_type": "display_data"
    }
   ],
   "source": [
    "# we'll use a the \"Murder Weapon\" data from (Ross, 2017, Chp. 2)\n",
    "type_of_weapon = [\"Handgun\", \"Knife\", \"Shotgun\", \"Rifle\", \"Personal weapon\", \"Other\"]\n",
    "percentage_of_murders = [52, 18, 7, 4, 6, 13]\n",
    "plt.figure()\n",
    "plt.pie(percentage_of_murders, labels=type_of_weapon)\n",
    "# by default the image is wider than it is tall which\n",
    "# doesn't look good for pie charts, so we change the\n",
    "# aspect ratio.\n",
    "# get the axis-object\n",
    "ax = plt.gca()\n",
    "# set the aspect ratio\n",
    "ax.set_aspect(1)"
   ]
  },
  {
   "cell_type": "markdown",
   "metadata": {},
   "source": [
    "### A note of caution\n",
    "\n",
    "Care should be taken with pie charts though. They are useful for relating the proportion of individual components to the overall total, but not so good at relating the relative size of one component to another. See [this description](https://en.wikipedia.org/wiki/Pie_chart#Use_and_effectiveness) for more information on why pie charts might have problems. Or [this one](https://blog.funnel.io/why-we-dont-use-pie-charts-and-some-tips-on-better-data-visualizations). Or [this one](https://www.geckoboard.com/blog/pie-charts/). There are more. Some people really don't like pie charts!"
   ]
  },
  {
   "cell_type": "markdown",
   "metadata": {},
   "source": [
    "# Exercise C\n",
    "\n",
    "One of the benefits of using relative frequencies is that you can now readily compare datasets of different sizes. Below is a new set of sick day data. This time with 100 employee sick days recorded. Use what you have learned so far to create a set of counts for this data too, convert this to relative frequencies, and then plot this in a different color on the same plot with the orginal sick leave data.\n",
    "\n",
    "What could you learn if you just plotted the count data for the two datasets on the same plot? "
   ]
  },
  {
   "cell_type": "code",
   "execution_count": 11,
   "metadata": {},
   "outputs": [
    {
     "name": "stdout",
     "output_type": "stream",
     "text": [
      "\n",
      "The new data in a table gives:\n",
      "-----------------\n",
      "| value\t| count\t|\n",
      "-----------------\n",
      "| 0\t| 24\t|\n",
      "| 1\t| 22\t|\n",
      "| 2\t| 6\t|\n",
      "| 3\t| 16\t|\n",
      "| 4\t| 9\t|\n",
      "| 5\t| 9\t|\n",
      "| 6\t| 3\t|\n",
      "| 7\t| 9\t|\n",
      "| 8\t| 0\t|\n",
      "| 9\t| 1\t|\n",
      "| 10\t| 1\t|\n",
      "-----------------\n"
     ]
    },
    {
     "data": {
      "text/plain": [
       "Text(0, 0.5, 'Relative frequency')"
      ]
     },
     "execution_count": 11,
     "metadata": {},
     "output_type": "execute_result"
    },
    {
     "data": {
      "image/png": "[encoded data removed]",
      "text/plain": [
       "<Figure size 432x288 with 1 Axes>"
      ]
     },
     "metadata": {
      "needs_background": "light"
     },
     "output_type": "display_data"
    }
   ],
   "source": [
    "# the new sick day data\n",
    "new_sick_days = [\n",
    "    1, 1, 0, 0, 5, 1, 3, 3, 1, 0, 3, 0, 1, 4, 3, 1, 0, 5, 5, 1,\n",
    "    7, 4, 7, 0, 1, 0, 1, 4, 0, 0, 0, 0, 1, 6, 3, 3, 2, 0, 4, 0,\n",
    "    1, 0, 3, 0, 4, 1, 2, 2, 3, 9, 1, 3, 0, 1, 3, 1, 1, 5, 0, 3,\n",
    "    1, 2, 3, 7, 1, 1, 3, 7, 3, 0, 5, 4, 5, 0, 2, 2, 0, 1, 3, 5,\n",
    "    0, 5, 0, 6, 6, 7, 0, 7, 3, 1, 7, 7, 5, 1, 10, 4, 0, 4, 4, 7]\n",
    "\n",
    "# to complete\n",
    "print(\"\\nThe new data in a table gives:\")\n",
    "new_values, new_counts = get_int_values_and_counts(new_sick_days)\n",
    "print_counts_table(new_values, new_counts)\n",
    "\n",
    "# convert to array\n",
    "new_counts = np.array(new_counts)\n",
    "# calculate number of observations\n",
    "new_num_obs = np.sum(new_counts)\n",
    "# calculate new relative frequencies\n",
    "new_relative_freqs = new_counts/new_num_obs\n",
    "\n",
    "plt.figure()\n",
    "plt.plot(values, relative_freqs, 'o-', ms=8, label=\"Original data\")\n",
    "# we must use new values as there is a recording of 10 \n",
    "# sick days in the new data that wasn't in the old data\n",
    "# so the values and frequencies are different lenghts\n",
    "# for the old and new data.\n",
    "plt.plot(new_values, new_relative_freqs, 'o-', ms=8, label=\"New data\")\n",
    "plt.legend()\n",
    "plt.xlabel(\"Days of sick leave taken\")\n",
    "plt.ylabel(\"Relative frequency\")"
   ]
  },
  {
   "cell_type": "markdown",
   "metadata": {},
   "source": [
    "## Histograms\n",
    "\n",
    "Matplotlib again has some handy functionality for plotting histograms too. THis uses the <code>matplotlib.pyplot.hist</code> function (remember to always look up the documentation before you start using a function).\n",
    "\n",
    "Let's see the function at work.\n"
   ]
  },
  {
   "cell_type": "code",
   "execution_count": 12,
   "metadata": {},
   "outputs": [
    {
     "name": "stdout",
     "output_type": "stream",
     "text": [
      "cholesterol_levels =\n",
      "[196, 216, 195, 221, 193, 199, 227, 194, 202, 191, 193, 178, 183, 221, 191, 187, 184, 213, 181, 220, 196, 188, 200, 191, 174, 213, 171, 212, 206, 211, 204, 204, 194, 183, 193, 200, 183, 200, 205, 192]\n"
     ]
    },
    {
     "data": {
      "text/plain": [
       "Text(0, 0.5, 'Frequency')"
      ]
     },
     "execution_count": 12,
     "metadata": {},
     "output_type": "execute_result"
    },
    {
     "data": {
      "image/png": "[encoded data removed]",
      "text/plain": [
       "<Figure size 432x288 with 1 Axes>"
      ]
     },
     "metadata": {
      "needs_background": "light"
     },
     "output_type": "display_data"
    }
   ],
   "source": [
    "# lets use the blood cholesterol data from (Ross, 2017, p. 32) \n",
    "cholesterol_levels = [\n",
    "    171, 174, 178, 181, 183, 183, 183, 184, 187, 188, 191, 191, 191, 192, \n",
    "    193, 193, 193, 194, 194, 195, 196, 196, 199, 200, 200, 200, 202,\n",
    "    204, 204, 205, 206, 211, 212, 213, 213, 216, 220, 221, 221, 227]\n",
    "# I've used the ordered version of the values above, but this is not required\n",
    "# To demonstrate this, I randomly shuffle the order, and print to show this\n",
    "np.random.shuffle(cholesterol_levels)\n",
    "print(f\"cholesterol_levels =\\n{cholesterol_levels}\")\n",
    "\n",
    "# now let's plot it\n",
    "plt.figure() # good practice to create figure before each plot\n",
    "plt.hist(cholesterol_levels)\n",
    "plt.xlabel(\"Cholesterol Levels\")\n",
    "plt.ylabel(\"Frequency\")"
   ]
  },
  {
   "cell_type": "markdown",
   "metadata": {},
   "source": [
    "Note that this does not look like the plot in the book. Why not?\n",
    "\n",
    "The plot in the book has just 6 bars. We control the number of bars with the <code>bins</code> input variable."
   ]
  },
  {
   "cell_type": "code",
   "execution_count": 13,
   "metadata": {},
   "outputs": [
    {
     "data": {
      "text/plain": [
       "Text(0, 0.5, 'Frequency')"
      ]
     },
     "execution_count": 13,
     "metadata": {},
     "output_type": "execute_result"
    },
    {
     "data": {
      "image/png": "[encoded data removed]",
      "text/plain": [
       "<Figure size 432x288 with 1 Axes>"
      ]
     },
     "metadata": {
      "needs_background": "light"
     },
     "output_type": "display_data"
    }
   ],
   "source": [
    "# plotting again with just 6 bins\n",
    "plt.figure() # good practice to create figure before each plot\n",
    "plt.hist(cholesterol_levels, bins=6)\n",
    "plt.xlabel(\"Cholesterol Levels\")\n",
    "plt.ylabel(\"Frequency\")"
   ]
  },
  {
   "cell_type": "markdown",
   "metadata": {},
   "source": [
    "Note that this still looks a little different. The bin boundaries are not the same as in the book. To see what the bin boundaries are precisely we can run the <code>hist</code> function and collect the output."
   ]
  },
  {
   "cell_type": "code",
   "execution_count": 14,
   "metadata": {},
   "outputs": [
    {
     "name": "stdout",
     "output_type": "stream",
     "text": [
      "type(output) = <class 'tuple'>\n",
      "len(output) = 3\n",
      "bins = [171.         180.33333333 189.66666667 199.         208.33333333\n",
      " 217.66666667 227.        ]\n"
     ]
    },
    {
     "data": {
      "text/plain": [
       "<Figure size 432x288 with 0 Axes>"
      ]
     },
     "metadata": {},
     "output_type": "display_data"
    }
   ],
   "source": [
    "# we rerun the call but capture the output\n",
    "output = plt.hist(cholesterol_levels, bins=6)\n",
    "# Looking at the documentation for hist, there are 3 variables output\n",
    "# printing the type of output we see that it is a tuple\n",
    "print(f\"type(output) = {type(output)}\")\n",
    "# with length 3\n",
    "print(f\"len(output) = {len(output)}\")\n",
    "# matplotlib and numpy (and many other python libraries)\n",
    "# output multple return values in a tuple like this. It is\n",
    "# common to then unpack these into variables using Python's\n",
    "# unpacking functionality (you must have the same number of\n",
    "# variables on the left as in the tuple on the right)\n",
    "bin_values, bins, patches = output\n",
    "# we could have done this in a single line like this:\n",
    "bin_values, bins, patches = plt.hist(cholesterol_levels, bins=6)\n",
    "# we'll ignore the other variables for now and focus on bins\n",
    "print(f\"bins = {bins}\")\n",
    "# This shows the bin boundaries as a numpy array.\n",
    "# clear the figure - it will just clutter things up\n",
    "plt.clf()\n",
    "\n"
   ]
  },
  {
   "cell_type": "markdown",
   "metadata": {},
   "source": [
    "We want our bin boundaries to be the same as (Ross, 2017, p.33), so for this we will explicitly state the bin boundaries, again using the <code>bins</code> keyword argument. Here I use the [<code>numpy.linspace</code>](https://numpy.org/doc/stable/reference/generated/numpy.linspace.html) command to generate equally separated values in the range (again you should check the documentation).\n",
    "\n",
    "<code>bins</code> is a keyword argument of <code>matplotlib.pyplot</code>. If you are unfamiliar with keyword arguments then you can read up on them [here](https://www.w3schools.com/python/gloss_python_function_keyword_arguments.asp)."
   ]
  },
  {
   "cell_type": "code",
   "execution_count": 15,
   "metadata": {},
   "outputs": [
    {
     "name": "stdout",
     "output_type": "stream",
     "text": [
      "manually created bins =\n",
      "[170. 180. 190. 200. 210. 220. 230.]\n"
     ]
    },
    {
     "data": {
      "text/plain": [
       "Text(0, 0.5, 'Frequency')"
      ]
     },
     "execution_count": 15,
     "metadata": {},
     "output_type": "execute_result"
    },
    {
     "data": {
      "image/png": "[encoded data removed]",
      "text/plain": [
       "<Figure size 432x288 with 1 Axes>"
      ]
     },
     "metadata": {
      "needs_background": "light"
     },
     "output_type": "display_data"
    }
   ],
   "source": [
    "# plotting with specified bin boundaries\n",
    "plt.figure() # good practice to create figure before each plot\n",
    "# create 7 equally separated bin boundaries from 170 to 230\n",
    "bins = np.linspace(170, 230, 7)\n",
    "print(f\"manually created bins =\\n{bins}\")\n",
    "# now set the bins argument with the variable bins\n",
    "plt.hist(cholesterol_levels, bins=bins)\n",
    "plt.xlabel(\"Cholesterol Levels\")\n",
    "plt.ylabel(\"Frequency\")\n",
    "\n",
    "# This now matches the structure of the plot.\n",
    "# You can try to match the style too if you\n",
    "# want to experiment."
   ]
  },
  {
   "cell_type": "code",
   "execution_count": 16,
   "metadata": {},
   "outputs": [
    {
     "name": "stdout",
     "output_type": "stream",
     "text": [
      "manually created bins =\n",
      "[170. 180. 190. 200. 210. 220. 230.]\n"
     ]
    },
    {
     "data": {
      "text/plain": [
       "Text(0, 0.5, 'Frequency')"
      ]
     },
     "execution_count": 16,
     "metadata": {},
     "output_type": "execute_result"
    },
    {
     "data": {
      "image/png": "[encoded data removed]",
      "text/plain": [
       "<Figure size 432x288 with 1 Axes>"
      ]
     },
     "metadata": {
      "needs_background": "light"
     },
     "output_type": "display_data"
    }
   ],
   "source": [
    "# plotting relative frequency as line plot\n",
    "plt.figure() # good practice to create figure before each plot\n",
    "# create 7 equally separated bin boundaries from 170 to 230\n",
    "bins = np.linspace(170, 230, 7)\n",
    "print(f\"manually created bins =\\n{bins}\")\n",
    "# now set the bins argument with the variable bins\n",
    "plt.hist(cholesterol_levels, bins=bins)\n",
    "plt.xlabel(\"Cholesterol Levels\")\n",
    "plt.ylabel(\"Frequency\")"
   ]
  },
  {
   "cell_type": "markdown",
   "metadata": {},
   "source": [
    "## Exercise D\n",
    "Below is the birth rate data from (Ross, 2017, Tbl. 2.8). Use this to plot (and properly label) a histogram using the same bin boundaries as in (Ross, 2017, Fig. 2.9). Given this plot, would you say that the birth rate in Massachusetts, is above, at, or below the peak (most common) birth rate. \n",
    "\n",
    "Replot the data on a separate plot with auto-generated bins, and print out the bin boundaries. Does this plot change your view about Massachusetts' birth rate? "
   ]
  },
  {
   "cell_type": "code",
   "execution_count": 17,
   "metadata": {},
   "outputs": [
    {
     "name": "stdout",
     "output_type": "stream",
     "text": [
      "manually created bins =\n",
      "[12.  13.5 15.  16.5 18.  19.5 21.  22.5]\n",
      "auto-generated bins =\n",
      "[12.4  13.35 14.3  15.25 16.2  17.15 18.1  19.05 20.   20.95 21.9 ]\n"
     ]
    },
    {
     "data": {
      "text/plain": [
       "Text(0.5, 1.0, 'Birth Rates: auto-generated bins')"
      ]
     },
     "execution_count": 17,
     "metadata": {},
     "output_type": "execute_result"
    },
    {
     "data": {
      "image/png": "[encoded data removed]",
      "text/plain": [
       "<Figure size 432x288 with 1 Axes>"
      ]
     },
     "metadata": {
      "needs_background": "light"
     },
     "output_type": "display_data"
    },
    {
     "data": {
      "image/png": "[encoded data removed]",
      "text/plain": [
       "<Figure size 432x288 with 1 Axes>"
      ]
     },
     "metadata": {
      "needs_background": "light"
     },
     "output_type": "display_data"
    }
   ],
   "source": [
    "birth_rates = [\n",
    "    14.2, 21.9, 19.0, 14.5, 15.7, 13.8, 14.4, 16.3, 14.9, 14.4, 15.5, 14.1,\n",
    "    19.2, 15.9, 15.4, 15.3, 15.3, 15.7, 14.7, 16.1, 17.1, 15.2, 17.1, 17.6,\n",
    "    15.2, 15.5, 14.1, 15.1, 16.5, 16.2, 16.0, 14.8, 13.1, 14.2, 15.1, 17.9,\n",
    "    16.2, 15.6, 15.4, 12.4, 14.8, 13.7, 15.4, 15.5, 17.7, 21.2, 14.0, 15.3,\n",
    "    14.1, 16.5]\n",
    "\n",
    "## to complete\n",
    "# plotting with specified bin boundaries\n",
    "plt.figure() # good practice to create figure before each plot\n",
    "# create 7 equally separated bin boundaries from 170 to 230\n",
    "bins = np.linspace(12, 22.5, 8)\n",
    "print(f\"manually created bins =\\n{bins}\")\n",
    "# now set the bins argument with the variable bins\n",
    "plt.hist(birth_rates, bins=bins)\n",
    "plt.xlabel(\"Birth Rates\")\n",
    "plt.ylabel(\"Frequency\")\n",
    "plt.title(\"Birth Rates: manual bins\")\n",
    "\n",
    "\n",
    "plt.figure() # good practice to create figure before each plot\n",
    "bin_values, bins, patches = plt.hist(birth_rates)\n",
    "print(f\"auto-generated bins =\\n{bins}\")\n",
    "plt.xlabel(\"Birth Rates\")\n",
    "plt.ylabel(\"Frequency\")\n",
    "plt.title(\"Birth Rates: auto-generated bins\")\n",
    "\n",
    "\n",
    "# In the first plot Massachusetts' birth rate was in the bin\n",
    "# with the highest value, in the autogenerated plot, it is\n",
    "# in a bin with a much lower value.\n",
    "# The choice of bins can affect your interpretation of the data\n",
    "# so be careful!"
   ]
  },
  {
   "cell_type": "markdown",
   "metadata": {},
   "source": [
    "## Exercise E\n",
    "\n",
    "What if we wanted a relative frequency polygons plot as for (Ross, 2017, Fig. 2.10)?\n",
    "\n",
    "We can replot the histogram as a relative frequency histogram using the <code>density</code> argument, but there is no native <code>matplotlib</code> method for producing the line plots directly. Instead, we must output the bin values and boundaries from <code>hist</code> and then construct a line plot from these. We need to calculate the middle of the boundaries to do this. \n",
    "\n",
    "\n",
    "Below is a pair of data-sets for body temperature readings for men and women from [(Shoemaker, 1996)](http://jse.amstat.org/v4n2/datasets.shoemaker.html). Attempt to plot relative frequency polygon plots for this data on the same plot.\n",
    "\n",
    "\n",
    "Allen L. Shoemaker (1996) What's Normal? -- Temperature, Gender, and Heart Rate. Journal of Statistics Education, 4(2)."
   ]
  },
  {
   "cell_type": "code",
   "execution_count": 18,
   "metadata": {},
   "outputs": [
    {
     "name": "stdout",
     "output_type": "stream",
     "text": [
      "(min_temp,max_temp) = (96.3, 100.8)\n",
      "bins = [ 96.  97.  98.  99. 100. 101.]\n"
     ]
    },
    {
     "data": {
      "text/plain": [
       "Text(0, 0.5, 'Relative frequency')"
      ]
     },
     "execution_count": 18,
     "metadata": {},
     "output_type": "execute_result"
    },
    {
     "data": {
      "text/plain": [
       "<Figure size 432x288 with 0 Axes>"
      ]
     },
     "metadata": {},
     "output_type": "display_data"
    },
    {
     "data": {
      "image/png": "[encoded data removed]",
      "text/plain": [
       "<Figure size 432x288 with 1 Axes>"
      ]
     },
     "metadata": {
      "needs_background": "light"
     },
     "output_type": "display_data"
    }
   ],
   "source": [
    "temps_men = [\n",
    "    96.3, 96.7, 96.9, 97.0, 97.1, 97.1, 97.1, 97.2, 97.3, 97.4, 97.4, 97.4,\n",
    "    97.4, 97.5, 97.5, 97.6, 97.6, 97.6, 97.7, 97.8, 97.8, 97.8, 97.8, 97.9,\n",
    "    97.9, 98.0, 98.0, 98.0, 98.0, 98.0, 98.0, 98.1, 98.1, 98.2, 98.2, 98.2,\n",
    "    98.2, 98.3, 98.3, 98.4, 98.4, 98.4, 98.4, 98.5, 98.5, 98.6, 98.6, 98.6,\n",
    "    98.6, 98.6, 98.6, 98.7, 98.7, 98.8, 98.8, 98.8, 98.9, 99.0, 99.0, 99.0,\n",
    "    99.1, 99.2, 99.3, 99.4, 99.5]\n",
    "temps_women = [\n",
    "    96.4, 96.7, 96.8, 97.2, 97.2, 97.4, 97.6, 97.7, 97.7, 97.8, 97.8, 97.8,\n",
    "    97.9, 97.9, 97.9, 98.0, 98.0, 98.0, 98.0, 98.0, 98.1, 98.2, 98.2, 98.2,\n",
    "    98.2, 98.2, 98.2, 98.3, 98.3, 98.3, 98.4, 98.4, 98.4, 98.4, 98.4, 98.5,\n",
    "    98.6, 98.6, 98.6, 98.6, 98.7, 98.7, 98.7, 98.7, 98.7, 98.7, 98.8, 98.8,\n",
    "    98.8, 98.8, 98.8, 98.8, 98.8, 98.9, 99.0, 99.0, 99.1, 99.1, 99.2, 99.2,\n",
    "    99.3, 99.4, 99.9, 100.0, 100.8]\n",
    "# to complete\n",
    "# convert to numpy arrays\n",
    "temps_men = np.array(temps_men)\n",
    "temps_women = np.array(temps_women)\n",
    "# find the max and min values to calculate good bins\n",
    "max_temp = np.max([temps_men, temps_women])\n",
    "min_temp = np.min([temps_men, temps_women])\n",
    "print(f\"(min_temp,max_temp) = {(min_temp,max_temp)}\")\n",
    "# these are roughly bounded by 96 - 101 so we'll use those.\n",
    "# calculate the bin boundaries with integer width\n",
    "bins = np.linspace(96, 101, 6)\n",
    "print(f\"bins = {bins}\")\n",
    "# now get the bin values for each data-set histogram\n",
    "# _ can be used to ignore output values we don't need \n",
    "men_bin_values, _, _ =  plt.hist(temps_men, bins=bins)\n",
    "women_bin_values, _, _ =  plt.hist(temps_women, bins=bins)\n",
    "# clear the figure - to avoid clutter\n",
    "plt.clf()\n",
    "\n",
    "# Now we'll plot our relative frequency polygons\n",
    "# first we need to know the middle value in each bin\n",
    "# we can do this with some neat np.array calculations\n",
    "# we add the first N-1 values to the last N-1 value then\n",
    "# divide by two (where N is the length of the bins array)\n",
    "bin_centres = (bins[:-1] + bins[1:])/2.\n",
    "plt.figure()\n",
    "plt.plot(bin_centres, men_bin_values, 'o-', ms=8, label=\"Men\")\n",
    "plt.plot(bin_centres, women_bin_values, 'o-', ms=8, label=\"Women\")\n",
    "# add legend, title, and axis labels\n",
    "plt.legend()\n",
    "plt.title(\"Body temperatures from (Shoemaker, 1996)\")\n",
    "plt.xlabel(\"Body temperature\")\n",
    "plt.ylabel(\"Relative frequency\")\n"
   ]
  },
  {
   "cell_type": "markdown",
   "metadata": {},
   "source": [
    "## Sets of paired data\n",
    "\n",
    "Plotting sets of paired data can be done with the <code>matplotlib.pyplot.scatter</code> function. We simply pass the x-values and y-values to the function, and we can choose the marker type to distinguish datasets. See below for some examples using the body temperature data we've see already from (Shoemaker, 1996) and the associated matched heart-rate data. We will look at paired data in more detail later in the module."
   ]
  },
  {
   "cell_type": "code",
   "execution_count": 19,
   "metadata": {},
   "outputs": [
    {
     "data": {
      "text/plain": [
       "Text(0, 0.5, 'Heart Rate')"
      ]
     },
     "execution_count": 19,
     "metadata": {},
     "output_type": "execute_result"
    },
    {
     "data": {
      "image/png": "[encoded data removed]",
      "text/plain": [
       "<Figure size 432x288 with 1 Axes>"
      ]
     },
     "metadata": {
      "needs_background": "light"
     },
     "output_type": "display_data"
    }
   ],
   "source": [
    "# The body temperature data from before was ordered by temperature\n",
    "# the heart rate data below is matched by element, so the first element\n",
    "# of heart_rates_men corresponds to the same person as the first element of \n",
    "# temps men and so on. The data comes from (Shoemaker, 1996).\n",
    "heart_rates_men = [\n",
    "    70, 71, 74, 80, 73, 75, 82, 64, 69, 70, 68, 72, 78, 70, 75, 74, 69, 73, 77,\n",
    "    58, 73, 65, 74, 76, 72, 78, 71, 74, 67, 64, 78, 73, 67, 66, 64, 71, 72, 86,\n",
    "    72, 68, 70, 82, 84, 68, 71, 77, 78, 83, 66, 70, 82, 73, 78, 78, 81, 78, 80,\n",
    "    75, 79, 81, 71, 83, 63, 70, 75]\n",
    "heart_rates_women = [\n",
    "    69, 62, 75, 66, 68, 57, 61, 84, 61, 77, 62, 71, 68, 69, 79, 76, 87, 78, 73,\n",
    "    89, 81, 73, 64, 65, 73, 69, 57, 79, 78, 80, 79, 81, 73, 74, 84, 83, 82, 85,\n",
    "    86, 77, 72, 79, 59, 64, 65, 82, 64, 70, 83, 89, 69, 73, 84, 76, 79, 81, 80,\n",
    "    74, 77, 66, 68, 77, 79, 78, 77]\n",
    "\n",
    "# now let's plot them\n",
    "plt.figure() # generate a new figure\n",
    "plt.scatter(temps_men, heart_rates_men, s=20, marker='o', label='Men')\n",
    "plt.scatter(temps_women, heart_rates_women, s=20, marker='x', label='Women')\n",
    "plt.legend()\n",
    "plt.xlabel(\"Body Temperature\")\n",
    "plt.ylabel(\"Heart Rate\")\n"
   ]
  },
  {
   "cell_type": "markdown",
   "metadata": {},
   "source": [
    "## Extra Material: Python dictionaries\n",
    "\n",
    "Last week we saw a number of python types including lists, tuples and numpy arrays. This week we'll introduce a small number of additional types for managing collections of data. The dictionary and the Pandas dataframe. Here we'll see the dictionary. Again this material is based on (Grus, 2019, Chp. 2).\n",
    "\n",
    "Dictionaries associate values with keys and support the fast lookup of values with keys. Keys can be ints, but they can be other types too (so long as the equality of two keys, <code>k</code> and <code>k'</code>, can be compared, e.g. Can you ask: does <code>k == k'</code>? \n",
    "\n",
    "This allows you to:\n",
    "\n",
    "* look up the value given the key\n",
    "* check if a given value is in a dictionary\n",
    "* <code>get</code> a value if the key exists or a default value if not\n",
    "* overwrite old values with new ones\n",
    "* add new entries to the dictionary\n",
    "\n",
    "Here are some examples:"
   ]
  },
  {
   "cell_type": "code",
   "execution_count": 20,
   "metadata": {},
   "outputs": [
    {
     "name": "stdout",
     "output_type": "stream",
     "text": [
      "empty_dict = {}\n",
      "another_empty_dict = {}\n",
      "grades = {'Luke': 49, 'Antonis': 75}\n",
      "\n",
      "lukes_grade = 49\n",
      "\n"
     ]
    }
   ],
   "source": [
    "# dictionaries\n",
    "empty_dict = {}\n",
    "another_empty_dict = dict()\n",
    "grades = {\"Luke\": 49, \"Antonis\": 75}\n",
    "print(f\"empty_dict = {empty_dict}\")\n",
    "print(f\"another_empty_dict = {another_empty_dict}\")\n",
    "print(f\"grades = {grades}\\n\")\n",
    "\n",
    "# get values given a key:\n",
    "lukes_grade = grades['Luke']\n",
    "print(f\"lukes_grade = {lukes_grade}\\n\")"
   ]
  },
  {
   "cell_type": "code",
   "execution_count": 21,
   "metadata": {},
   "outputs": [
    {
     "name": "stdout",
     "output_type": "stream",
     "text": [
      "There is no grade for Andreas.\n",
      "\n",
      "luke_has_grade = True\n",
      "andreas_has_grade = False\n",
      "\n"
     ]
    }
   ],
   "source": [
    "# If you try to get a key that isn't in the dictionary it will throw an error\n",
    "# (specifically a KeyError). This can be caught with a try-except statement.\n",
    "# More can be found on try-except here:\n",
    "# https://www.w3schools.com/python/python_try_except.asp\n",
    "try:\n",
    "    andreas_grade = grades[\"Andreas\"]\n",
    "except KeyError:\n",
    "    print(\"There is no grade for Andreas.\\n\")\n",
    "\n",
    "# Use 'in' to check if a key is in a dictionary\n",
    "luke_has_grade = \"Luke\" in grades\n",
    "andreas_has_grade = \"Andreas\" in grades\n",
    "print(f\"luke_has_grade = {luke_has_grade}\")\n",
    "print(f\"andreas_has_grade = {andreas_has_grade}\\n\")"
   ]
  },
  {
   "cell_type": "code",
   "execution_count": 22,
   "metadata": {},
   "outputs": [
    {
     "name": "stdout",
     "output_type": "stream",
     "text": [
      "grades.get('Luke',0) gives 49\n",
      "grades.get('Andreas',0) gives 0\n",
      "\n",
      "Now,\n",
      "grades = {'Luke': 89, 'Antonis': 75, 'Andreas': 51}\n",
      "\n"
     ]
    }
   ],
   "source": [
    "# A possibly neater way of dealing with missing keys is 'get'\n",
    "# You can supply a default value for when keys are missing.\n",
    "print(f\"grades.get('Luke',0) gives {grades.get('Luke', 0)}\")\n",
    "print(f\"grades.get('Andreas',0) gives {grades.get('Andreas', 0)}\\n\")\n",
    "\n",
    "# you can add new entries or overwrite using the square brackets\n",
    "grades[\"Luke\"] = 89 # Luke's new grade\n",
    "grades[\"Andreas\"] = 51 # supply a grade for Andreas\n",
    "print(f\"Now,\\ngrades = {grades}\\n\")"
   ]
  },
  {
   "cell_type": "markdown",
   "metadata": {},
   "source": [
    "Some other interesting functionality of dictionaries:"
   ]
  },
  {
   "cell_type": "code",
   "execution_count": 23,
   "metadata": {},
   "outputs": [
    {
     "name": "stdout",
     "output_type": "stream",
     "text": [
      "len(data) = 50\n",
      "len(grades) = 3\n",
      "\n",
      "names = ['Luke', 'Antonis', 'Kalliopi', 'Rob', 'Andreas']\n",
      "name_length_pairs = [('Luke', 4), ('Antonis', 7), ('Kalliopi', 8), ('Rob', 3), ('Andreas', 7)]\n",
      "name_lengths = {'Luke': 4, 'Antonis': 7, 'Kalliopi': 8, 'Rob': 3, 'Andreas': 7}\n",
      "\n",
      "Now,\n",
      "names_lengths = {'Luke': 4, 'Antonis': 7, 'Kalliopi': 8, 'Rob': 3, 'Andreas': 7}\n",
      "\n"
     ]
    }
   ],
   "source": [
    "# lists and dictionaries have lengths (numbers of entries)\n",
    "# which can be got with the 'len' operator\n",
    "print(f\"len(data) = {len(data)}\")\n",
    "print(f\"len(grades) = {len(grades)}\\n\")\n",
    "\n",
    "# dictionaries can be created from lists of pairs\n",
    "names = [\"Luke\", \"Antonis\", \"Kalliopi\", \"Rob\", \"Andreas\"]\n",
    "name_length_pairs = [(name,len(name)) for name in names ]\n",
    "name_lengths = dict(name_length_pairs)\n",
    "print(f\"names = {names}\")\n",
    "print(f\"name_length_pairs = {name_length_pairs}\")\n",
    "print(f\"name_lengths = {name_lengths}\\n\")\n",
    "\n",
    "# or directly with a dictionary comprehension\n",
    "name_lengths = {name: len(name) for name in names }\n",
    "print(f\"Now,\\nnames_lengths = {name_lengths}\\n\")\n",
    "\n",
    "# you can experiment here with your own dictionaries"
   ]
  },
  {
   "cell_type": "markdown",
   "metadata": {},
   "source": [
    " ## More on Counting \n",
    " \n",
    "Let's see the data counted again using a dictionary."
   ]
  },
  {
   "cell_type": "code",
   "execution_count": 24,
   "metadata": {},
   "outputs": [
    {
     "name": "stdout",
     "output_type": "stream",
     "text": [
      "Remember data looks like this:\n",
      "[2, 2, 0, 0, 5, 8, 3, 4, 1, 0, 0, 7, 1, 7, 1, 5, 4, 0, 4, 0, 1, 8, 9, 7, 0, 1, 7, 2, 5, 5, 4, 3, 3, 0, 0, 2, 5, 1, 3, 0, 1, 0, 2, 4, 5, 0, 5, 7, 5, 1]\n",
      "\n",
      "counts_dict = {2: 5, 0: 12, 5: 8, 8: 2, 3: 4, 4: 5, 1: 8, 7: 5, 9: 1}\n",
      "\n"
     ]
    }
   ],
   "source": [
    "# A function that counts data storing the counts in a dictionary\n",
    "def count_ints(data):\n",
    "    # create a new dictionary\n",
    "    counts_dict = {}\n",
    "    # for each value in the supplied data\n",
    "    for val in data:\n",
    "        # if the value is alread in the dictionary increment the count\n",
    "        if val in counts_dict:\n",
    "            counts_dict[val] = counts_dict[val] + 1\n",
    "        # if the value is not in the dictionary give it count 1.\n",
    "        else:\n",
    "            counts_dict[val] = 1\n",
    "    return counts_dict\n",
    "         \n",
    "# now call the function\n",
    "print(f\"Remember data looks like this:\\n{data}\\n\")\n",
    "counts_dict = count_ints(data)\n",
    "print(f\"counts_dict = {counts_dict}\\n\")"
   ]
  },
  {
   "cell_type": "markdown",
   "metadata": {},
   "source": [
    "## Exercise F\n",
    "\n",
    "Try to define a second function <code>count_ints_alt</code> which does the same ad <code>count_ints</code> but using the <code>get</code> dictionary method. It should be possible to do this in fewer lines."
   ]
  },
  {
   "cell_type": "code",
   "execution_count": 25,
   "metadata": {},
   "outputs": [
    {
     "name": "stdout",
     "output_type": "stream",
     "text": [
      "counts_dict = {2: 5, 0: 12, 5: 8, 8: 2, 3: 4, 4: 5, 1: 8, 7: 5, 9: 1}\n",
      "\n"
     ]
    }
   ],
   "source": [
    "# to complete\n",
    "def count_ints_alt(data):\n",
    "    counts_dict = {}\n",
    "    for val in data:\n",
    "        counts_dict[val] = counts_dict.get(val,0) + 1\n",
    "    return counts_dict\n",
    "         \n",
    "# now call the new function\n",
    "counts_dict = count_ints_alt(data)\n",
    "print(f\"counts_dict = {counts_dict}\\n\")\n",
    "\n",
    "# There is an even neater way of doing this with defaultdict\n",
    "# and another with Counter see (Grus, 2019, Chp. 2) or online\n",
    "# sources for the collections library if you are interested."
   ]
  },
  {
   "cell_type": "markdown",
   "metadata": {},
   "source": [
    "Inspecting the resulting dictionary gives:"
   ]
  },
  {
   "cell_type": "code",
   "execution_count": 26,
   "metadata": {},
   "outputs": [
    {
     "name": "stdout",
     "output_type": "stream",
     "text": [
      "Keys, values and items:\n",
      "counts_dict.keys() = dict_keys([2, 0, 5, 8, 3, 4, 1, 7, 9])\n",
      "counts_dict.values() = dict_values([5, 12, 8, 2, 4, 5, 8, 5, 1])\n",
      "counts_dict.items() = dict_items([(2, 5), (0, 12), (5, 8), (8, 2), (3, 4), (4, 5), (1, 8), (7, 5), (9, 1)])\n",
      "\n",
      "Items as list of pairs:\n",
      "val_count_pairs = [(2, 5), (0, 12), (5, 8), (8, 2), (3, 4), (4, 5), (1, 8), (7, 5), (9, 1)]\n",
      "\n",
      "After ordering and unzipping:\n",
      "values = (0, 1, 2, 3, 4, 5, 7, 8, 9)\n",
      "counts = (12, 8, 5, 4, 5, 8, 5, 2, 1)\n"
     ]
    }
   ],
   "source": [
    "# we can output the keys and values separately\n",
    "# or the items (key,value) pairs.\n",
    "print(\"Keys, values and items:\")\n",
    "print(f\"counts_dict.keys() = {counts_dict.keys()}\")\n",
    "print(f\"counts_dict.values() = {counts_dict.values()}\")\n",
    "print(f\"counts_dict.items() = {counts_dict.items()}\\n\")\n",
    "\n",
    "# we can even produce a list of pairs\n",
    "print(\"Items as list of pairs:\")\n",
    "val_count_pairs = list(counts_dict.items())\n",
    "print(f\"val_count_pairs = {val_count_pairs}\\n\")\n",
    "\n",
    "# And here is some python magic to unzip and order those\n",
    "# as separate lists of values and pairs\n",
    "values, counts = zip(*sorted(val_count_pairs))\n",
    "print(\"After ordering and unzipping:\")\n",
    "print(f\"values = {values}\")\n",
    "print(f\"counts = {counts}\")"
   ]
  },
  {
   "cell_type": "markdown",
   "metadata": {},
   "source": [
    "To understand this last zip command you can look up:\n",
    "\n",
    "- sorting: https://docs.python.org/3/howto/sorting.html\n",
    "- zip: https://docs.python.org/3/library/functions.html#zip\n",
    "- *args: https://www.digitalocean.com/community/tutorials/how-to-use-args-and-kwargs-in-python-3\n",
    "\n",
    "but I will not be assuming you have done so.\n",
    "\n",
    "\n",
    "Note that:\n",
    "\n",
    "1. The keys are not ordered in the dictionary. This is due to how dictionaries store values and enables fast lookup (much faster than in lists).\n",
    "1. There is no key 6. As there were no entries 6 in the original data. This can save on storage space, particularly if there are lots of zeros for a big dataset. \n"
   ]
  },
  {
   "cell_type": "markdown",
   "metadata": {},
   "source": [
    "# Appendix\n",
    "\n",
    "This includes code that I have used to construct the lectures and the solutions. There is no need for you to read or understand it, but I have included it for those that are interested.\n",
    "\n",
    "## Solution Support\n",
    "Some code I used to get the body temperature and heart-rate data from a file downloaded from [here](http://jse.amstat.org/v4n2/datasets.shoemaker.html) (I edited the file to add commas between values)."
   ]
  },
  {
   "cell_type": "code",
   "execution_count": 27,
   "metadata": {},
   "outputs": [
    {
     "name": "stdout",
     "output_type": "stream",
     "text": [
      "temps_men = [96.3, 96.7, 96.9, 97.0, 97.1, 97.1, 97.1, 97.2, 97.3, 97.4, 97.4, 97.4, 97.4, 97.5, 97.5, 97.6, 97.6, 97.6, 97.7, 97.8, 97.8, 97.8, 97.8, 97.9, 97.9, 98.0, 98.0, 98.0, 98.0, 98.0, 98.0, 98.1, 98.1, 98.2, 98.2, 98.2, 98.2, 98.3, 98.3, 98.4, 98.4, 98.4, 98.4, 98.5, 98.5, 98.6, 98.6, 98.6, 98.6, 98.6, 98.6, 98.7, 98.7, 98.8, 98.8, 98.8, 98.9, 99.0, 99.0, 99.0, 99.1, 99.2, 99.3, 99.4, 99.5]\n",
      "temps_women = [96.4, 96.7, 96.8, 97.2, 97.2, 97.4, 97.6, 97.7, 97.7, 97.8, 97.8, 97.8, 97.9, 97.9, 97.9, 98.0, 98.0, 98.0, 98.0, 98.0, 98.1, 98.2, 98.2, 98.2, 98.2, 98.2, 98.2, 98.3, 98.3, 98.3, 98.4, 98.4, 98.4, 98.4, 98.4, 98.5, 98.6, 98.6, 98.6, 98.6, 98.7, 98.7, 98.7, 98.7, 98.7, 98.7, 98.8, 98.8, 98.8, 98.8, 98.8, 98.8, 98.8, 98.9, 99.0, 99.0, 99.1, 99.1, 99.2, 99.2, 99.3, 99.4, 99.9, 100.0, 100.8]\n",
      "heart_rates_men = [70, 71, 74, 80, 73, 75, 82, 64, 69, 70, 68, 72, 78, 70, 75, 74, 69, 73, 77, 58, 73, 65, 74, 76, 72, 78, 71, 74, 67, 64, 78, 73, 67, 66, 64, 71, 72, 86, 72, 68, 70, 82, 84, 68, 71, 77, 78, 83, 66, 70, 82, 73, 78, 78, 81, 78, 80, 75, 79, 81, 71, 83, 63, 70, 75]\n",
      "heart_rates_women = [69, 62, 75, 66, 68, 57, 61, 84, 61, 77, 62, 71, 68, 69, 79, 76, 87, 78, 73, 89, 81, 73, 64, 65, 73, 69, 57, 79, 78, 80, 79, 81, 73, 74, 84, 83, 82, 85, 86, 77, 72, 79, 59, 64, 65, 82, 64, 70, 83, 89, 69, 73, 84, 76, 79, 81, 80, 74, 77, 66, 68, 77, 79, 78, 77]\n"
     ]
    }
   ],
   "source": [
    "import pandas as pd\n",
    "temp_data = pd.read_csv(\"normtemp.dat.txt\", names=[\"body_temp\", \"gender\", \"heart_rate\"])\n",
    "#print(f\"temp_data = {temp_data}\")\n",
    "are_men = temp_data['gender'] == 1\n",
    "are_women = temp_data['gender'] == 2\n",
    "temps_men = temp_data[are_men]['body_temp'].to_numpy()\n",
    "temps_women = temp_data[are_women]['body_temp'].to_numpy()\n",
    "heart_rates_men = temp_data[are_men]['heart_rate'].to_numpy()\n",
    "heart_rates_women = temp_data[are_women]['heart_rate'].to_numpy()\n",
    "\n",
    "print(f\"temps_men = {list(temps_men)}\")\n",
    "print(f\"temps_women = {list(temps_women)}\")\n",
    "print(f\"heart_rates_men = {list(heart_rates_men)}\")\n",
    "print(f\"heart_rates_women = {list(heart_rates_women)}\")\n"
   ]
  },
  {
   "cell_type": "markdown",
   "metadata": {},
   "source": [
    "## Lecture Support\n",
    "\n",
    "Stuff for lectures"
   ]
  },
  {
   "cell_type": "code",
   "execution_count": 29,
   "metadata": {},
   "outputs": [
    {
     "data": {
      "image/png": "[encoded data removed]",
      "text/plain": [
       "<matplotlib.figure.Figure at 0x7f4c3425f1d0>"
      ]
     },
     "metadata": {
      "needs_background": "light"
     },
     "output_type": "display_data"
    }
   ],
   "source": [
    "# The body temperature data from before was ordered by temperature\n",
    "# the heart rate data below is matched by element, so the first element\n",
    "# of heart_rates_men corresponds to the same person as the first element of \n",
    "# temps men and so on. The data comes from (Shoemaker, 1996).\n",
    "heart_rates_men = [\n",
    "    70, 71, 74, 80, 73, 75, 82, 64, 69, 70, 68, 72, 78, 70, 75, 74, 69, 73, 77,\n",
    "    58, 73, 65, 74, 76, 72, 78, 71, 74, 67, 64, 78, 73, 67, 66, 64, 71, 72, 86,\n",
    "    72, 68, 70, 82, 84, 68, 71, 77, 78, 83, 66, 70, 82, 73, 78, 78, 81, 78, 80,\n",
    "    75, 79, 81, 71, 83, 63, 70, 75]\n",
    "heart_rates_women = [\n",
    "    69, 62, 75, 66, 68, 57, 61, 84, 61, 77, 62, 71, 68, 69, 79, 76, 87, 78, 73,\n",
    "    89, 81, 73, 64, 65, 73, 69, 57, 79, 78, 80, 79, 81, 73, 74, 84, 83, 82, 85,\n",
    "    86, 77, 72, 79, 59, 64, 65, 82, 64, 70, 83, 89, 69, 73, 84, 76, 79, 81, 80,\n",
    "    74, 77, 66, 68, 77, 79, 78, 77]\n",
    "\n",
    "# now let's plot them\n",
    "plt.figure() # generate a new figure\n",
    "plt.scatter(temps_men, heart_rates_men, s=20, marker='o', label='Men')\n",
    "plt.scatter(temps_women, heart_rates_women, s=20, marker='x', label='Women')\n",
    "plt.legend()\n",
    "plt.xlabel(\"Body Temperature\")\n",
    "plt.ylabel(\"Heart Rate\")\n",
    "plt.savefig(\"body_temp_vs_heart_rate.png\")"
   ]
  }
 ],
 "metadata": {
  "kernelspec": {
   "display_name": "Python 3",
   "language": "python",
   "name": "python3"
  },
  "language_info": {
   "codemirror_mode": {
    "name": "ipython",
    "version": 3
   },
   "file_extension": ".py",
   "mimetype": "text/x-python",
   "name": "python",
   "nbconvert_exporter": "python",
   "pygments_lexer": "ipython3",
   "version": "3.7.3"
  }
 },
 "nbformat": 4,
 "nbformat_minor": 4
}
