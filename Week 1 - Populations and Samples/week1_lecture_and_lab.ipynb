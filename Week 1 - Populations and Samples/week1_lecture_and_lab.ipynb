{
 "cells": [
  {
   "cell_type": "markdown",
   "metadata": {},
   "source": [
    "# Week 1 Lecture and Lab\n",
    "\n",
    "This is a short Jupyter notebook to take you through some python concepts and relate these to Section 1.4 of (Ross, 2017). \n",
    "\n",
    "You will need to install Jupyter notebooks (as well as python3) on your machine. A guide to installation and working with these can be found [here](https://jupyter.readthedocs.io/en/latest/) (other online sources are also available). There are two types of cells markdown (for text) and code (for python). This is a markdown cell. Rules of markdown syntax can be found online. [Here is a particularly good guide](https://www.markdownguide.org/basic-syntax/).\n"
   ]
  },
  {
   "cell_type": "markdown",
   "metadata": {},
   "source": [
    "## Variables and Types\n",
    "Here we'll look a little a what variables are and their types. This is based on John Graunt's analysis of deaths in the population. "
   ]
  },
  {
   "cell_type": "code",
   "execution_count": 1,
   "metadata": {},
   "outputs": [
    {
     "data": {
      "text/plain": [
       "0.03409090909090909"
      ]
     },
     "execution_count": 1,
     "metadata": {},
     "output_type": "execute_result"
    }
   ],
   "source": [
    "# There were 3 deaths per 88 people,\n",
    "# calculate the fractional death_rate and assign it to a variable death_rate\n",
    "death_rate = 3/88\n",
    "# output the value of the variable death_rate\n",
    "death_rate"
   ]
  },
  {
   "cell_type": "markdown",
   "metadata": {},
   "source": [
    "Let's create more variables"
   ]
  },
  {
   "cell_type": "code",
   "execution_count": 2,
   "metadata": {},
   "outputs": [
    {
     "name": "stdout",
     "output_type": "stream",
     "text": [
      "29.333333333333336\n"
     ]
    },
    {
     "data": {
      "text/plain": [
       "29.333333333333332"
      ]
     },
     "execution_count": 2,
     "metadata": {},
     "output_type": "execute_result"
    }
   ],
   "source": [
    "# to get the people implied per recorded death we take the reciprocal\n",
    "people_per_death = 1/death_rate\n",
    "# output the new variable\n",
    "print(people_per_death)\n",
    "# overwrite the variable from a direct calculation\n",
    "people_per_death = 88/3\n",
    "people_per_death"
   ]
  },
  {
   "cell_type": "markdown",
   "metadata": {},
   "source": [
    "Note that there is only one output of the value of <code>people_per_death</code>. Outputs are only generated for\n",
    "the last statement in the code. To display at any point we need another mechanism. Below are just three ways to print out information. Please look up strings, print and string formatting for more information."
   ]
  },
  {
   "cell_type": "code",
   "execution_count": 3,
   "metadata": {},
   "outputs": [
    {
     "name": "stdout",
     "output_type": "stream",
     "text": [
      "The number of people in the population suggested by each death is  29.333333333333332\n",
      "The proportion of people in the population who die in a given year is 0.0341\n",
      "Given 13200 recorded deaths, John Graunt estimated the population to be 387200.0\n"
     ]
    }
   ],
   "source": [
    "print(\n",
    "    \"The number of people in the population suggested by each death is \",\n",
    "    people_per_death)\n",
    "some_output = \"The proportion of people in the population who die in a given year is %.4f\" % death_rate\n",
    "print(some_output)\n",
    "recorded_deaths = 13200\n",
    "estimated_population = 13200*people_per_death\n",
    "print(f\"Given {recorded_deaths} recorded deaths, John Graunt estimated the population to be {estimated_population}\")"
   ]
  },
  {
   "cell_type": "markdown",
   "metadata": {},
   "source": [
    "We have now created an <code>int</code> type variable <code>recorded_deaths</code>, a <code>string</code> variable <code>some_output</code> and a number of <code>float</code> type variables, e.g. <code>death_rate</code>. We do so by simply assigning these with the <code>=</code> operator. We do not have to state the type of the variable as in some languages."
   ]
  },
  {
   "cell_type": "markdown",
   "metadata": {},
   "source": [
    "## Exercises A\n",
    "\n",
    "Create some additional variables in the code cell below. Look at the questions at the end of (Ross, 2017, Chp. 1) for inspiration on what to create. Try creating an <code>int</code>, <code>float</code> and <code>string</code> type variable. What other [Python types](https://www.w3schools.com/python/python_datatypes.asp) do you know? Create some additional variables with other basic types too (don't worry about lists, tuples and dictionaries for now).\n",
    "\n",
    "Output your variables with the various approaches shown above. Can you format your <code>float</code> variables so that they only display 1 decimal place? Look at the python documentation [here](https://docs.python.org/3.6/library/string.html) or the tutorial [here](https://www.w3schools.com/python/ref_string_format.asp) to see if you can solve this problem yourself."
   ]
  },
  {
   "cell_type": "code",
   "execution_count": 18,
   "metadata": {},
   "outputs": [
    {
     "name": "stdout",
     "output_type": "stream",
     "text": [
      "The number of years of school completed = 6\n",
      "The average number of years completed by a younger child = 7.0\n",
      "Type of milk = Buttermilk\n",
      "Jack smokes cigarretes = False\n",
      "Example of a long variable = 15000000000\n",
      "Example of a short variable = 500\n"
     ]
    }
   ],
   "source": [
    "# EXERCISES A\n",
    "\n",
    "# 'int' TYPE VARIBALE\n",
    "number_of_years_of_school_completed = 6\n",
    "print(f\"The number of years of school completed = {number_of_years_of_school_completed}\")\n",
    "\n",
    "# 'float' TYPE VARIBALE (4 youngester and their number of years completed)\n",
    "avg_no_years_completed_by_younger = (7+6+7+8)/4\n",
    "print(f\"The average number of years completed by a younger child = {avg_no_years_completed_by_younger}\")\n",
    "\n",
    "# 'string' TYPE VARIBALE\n",
    "type_of_milk = \"Buttermilk\"\n",
    "print(f\"Type of milk = {type_of_milk}\")\n",
    "\n",
    "# --------------- Extra Variables ------------------------\n",
    "\n",
    "# 'boolean' TYPE VARIABLE\n",
    "smokes_cigarettes = False\n",
    "print(f\"Jack smokes cigarretes = {smokes_cigarettes}\")\n",
    "\n",
    "# 'long' TYPE VARIABLE\n",
    "example_long = 15000000000\n",
    "print(f\"Example of a long variable = {example_long}\")\n",
    "\n",
    "# 'short' TYPE VARIABLE\n",
    "example_short = 500\n",
    "print(f\"Example of a short variable = {example_short}\")\n"
   ]
  },
  {
   "cell_type": "markdown",
   "metadata": {},
   "source": [
    "## Functions\n",
    "If we wanted to run this population estimate multiple times, it is good practice to construct a function to do it. For instance..."
   ]
  },
  {
   "cell_type": "code",
   "execution_count": 19,
   "metadata": {},
   "outputs": [],
   "source": [
    "def estimate_population(recorded_deaths, death_rate):\n",
    "    return recorded_deaths/death_rate"
   ]
  },
  {
   "cell_type": "markdown",
   "metadata": {},
   "source": [
    "We can now calculate the estimate for a number of scenarios..."
   ]
  },
  {
   "cell_type": "code",
   "execution_count": 20,
   "metadata": {},
   "outputs": [
    {
     "name": "stdout",
     "output_type": "stream",
     "text": [
      "estimate 1:  781866.6666666667\n",
      "estimate 2:  360000.0\n",
      "estimate 3:  714285.7142857142\n"
     ]
    }
   ],
   "source": [
    "print(\"estimate 1: \", estimate_population(23456, 0.03))\n",
    "print(\"estimate 2: \", estimate_population(18000, 0.05))\n",
    "print(\"estimate 3: \", estimate_population(50000, 0.07))\n"
   ]
  },
  {
   "cell_type": "markdown",
   "metadata": {},
   "source": [
    "To define a function we use the <code>def</code> keyword followed by the function name then the argument names in brackets followed by a colon. The following lines must be indented and this indicates that they belong to the function. Any indentation is allowed but <b>you are strongly advised to use 4 spaces (do not use tabs)</b>."
   ]
  },
  {
   "cell_type": "markdown",
   "metadata": {},
   "source": [
    "## Lists, Tuples and Numpy Arrays\n",
    "\n",
    "### Lists\n",
    "\n",
    "Lists can be used to store collections of items of any type."
   ]
  },
  {
   "cell_type": "code",
   "execution_count": 21,
   "metadata": {},
   "outputs": [
    {
     "name": "stdout",
     "output_type": "stream",
     "text": [
      "[1, 3, 5, 7, 9, 11] is an acceptable list\n",
      "['fish', 'and', 'chips'] is an acceptable list\n",
      "['One', 2, True, None, 3.4, ['A', 'list', 'within', 'a', 'list']] is an acceptable list\n"
     ]
    }
   ],
   "source": [
    "# This is an acceptable list\n",
    "x = [1, 3, 5,7,9,11]\n",
    "print(f\"{x} is an acceptable list\")\n",
    "# This is an acceptable list\n",
    "y = [\"fish\", \"and\", \"chips\"]\n",
    "print(f\"{y} is an acceptable list\")\n",
    "# This is an acceptable list\n",
    "z = [\"One\", 2, True, None, 3.4, [\"A\", \"list\", \"within\", \"a\", \"list\"]]\n",
    "print(f\"{z} is an acceptable list\")\n"
   ]
  },
  {
   "cell_type": "code",
   "execution_count": 23,
   "metadata": {},
   "outputs": [
    {
     "name": "stdout",
     "output_type": "stream",
     "text": [
      "x looks like this [1, 247, 5, 7, 9, 11]\n",
      "The element at index 1 of x is 247\n",
      "Now x looks like this [1, 247, 5, 7, 9, 11]\n",
      "And now the element at index 1 of x is 247\n",
      "x[0:2] looks like this [1, 247]\n",
      "x[2:] looks like this [5, 7, 9, 11]\n",
      "x[:4] looks like this [1, 247, 5, 7]\n",
      "x[4:1:-1] looks like this [9, 7, 5]\n",
      "x[::-1] looks like this [11, 9, 7, 5, 247, 1]\n"
     ]
    }
   ],
   "source": [
    "print(f\"x looks like this {x}\")\n",
    "index = 1\n",
    "element = x[index]\n",
    "print(f\"The element at index {index} of x is {element}\")\n",
    "# we can update x with\n",
    "x[index] = 247\n",
    "print(f\"Now x looks like this {x}\")\n",
    "element = x[index]\n",
    "print(f\"And now the element at index {index} of x is {element}\")\n",
    "\n",
    "# we can access multiple elements of a list at the same time with a slice\n",
    "print(f\"x[0:2] looks like this {x[0:2]}\")\n",
    "print(f\"x[2:] looks like this {x[2:]}\")\n",
    "print(f\"x[:4] looks like this {x[:4]}\")\n",
    "# even going backwards\n",
    "print(f\"x[4:1:-1] looks like this {x[4:1:-1]}\")\n",
    "print(f\"x[::-1] looks like this {x[::-1]}\")\n"
   ]
  },
  {
   "cell_type": "markdown",
   "metadata": {},
   "source": [
    "We  can access members of a list via their index to both read an write elements. We can also append elements to a list, extend a list by another and concatenate two lists."
   ]
  },
  {
   "cell_type": "code",
   "execution_count": 25,
   "metadata": {},
   "outputs": [
    {
     "name": "stdout",
     "output_type": "stream",
     "text": [
      "Now z looks like this ['One', 2, True, None, 3.4, ['A', 'list', 'within', 'a', 'list'], 'next', 'next']\n",
      "Now x looks like this [1, 247, 5, 7, 9, 11, 'One', 2, True, None, 3.4, ['A', 'list', 'within', 'a', 'list'], 'next', 'One', 2, True, None, 3.4, ['A', 'list', 'within', 'a', 'list'], 'next', 'next']\n",
      "new_list looks like this ['fish', 'and', 'chips', 'are', 'delicious']\n"
     ]
    }
   ],
   "source": [
    "# append an element\n",
    "z.append(\"next\")\n",
    "print(f\"Now z looks like this {z}\")\n",
    "# extend a list\n",
    "x.extend(z)\n",
    "print(f\"Now x looks like this {x}\")\n",
    "\n",
    "# concatenate lists\n",
    "new_list = y + [\"are\", \"delicious\"]\n",
    "print(f\"new_list looks like this {new_list}\")"
   ]
  },
  {
   "cell_type": "markdown",
   "metadata": {},
   "source": [
    "### Tuples\n",
    "Tuples are like lists but cannot be modified.\n"
   ]
  },
  {
   "cell_type": "code",
   "execution_count": 26,
   "metadata": {},
   "outputs": [
    {
     "name": "stdout",
     "output_type": "stream",
     "text": [
      "(0, 2, 4, 'end') is an acceptable tuple\n",
      "w[1] is 2\n",
      "w[3] is end\n"
     ]
    }
   ],
   "source": [
    "w = (0,2,4,\"end\")\n",
    "print(f\"{w} is an acceptable tuple\")\n",
    "# we can access elements of w\n",
    "print(f\"w[1] is {w[1]}\")\n",
    "print(f\"w[3] is {w[3]}\")\n",
    "# but we cannot modify elements, append to or extend w."
   ]
  },
  {
   "cell_type": "markdown",
   "metadata": {},
   "source": [
    "If you want to modify a tuple you must convert to a list. You can convert it back later if need-be. "
   ]
  },
  {
   "cell_type": "code",
   "execution_count": 27,
   "metadata": {},
   "outputs": [
    {
     "name": "stdout",
     "output_type": "stream",
     "text": [
      "w looks like this (0, 2, 4, 'end')\n",
      "w_list looks like this [0, 2, 4, 'end']\n",
      "Now w_list looks like this ['start', 2, 4, 'end']\n",
      "Now w looks like this ('start', 2, 4, 'end')\n"
     ]
    }
   ],
   "source": [
    "print(f\"w looks like this {w}\")\n",
    "w_list = list(w)\n",
    "print(f\"w_list looks like this {w_list}\")\n",
    "w_list[0] = \"start\"\n",
    "print(f\"Now w_list looks like this {w_list}\")\n",
    "w = tuple(w_list)\n",
    "print(f\"Now w looks like this {w}\")\n",
    "\n"
   ]
  },
  {
   "cell_type": "markdown",
   "metadata": {},
   "source": [
    "### Numpy arrays\n",
    "\n",
    "Numpy is a library you will need to install before you can use it. We will be making much use of it in the module so I suggest you do so if you haven't already ([see here]{https://numpy.org/install/}).\n",
    "\n",
    "Numpy arrays come with a suite of extra functionality but are slightly more restrictive in their use.  "
   ]
  },
  {
   "cell_type": "code",
   "execution_count": 29,
   "metadata": {},
   "outputs": [
    {
     "name": "stdout",
     "output_type": "stream",
     "text": [
      "a looks like this [-1  6  8  9 31 47 53 72]\n",
      "a[2:] looks like this [ 8  9 31 47 53 72]\n",
      "a[[1,3,6]] looks like this [ 6  9 53]\n",
      "b looks like this [[ 1  2  3]\n",
      " [ 4  5  6]\n",
      " [ 7  8  9]\n",
      " [10 11 12]]\n",
      "b.transpose() looks like this [[ 1  4  7 10]\n",
      " [ 2  5  8 11]\n",
      " [ 3  6  9 12]]\n",
      "b.T looks like this [[ 1  4  7 10]\n",
      " [ 2  5  8 11]\n",
      " [ 3  6  9 12]]\n",
      "b[1:3,1:] looks like this [[4 5 6]\n",
      " [7 8 9]]\n"
     ]
    }
   ],
   "source": [
    "# we must somewhere in the file import numpy, e.g.\n",
    "#import numpy\n",
    "# Many prefer to do this with an alias \n",
    "import numpy as np\n",
    "\n",
    "a = np.array([-1,6,8,9,31, 47, 53, 72])\n",
    "print(f\"a looks like this {a}\")\n",
    "print(f\"a[2:] looks like this {a[2:]}\")\n",
    "# we can use a list of indices for a\n",
    "print(f\"a[[1,3,6]] looks like this {a[[1,3,6]]}\")\n",
    "\n",
    "# arrays can be multi-dimensional\n",
    "b = np.array([[1,2,3],[4,5,6],[7,8,9],[10,11,12]])\n",
    "print(f\"b looks like this {b}\")\n",
    "# and can be transposed like this:\n",
    "print(f\"b.transpose() looks like this {b.transpose()}\")\n",
    "# or like this\n",
    "print(f\"b.T looks like this {b.T}\")\n",
    "# we can access sub-arrays\n",
    "print(f\"b[1:3,1:] looks like this {b[1:3,:]}\")\n"
   ]
  },
  {
   "cell_type": "markdown",
   "metadata": {},
   "source": [
    "Don't worry if numpy arrays look a little complicated right now. We will be working with them a great deal, and you will get plenty of practice."
   ]
  },
  {
   "cell_type": "markdown",
   "metadata": {},
   "source": [
    "## Exercises B\n",
    "\n",
    "Look at the code block with the roulette function. Create your own function in the same block called <code>switch_first_and_last</code> which takes a list as input and swaps the elements in the first and last position. You can refer to the last position in two ways. Look at [this tutorial page](https://www.w3schools.com/python/python_lists.asp) on lists if you do not know how. Be careful, you must store one of the results in a temporary variable. before copying the other across.\n",
    "\n",
    "Now look at question 3 in (Ross, 2017, p. 12). Then complete the following:\n",
    "\n",
    "1. Encode each row of the table as it's own list.\n",
    "1. Calculate the change in percentage for males between 1999 and 2000.\n",
    "1. Can you calculate all changes in percentage from one year to the next for both males and females? Try converting your lists to Numpy arrays first.\n",
    "1. How would you use python to help answer Questions 3 (a) and (b)?"
   ]
  },
  {
   "cell_type": "code",
   "execution_count": 34,
   "metadata": {},
   "outputs": [
    {
     "name": "stdout",
     "output_type": "stream",
     "text": [
      "Original List: [1, 2, 3, 4, 5, 6]\n",
      "Final List: [6, 2, 3, 4, 5, 1]\n"
     ]
    }
   ],
   "source": [
    "# to complete\n",
    "\n",
    "# FUNCTION TO SWAP ELEMENTS IN FIRST AND LAST POSITION\n",
    "def list_elem_swap(input_list):\n",
    "    # Record the size of the inputted list\n",
    "    size_input_list = len(input_list)\n",
    "    \n",
    "    # Storing first element\n",
    "    first_element = input_list[0]\n",
    "    # Storing last element\n",
    "    last_element = input_list[size_input_list - 1]\n",
    "    \n",
    "    # Swapping first and last element\n",
    "    input_list[0] = last_element\n",
    "    input_list[size_input_list - 1] = first_element\n",
    "    return input_list    \n",
    "\n",
    "test_list = [1,2,3,4,5,6]\n",
    "print(f\"Original List: {test_list}\")\n",
    "output_list = list_elem_swap(test_list)\n",
    "print(f\"Final List: {output_list}\")\n"
   ]
  },
  {
   "cell_type": "code",
   "execution_count": 117,
   "metadata": {},
   "outputs": [
    {
     "name": "stdout",
     "output_type": "stream",
     "text": [
      "Percentage change between 1999 and 2000 for males is = 0.04946996466431103\n",
      "Percentage change between 1999 and 2000 for males is = 0.04946996466431103\n",
      "Percentage change between 2000 and 2001 for males is = -0.007434944237918322\n",
      "Percentage change between 2001 and 2002 for males is = -0.059040590405903974\n",
      "Percentage change between 1999 and 2000 for females is = 0.0128205128205127\n",
      "Percentage change between 2000 and 2001 for females is = 0.004329004329004391\n",
      "Percentage change between 2001 and 2002 for females is = -0.017391304347826025\n",
      "For (a) can work out percentage change of each group and then see which group displays the smallest percentage change over the years.\n",
      "For (b) can use python matplotlib to draw a line graph for each group on the same axis. This will then visually display an overall trend.\n"
     ]
    }
   ],
   "source": [
    "# ANSWERS FOR QUESTION 3 (ROSS, 2017, PG.12)\n",
    "\n",
    "# (1) Encode each row of the table as it's own list\n",
    "year_ = [1999, 2000, 2001, 2002]\n",
    "total = [25.8, 24.9, 24.9, 26.0]\n",
    "male = [28.3, 26.9, 27.1, 28.7]\n",
    "female = [23.4, 23.1, 23.0, 23.4]\n",
    "non_highschool_grad = [39.9, 32.4, 33.8, 35.2]\n",
    "highschool_grad = [36.4, 31.1, 32.1, 32.3]\n",
    "some_college = [32.5, 27.7, 26.7, 29.0]\n",
    "college_graduate = [18.2, 13.9, 13.8, 14.5]\n",
    "\n",
    "# (2) Calculate the change in percentage for males between 1999 and 2000\n",
    "change_in_perc_men_1999_2000 = (male[0]-male[1])/male[0]   \n",
    "print(f\"Percentage change between 1999 and 2000 for males is = {change_in_perc_men_1999_2000}\")\n",
    "\n",
    "# (3) Can you calculate all changes in percentage from one year to the next for both males and females? Try converting your lists to Numpy arrays first\n",
    "import numpy as np\n",
    "male_np = np.array(male)\n",
    "female_np = np.array(female)\n",
    "\n",
    "# MALES 1999-2000 % CHANGE\n",
    "m_pc_1999_2000 = (male_np[0]-male_np[1])/male_np[0]\n",
    "m_pc_1999_2000\n",
    "print(f\"Percentage change between 1999 and 2000 for males is = {m_pc_1999_2000}\")\n",
    "\n",
    "# MALES 2000-2001 % CHANGE\n",
    "m_pc_2000_2001 = (male_np[1]-male_np[2])/male_np[1]\n",
    "m_pc_2000_2001\n",
    "print(f\"Percentage change between 2000 and 2001 for males is = {m_pc_2000_2001}\")\n",
    "\n",
    "# MALES 2001-2002 % CHANGE\n",
    "m_pc_2001_2002 = (male_np[2]-male_np[3])/male_np[2]\n",
    "m_pc_2001_2002\n",
    "print(f\"Percentage change between 2001 and 2002 for males is = {m_pc_2001_2002}\")\n",
    "\n",
    "# -------------------------------\n",
    "\n",
    "# FEMALES 1999-2000 % CHANGE\n",
    "f_pc_1999_2000 = (female_np[0]-female_np[1])/female_np[0]\n",
    "f_pc_1999_2000\n",
    "print(f\"Percentage change between 1999 and 2000 for females is = {f_pc_1999_2000}\")\n",
    "\n",
    "# FEMALES 2000-2001 % CHANGE\n",
    "f_pc_2000_2001 = (female_np[1]-female_np[2])/female_np[1]\n",
    "f_pc_2000_2001\n",
    "print(f\"Percentage change between 2000 and 2001 for females is = {f_pc_2000_2001}\")\n",
    "\n",
    "# FEMALES 2001-2002 % CHANGE\n",
    "f_pc_2001_2002 = (female_np[2]-female_np[3])/female_np[2]\n",
    "f_pc_2001_2002\n",
    "print(f\"Percentage change between 2001 and 2002 for females is = {f_pc_2001_2002}\")\n",
    "\n",
    "\n",
    "# (4) How would you use python to help answer Questions 3 (a) and (b)?\n",
    "print(\"For (a) can work out percentage change of each group and then see which group displays the smallest percentage change over the years.\")\n",
    "print(\"For (b) can use python matplotlib to draw a line graph for each group on the same axis. This will then visually display an overall trend.\")\n",
    "# (a) The female group has steady decline\n",
    "# (b) The percentage in each group, of cigarette users decreases between 1999 and 2001, but then increases in 2002."
   ]
  },
  {
   "cell_type": "markdown",
   "metadata": {},
   "source": [
    "## Control flow\n",
    "\n",
    "Control flow, if, if-else, while etc are available in python and you use these just as in other proceedural programming languages. The local scope of if-blocks etc must be indented. Nested blocks must be indented further to the right than the parent block. There is no need for brackets with if/while conditions, and we use elif for else-if. For instance:\n"
   ]
  },
  {
   "cell_type": "code",
   "execution_count": 59,
   "metadata": {},
   "outputs": [
    {
     "name": "stdout",
     "output_type": "stream",
     "text": [
      "True is always true\n",
      "When an if-test fails the else block will be executed.\n",
      "0 is coloured green\n",
      "1 is coloured red\n",
      "2 is coloured black\n"
     ]
    }
   ],
   "source": [
    "if True:\n",
    "    print(f\"{True} is always true\")\n",
    "    \n",
    "if 1 == 0:\n",
    "    print(\"This statement will not print\")\n",
    "else:\n",
    "    print(\"When an if-test fails the else block will be executed.\")\n",
    "    \n",
    "def roulette_colour(number):\n",
    "    if (number % 2) == 1:\n",
    "        return \"red\"\n",
    "    elif number != 0:\n",
    "        return \"black\"\n",
    "    else:\n",
    "        return \"green\"\n",
    "\n",
    "print(f\"{0} is coloured {roulette_colour(0)}\")\n",
    "print(f\"{1} is coloured {roulette_colour(1)}\")\n",
    "print(f\"{2} is coloured {roulette_colour(2)}\")"
   ]
  },
  {
   "cell_type": "markdown",
   "metadata": {},
   "source": [
    "For loops have a very compact syntax. One very common form is:\n",
    "\n",
    "<code>for {variable} in {collection}:</code>\n",
    "\n",
    "Another powerful form is:\n",
    "\n",
    "<code>for {variable} in {generator}:</code>\n",
    "\n",
    "A generator can be thought of a lazily evaluated collection (i.e. elements are only calculated/evaluated as needed). One very common generator is <code>range</code> see [here](https://wiki.python.org/moin/Generators) for more on generators and [here](https://docs.python.org/3/library/functions.html) for more on built in functions.\n",
    "    "
   ]
  },
  {
   "cell_type": "code",
   "execution_count": 60,
   "metadata": {},
   "outputs": [
    {
     "name": "stdout",
     "output_type": "stream",
     "text": [
      "0 is coloured green\n",
      "1 is coloured red\n",
      "2 is coloured black\n",
      "3 is coloured red\n",
      "4 is coloured black\n",
      "5 is coloured red\n",
      "6 is coloured black\n"
     ]
    }
   ],
   "source": [
    "for n in range(7):\n",
    "    print(f\"{n} is coloured {roulette_colour(n)}\")"
   ]
  },
  {
   "cell_type": "markdown",
   "metadata": {},
   "source": [
    "This gives us enough to start talking about the statistics. There are many more features to python and we will being to explore some of these through the module. However, I suggest you look at the Moodle page [guidance on python](https://moodle.ucl.ac.uk/mod/page/view.php?id=2011137) to familiarise yourself with these a little in advance."
   ]
  },
  {
   "cell_type": "markdown",
   "metadata": {},
   "source": [
    "# Final Exercises\n",
    "\n",
    "What follows contains some incomplete parts for you to fill in yourself.\n",
    "\n",
    "## John Graunt's \"Total Deaths in England\" (Ross, 2017, Tbl. 1.2)\n",
    "Let's encode Table 1.2 in python and explore the values. Two lists <code>years</code> and <code>burials</code> have been created for you corresponding to columns 0 and 1 of the table (counting from 0). Create a third variable <code>plague_deaths</code> based on the final column. Then iterate over the three lists printing out the year, burials and plague deaths for each row of the table."
   ]
  },
  {
   "cell_type": "code",
   "execution_count": 66,
   "metadata": {},
   "outputs": [
    {
     "name": "stdout",
     "output_type": "stream",
     "text": [
      "1592 25886 11503\n",
      "1593 17844 10662\n",
      "1603 37294 30561\n",
      "1625 51758 35417\n",
      "1636 23359 10400\n"
     ]
    }
   ],
   "source": [
    "# Required to use the zip function\n",
    "import itertools \n",
    "\n",
    "years = [1592, 1593, 1603, 1625, 1636]\n",
    "burials = [25886, 17844, 37294, 51758, 23359]\n",
    "plague_deaths = [11503, 10662, 30561, 35417, 10400]\n",
    "    \n",
    "for (a, b, c) in zip(years, burials, plague_deaths):\n",
    "    print(a,b,c)\n"
   ]
  },
  {
   "cell_type": "markdown",
   "metadata": {},
   "source": [
    "### Calculating the average\n",
    "We would like to calculate the average (mean) of burials and plague deaths in one year for  the years recorded. Again there are a number of ways to do this, but you should use the Numpy <code>mean</code> function. In this module, you will be asked to investigate the documentation for unfamiliar functions so that you can learn how to use them. You can find documentation on <code>numpy.mean</code> [here](https://numpy.org/doc/stable/reference/generated/numpy.mean.html). You should always look at the standard documentation first, and in this case there are examples of usage. However, if you find the documentation difficult to read at first you can always perform a web-search on examples of usage.\n",
    "\n",
    "Calculate the mean number of burials and plague deaths recorded and print these out. Can you calculate the standard deviation too using another Numpy function?"
   ]
  },
  {
   "cell_type": "code",
   "execution_count": 75,
   "metadata": {},
   "outputs": [
    {
     "name": "stdout",
     "output_type": "stream",
     "text": [
      "Mean Number of Burials = 31228.2\n",
      "Mean Number of Plague Deaths = 19708.6\n",
      "Standard Deviation of Burials = 12065.378873454409\n",
      "Standard Deviation of Plague Deaths = 10957.65753434556\n"
     ]
    }
   ],
   "source": [
    "# we've already imported numpy with short name np, so there is no need to \n",
    "# import this again here.\n",
    "\n",
    "# MEAN NUMBER OF BURIALS AND PLAGUE DEATHS \n",
    "mean_burials = np.mean(burials)\n",
    "print(f\"Mean Number of Burials = {mean_burials}\")\n",
    "\n",
    "mean_plague_deaths = np.mean(plague_deaths) \n",
    "print(f\"Mean Number of Plague Deaths = {mean_plague_deaths}\")\n",
    "\n",
    "# STANDARD DEVIATION FOR BURIALS AND PLAGUE DEATHS\n",
    "std_burials = np.std(burials)\n",
    "print(f\"Standard Deviation of Burials = {std_burials}\")\n",
    "\n",
    "std_plague_deaths = np.std(plague_deaths)\n",
    "print(f\"Standard Deviation of Plague Deaths = {std_plague_deaths}\")\n"
   ]
  },
  {
   "cell_type": "markdown",
   "metadata": {},
   "source": [
    "### Significant figures\n",
    "\n",
    "Calculations like the above can lead to long strings of digits, many of which have very little impact on the result. For instance, the fractional values here are possibly less important than those left of the decimal point. More importantly, they can give us an unwarranted impression of the accuracy of some calculation (more later). It is common therefore, to limit the number of significant figures or set a number of decimal places for your output. Look at the documentation for string formatting numbers and then recreate the last exercise using 0 decimal places.\n",
    "\n",
    "[advanced] Do the same but producing 3 significant figures (use the g flag). Is this better?"
   ]
  },
  {
   "cell_type": "code",
   "execution_count": 78,
   "metadata": {},
   "outputs": [
    {
     "name": "stdout",
     "output_type": "stream",
     "text": [
      "Mean Number of Burials = 31228.0\n",
      "Mean Number of Plague Deaths = 19709.0\n",
      "Standard Deviation of Burials = 12065.0\n",
      "Standard Deviation of Plague Deaths = 10958.0\n"
     ]
    }
   ],
   "source": [
    "# MEAN NUMBER OF BURIALS AND PLAGUE DEATHS (0 d.p.)\n",
    "mean_burials = np.around(np.mean(burials),0)\n",
    "print(f\"Mean Number of Burials = {mean_burials}\")\n",
    "\n",
    "mean_plague_deaths = np.around(np.mean(plague_deaths),0) \n",
    "print(f\"Mean Number of Plague Deaths = {mean_plague_deaths}\")\n",
    "\n",
    "# STANDARD DEVIATION FOR BURIALS AND PLAGUE DEATHS\n",
    "std_burials = np.around(np.std(burials),0)\n",
    "print(f\"Standard Deviation of Burials = {std_burials}\")\n",
    "\n",
    "std_plague_deaths = np.around(np.std(plague_deaths),0)\n",
    "print(f\"Standard Deviation of Plague Deaths = {std_plague_deaths}\")"
   ]
  },
  {
   "cell_type": "markdown",
   "metadata": {},
   "source": [
    "## A very quick introduction to plotting\n",
    "We can plot data in a number of ways using the <code>matplotlib</code> library. You can find the documentation [here](https://matplotlib.org/). Make sure you have the library installed before you proceed.\n",
    "\n",
    "To use this library we must first import it. We are interested in the <code>pyplot</code> module. Then we can use the module's <code>plot</code> function to plot the data we have. See below for an example."
   ]
  },
  {
   "cell_type": "code",
   "execution_count": 80,
   "metadata": {},
   "outputs": [
    {
     "data": {
      "text/plain": [
       "[<matplotlib.lines.Line2D at 0x226b1b9a6d8>]"
      ]
     },
     "execution_count": 80,
     "metadata": {},
     "output_type": "execute_result"
    },
    {
     "data": {
      "image/png": "[encoded data removed]",
      "text/plain": [
       "<Figure size 432x288 with 1 Axes>"
      ]
     },
     "metadata": {
      "needs_background": "light"
     },
     "output_type": "display_data"
    }
   ],
   "source": [
    "import matplotlib.pyplot as plt\n",
    "\n",
    "plt.plot(years,burials)\n",
    "plt.plot(years, plague_deaths)\n"
   ]
  },
  {
   "cell_type": "markdown",
   "metadata": {},
   "source": [
    "Is this the best way of showing the data? We'll discuss this in more detail through the module, but for now your task is to label the axes and provide a legend. Investigate the documentation and other online sources to see how."
   ]
  },
  {
   "cell_type": "code",
   "execution_count": 102,
   "metadata": {},
   "outputs": [
    {
     "data": {
      "text/plain": [
       "<matplotlib.legend.Legend at 0x226b3373e48>"
      ]
     },
     "execution_count": 102,
     "metadata": {},
     "output_type": "execute_result"
    },
    {
     "data": {
      "image/png": "[encoded data removed]",
      "text/plain": [
       "<Figure size 432x288 with 1 Axes>"
      ]
     },
     "metadata": {
      "needs_background": "light"
     },
     "output_type": "display_data"
    }
   ],
   "source": [
    "plt.plot(years,burials)\n",
    "plt.plot(years, plague_deaths)\n",
    "plt.xlabel('Year')\n",
    "plt.ylabel('Number of Deaths')\n",
    "plt.legend(['Burials', 'Pleague Deaths'])"
   ]
  },
  {
   "cell_type": "markdown",
   "metadata": {},
   "source": [
    "Look again at Exercise 3 from (Ross,2017)[Chp. 1] and the variables you created above. Can you create plots for this data too? Does this help answer the question?"
   ]
  },
  {
   "cell_type": "code",
   "execution_count": 137,
   "metadata": {},
   "outputs": [
    {
     "data": {
      "text/plain": [
       "Text(0, 0.5, 'Cigarette Use in the U.S.')"
      ]
     },
     "execution_count": 137,
     "metadata": {},
     "output_type": "execute_result"
    },
    {
     "data": {
      "image/png": "[encoded data removed]",
      "text/plain": [
       "<Figure size 432x288 with 1 Axes>"
      ]
     },
     "metadata": {
      "needs_background": "light"
     },
     "output_type": "display_data"
    }
   ],
   "source": [
    "#  Exercise 3 (Ross,2017)[Chp. 1]\n",
    "import matplotlib.ticker\n",
    "\n",
    "\n",
    "plt.plot(year_, male)\n",
    "plt.plot(year_, female)\n",
    "plt.plot(year_, non_highschool_grad)\n",
    "plt.plot(year_, highschool_grad)\n",
    "plt.plot(year_, some_college)\n",
    "plt.plot(year_, college_graduate)\n",
    "\n",
    "plt.legend(['Males', 'Females', 'Non Highschool Graduates', \n",
    "            'Highschool Graduates', 'Some College', 'College Graduates'],\n",
    "          bbox_to_anchor=(1, 1))\n",
    "\n",
    "# GET RID OF THE 0.5 FOR THE YEARS\n",
    "formatter = matplotlib.ticker.StrMethodFormatter(\"{x:.0f}\")\n",
    "plt.gca().xaxis.set_major_formatter(formatter)\n",
    "plt.xlabel('Year')\n",
    "plt.ylabel('Cigarette Use in the U.S.')"
   ]
  },
  {
   "cell_type": "code",
   "execution_count": null,
   "metadata": {},
   "outputs": [],
   "source": [
    "#  Exercise 3 (Ross,2017)[Chp. 1]\n",
    "\n",
    "# (a) graph shows that 'females' group had steady decline\n",
    "# (b) overall trend is that there is a decrease from 1999 to 2001, and then from 2001 to 2002, there is a rise again"
   ]
  },
  {
   "cell_type": "markdown",
   "metadata": {},
   "source": [
    "## Graunt's Mortality Table (Ross, 2017, Tbl. 1.3)\n",
    "Here we are going to investigate Graunt's mortality table (Table 1.3) from the textbook. Let's encode the data before we start to explore it.\n",
    "We'll start by encoding the age boundaries between rows as a single numpy array (variable <code>age_boundaries</code>) and the deaths per row as another (variable <code>deaths</code>). Why is it better to encode the age boundaries first rather than anything else?\n",
    "\n",
    "Now create arrays <code>lower_boundaries</code> and <code>upper_boundaries</code> using the existing variables. What is the problem?"
   ]
  },
  {
   "cell_type": "code",
   "execution_count": 140,
   "metadata": {},
   "outputs": [
    {
     "name": "stdout",
     "output_type": "stream",
     "text": [
      "age_boundaries = [ 0  6 16 26 36 46 56 66 76]\n",
      "deaths = [36 24 15  9  6  4  3  2  1]\n"
     ]
    }
   ],
   "source": [
    "# no need to import numpy module again (here called np)\n",
    "age_boundaries = np.array([0,6,16,26,36,46,56,66,76])\n",
    "deaths = np.array([36, 24, 15, 9, 6, 4, 3, 2, 1])\n",
    "print(f\"age_boundaries = {age_boundaries}\")\n",
    "print(f\"deaths = {deaths}\")\n",
    "\n",
    "# Because need ages to group the deaths per 100 births\n",
    "# Cannot create lower and upper boundaries as age groups clash (e.g. 0-6 and 6-16 both have 6)\n"
   ]
  },
  {
   "cell_type": "markdown",
   "metadata": {},
   "source": [
    "What barriers are there to us performing an average age at death calculation?\n",
    "\n",
    "Instead, you are going to calculate values for which there aren't similar barriers. Use python and your knowledge of the data to calculate the following.\n",
    "\n",
    "  1. Given Graunt's analysis, how many people in each 100 die before their 16th birthday?\n",
    "  1. Given this analysis and 387200 births (Graunt's estimate of the population of London), how many of those people would die before their 16th birthday?\n",
    "  1. Based on these values, what proportion of each people die sometime between the age of 36 (inclusive) and 56 (exclusive) in Graunt's time?\n",
    "  1. Given all those still alive on their 26th birthday, what proportion go on to live to 56 or over?\n",
    "\n",
    "Print out these values with appropriate statements."
   ]
  },
  {
   "cell_type": "code",
   "execution_count": 145,
   "metadata": {},
   "outputs": [
    {
     "name": "stdout",
     "output_type": "stream",
     "text": [
      "580800.0\n",
      "96800.0\n",
      "58080.0\n"
     ]
    }
   ],
   "source": [
    "# (1) Given Graunt's analysis, how many people in each 100 die before their 16th birthday?\n",
    "60\n",
    "\n",
    "# (2)\n",
    "population = 387200\n",
    "frac_deaths_before_16 = (36+24)/(15+9+6+4+3+2+1)\n",
    "answer_for_q2 = frac_deaths_before_16*387200\n",
    "print(answer_for_q2)\n",
    "\n",
    "# (3)\n",
    "frac_deaths_36inc_56exc = (6+4)/(15+9+6+4+3+2+1)\n",
    "answer_for_q3 = frac_deaths_36inc_56exc*387200\n",
    "print(answer_for_q3)\n",
    "\n",
    "# (4)\n",
    "frac_deaths_56_76plus = (3+2+1)/(15+9+6+4+3+2+1)\n",
    "answer_for_q4 = frac_deaths_56_76plus*387200\n",
    "print(answer_for_q4)"
   ]
  }
 ],
 "metadata": {
  "kernelspec": {
   "display_name": "Python 3",
   "language": "python",
   "name": "python3"
  },
  "language_info": {
   "codemirror_mode": {
    "name": "ipython",
    "version": 3
   },
   "file_extension": ".py",
   "mimetype": "text/x-python",
   "name": "python",
   "nbconvert_exporter": "python",
   "pygments_lexer": "ipython3",
   "version": "3.7.3"
  }
 },
 "nbformat": 4,
 "nbformat_minor": 4
}
