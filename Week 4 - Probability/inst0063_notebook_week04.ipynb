{
 "cells": [
  {
   "cell_type": "markdown",
   "metadata": {},
   "source": [
    "# Week 4 - Probability\n",
    "\n",
    "This is a Jupyter notebook to explore the material in (Ross, 2017, Chp. 3) with the use of Python. \n",
    "\n"
   ]
  },
  {
   "cell_type": "code",
   "execution_count": 1,
   "metadata": {},
   "outputs": [],
   "source": [
    "%matplotlib inline\n",
    "# from now on we'll start each notebook with the library imports\n",
    "# and special commands to keep these things in one place (which\n",
    "# is good practice). The line above is jupyter command to get \n",
    "# matplotlib to plot inline (between cells)\n",
    "# Next we import the libraries and give them short names\n",
    "import numpy as np\n",
    "import scipy.stats as stats\n",
    "import matplotlib.pyplot as plt\n",
    "from collections import Counter"
   ]
  },
  {
   "cell_type": "markdown",
   "metadata": {},
   "source": [
    "## Sets in Python\n",
    "\n",
    "Python provides a class called <code>set</code> which allows you to perform set operations. Let's see some examples then we can solve some of the problems from the text book."
   ]
  },
  {
   "cell_type": "code",
   "execution_count": 2,
   "metadata": {},
   "outputs": [
    {
     "name": "stdout",
     "output_type": "stream",
     "text": [
      "S = {1, 2, 3, 4, 5, 6}\n",
      "A = {1, 3, 5}\n",
      "B = {4, 6}\n",
      "C = {1, 4}\n",
      "\n"
     ]
    }
   ],
   "source": [
    "# From (Ross, 2017, p. 144, Q7)\n",
    "\n",
    "# it is convention to use lower case for python variables but\n",
    "# at times it will be clearer to match the notation from elsewhere.\n",
    "# Here we use upper case letters to refer to the sets that are \n",
    "# defined in the textbook.\n",
    "# we can define sets in one of two ways,\n",
    "# using curly braces or using the set constructor\n",
    "S = set(range(1,7)) # set constructor passing a generator\n",
    "A = set([1,3,5]) # set constructor passing a list\n",
    "B = {4,6} # curly braces\n",
    "C = {1,4}\n",
    "print(f\"S = {S}\")\n",
    "print(f\"A = {A}\")\n",
    "print(f\"B = {B}\")\n",
    "print(f\"C = {C}\")\n",
    "print()"
   ]
  },
  {
   "cell_type": "code",
   "execution_count": 3,
   "metadata": {},
   "outputs": [
    {
     "name": "stdout",
     "output_type": "stream",
     "text": [
      "|S| = 6\n",
      "\n"
     ]
    }
   ],
   "source": [
    "# The size of a set can be queried with the len function\n",
    "print(f\"|S| = {len(S)}\")\n",
    "print()"
   ]
  },
  {
   "cell_type": "code",
   "execution_count": 4,
   "metadata": {},
   "outputs": [
    {
     "name": "stdout",
     "output_type": "stream",
     "text": [
      "Adding element 11\n",
      "Now, |S| = 7\n",
      "S = {1, 2, 3, 4, 5, 6, 11}\n",
      "Removing element 11\n",
      "Now, |S| = 6\n",
      "S = {1, 2, 3, 4, 5, 6}\n",
      "Adding element 4\n",
      "Now, |S| = 6\n",
      "S = {1, 2, 3, 4, 5, 6}\n",
      "\n"
     ]
    }
   ],
   "source": [
    "# elements can be added with add and removed with remove\n",
    "print(\"Adding element 11\")\n",
    "S.add(11)\n",
    "print(f\"Now, |S| = {len(S)}\")\n",
    "print(f\"S = {S}\")\n",
    "print(\"Removing element 11\")\n",
    "S.remove(11)\n",
    "print(f\"Now, |S| = {len(S)}\")\n",
    "print(f\"S = {S}\")\n",
    "# adding an existing element does nothing as set's ignore duplicates\n",
    "print(\"Adding element 4\")\n",
    "S.add(4)\n",
    "print(f\"Now, |S| = {len(S)}\")\n",
    "print(f\"S = {S}\")\n",
    "print()"
   ]
  },
  {
   "cell_type": "code",
   "execution_count": 5,
   "metadata": {},
   "outputs": [
    {
     "name": "stdout",
     "output_type": "stream",
     "text": [
      "Is 3 in A? True\n",
      "Is 3 in B? False\n",
      "11 is no longer in S. It has been removed as expected.\n",
      "\n"
     ]
    }
   ],
   "source": [
    "# the presence of an element can be tested for with 'in'\n",
    "print(f\"Is 3 in A? {3 in A}\")\n",
    "print(f\"Is 3 in B? {3 in B}\")\n",
    "# and you can use this for control flow\n",
    "if 11 in S:\n",
    "    print(\"11 is still in S. Something must be wrong.\")\n",
    "else:\n",
    "    print(\"11 is no longer in S. It has been removed as expected.\")\n",
    "print()"
   ]
  },
  {
   "cell_type": "code",
   "execution_count": 6,
   "metadata": {},
   "outputs": [
    {
     "name": "stdout",
     "output_type": "stream",
     "text": [
      "type of emptyset is <class 'set'>\n",
      "type of emptydict is <class 'dict'>\n"
     ]
    }
   ],
   "source": [
    "# Note that the empty set must be created using the \n",
    "# set constructor\n",
    "emptyset = set()\n",
    "# if you use curly braces you get a dictionary\n",
    "emptydict = {}\n",
    "print(f\"type of emptyset is {type(emptyset)}\")\n",
    "print(f\"type of emptydict is {type(emptydict)}\")"
   ]
  },
  {
   "cell_type": "markdown",
   "metadata": {},
   "source": [
    "<code>set</code> also come with their own functions to perform set operations. For convenience, (Ross, 2017, p. 144, Q7) is repeated below, alongside Python code using the <code>set</code> operation functions.\n",
    "\n",
    "**Question 7 (a)** what is $A \\cap B$?\n",
    "\n",
    "**Question 7 (b)** - what is $B \\cup C$?\n",
    "\n",
    "**Question 7 (c)** - what is $A \\cup (B \\cap C)$?\n",
    "(Note that operations within paratheses are performed first (just like in numerical arithmetic.)\n",
    "\n",
    "**Question 7 (d)** - what is $(A \\cup B)^c$\n",
    "\n",
    "Run the code block below to see the output."
   ]
  },
  {
   "cell_type": "code",
   "execution_count": 7,
   "metadata": {},
   "outputs": [
    {
     "name": "stdout",
     "output_type": "stream",
     "text": [
      "7 (a) A ∩ B = set()\n",
      "7 (b) B ∪ C = {1, 4, 6}\n",
      "7 (c) A ∪ (B ∩ C) = {1, 3, 4, 5}\n",
      "7 (d) complement of (A ∪ B) = {2}\n"
     ]
    }
   ],
   "source": [
    "# 7(a)\n",
    "result = A.intersection(B)\n",
    "print(f\"7 (a) A ∩ B = {result}\")\n",
    "# this is the empty set, note that python prints \"set()\"\n",
    "\n",
    "# 7(b)\n",
    "result = B.union(C)\n",
    "print(f\"7 (b) B ∪ C = {result}\")\n",
    "\n",
    "# 7 (c)\n",
    "result = A.union(B.intersection(C))\n",
    "print(f\"7 (c) A ∪ (B ∩ C) = {result}\")\n",
    "\n",
    "# 7(d)\n",
    "result = S.difference(A.union(B))\n",
    "print(f\"7 (d) complement of (A ∪ B) = {result}\")"
   ]
  },
  {
   "cell_type": "markdown",
   "metadata": {},
   "source": [
    "## Exercise A - Events as Sets\n",
    "\n",
    "Consider the two dice example from the slides. Implement the following in Python.\n",
    "\n",
    "1. create the sample space $S$ as a <code>set</code>. This should consist of all outcomes of rolling two dice as pairs (2-tuples) <code>(i,j)</code>, where $i$ is the outcome of the green dice and $j$ is the outcome of the yellow dice. If you can, try using a list-comprehension, but if you aren't sure how to do this, use simple for-loops instead. Print the constituent outcomes and size of the sample space.\n",
    "1. create event $A$ (outcomes where green die shows $3$) and event $B$ as <code>set</code>s. Print the constituent outcomes and size  of these events. \n",
    "1. Print the constituent outcomes and sizes of $A \\cup B$ and $A \\cap B$.\n",
    "1. imagine a new event $C$ which is that the product of the two face values equals $6$. For instance, $(1,6) \\in C$ ($\\in$ means is-in) because $1 \\cdot 6 = 6$. However, $(2,5) \\not\\in C$ ($\\not\\in$ means is-not-in) because $2\\cdot 5 = 10 \\neq 6$. Can you predict the outcomes in $C$, $A \\cup C$, $B \\cap C^c$ and $A \\cap B \\cap C$? Use python to test your predictions.\n",
    "1. Now create a new sample space <code>S_3</code> with outcomes $(i,j,k)$ which are the faces on three rolled dice (green $i$, yellow $j$ and purple $k$). Create: event <code>A_3</code> which contains outcomes where the yellow dice shows a $5$; event <code>B_3</code> which contains outcomes where all dice sum to $11$; and event <code>C_2</code> which contains outcomes where at least two dice show the same face value. Print the sizes of the sample space and each event. Can you predict which outcomes are in $A_3 \\cap B_3 \\cap C_3$."
   ]
  },
  {
   "cell_type": "code",
   "execution_count": 8,
   "metadata": {},
   "outputs": [
    {
     "name": "stdout",
     "output_type": "stream",
     "text": [
      "QUESTION (1)\n",
      "This is the sample space S in a set: {(1, 3), (6, 6), (5, 6), (2, 1), (6, 2), (1, 6), (5, 1), (2, 5), (1, 2), (3, 3), (5, 5), (4, 4), (6, 3), (1, 5), (3, 6), (2, 2), (4, 1), (1, 1), (6, 4), (3, 2), (2, 6), (5, 4), (4, 5), (5, 2), (1, 4), (2, 3), (4, 2), (6, 5), (3, 5), (5, 3), (4, 6), (6, 1), (3, 1), (4, 3), (3, 4), (2, 4)}\n",
      "Size of sample S = 36\n",
      "\n",
      "\n",
      "QUESTION (2)\n",
      "Event A = {(3, 2), (1, 3), (3, 3), (3, 1), (6, 3), (2, 3), (3, 6), (5, 3), (4, 3), (3, 4), (3, 5)}\n",
      "Size of Event A = 11\n",
      "\n",
      "\n",
      "Event B = {(1, 3), (6, 6), (5, 6), (2, 1), (6, 2), (1, 6), (5, 1), (2, 5), (1, 2), (3, 3), (5, 5), (4, 4), (6, 3), (1, 5), (3, 6), (2, 2), (4, 1), (1, 1), (6, 4), (3, 2), (2, 6), (5, 4), (4, 5), (5, 2), (1, 4), (2, 3), (4, 2), (6, 5), (3, 5), (5, 3), (4, 6), (6, 1), (3, 1), (4, 3), (3, 4), (2, 4)}\n",
      "Size of Event B = 36\n",
      "\n",
      "\n",
      "QUESTION (3)\n",
      "A ∪ B = {(1, 3), (6, 6), (5, 6), (2, 1), (6, 2), (1, 6), (5, 1), (2, 5), (1, 2), (3, 3), (5, 5), (4, 4), (6, 3), (1, 5), (3, 6), (2, 2), (4, 1), (1, 1), (6, 4), (3, 2), (2, 6), (5, 4), (4, 5), (5, 2), (1, 4), (2, 3), (4, 2), (6, 5), (5, 3), (3, 5), (4, 6), (6, 1), (3, 1), (4, 3), (3, 4), (2, 4)}\n",
      "Size of A ∪ B = 36\n",
      "\n",
      "\n",
      "A ∩ B = {(3, 2), (1, 3), (3, 5), (3, 3), (3, 1), (6, 3), (2, 3), (3, 6), (4, 3), (3, 4), (5, 3)}\n",
      "Size of A ∩ B = 11\n",
      "\n",
      "\n",
      "QUESTION (4)\n",
      "Event C = {(3, 2), (1, 6), (6, 1), (2, 3)}\n",
      "Size of Event C = 4\n",
      "\n",
      "\n",
      "A ∪ C = {(3, 2), (1, 3), (3, 3), (6, 1), (3, 1), (6, 3), (2, 3), (1, 6), (3, 6), (5, 3), (4, 3), (3, 4), (3, 5)}\n",
      "Size of A ∪ C = 13\n",
      "\n",
      "\n",
      "B ∩ C(Complement) = {(3, 5), (1, 3), (3, 3), (3, 1), (6, 3), (3, 6), (4, 3), (3, 4), (5, 3)}\n",
      "Size of B ∩ C(Complement) = 9\n",
      "\n",
      "\n",
      "A ∩ B ∩ C = {(3, 2), (2, 3)}\n",
      "Size of A ∩ B ∩ C = 2\n",
      "\n",
      "\n",
      "QUESTION (5)\n",
      "This is the sample space S_3 in a set: {(4, 2, 2), (1, 4, 4), (2, 2, 4), (5, 5, 1), (5, 2, 1), (1, 4, 2), (5, 5, 3), (3, 1, 6), (5, 2, 3), (5, 5, 5), (3, 1, 4), (2, 6, 5), (3, 2, 2), (4, 1, 5), (3, 1, 2), (2, 6, 3), (6, 5, 5), (2, 5, 3), (4, 4, 2), (1, 2, 2), (6, 6, 3), (2, 6, 1), (6, 5, 3), (3, 2, 6), (2, 5, 1), (4, 6, 1), (4, 1, 1), (1, 2, 4), (6, 6, 1), (5, 3, 2), (1, 5, 5), (6, 5, 1), (3, 2, 4), (4, 6, 3), (4, 1, 3), (1, 2, 6), (2, 5, 5), (4, 6, 5), (1, 3, 5), (6, 3, 1), (4, 3, 6), (6, 6, 5), (5, 3, 6), (1, 5, 1), (3, 4, 5), (2, 3, 4), (1, 3, 3), (6, 3, 3), (4, 3, 4), (5, 6, 2), (5, 3, 4), (1, 5, 3), (2, 3, 6), (1, 3, 1), (6, 3, 5), (4, 3, 2), (5, 6, 4), (6, 4, 4), (3, 3, 1), (5, 1, 5), (3, 4, 1), (6, 2, 6), (5, 6, 6), (6, 4, 6), (3, 3, 3), (3, 4, 3), (2, 3, 2), (6, 2, 4), (6, 1, 2), (3, 3, 5), (2, 4, 2), (5, 1, 1), (3, 6, 6), (6, 2, 2), (5, 4, 3), (1, 6, 4), (6, 4, 2), (5, 1, 3), (2, 4, 4), (3, 6, 4), (4, 5, 2), (6, 1, 6), (5, 4, 1), (1, 6, 6), (2, 4, 6), (3, 6, 2), (2, 1, 5), (4, 5, 4), (4, 2, 5), (6, 1, 4), (3, 5, 2), (2, 2, 3), (4, 5, 6), (2, 1, 3), (5, 4, 5), (1, 6, 2), (2, 2, 1), (4, 4, 5), (2, 1, 1), (4, 2, 1), (1, 1, 2), (5, 2, 4), (3, 5, 6), (4, 4, 3), (4, 2, 3), (1, 1, 4), (5, 2, 6), (3, 5, 4), (2, 2, 5), (4, 4, 1), (1, 1, 6), (1, 4, 5), (5, 2, 2), (1, 4, 3), (5, 5, 2), (3, 1, 5), (2, 6, 6), (6, 5, 6), (1, 4, 1), (4, 1, 4), (5, 5, 4), (3, 1, 3), (2, 6, 4), (6, 5, 4), (3, 2, 3), (2, 5, 2), (4, 1, 6), (1, 2, 1), (5, 5, 6), (3, 1, 1), (2, 6, 2), (6, 5, 2), (3, 2, 1), (1, 2, 3), (6, 6, 2), (5, 3, 3), (2, 5, 6), (4, 1, 2), (1, 2, 5), (5, 3, 1), (1, 5, 4), (3, 2, 5), (2, 5, 4), (4, 6, 2), (1, 3, 6), (6, 6, 6), (1, 5, 6), (3, 4, 4), (4, 6, 4), (1, 3, 4), (6, 3, 2), (5, 6, 1), (6, 6, 4), (5, 3, 5), (3, 4, 6), (2, 3, 5), (4, 6, 6), (1, 3, 2), (6, 3, 4), (4, 3, 5), (5, 6, 3), (6, 4, 5), (1, 5, 2), (6, 3, 6), (4, 3, 3), (5, 6, 5), (5, 1, 4), (2, 4, 1), (3, 4, 2), (2, 3, 1), (6, 2, 5), (4, 3, 1), (6, 4, 1), (3, 3, 2), (2, 4, 3), (5, 1, 6), (2, 3, 3), (6, 2, 3), (6, 1, 3), (5, 4, 2), (6, 4, 3), (3, 3, 4), (2, 4, 5), (4, 5, 1), (2, 1, 6), (6, 2, 1), (6, 1, 1), (1, 6, 5), (3, 3, 6), (5, 1, 2), (3, 6, 5), (2, 1, 4), (4, 5, 3), (5, 4, 6), (3, 5, 3), (3, 6, 3), (2, 1, 2), (4, 5, 5), (4, 2, 4), (1, 1, 1), (6, 1, 5), (5, 4, 4), (1, 6, 1), (3, 5, 1), (2, 2, 2), (4, 4, 6), (3, 6, 1), (4, 2, 6), (1, 1, 3), (1, 6, 3), (4, 4, 4), (1, 1, 5), (5, 2, 5), (1, 4, 6), (3, 5, 5), (2, 2, 6)}\n",
      "Size of sample S_3 = 216\n",
      "\n",
      "\n",
      "Event A_3 = {(3, 5, 4), (1, 5, 3), (1, 5, 2), (5, 5, 1), (5, 5, 3), (5, 5, 2), (6, 5, 6), (5, 5, 5), (5, 5, 4), (6, 5, 4), (4, 5, 1), (2, 5, 2), (6, 5, 5), (4, 5, 2), (2, 5, 3), (5, 5, 6), (6, 5, 2), (4, 5, 3), (6, 5, 3), (4, 5, 4), (2, 5, 1), (3, 5, 3), (4, 5, 5), (2, 5, 6), (3, 5, 2), (1, 5, 5), (6, 5, 1), (4, 5, 6), (3, 5, 1), (1, 5, 4), (2, 5, 4), (2, 5, 5), (1, 5, 6), (3, 5, 6), (1, 5, 1), (3, 5, 5)}\n",
      "Size of Event A_3 = 36\n",
      "\n",
      "\n",
      "Event B_3 = {(4, 3, 4), (2, 3, 6), (5, 5, 1), (5, 1, 5), (6, 4, 1), (3, 3, 5), (6, 2, 3), (5, 4, 2), (2, 4, 5), (1, 6, 4), (2, 6, 3), (4, 5, 2), (4, 1, 6), (3, 2, 6), (3, 6, 2), (4, 6, 1), (4, 2, 5), (6, 1, 4), (5, 3, 3), (3, 5, 3), (1, 5, 5), (2, 5, 4), (5, 2, 4), (3, 4, 4), (4, 4, 3), (6, 3, 2), (1, 4, 6)}\n",
      "Size of Event B_3 = 27\n",
      "\n",
      "\n",
      "Event C_3 = {(4, 2, 2), (2, 2, 5), (4, 4, 1), (4, 6, 6), (1, 4, 4), (2, 2, 4), (1, 1, 6), (6, 4, 4), (5, 5, 1), (3, 3, 1), (4, 3, 3), (1, 1, 4), (5, 6, 6), (5, 2, 2), (5, 5, 3), (3, 3, 3), (5, 5, 2), (3, 3, 2), (2, 6, 6), (2, 3, 3), (5, 5, 5), (3, 3, 5), (5, 1, 1), (3, 2, 2), (3, 6, 6), (6, 2, 2), (5, 5, 4), (3, 3, 4), (2, 4, 4), (6, 5, 5), (6, 1, 1), (5, 5, 6), (3, 1, 1), (3, 3, 6), (1, 2, 2), (1, 6, 6), (6, 6, 3), (6, 6, 2), (5, 3, 3), (2, 2, 6), (4, 1, 1), (4, 5, 5), (6, 6, 1), (1, 5, 5), (2, 2, 3), (1, 1, 1), (5, 4, 4), (2, 2, 2), (4, 4, 6), (2, 2, 1), (4, 4, 5), (1, 1, 3), (2, 5, 5), (2, 1, 1), (6, 6, 6), (1, 1, 2), (4, 4, 4), (3, 4, 4), (6, 6, 5), (4, 4, 3), (1, 1, 5), (6, 6, 4), (3, 5, 5), (4, 4, 2), (1, 3, 3), (6, 3, 3)}\n",
      "Size of Event C_3 = 66\n",
      "\n",
      "\n",
      "A_3 ∩ B_3 ∩ C_3 = {(5, 5, 1), (1, 5, 5)}\n",
      "Size of A_3 ∩ B_3 ∩ C_3 = 2\n"
     ]
    }
   ],
   "source": [
    "## to complete\n",
    "\n",
    "# (1)\n",
    "print(\"QUESTION (1)\")\n",
    "S = set([(i,j) for i in range(1,7) for j in range(1,7)])\n",
    "print(f\"This is the sample space S in a set: {S}\")\n",
    "size_S = len(S)\n",
    "print(\"Size of sample S = \" + str(size_S))\n",
    "\n",
    "print('\\n')\n",
    "\n",
    "# (2)\n",
    "print(\"QUESTION (2)\")\n",
    "# Event A \n",
    "A = set()\n",
    "for i in S:\n",
    "    if(3 in i):\n",
    "        A.add(i)\n",
    "print(f\"Event A = {A}\")\n",
    "print(f\"Size of Event A = {len(A)}\")\n",
    "\n",
    "print('\\n')\n",
    "\n",
    "# Event B\n",
    "B = S\n",
    "print(f\"Event B = {B}\")\n",
    "print(f\"Size of Event B = {len(B)}\")\n",
    "\n",
    "print('\\n')\n",
    "\n",
    "#(3)\n",
    "print(\"QUESTION (3)\")\n",
    "# A ∪ B\n",
    "q3_result1 = A.union(B)\n",
    "print(f\"A ∪ B = {q3_result1}\")\n",
    "print(f\"Size of A ∪ B = {len(q3_result1)}\")\n",
    "\n",
    "print('\\n')\n",
    "\n",
    "# A ∩ B\n",
    "q3_result2 = A.intersection(B)\n",
    "print(f\"A ∩ B = {q3_result2}\")\n",
    "print(f\"Size of A ∩ B = {len(q3_result2)}\")\n",
    "\n",
    "print('\\n')\n",
    "\n",
    "#(4)\n",
    "print(\"QUESTION (4)\")\n",
    "# Event C\n",
    "C = set()\n",
    "for i in S:\n",
    "    if(np.prod(i) == 6):\n",
    "        C.add(i)\n",
    "print(f\"Event C = {C}\")\n",
    "print(f\"Size of Event C = {len(C)}\")\n",
    "\n",
    "print('\\n')\n",
    "\n",
    "# A ∪ C\n",
    "q4_result1 = A.union(C)\n",
    "print(f\"A ∪ C = {q4_result1}\")\n",
    "print(f\"Size of A ∪ C = {len(q4_result1)}\")\n",
    "print('\\n')\n",
    "\n",
    "# B ∩ C(Complement)\n",
    "q4_result2 = A.union(C)\n",
    "q4_result3 = q4_result2.difference(C)\n",
    "print(f\"B ∩ C(Complement) = {q4_result3}\")\n",
    "print(f\"Size of B ∩ C(Complement) = {len(q4_result3)}\")\n",
    "print('\\n')\n",
    "\n",
    "# A ∩ B ∩ C\n",
    "q4_result4 = A.intersection(B)\n",
    "q4_result5 = q4_result4.intersection(C)\n",
    "print(f\"A ∩ B ∩ C = {q4_result5}\")\n",
    "print(f\"Size of A ∩ B ∩ C = {len(q4_result5)}\")\n",
    "print('\\n')\n",
    "\n",
    "#(5)\n",
    "print(\"QUESTION (5)\")\n",
    "S_3 = set([(i,j,k) for i in range(1,7) for j in range(1,7) for k in range(1,7)])\n",
    "print(f\"This is the sample space S_3 in a set: {S_3}\")\n",
    "size_S_3 = len(S_3)\n",
    "print(\"Size of sample S_3 = \" + str(size_S_3))\n",
    "\n",
    "print('\\n')\n",
    "\n",
    "# Event A_3\n",
    "A_3 = set()\n",
    "for i in S_3:\n",
    "    if(i[1] == 5):\n",
    "        A_3.add(i)\n",
    "print(f\"Event A_3 = {A_3}\")\n",
    "print(f\"Size of Event A_3 = {len(A_3)}\")\n",
    "\n",
    "print('\\n')\n",
    "\n",
    "# Event B_3\n",
    "B_3 = set()\n",
    "for i in S_3:\n",
    "    if(np.sum(i) == 11):\n",
    "        B_3.add(i)\n",
    "print(f\"Event B_3 = {B_3}\")\n",
    "print(f\"Size of Event B_3 = {len(B_3)}\")\n",
    "\n",
    "print('\\n')\n",
    "\n",
    "# Event C_3\n",
    "C_3 = set()\n",
    "for i in S_3:\n",
    "    if(i[0] == i[1]):\n",
    "        C_3.add(i)\n",
    "    elif (i[1] == i[2]):\n",
    "        C_3.add(i)\n",
    "    elif (i[0] == i[2]):\n",
    "        pass\n",
    "print(f\"Event C_3 = {C_3}\")\n",
    "print(f\"Size of Event C_3 = {len(C_3)}\")\n",
    "\n",
    "print('\\n')\n",
    "\n",
    "# A3 ∩ B3 ∩ C3\n",
    "q4_result6 = A_3.intersection(B_3)\n",
    "q4_result7 = q4_result6.intersection(C_3)\n",
    "print(f\"A_3 ∩ B_3 ∩ C_3 = {q4_result7}\")\n",
    "print(f\"Size of A_3 ∩ B_3 ∩ C_3 = {len(q4_result7)}\")\n"
   ]
  },
  {
   "cell_type": "markdown",
   "metadata": {},
   "source": [
    "## Exercise B \n",
    "Complete the following questions 1 and 2 from (Ross, 2017, Sec. 4.2) (you can find these on page 143). The text is repeated here for convenience:\n",
    "\n",
    "> 1 - A box contains three balls—one red, one blue, and one yellow. Consider\n",
    "an experiment that consists of withdrawing a ball from the box, replacing\n",
    "it, and withdrawing a second ball.\n",
    "> \n",
    "> (a) What is the sample space of this experiment?\n",
    "> \n",
    "> (b) What is the event that the first ball drawn is yellow?\n",
    "> \n",
    "> (c) What is the event that the same ball is drawn twice?\n",
    "\n",
    "\n",
    "> 2 - Repeat Prob. 1 when the second ball is drawn without replacement of the first ball.\n",
    "\n",
    "Write your answers in the markdown block below."
   ]
  },
  {
   "cell_type": "markdown",
   "metadata": {},
   "source": [
    "*to complete - try to format your answers. You can look up markdown syntax [here](https://paperhive.org/help/markdown).*\n",
    "\n",
    "Questions \n",
    "1. (a) Sample space is the balls in the box which can withdrawn\n",
    "2. (b) P(first ball drawn is yellow) = 1/3\n",
    "3. (c)  p(same ball drawn twice) = 1/3 (or 1/9)\n",
    "   \n",
    "3. (a) Sample space is the balls in the box which can withdrawn\n",
    "4. (b) P(first ball drawn is yellow) = 1/3\n",
    "5. (c)  p(same ball drawn twice) = 1/2 (or 1/6)"
   ]
  },
  {
   "cell_type": "code",
   "execution_count": null,
   "metadata": {},
   "outputs": [],
   "source": []
  },
  {
   "cell_type": "markdown",
   "metadata": {},
   "source": [
    "## Properties of Probability\n",
    "\n",
    "In (Ross, 2017, Sec. 4.3) it says:\n",
    "\n",
    "> It is an empirical fact that if an experiment is continually repeated under the\n",
    "> same conditions, then, for any event A, the proportion of times that the out-\n",
    "> come is contained in A approaches some value as the number of repetitions\n",
    "> increases. For example, if a coin is continually flipped, then the proportion of\n",
    "> flips landing on tails will approach some value as the number of flips increases.\n",
    "> It is this long-run proportion, or relative frequency, that we often have in mind\n",
    "> when we speak of the probability of an event.\n",
    "\n",
    "What does this really mean? What is an \"empirical fact\"? Some people don't like this terminology but the essential argument being made is related to something called the \"Law of Large numbers\". More specifically \"The Weak Law of Large Numbers\". There is a more detailed description [here](), but the highlight is this:\n",
    "\n",
    "> ## The Law of Large Numbers\n",
    "> \n",
    "> The chance that the fraction of successes in n independent trials with probability $p$ of success is close to $p$ approaches 1 (or 100\\%) as $n$ grows.\n",
    "> \n",
    "> More precisely, as $n$ increases, for every number $e > 0$,\n",
    "> \n",
    "> $P( | \\text{fraction of successes in n trials} − p | < e ) \\text{ approaches } 1$.\n",
    "\n",
    "In the simplest case, we assume that $p$ is a known fixed number. The fraction of successes could be thought of as us having $S=\\{\\text{success}, \\text{failure}\\}$. Although this can be thought of as any event, $A \\subset S$, where if the outcome is in $A$ then we have a success, and if not then we have a failure. Moreover we know the probability of success $P(A) = p$.\n",
    "\n",
    "The fraction of successes after $n$ trials is a random number and can take any value between 0 and 1. However, the above states that for any positive number, e, no matter how small, there is a probability that the fraction of successes is within $e$ of the true probability $p$ (i.e. it is in the range $[p-e,p+e]$). Further, that probability gets closer and closer to 1 as $n$ gets larger. \n",
    "\n",
    "Let us simulate a number of trials of such an experiment and look at the fraction of successes after $n$ such trials (for different values of $n$) and compare this with the known probability $p$. For this, we use <code>numpy.random.binomial</code>. We'll generate an outcome for a maximum number of trials $N$ and then look at different values of $0< n \\leq N$ and plot the result. "
   ]
  },
  {
   "cell_type": "code",
   "execution_count": 9,
   "metadata": {},
   "outputs": [
    {
     "data": {
      "text/plain": [
       "Text(0, 0.5, 'Fraction of successes')"
      ]
     },
     "execution_count": 9,
     "metadata": {},
     "output_type": "execute_result"
    },
    {
     "data": {
      "image/png": "[encoded data removed]",
      "text/plain": [
       "<Figure size 432x288 with 1 Axes>"
      ]
     },
     "metadata": {
      "needs_background": "light"
     },
     "output_type": "display_data"
    }
   ],
   "source": [
    "N = 800 # max number of trials\n",
    "p = 0.5 # known probability of success\n",
    "# There are a number of ways of doing this, but for clarity\n",
    "# we'll sample N numbers uniformly between 0 and 1 then check whether\n",
    "# each is less than p. This gives us a boolean vector, but it is easier\n",
    "# to work with integers so we then convert to integer, True->1 and False->0\n",
    "outcomes = (np.random.uniform(0, 1, size=N) < p).astype(int)\n",
    "\n",
    "# Next for any given n we want to calculate the fraction of successes\n",
    "# in the first n elements of outcomes. To do this, we write a helper function.\n",
    "def fraction_of_successes(outcomes, n):\n",
    "    \"\"\"\n",
    "    Calculates the fraction of successes in the first n values\n",
    "    of outcomes.\n",
    "\n",
    "    Parameters:\n",
    "    -----------\n",
    "    outcomes : 1d numpy array\n",
    "        sequence of observations/outcomes from S={0,1}\n",
    "    n : int\n",
    "        number between 1 and len(outcomes)\n",
    "        \n",
    "    Returns:\n",
    "    --------\n",
    "    fos : number\n",
    "        fraction of successes\n",
    "    \"\"\"\n",
    "    return np.sum(outcomes[:n])/n\n",
    "    \n",
    "# We now calculate the fraction of successes for n trials for 1 <= n <= N\n",
    "ns = range(1,outcomes.size)\n",
    "foses = np.array([fraction_of_successes(outcomes, n) for n in ns])\n",
    "\n",
    "plt.figure()\n",
    "# plot the constant target line\n",
    "plt.plot((1,N),(p,p),'r--')\n",
    "# plot the fraction of successes after\n",
    "plt.plot(ns,foses,'k-')\n",
    "plt.xlabel(\"Trials\")\n",
    "plt.ylabel(\"Fraction of successes\")\n"
   ]
  },
  {
   "cell_type": "markdown",
   "metadata": {},
   "source": [
    "If you re-run the above code then you will see different plots. Sometimes the black line will start above p and sometimes below p, but it should typically approach the red dotted line at p after a large number of trials.\n",
    "\n",
    "## Exercise C - Closeness to $p$\n",
    "Let us choose a value $e$ and draw the bounds $p-e$ and $p+e$ on the same plot. The Law of large numbers says that for large enough $n$, the value of the black line will eventually \"almost certainly\" lie between these green boundary lines. Draw an extra wide plot and use $N=2000$ to see this more clearly"
   ]
  },
  {
   "cell_type": "code",
   "execution_count": 10,
   "metadata": {},
   "outputs": [
    {
     "data": {
      "text/plain": [
       "Text(0, 0.5, 'Fraction of successes')"
      ]
     },
     "execution_count": 10,
     "metadata": {},
     "output_type": "execute_result"
    },
    {
     "data": {
      "image/png": "[encoded data removed]",
      "text/plain": [
       "<Figure size 1152x345.6 with 1 Axes>"
      ]
     },
     "metadata": {
      "needs_background": "light"
     },
     "output_type": "display_data"
    }
   ],
   "source": [
    "N = 2000 # max number of trials\n",
    "p = 0.5 # known probability of success\n",
    "e = 0.04 # arbitrary positive number\n",
    "# this gives an extra wide figure\n",
    "plt.figure(figsize=(16,4.8))\n",
    "\n",
    "## to complete\n",
    "ns2 = range(1,outcomes.size)\n",
    "foses2 = np.array([fraction_of_successes(outcomes, N) for N in ns2])\n",
    "\n",
    "# plot the constant target line\n",
    "plt.plot((1,N),(p,p),'r--')\n",
    "# plot the fraction of successes after\n",
    "plt.plot(ns2,foses2,'k-')\n",
    "plt.xlabel(\"Trials\")\n",
    "plt.ylabel(\"Fraction of successes\")"
   ]
  },
  {
   "cell_type": "markdown",
   "metadata": {},
   "source": [
    "## Exercise D\n",
    "\n",
    "Complete question 8 from (Ross, 2017, Sec. 4.3)\n",
    "\n",
    "> 8 - The Japanese automobile company Lexus has established a reputation for quality control. Recent statistics indicate that a newly purchased Lexus ES 350 will have:\n",
    "> \n",
    "> | #defects  | probability |\n",
    "> |-----------|:-----------:|\n",
    "> | 0 defects | 0.12 |\n",
    "> | 1 defect  | 0.18 |\n",
    "> | 2 defects | 0.25 |\n",
    "> | 3 defects | 0.20 |\n",
    "> | 4 defects | 0.15 |\n",
    "> | 5 or more | 0.10 |\n",
    ">\n",
    "> If you purchase a new Lexus ES 350, find the probability that it will have \n",
    ">\n",
    "> (a) 2 or fewer defects\n",
    ">\n",
    "> (b) 4 or more defects\n",
    ">\n",
    "> (c) Between (inclusive) 1 and 3 defects\n",
    ">\n",
    "> Let p denote the probability it will have an even number of defects. Whereas the information given above does not enable us to specify the value of p, find the\n",
    ">\n",
    "> (d) Largest\n",
    ">\n",
    "> (e) Smallest\n",
    ">\n",
    "> value of p which is consistent with the preceding.\n",
    "\n",
    "Write your answers in the markdown block below."
   ]
  },
  {
   "cell_type": "markdown",
   "metadata": {},
   "source": [
    "*to complete - try to format the answers appropriately. You can look up markdown syntax [here](https://paperhive.org/help/markdown)*\n",
    "\n",
    "1.  (a) P(2 or fewer defects) = 0.25 + 0.18 + 0.12 = 0.55\n",
    "    (b) P(4 or more defects) = 0.15 + 0.10 = 0.25\n",
    "    (c) P(Between 1 and 3 defects (inclusive)) = 0.18 + 0.25 + 0.2 = 0.63\n",
    "    (d) Largest = 0.12 + 0.25 + 0.15 = 0.52\n",
    "    (e) Smallest = 0.10 (5+ defects)\n"
   ]
  },
  {
   "cell_type": "markdown",
   "metadata": {},
   "source": [
    "## Exercise E - 2  dice probabilities\n",
    "\n",
    "Look back at the 2 dice experiment from the slides (and above in Exercise A). Writing in markdown (not in <code>Python</code>) answer the following questions. Imagine that the outcomes $(i,j)$ each have equal probability. What are the following equal to?\n",
    "\n",
    "1. $P(A)$\n",
    "1. $P(B)$\n",
    "1. $P(A \\cup B)$\n",
    "1. $P(A \\cap B)$\n",
    "1. $P(A^c)$\n",
    "1. $P((A \\cap B)^c)$\n",
    "1. $o(A \\cap B)$ -- the odds of $A\\cap B$\n",
    "\n",
    "Finally, look at (Ross, 2017, Sec. 4.4, Q12) on page 158. This also relates to probabilities of 2 dice. Complete that too.\n",
    "\n",
    "Write your answers in the markdown block below."
   ]
  },
  {
   "cell_type": "markdown",
   "metadata": {},
   "source": [
    "*to complete - try to format the answers as I have done. You can look up markdown syntax [here](https://paperhive.org/help/markdown) and the syntax for LateX formulae [here](https://en.wikibooks.org/wiki/LaTeX/Mathematics) (you can ignore the beginning and just look at the sections on: Greek Letters, Operators, Powers and Indices, Fractions and Binomials).*\n",
    "\n",
    "1. P(A) = 6/36 = 1/6\n",
    "2. P(B) = 5/36\n",
    "3. P(A U B) = 10/36 = 5/18\n",
    "4. P(A n B) = 1/36\n",
    "5. P(A complement) = 30/36 = 15/18\n",
    "6. P((A n B) complement) = 26/36 = 13/18\n",
    "7. o(A n B) = P(A n B)/1 - P(A n B) = (1/36)/(35/36) = 0.029\n",
    "\n",
    "*From book*\n",
    "\n",
    "1. P(Sum either 7 or 11) = (3,4),(4,3),(2,5),(5,2),(6,1),(1,6),(5,6),(6,5) = 8/36 = 2/9\n",
    "2. P(Sum either 2,3 or 12) = (1,1),(1,2),(2,1),(6,6) = 4/36 = 1/9\n",
    "3. P(Sum is an even number, so 2,4,6,8,10,12) = (1,1),(2,2),(3,1),(1,3),(3,3),(2,4),(4,2),(5,1),(1,5),(4,4),(6,2),(2,6),(3,5),(5,3),(5,5),(6,4),(4,6),(6,6) = 18/36 = (1/2)\n"
   ]
  },
  {
   "cell_type": "markdown",
   "metadata": {},
   "source": [
    "## Exercise F - Conditional Probabilities\n",
    "\n",
    "Complete questions 5 & 6 from (Ross, 2017, Sec. 4.5). The following information is repeated for convenience:\n",
    "\n",
    "> [T]he following table\\ldots describes the age distribution of residents in a northern California county.\n",
    ">\n",
    "> | Age        | Number  |\n",
    "> | :--------- |:-------:|\n",
    "> | 0-9        | 4200    |\n",
    "> | 10-19      | 5100    |\n",
    "> | 20-29      | 6200    |\n",
    "> | 30-39      | 4400    |\n",
    "> | 40-49      | 3600    |\n",
    "> | 50-59      | 2500    |\n",
    "> | 60-69      | 1800    |\n",
    "> | Over 70    | 1100    |\n",
    "\n",
    "Write your answers in the markdown block below."
   ]
  },
  {
   "cell_type": "markdown",
   "metadata": {},
   "source": [
    "*to complete*\n",
    "\n",
    "#### Question 5\n",
    "1. (a) P(Less than 10 years) = 4200/28900 = 42/289\n",
    "2. (b) P(Between 10 and 20 years) = 5100/28900 = 51/289\n",
    "3. (c) P(Between 20 and 30 years) = 6200/28900 = 62/289\n",
    "4. (d) P(Between 30 and 40 years) = 4400/28900 = 44/289\n",
    "\n",
    "#### Question 6\n",
    "1. (a) P(10 to 20 years | Less than 30 years) = P(10 to 20 years and less tha 30 years n Less than 30 years)/P(Less than 30 years)= P(5100/28900)/P(4200+5100+6200/28900) = P(51/289)/P(155/289) = 0.329\n",
    "2. (b) P(Between 30 and 40 years old | Older than 30 years) = P(Between 30 and 40 years old | Older than 30 years)/P(Older than 30 years) = P(4400/28900)/P(4400+3600+2500+1800+1100/28900) = (44/289)/(134/289) = 0.328"
   ]
  },
  {
   "cell_type": "markdown",
   "metadata": {},
   "source": [
    "## Exercise G - Telephone Calls\n",
    "\n",
    "Complete question 31 from (Ross, 2017, Sec. 4.5). The text is repeated for convenience:\n",
    "\n",
    "> Suppose that the probability of getting a busy signal when you call a friend is 0.1. Would it be reasonable to suppose that the probability of getting successive busy signals when you call two friends, one right after the other, is 0.01?\n",
    "\n",
    ">If not, can you think of a condition under which this\n",
    "would be a reasonable supposition?\n",
    "\n",
    "Write your answers in the markdown block below."
   ]
  },
  {
   "cell_type": "markdown",
   "metadata": {},
   "source": [
    "*to complete*\n",
    "\n",
    "No because the second friend is a new event, and not connected to the first friend (event). \n",
    "A condition under which this would be reasonable is picking a ball from a bag then replacing it, then picking that ball back up again.\n"
   ]
  },
  {
   "cell_type": "markdown",
   "metadata": {},
   "source": [
    "## Exercise H - Bayes Theorem\n",
    "\n",
    "Complete questions 2 and 3 from (Ross, 2017, Sec. 4.6). The text of each is repeated for convenience:\n",
    "\n",
    "> 2. Suppose that when answering a question on a multiple-choice test, a student either knows the answer or guesses at it. If he guesses at the answer, then he will be correct with probability 1/5. If the probability that a student knows the answer is 0.6, what is the conditional probability that the student knew the answer given that he answered it correctly?\n",
    "\n",
    "> 3. The inspector in charge of a criminal investigation is 60 percent certain of the guilt of a certain suspect. A new piece of evidence proving that the criminal was left-handed has just been discovered. Whereas the inspector knows that 18 percent of the population is left-handed, she is waiting to find out whether the suspect is left-handed.\n",
    ">\n",
    "> (a) What is the probability that the suspect is left-handed?\n",
    ">\n",
    "> (b) If the suspect turns out to be left-handed, what is the probability that the suspect is guilty?\n",
    "\n",
    "Write your answers in the markdown block below."
   ]
  },
  {
   "cell_type": "markdown",
   "metadata": {},
   "source": [
    "*to complete*\n",
    "\n",
    "#### Question 2\n",
    "A = event student knows the correct answer\n",
    "C = student answered correctly\n",
    "\n",
    "P(A | C) = P(C | A) P(A) / P(C | A) P(A) + P(C | A complement) P(A complement)\n",
    "<br>\n",
    "P(A | C) = 1 * 0.6 / (1 * 0.6) + (0.2 * 0.4)\n",
    "<br>\n",
    "P(A | C) = 0.6 / 0.68\n",
    "<br>\n",
    "P(A | C) = 0.8823... = 0.88 (2 d.p.)\n",
    "<br>\n",
    "\n",
    "#### Question 3\n",
    "1. (a)  P(probability that the suspect is left-handed) = P(certainty of criminal) * P(left handed) = 0.60 * 0.18 = 0.108\n",
    "2. (b) P(suspect guilty | left handed) = P(G | C)\n",
    "   <br>\n",
    "   P(G | C) = P(G n C)/P(C) = P(C | G)P(G) / P(C | G)P(G) + P(C | G complement)P(G complement)\n",
    "   <br>\n",
    "   P(G | C) = 1 * 0.6/(1 * 0.6)+(0.8 * 0.4)\n",
    "   <br>\n",
    "   P(G | C) = 0.89 (2 d.p.)"
   ]
  },
  {
   "cell_type": "markdown",
   "metadata": {},
   "source": [
    "## Exercise I - Selections, Permutations and Combinations\n",
    "\n",
    "Complete questions 1, 2 and 11 from (Ross, 2017, Sec. 4.7). The text of each is repeated for convenience:\n",
    "\n",
    "> 1. How many different 7-place license plates are possible when the first 3 places are for letters and the last 4 are for digits?\n",
    "\n",
    "\n",
    "> 2. How many different batting orders are possible for a baseball team consisting of 9 players?\n",
    "\n",
    "> 11. A student must choose four courses from among French, Spanish, History, Physics, and English Literature.\n",
    "> \n",
    "> (a) How many different choices are possible?\n",
    "> \n",
    "> (b) If the student chooses randomly, what is the probability that both French and Spanish are chosen?\n",
    "\n",
    "Write your answers in the markdown block below."
   ]
  },
  {
   "cell_type": "markdown",
   "metadata": {},
   "source": [
    "*to complete*\n",
    "\n",
    "#### Question 1\n",
    "Possible letters = 26 (A-Z)\n",
    "Possible digits = 10 (0-9)\n",
    "Answer = (26 ** 3) * (10 ** 4) = 175,760,000\n",
    "\n",
    "#### Question 2\n",
    "9! = 362,880 batting orders possible for baseball team consisting of 9 players\n",
    "\n",
    "#### Question 11\n",
    "1. (a) (5 4) = (5 * 4 * 3 * 2)/(4 * 3 * 2 * 1) = 120 / 24 = 5\n",
    "2. (b) (5 2) = (5 * 4)/(2 * 1) = 20/2 = 10\n",
    "<br>\n",
    "P(French and Spanish are chosen) = 10/5! = 10/120 = 0.08"
   ]
  },
  {
   "cell_type": "markdown",
   "metadata": {},
   "source": [
    "## A final note on Python libraries\n",
    "\n",
    "Python has a number of library functions to support counting operations. See the Combinatoric generators as part of the very useful `itertools` package. These functions are available to you without any additional installation and documentation can be found at [this link](https://docs.python.org/3.1/library/itertools.html?highlight=combinations). However, there has been a lot of exercise material this week and so I leave this for you to explore in your own time.\n",
    "\n"
   ]
  },
  {
   "cell_type": "code",
   "execution_count": 11,
   "metadata": {},
   "outputs": [],
   "source": [
    "# itertools\n",
    "\n",
    "\n",
    "\n",
    "# count()\n",
    "\n",
    "# start, [step]\n",
    "\n",
    "# start, start+step, start+2*step, …\n",
    "\n",
    "# count(10) --> 10 11 12 13 14 ...\n",
    "\n",
    "# cycle()\n",
    "\n",
    "# p\n",
    "\n",
    "# p0, p1, … plast, p0, p1, …\n",
    "\n",
    "# cycle('ABCD') --> A B C D A B C D ...\n",
    "\n",
    "# repeat()\n",
    "\n",
    "# elem [,n]\n",
    "\n",
    "# elem, elem, elem, … endlessly or up to n times\n",
    "\n",
    "# repeat(10, 3) --> 10 10 10\n",
    "\n"
   ]
  }
 ],
 "metadata": {
  "kernelspec": {
   "display_name": "Python 3",
   "language": "python",
   "name": "python3"
  },
  "language_info": {
   "codemirror_mode": {
    "name": "ipython",
    "version": 3
   },
   "file_extension": ".py",
   "mimetype": "text/x-python",
   "name": "python",
   "nbconvert_exporter": "python",
   "pygments_lexer": "ipython3",
   "version": "3.7.3"
  }
 },
 "nbformat": 4,
 "nbformat_minor": 4
}
