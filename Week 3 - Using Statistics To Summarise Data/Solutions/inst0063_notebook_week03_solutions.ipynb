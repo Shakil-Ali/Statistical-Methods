{
 "cells": [
  {
   "cell_type": "markdown",
   "metadata": {},
   "source": [
    "# Week 3 - Using statistics to summarise datasets\n",
    "\n",
    "This is a Jupyter notebook to explore the material in (Ross, 2017, Chp. 3) with the use of Python. \n",
    "\n"
   ]
  },
  {
   "cell_type": "code",
   "execution_count": 1,
   "metadata": {},
   "outputs": [],
   "source": [
    "%matplotlib inline\n",
    "# from now on we'll start each notebook with the library imports\n",
    "# and special commands to keep these things in one place (which\n",
    "# is good practice). The line above is jupyter command to get \n",
    "# matplotlib to plot inline (between cells)\n",
    "# Next we import the libraries and give them short names\n",
    "import numpy as np\n",
    "import scipy.stats as stats\n",
    "import matplotlib.pyplot as plt\n",
    "from collections import Counter"
   ]
  },
  {
   "cell_type": "markdown",
   "metadata": {},
   "source": [
    "## Some data-sets\n",
    "\n",
    "We will be making use of a number of datasets in this notebook, and so we define them here to make them accessible throughout."
   ]
  },
  {
   "cell_type": "code",
   "execution_count": 2,
   "metadata": {},
   "outputs": [],
   "source": [
    "\n",
    "\n",
    "# for illustrative purposes we have removed or added some the values from some of the datasets\n",
    "# below compared to the original versions in (Ross, 2017)\n",
    "# anonymous values based on those from (Ross, 2017, p. 86, Q8)\n",
    "anon_data = np.array([75, 55, 21, 46, 98, 103, 88, 35, 22, 29, 73, 37, 121, 144, 133,\n",
    "    52, 54, 63, 21, 7])\n",
    "# some values from (Ross, 2017, Ex. 3.11)\n",
    "league_bowling_scores = np.array([122, 126, 133, 140, 145, 145, 149, 150, 157, 162, 166,\n",
    "    175, 177, 177, 183, 188, 199, 212])\n",
    "# some ages at death as given in obituaries of the New York Times August 1, 2013 as\n",
    "# presented in (Ross, 2017, p. 86, Q0)\n",
    "obituary_data = [92, 90, 92, 74, 74, 69, 80, 94, 98, 65, 96, 84, 69, 86, 91, 88, 74,\n",
    "    97, 85, 88, 68, 77, 94, 88, 65, 76, 75, 60, 69, 97, 92, 85, 70, 80, 93, 91,\n",
    "    68, 82, 78, 89]\n",
    "\n",
    "\n",
    "# From (Ross, 2017, p. 82) explanation for 90th percentile\n",
    "example1_data = np.arange(1,13)\n",
    "example2_data = np.arange(1,21)\n",
    "# The above datasets are constructed so that the values equal the index\n",
    "# e.g. [v1, v2,...] = [1, 2, ...]\n",
    "# In particular, they are to check that the 90th percentile is as calculated on p. 82\n",
    "\n",
    "# for ease of reference we'll put each dataset in a dictionary\n",
    "datasets = dict([\n",
    "    (\"Anonymous\", anon_data), (\"League Bowling\", league_bowling_scores),\n",
    "    (\"Obituary\", obituary_data), (\"Example 1\", example1_data),\n",
    "    (\"Example 2\", example2_data)])"
   ]
  },
  {
   "cell_type": "markdown",
   "metadata": {},
   "source": [
    "## Exercise: Mean\n",
    "\n",
    "The mean is probably the most widely used and understood form of averaging. We can average any collection with the following function:\n"
   ]
  },
  {
   "cell_type": "code",
   "execution_count": 3,
   "metadata": {},
   "outputs": [],
   "source": [
    "def calc_mean_first_attempt(data):\n",
    "    n = len(data)\n",
    "    tot = 0\n",
    "    for x in data:\n",
    "        tot += x\n",
    "    return tot/n\n",
    "        \n"
   ]
  },
  {
   "cell_type": "markdown",
   "metadata": {},
   "source": [
    "we can simplify this if we allow ourselves to use <code>numpy.array</code> objects."
   ]
  },
  {
   "cell_type": "code",
   "execution_count": 4,
   "metadata": {},
   "outputs": [],
   "source": [
    "def calc_mean(data):\n",
    "    data = np.array(data)\n",
    "    return np.sum(data)/data.size"
   ]
  },
  {
   "cell_type": "markdown",
   "metadata": {},
   "source": [
    "In fact we can just use the library function <code>numpy.mean</code>.\n",
    "`\n",
    "All the above methods are applied to some of our data-sets defined at the beginning of the notebook. <code>numpy.sum</code> and <code>numpy.mean</code> are both described as \"reductions\" in the Numpy documentation. There is an informative explanation [here](https://scipy-lectures.org/intro/numpy/operations.html#basic-reductions)."
   ]
  },
  {
   "cell_type": "code",
   "execution_count": 5,
   "metadata": {},
   "outputs": [
    {
     "name": "stdout",
     "output_type": "stream",
     "text": [
      "Means for Anonymous Data:\n",
      "\tcalc_mean_first_attempt(data) = 63.85\n",
      "\tcalc_mean(data) = 63.85\n",
      "\tnp.mean(data) = 63.85\n",
      "\n",
      "Means for League Bowling Data:\n",
      "\tcalc_mean_first_attempt(data) = 161.44444444444446\n",
      "\tcalc_mean(data) = 161.44444444444446\n",
      "\tnp.mean(data) = 161.44444444444446\n",
      "\n",
      "Means for Obituary Data:\n",
      "\tcalc_mean_first_attempt(data) = 82.075\n",
      "\tcalc_mean(data) = 82.075\n",
      "\tnp.mean(data) = 82.075\n",
      "\n"
     ]
    }
   ],
   "source": [
    "for name in [\"Anonymous\", \"League Bowling\", \"Obituary\"]:\n",
    "    data = datasets[name]\n",
    "    print(f\"Means for {name} Data:\")\n",
    "    print(f\"\\tcalc_mean_first_attempt(data) = {calc_mean_first_attempt(data)}\")\n",
    "    print(f\"\\tcalc_mean(data) = {calc_mean(data)}\")\n",
    "    print(f\"\\tnp.mean(data) = {np.mean(data)}\")\n",
    "    print(\"\") # newline\n",
    "    \n",
    "    "
   ]
  },
  {
   "cell_type": "markdown",
   "metadata": {},
   "source": [
    "### Means from frequency tables\n",
    "\n",
    "Below is the frequency count data for the severity of motorcyle accidents from (Weiss, 1992) as reported in (Ross, 2017, p. 70). Note that there are three variables, one list of severity types, one list of frequencies of accidents with helmets and one set of frequencies without helmets.\n",
    "\n",
    "Write a function <code>calc_mean_from_frequencies</code> that takes two inputs: values and frequency counts, and produces a mean based on this. Then apply this to the data to give two sample means. There is more than one way to do this, but you might want to consider calculating the weights first then performing a weighted average with elementwise multiplication and then summing the terms using <code>np.sum</code>. You can read up on elementwise operations [here](https://scipy-lectures.org/intro/numpy/operations.html#elementwise-operations). As mentioned before, <code>numpy.sum</code> is what is described as a reduction, and you can read up more about reductions [here](https://scipy-lectures.org/intro/numpy/operations.html#basic-reductions)."
   ]
  },
  {
   "cell_type": "code",
   "execution_count": 6,
   "metadata": {},
   "outputs": [
    {
     "name": "stdout",
     "output_type": "stream",
     "text": [
      "mean_with_helmet = 0.4320241691842901\n",
      "mean_without_helmet = 0.9020501138952164\n"
     ]
    }
   ],
   "source": [
    "severities = np.arange(7)\n",
    "with_helmet = np.array([248, 58, 11, 3, 2, 8, 1])\n",
    "without_helmet = np.array([227, 135, 33, 14, 3, 21, 6])\n",
    "\n",
    "## to complete\n",
    "def calc_mean_from_frequencies(values,  counts):\n",
    "    total_count = np.sum(counts)\n",
    "    # a vector of weights\n",
    "    weights = counts/total_count\n",
    "    # the mean is then just the sum of the elementwise\n",
    "    # multiplication between weights and values\n",
    "    mean = np.sum(weights*values)\n",
    "    return mean\n",
    "\n",
    "mean_with_helmet = calc_mean_from_frequencies(\n",
    "    severities,  with_helmet)\n",
    "mean_without_helmet = calc_mean_from_frequencies(\n",
    "    severities,  without_helmet)\n",
    "print(f\"mean_with_helmet = {mean_with_helmet}\")\n",
    "print(f\"mean_without_helmet = {mean_without_helmet}\")"
   ]
  },
  {
   "cell_type": "markdown",
   "metadata": {},
   "source": [
    "## Exercise: Median and Mode\n",
    "\n",
    "Now try writing functions for the mean and the mode too, first from raw observations and then from frequency count data. You can use any functions from the <code>numpy</code> library you like, except for <code>numpy.median</code>. Compare your results for the median with <code>numpy.median</code> on the data-sets you have already seen.\n"
   ]
  },
  {
   "cell_type": "code",
   "execution_count": 7,
   "metadata": {},
   "outputs": [],
   "source": [
    "## Median functions\n",
    "## to complete\n",
    "def calc_median(observations):\n",
    "    \"\"\"\n",
    "    Calculates the median value from a sequence of observations\n",
    "    \n",
    "    Parameters:\n",
    "    -----------\n",
    "    observations : 1d numpy array\n",
    "        sequence of observations\n",
    "        \n",
    "    Returns:\n",
    "    --------\n",
    "    median : number\n",
    "    \"\"\"\n",
    "    sorted_obs = np.sort(observations)\n",
    "    n = sorted_obs.size\n",
    "    # odd number of observations\n",
    "    if n % 2 == 1:\n",
    "        # as in slides except we subtract 1 as python\n",
    "        # counts indices from 0 (not 1) \n",
    "        i = int((n+1)/2) - 1\n",
    "        return sorted_obs[i]\n",
    "    else: # even length datasets\n",
    "        # as in slides except we subtract 1 as python\n",
    "        # counts indices from 0 (not 1) \n",
    "        i = int(n/2) - 1\n",
    "        return (sorted_obs[i] + sorted_obs[i+1])/2\n",
    "\n",
    "def calc_median_from_frequencies(values, counts):\n",
    "    # This may not be the most computationally efficient way to\n",
    "    # write this function but it is the easiest for me to write\n",
    "    # first; I construct a set of observations from the \n",
    "    # frequency counts\n",
    "    # start with empty list\n",
    "    observations = []\n",
    "    for value, count in zip(values, counts):\n",
    "        # for each value, count pair extend the\n",
    "        # list of observations to include <count> more observations\n",
    "        # all with value <value>\n",
    "        observations.extend([value]*count)\n",
    "    # now reuse my previous function\n",
    "    median = calc_median(observations)\n",
    "    return median"
   ]
  },
  {
   "cell_type": "code",
   "execution_count": 8,
   "metadata": {},
   "outputs": [],
   "source": [
    "## Mode functions\n",
    "## to complete\n",
    "# it is easier to do the frequencies function first for mode\n",
    "def calc_mode_from_frequencies(values, counts):\n",
    "    # make sure inputs are numpy arrays\n",
    "    values = np.array(values)\n",
    "    counts = np.array(counts)\n",
    "    # this produces a boolean vector of True and False values\n",
    "    # are_max[i] is True if counts[i] == maximum value \n",
    "    are_max = (counts == np.max(counts))\n",
    "    # the boolean vector are_max pulls out all elements \n",
    "    # values[i] where are_max[i] is True \n",
    "    max_values = values[are_max]\n",
    "    if max_values.size == 1:\n",
    "        # there is one unique mode\n",
    "        return max_values[0]\n",
    "    else:\n",
    "        # there is no unique mode, so multiple values returned\n",
    "        return np.sort(max_values)\n",
    "\n",
    "# requires this import statement: from collections import Counter\n",
    "# see imports at top of notebook\n",
    "def calc_mode(observations):\n",
    "    # Again we will reuse a previous functions to minimise effort\n",
    "    # first we need the values and counts from observations.\n",
    "    # we saw last week a number of ways to do this, but here I use\n",
    "    # Counter from the standard collections library in Python\n",
    "    # Any method that produces a pair (values, counts) would be fine\n",
    "    obs_counts = Counter(observations)\n",
    "    values = list(obs_counts.keys())\n",
    "    counts = list(obs_counts.values())\n",
    "    # now reuse the function above\n",
    "    return calc_mode_from_frequencies(values, counts)"
   ]
  },
  {
   "cell_type": "code",
   "execution_count": 9,
   "metadata": {},
   "outputs": [
    {
     "name": "stdout",
     "output_type": "stream",
     "text": [
      "median = 84.5\n",
      "mode = [69 74 88 92]\n"
     ]
    },
    {
     "data": {
      "text/plain": [
       "Text(0, 0.5, 'Frequency')"
      ]
     },
     "execution_count": 9,
     "metadata": {},
     "output_type": "execute_result"
    },
    {
     "data": {
      "image/png": "[encoded data removed]",
      "text/plain": [
       "<Figure size 432x288 with 1 Axes>"
      ]
     },
     "metadata": {
      "needs_background": "light"
     },
     "output_type": "display_data"
    }
   ],
   "source": [
    "## Apply functions to obituary data\n",
    "## to complete\n",
    "# obituary data\n",
    "median = calc_median(obituary_data)\n",
    "mode = calc_mode(obituary_data)\n",
    "print(f\"median = {median}\")\n",
    "print(f\"mode = {mode}\")\n",
    "\n",
    "\n",
    "# here I plot the obiturary data just for reference.\n",
    "obs_counts = Counter(obituary_data)\n",
    "# first convert values and counts to lists then to numpy arrays to avoid problems\n",
    "values = np.array(list(obs_counts.keys()))\n",
    "counts = np.array(list(obs_counts.values()))\n",
    "# values and counts aren't sorted so we want to sort values numerically\n",
    "# and sort counts so that they match the new ordering of values\n",
    "# we can do this with the numpy.argsort function\n",
    "\n",
    "# get a list of the indices that would order values numerically\n",
    "reordering = np.argsort(values)\n",
    "# order values numerically with this ordering\n",
    "values = values[reordering]\n",
    "# order counts in the same way\n",
    "counts = counts[reordering]\n",
    "# now plot the data\n",
    "plt.bar(values, counts)\n",
    "plt.xlabel(\"Age\")\n",
    "plt.ylabel(\"Frequency\")"
   ]
  },
  {
   "cell_type": "code",
   "execution_count": 10,
   "metadata": {},
   "outputs": [
    {
     "name": "stdout",
     "output_type": "stream",
     "text": [
      "mean_with_helmet = 0.4320241691842901\n",
      "median_with_helmet = 0\n",
      "mode_with_helmet = 0\n",
      "mean_without_helmet = 0.9020501138952164\n",
      "median_without_helmet = 0\n",
      "mode_without_helmet = 0\n"
     ]
    },
    {
     "data": {
      "text/plain": [
       "Text(0, 0.5, 'Frequency')"
      ]
     },
     "execution_count": 10,
     "metadata": {},
     "output_type": "execute_result"
    },
    {
     "data": {
      "image/png": "[encoded data removed]",
      "text/plain": [
       "<Figure size 432x288 with 1 Axes>"
      ]
     },
     "metadata": {
      "needs_background": "light"
     },
     "output_type": "display_data"
    }
   ],
   "source": [
    "## apply functions to motorcycle accident severity data\n",
    "## to complete\n",
    "# motorcycle accident severity data\n",
    "mean_with_helmet = calc_mean_from_frequencies(severities, with_helmet)\n",
    "median_with_helmet = calc_median_from_frequencies(severities, with_helmet)\n",
    "mode_with_helmet = calc_mode_from_frequencies(severities, with_helmet)\n",
    "print(f\"mean_with_helmet = {mean_with_helmet}\")\n",
    "print(f\"median_with_helmet = {median_with_helmet}\")\n",
    "print(f\"mode_with_helmet = {mode_with_helmet}\")\n",
    "\n",
    "mean_without_helmet = calc_mean_from_frequencies(severities, without_helmet)\n",
    "median_without_helmet = calc_median_from_frequencies(severities, without_helmet)\n",
    "mode_without_helmet = calc_mode_from_frequencies(severities, without_helmet)\n",
    "print(f\"mean_without_helmet = {mean_without_helmet}\")\n",
    "print(f\"median_without_helmet = {median_without_helmet}\")\n",
    "print(f\"mode_without_helmet = {mode_without_helmet}\")\n",
    "\n",
    "# now plot the data for reference\n",
    "# below shows a neat way to plot a pair of bar charts\n",
    "width = 0.35\n",
    "plt.bar(severities-width/2, with_helmet, width)\n",
    "plt.bar(severities+width/2, without_helmet, width)\n",
    "plt.xlabel(\"Accident Severity\")\n",
    "plt.ylabel(\"Frequency\")"
   ]
  },
  {
   "cell_type": "code",
   "execution_count": 22,
   "metadata": {},
   "outputs": [
    {
     "name": "stdout",
     "output_type": "stream",
     "text": [
      "13\n"
     ]
    }
   ],
   "source": [
    "mdata1 = [1,4,9,10,13,13,15,15,16,18,19]\n",
    "print(calc_median(mdata1))"
   ]
  },
  {
   "cell_type": "markdown",
   "metadata": {},
   "source": [
    "## Exercise: Sample 100p percentile\n",
    "Here we can use one of two methods. The first we construct ourselves using the sorting functionality along with the ceil and floor functions. \n",
    "\n",
    "Below are three data-sets. For each find the 3rd percentile, the 45th percentile and the 90th percentile. To do this you will need to write a function that given a data-set and a value $0 < p < 1$ as arguments, calculates and returns the 100p percentile, then call this function on the three data-sets with each of the appropriate p values and output the results. "
   ]
  },
  {
   "cell_type": "code",
   "execution_count": 23,
   "metadata": {},
   "outputs": [
    {
     "name": "stdout",
     "output_type": "stream",
     "text": [
      "Anonymous data\n",
      "\t100p percentile for p=0.03 is 7\n",
      "\t100p percentile for p=0.45 is 53.0\n",
      "\t100p percentile for p=0.9 is 127.0\n",
      "League bowling data\n",
      "\t100p percentile for p=0.03 is 122\n",
      "\t100p percentile for p=0.45 is 157\n",
      "\t100p percentile for p=0.9 is 199\n",
      "Obituary data\n",
      "\t100p percentile for p=0.03 is 65\n",
      "\t100p percentile for p=0.45 is 81.0\n",
      "\t100p percentile for p=0.9 is 95.0\n"
     ]
    }
   ],
   "source": [
    "## writing your own function to calculate sample 100p percentile\n",
    "## to complete\n",
    "def calc_sample_100p_percentile(data, p):\n",
    "    # sort the data\n",
    "    sorted_data = np.sort(data)\n",
    "    # count the elements\n",
    "    n = sorted_data.size\n",
    "    # The calculations inthe slides are for indices counting\n",
    "    # from 1, but Python indexes from 0, so we subtract 1\n",
    "    index1 = int(np.floor(n*p))-1\n",
    "    index2 = int(np.ceil(n*p))-1\n",
    "    # if the indices are the same np must be an integer\n",
    "    if index1 == index2:\n",
    "        # the mean of the 2 values starting at index1\n",
    "        return np.mean(sorted_data[index1:index1+2])\n",
    "    # if the indices are different, return value at index 2\n",
    "    return sorted_data[index2]\n",
    "\n",
    "ps = [0.03, 0.45, 0.9]\n",
    "print(\"Anonymous data\")\n",
    "for p in ps:\n",
    "    value = calc_sample_100p_percentile(anon_data, p)\n",
    "    print(f\"\\t100p percentile for p={p} is {value}\")\n",
    "                   \n",
    "print(\"League bowling data\")\n",
    "for p in ps:\n",
    "    value = calc_sample_100p_percentile(league_bowling_scores, p)\n",
    "    print(f\"\\t100p percentile for p={p} is {value}\")\n",
    "\n",
    "print(\"Obituary data\")\n",
    "for p in ps:\n",
    "    value = calc_sample_100p_percentile(obituary_data, p)\n",
    "    print(f\"\\t100p percentile for p={p} is {value}\")\n"
   ]
  },
  {
   "cell_type": "markdown",
   "metadata": {},
   "source": [
    "The second approach to find the percentile values uses the library function <code>numpy.percentile</code>. However, the second method requires an appropriate choice for the <code>interpolation</code> input parameter. Look up the function's documentation and determine what values this can take. Now re-run this on the 3 data-sets from above and the two simple example datasets from below and check  which value for <code>interpolation</code> (if any) gives the same answers as your other function above."
   ]
  },
  {
   "cell_type": "code",
   "execution_count": 24,
   "metadata": {},
   "outputs": [
    {
     "name": "stdout",
     "output_type": "stream",
     "text": [
      "Ross' explanatory examples\n",
      "\t100p percentile for p=0.9 is 11 (10-10.5-11)~11\n",
      "\t100p percentile for p=0.9 is 18.5 (18-18.5-19)~18\n",
      "Anonymous data\n",
      "\t100p percentile for p=0.03 is 7 (7-14.0-21)~21\n",
      "\t100p percentile for p=0.45 is 53.0 (52-53.0-54)~54\n",
      "\t100p percentile for p=0.9 is 127.0 (121-127.0-133)~121\n",
      "League bowling data\n",
      "\t100p percentile for p=0.03 is 122 (122-124.0-126)~126\n",
      "\t100p percentile for p=0.45 is 157 (150-153.5-157)~157\n",
      "\t100p percentile for p=0.9 is 199 (188-193.5-199)~188\n",
      "Obituary data\n",
      "\t100p percentile for p=0.03 is 65 (65-65.0-65)~65\n",
      "\t100p percentile for p=0.45 is 81.0 (80-81.0-82)~82\n",
      "\t100p percentile for p=0.9 is 95.0 (94-95.0-96)~94\n"
     ]
    }
   ],
   "source": [
    "## to complete\n",
    "print(\"Ross' explanatory examples\")\n",
    "p = 0.9\n",
    "for example_data in [example1_data, example2_data]:\n",
    "    value = calc_sample_100p_percentile(example_data, p)\n",
    "    midpoint = np.percentile(example_data, 100*p, interpolation='midpoint')\n",
    "    low = np.percentile(example_data, 100*p, interpolation='lower')\n",
    "    high = np.percentile(example_data, 100*p, interpolation='higher')\n",
    "    nearest = np.percentile(example_data, 100*p, interpolation='nearest')\n",
    "    print(f\"\\t100p percentile for p={p} is {value} ({low}-{midpoint}-{high})~{nearest}\")\n",
    "\n",
    "\n",
    "print(\"Anonymous data\")\n",
    "for p in ps:\n",
    "    value = calc_sample_100p_percentile(anon_data, p)\n",
    "    midpoint = np.percentile(anon_data, 100*p, interpolation='midpoint')\n",
    "    low = np.percentile(anon_data, 100*p, interpolation='lower')\n",
    "    high = np.percentile(anon_data, 100*p, interpolation='higher')\n",
    "    nearest = np.percentile(anon_data, 100*p, interpolation='nearest')\n",
    "    print(f\"\\t100p percentile for p={p} is {value} ({low}-{midpoint}-{high})~{nearest}\")\n",
    "                   \n",
    "print(\"League bowling data\")\n",
    "for p in ps:\n",
    "    value = calc_sample_100p_percentile(league_bowling_scores, p)\n",
    "    midpoint = np.percentile(league_bowling_scores, 100*p, interpolation='midpoint')\n",
    "    low = np.percentile(league_bowling_scores, 100*p, interpolation='lower')\n",
    "    high = np.percentile(league_bowling_scores, 100*p, interpolation='higher')\n",
    "    nearest = np.percentile(league_bowling_scores, 100*p, interpolation='nearest')\n",
    "    print(f\"\\t100p percentile for p={p} is {value} ({low}-{midpoint}-{high})~{nearest}\")\n",
    "\n",
    "print(\"Obituary data\")\n",
    "for p in ps:\n",
    "    value = calc_sample_100p_percentile(obituary_data, p)\n",
    "    midpoint = np.percentile(obituary_data, 100*p, interpolation='midpoint')\n",
    "    low = np.percentile(obituary_data, 100*p, interpolation='lower')\n",
    "    high = np.percentile(obituary_data, 100*p, interpolation='higher')\n",
    "    nearest = np.percentile(obituary_data, 100*p, interpolation='nearest')\n",
    "    print(f\"\\t100p percentile for p={p} is {value} ({low}-{midpoint}-{high})~{nearest}\")\n",
    "\n",
    "# Note that there isn't one value for interpolation for which np.percentile\n",
    "# agrees with our function above. This is, I think, due to a difference\n",
    "# between how (Ross, 2017) defines percentiles and how they are defined\n",
    "# for the numpy library. \n",
    "# Wikipedia gives a good overview of the common methods for percentiles\n",
    "# see here: https://en.wikipedia.org/wiki/Percentile\n",
    "# It would appear that (Ross, 2017) defines the nearest rank method but\n",
    "# Numpy implements some of the linear-interpolation methods."
   ]
  },
  {
   "cell_type": "markdown",
   "metadata": {},
   "source": [
    "## Exercise: Variance and Standard deviation\n",
    "Again there are library functions from Numpy for these calculations, but before we use them, convince yourself that you understand the definitions by writing these in terms of more primitive functions. Think about calculating first the mean then the deviations of the data.\n",
    "\n",
    "For this, you can use the existing Numpy functions <code>numpy.sum</code>, <code>numpy.mean</code>, <code>numpy.sqrt</code> and the elementwise arithmetic operations  <code>+</code>, <code>-</code>, <code>*</code>, <code>/</code> and <code>**</code> (to the power of). If you are unclear by what is meant by elementwise operations, then try reading [this](https://scipy-lectures.org/intro/numpy/operations.html#elementwise-operations) explanation.\n",
    "\n",
    "Optional: If you fancy a bit more practice, try implementing the mean absolute deviation and the inter-quartile range too."
   ]
  },
  {
   "cell_type": "code",
   "execution_count": 25,
   "metadata": {},
   "outputs": [],
   "source": [
    "## write functions that calculate the variance and standard deviation of data\n",
    "## to complete\n",
    "def calc_variance(data):\n",
    "    \"\"\"\n",
    "    Calculates the variance of some data\n",
    "    \n",
    "    Parameters:\n",
    "    -----------\n",
    "    data : 1d numpy array\n",
    "        collection of numerical observations\n",
    "        \n",
    "    Returns:\n",
    "    --------\n",
    "    variance : float\n",
    "        the variance of the data\n",
    "    \"\"\"\n",
    "    # input data must be a numpy array\n",
    "    n = data.size\n",
    "    # mean - a single scalar mean of the data\n",
    "    mean = np.mean(data)\n",
    "    # deviations - a 1d array of deviations - x_i -\\bar{x}\n",
    "    deviations = data - mean\n",
    "    # squared_deviations - a 1d array of squared deviations - (x_i -\\bar{x})^2\n",
    "    squared_deviations = deviations**2\n",
    "    return np.sum(squared_deviations)/(n-1)\n",
    "\n",
    "def calc_stdev(data):\n",
    "    \"\"\"\n",
    "    Calculates the variance of some data\n",
    "    \n",
    "    Parameters:\n",
    "    -----------\n",
    "    data : 1d numpy array\n",
    "        collection of numerical observations\n",
    "        \n",
    "    Returns:\n",
    "    --------\n",
    "    variance : float\n",
    "        the variance of the data\n",
    "    \"\"\"\n",
    "    # good programmers reuse existing functionality where possible\n",
    "    variance = calc_variance(data)\n",
    "    return np.sqrt(variance)\n",
    "\n",
    "## optional \n",
    "def calc_mad(data):\n",
    "    \"\"\"\n",
    "    Calculates the mean absolute deviation of some data\n",
    "    \n",
    "    Parameters:\n",
    "    -----------\n",
    "    data : 1d numpy array\n",
    "        collection of numerical observations\n",
    "        \n",
    "    Returns:\n",
    "    --------\n",
    "    mad : float\n",
    "        the mean absolute deviation of the data\n",
    "    \"\"\"\n",
    "    n = data.size\n",
    "    mean = np.mean(data)\n",
    "    deviations = data - mean\n",
    "    absolute_deviations = np.abs(deviations)\n",
    "    return np.mean(absolute_deviations)\n",
    "\n",
    "\n",
    "def calc_iqr(data):\n",
    "    \"\"\"\n",
    "    Calculates the interquartile range of some data\n",
    "    \n",
    "    Parameters:\n",
    "    -----------\n",
    "    data : 1d numpy array\n",
    "        collection of numerical observations\n",
    "        \n",
    "    Returns:\n",
    "    --------\n",
    "    mad : float\n",
    "        the inter-quartile range of the data\n",
    "    \"\"\"\n",
    "    lower = calc_sample_100p_percentile(data, 0.25)\n",
    "    upper = calc_sample_100p_percentile(data, 0.75)\n",
    "    return upper-lower\n",
    "\n",
    "\n"
   ]
  },
  {
   "cell_type": "code",
   "execution_count": 26,
   "metadata": {},
   "outputs": [
    {
     "name": "stdout",
     "output_type": "stream",
     "text": [
      "variance = 114.4301282051282\n",
      "stdev = 10.697201886714497\n",
      "Numpy: variance = 111.569375\n",
      "Numpy: stdev = 10.562640531609508\n",
      "Numpy (ddof=1): variance = 114.4301282051282\n",
      "Numpy (ddof=1): stdev = 10.697201886714497\n",
      "Optional functions. \n",
      "mad = 9.321250000000001\n",
      "iqr = 17.5\n"
     ]
    }
   ],
   "source": [
    "## Apply functions to obituary data\n",
    "## to complete\n",
    "# must make the data a numpy array\n",
    "obituary_data = np.array(obituary_data)\n",
    "variance = calc_variance(obituary_data)\n",
    "stdev = calc_stdev(obituary_data)\n",
    "print(f\"variance = {variance}\")\n",
    "print(f\"stdev = {stdev}\")\n",
    "\n",
    "# and compare with numpy\n",
    "\n",
    "variance_np = np.var(obituary_data)\n",
    "stdev_np = np.std(obituary_data)\n",
    "print(f\"Numpy: variance = {variance_np}\")\n",
    "print(f\"Numpy: stdev = {stdev_np}\")\n",
    "\n",
    "## Note again a slight difference. Numpy by default divides by n rather\n",
    "## than (n-1) in the variance calculation. We'll find out why (Ross, 2017)\n",
    "## suggests the latter later in the module.\n",
    "## if we recalculate the numpy values using ddof=1 (degrees of freedom equals 1)\n",
    "## we recover our original values\n",
    "variance_np = np.var(obituary_data, ddof=1)\n",
    "stdev_np = np.std(obituary_data, ddof=1)\n",
    "print(f\"Numpy (ddof=1): variance = {variance_np}\")\n",
    "print(f\"Numpy (ddof=1): stdev = {stdev_np}\")\n",
    "\n",
    "# optional\n",
    "print(\"Optional functions. \")\n",
    "mad = calc_mad(obituary_data)\n",
    "iqr = calc_iqr(obituary_data)\n",
    "print(f\"mad = {mad}\")\n",
    "print(f\"iqr = {iqr}\")\n",
    "\n",
    "# Remember that these measures are alternatives to the standard deviation\n",
    "# for measures of variation that are in the same units as the original \n",
    "# data. mean-absolute deviation tends to be lower than standard deviation\n",
    "# and inter-quartile range is larger. Nonetheless they all measure the\n",
    "# variation in the data.\n"
   ]
  },
  {
   "cell_type": "markdown",
   "metadata": {},
   "source": [
    "Look at the following data-sets from (Ross, 2017, p. 96, Q2). Which of these data-sets would you say had the larger variance? Calculate the variance of each to check your answers.\n"
   ]
  },
  {
   "cell_type": "code",
   "execution_count": 31,
   "metadata": {},
   "outputs": [
    {
     "name": "stdout",
     "output_type": "stream",
     "text": [
      "1.2200000000000002\n"
     ]
    }
   ],
   "source": [
    "q3data = np.array([3.71, 4.23, 4.16, 2.98, 3.23, 4.67, 3.99, 5.04, 4.55, 3.24, 2.80, 3.44, 3.27, 2.66, 2.95, 4.70, 5.12, 3.77, 3.12, 2.38, 4.57, 3.88, 2.97, 3.70, 2.53, 2.67, 4.12, 4.80, 3.55, 3.86, 2.51, 3.33, 3.85, 2.35, 3.12, 4.39, 5.09, 3.38, 2.73, 3.07])\n",
    "ans = calc_iqr(q3data)\n",
    "print(ans)"
   ]
  },
  {
   "cell_type": "code",
   "execution_count": 15,
   "metadata": {},
   "outputs": [
    {
     "name": "stdout",
     "output_type": "stream",
     "text": [
      "dataA-62 = [ 4  6  9 10 10 13]\n",
      "dataB =    [ 2  5  9 10 10 16]\n",
      "varA = 10.266666666666666\n",
      "varB = 23.066666666666666\n"
     ]
    }
   ],
   "source": [
    "dataA = [66, 68, 71, 72, 72, 75]\n",
    "dataB = [ 2,  5,  9, 10, 10, 16]\n",
    "\n",
    "## to complete\n",
    "## at first glance the numbers in dataA are bigger and we might\n",
    "# expect it to have a larger variance but in fact dataA has \n",
    "# a smaller variance. To see this we can try shifting dataA\n",
    "# so that it has a similar range to dataB\n",
    "# (using elementwise arithmetic)\n",
    "\n",
    "# let's check this. FIrst we must convert to numpy arrays\n",
    "dataA = np.array(dataA)\n",
    "dataB = np.array(dataB)\n",
    "meanA = calc_mean(dataA)\n",
    "meanB = calc_mean(dataB)\n",
    "print(f\"dataA-62 = {dataA-62}\")\n",
    "print(f\"dataB =    {dataB}\")\n",
    "\n",
    "varA = calc_variance(dataA)\n",
    "varB = calc_variance(dataB)\n",
    "print(f\"varA = {varA}\")\n",
    "print(f\"varB = {varB}\")\n",
    "\n"
   ]
  },
  {
   "cell_type": "markdown",
   "metadata": {},
   "source": [
    "### A box plot\n",
    "\n",
    "There is a simple way to draw a box plot with matplotlib. See below:"
   ]
  },
  {
   "cell_type": "code",
   "execution_count": 29,
   "metadata": {},
   "outputs": [
    {
     "data": {
      "image/png": "[encoded data removed]",
      "text/plain": [
       "<matplotlib.figure.Figure at 0x7f8badb99f98>"
      ]
     },
     "metadata": {
      "needs_background": "light"
     },
     "output_type": "display_data"
    },
    {
     "data": {
      "image/png": "[encoded data removed]",
      "text/plain": [
       "<matplotlib.figure.Figure at 0x7f8badfeffd0>"
      ]
     },
     "metadata": {
      "needs_background": "light"
     },
     "output_type": "display_data"
    },
    {
     "data": {
      "image/png": "[encoded data removed]",
      "text/plain": [
       "<matplotlib.figure.Figure at 0x7f8badcaa128>"
      ]
     },
     "metadata": {
      "needs_background": "light"
     },
     "output_type": "display_data"
    }
   ],
   "source": [
    "# A short snippet of code showing how to draw boxplots\n",
    "for i,name in enumerate([\"Anonymous\", \"League Bowling\", \"Obituary\"]):\n",
    "    plt.figure()\n",
    "    data = datasets[name]\n",
    "    # draw horizontal box-plots default is vertical\n",
    "    plt.boxplot(data, vert=False)\n",
    "    plt.yticks([])\n",
    "    plt.title(f\"Box-plot for {name} data\")\n",
    "    "
   ]
  },
  {
   "cell_type": "markdown",
   "metadata": {},
   "source": [
    "## Exercise: Normal data and the empirical rule\n",
    "\n",
    "The following data-sets represent the ages of participants in 3 different studies. Histogram these datasets given the bins provided and decide which (if any) are approximately normally distributed. Explain your reasons. \n",
    "\n",
    "Calculate the mean and standard deviation of each data-set. What can you now say about any of the data-sets? (Hint: consider the empirical rule)."
   ]
  },
  {
   "cell_type": "code",
   "execution_count": 17,
   "metadata": {},
   "outputs": [
    {
     "name": "stdout",
     "output_type": "stream",
     "text": [
      "Data-set 1 has mean = 28.294736842105262 and standard deviation 6.863900508741791\n",
      "Data-set 2 has mean = 28.470175438596492 and standard deviation 7.081232049413601\n",
      "Data-set 3 has mean = 28.137323943661972 and standard deviation 6.715455257657198\n",
      "within1std = 0.684\n",
      "within2std = 0.947\n",
      "within3std = 0.996\n"
     ]
    },
    {
     "data": {
      "image/png": "[encoded data removed]",
      "text/plain": [
       "<matplotlib.figure.Figure at 0x7f8badf89e10>"
      ]
     },
     "metadata": {
      "needs_background": "light"
     },
     "output_type": "display_data"
    },
    {
     "data": {
      "image/png": "[encoded data removed]",
      "text/plain": [
       "<matplotlib.figure.Figure at 0x7f8badf0a0b8>"
      ]
     },
     "metadata": {
      "needs_background": "light"
     },
     "output_type": "display_data"
    },
    {
     "data": {
      "image/png": "[encoded data removed]",
      "text/plain": [
       "<matplotlib.figure.Figure at 0x7f8badf562e8>"
      ]
     },
     "metadata": {
      "needs_background": "light"
     },
     "output_type": "display_data"
    }
   ],
   "source": [
    "bins = np.linspace(17.5, 41.5, 9)\n",
    "\n",
    "data1 = np.array([\n",
    "    19, 34, 25, 34, 23, 20, 24, 31, 34, 34, 28, 27, 32, 39, 31, 19, 24, 21, 19,\n",
    "    30, 37, 32, 20, 20, 35, 28, 28, 40, 20, 21, 18, 33, 35, 30, 40, 29, 31, 36,\n",
    "    27, 21, 34, 38, 21, 29, 37, 27, 18, 35, 36, 40, 23, 25, 35, 19, 29, 20, 28,\n",
    "    26, 30, 28, 19, 37, 37, 36, 40, 37, 19, 19, 40, 36, 22, 24, 38, 21, 40, 19,\n",
    "    35, 18, 19, 22, 29, 25, 22, 18, 34, 20, 35, 34, 24, 22, 20, 30, 40, 32, 38,\n",
    "    33, 26, 35, 22, 21, 26, 33, 25, 19, 39, 18, 18, 22, 24, 39, 38, 24, 30, 20,\n",
    "    21, 23, 19, 23, 28, 20, 35, 25, 30, 22, 22, 27, 19, 26, 39, 18, 20, 19, 27,\n",
    "    18, 30, 31, 28, 26, 27, 18, 22, 21, 34, 30, 20, 19, 38, 35, 24, 26, 21, 19,\n",
    "    18, 35, 39, 35, 18, 37, 22, 19, 25, 33, 29, 40, 27, 38, 20, 25, 26, 27, 29,\n",
    "    18, 37, 25, 19, 34, 39, 21, 32, 29, 23, 31, 36, 27, 32, 25, 29, 40, 28, 31,\n",
    "    28, 31, 39, 39, 28, 21, 35, 29, 35, 37, 37, 21, 21, 37, 32, 25, 32, 36, 20,\n",
    "    28, 32, 40, 24, 36, 28, 28, 29, 28, 39, 38, 28, 25, 39, 22, 33, 18, 32, 24,\n",
    "    28, 27, 34, 22, 32, 29, 36, 23, 38, 34, 39, 19, 20, 18, 21, 36, 29, 40, 26,\n",
    "    28, 24, 40, 25, 26, 35, 24, 20, 23, 25, 18, 19, 28, 30, 28, 37, 31, 26, 30,\n",
    "    34, 29, 31, 40, 37, 24, 21, 27, 40, 23, 20, 19, 23, 37, 36, 31, 33, 29, 40\n",
    "    ])\n",
    "\n",
    "data2 = np.array([\n",
    "    42, 25, 25, 19, 43, 27, 18, 24, 43, 12, 30, 24, 22, 32, 20, 29, 25, 23,\n",
    "    16, 31, 29, 31, 33, 24, 32, 31, 34, 44, 34, 20, 27, 16, 32, 29, 26, 33,\n",
    "    22, 36, 17, 37, 31, 31, 30, 21, 28, 29, 34, 43, 28, 30, 24, 42, 21, 27,\n",
    "    31, 26, 39, 39, 30, 26, 21, 35, 28, 27, 22, 25, 25, 26, 30, 27, 12, 20,\n",
    "    33, 21, 20, 18, 21, 34, 22, 29, 23, 15, 36, 25, 36, 31, 30, 33, 37, 28,\n",
    "    31, 28, 38, 34, 31, 28, 25, 32, 23, 32, 35, 36, 27, 29, 25, 27, 27, 37,\n",
    "    25, 24, 23, 26, 24, 30, 28, 34, 47, 30, 37, 39, 20, 29, 26, 27, 34, 26,\n",
    "    31, 41, 24, 34, 25, 27, 42, 32, 27, 33, 21, 29, 21, 28, 33, 48, 31, 25,\n",
    "    26, 23, 20, 28, 19, 37, 25, 21, 21, 43, 34, 39, 29, 41, 41, 13, 18, 40,\n",
    "    32, 18, 27, 25, 30, 35, 20, 17, 23, 36, 35, 28, 28, 27, 23, 25, 28, 26,\n",
    "    32, 30, 20, 33, 37, 42, 28, 33, 35, 22, 27, 19, 24, 28, 25, 12, 23, 25,\n",
    "    31, 37, 42, 31, 29, 25, 46, 25, 40, 22, 21, 34, 29, 29, 22, 32, 29, 24,\n",
    "    31, 19, 34, 26, 31, 38, 38, 30, 26, 25, 22, 16, 36, 29, 38, 29, 31,  9,\n",
    "    25, 52, 27, 35, 31, 33, 36, 30, 25, 32, 26, 31, 26, 29, 25, 16, 30, 26,\n",
    "    28, 25, 25, 15, 24, 27, 25, 24, 41, 36, 21, 41, 22, 26, 14, 31, 31, 24,\n",
    "    30, 22, 30, 34, 21, 16, 22, 40, 34, 29, 20, 19, 30, 29, 28,])\n",
    "\n",
    "data3 = np.array([\n",
    "    33, 25, 36, 23, 36, 34, 33, 19, 24, 36, 33, 38, 31, 32, 33, 19, 22, 31, 35,\n",
    "    34, 24, 36, 23, 36, 39, 25, 21, 38, 20, 22, 19, 25, 32, 18, 36, 30, 37, 32,\n",
    "    37, 13, 34, 20, 33, 17, 20, 26, 43, 22, 17, 33, 37, 36, 40, 28, 32, 21, 26,\n",
    "    30, 37, 39, 26, 26, 31, 22, 32, 35, 31, 34, 33, 20, 34, 21, 30, 25, 37, 22,\n",
    "    22, 22, 19, 22, 25, 24, 22, 27, 23, 37, 32, 36, 22, 19, 31, 33, 19, 33, 24,\n",
    "    23, 20, 23, 32, 21, 26, 20, 24, 35, 32, 36, 36, 20, 24, 19, 16, 35, 29, 31,\n",
    "    20, 16, 34, 34, 34, 25, 35, 31, 33, 23, 17, 23, 27, 22, 28, 33, 21, 34, 20,\n",
    "    34, 19, 27, 35, 34, 35, 25, 30, 26, 20, 33, 34, 37, 37, 36, 26, 27, 32, 36,\n",
    "    22, 22, 25, 34, 16, 25, 36, 25, 36, 34, 18, 16, 21, 30, 33, 36, 34, 21, 22,\n",
    "    29, 33, 32, 21, 23, 32, 35, 32, 33, 13, 30, 19, 31, 36, 36, 21, 19, 28, 21,\n",
    "    33, 30, 25, 38, 36, 20, 33, 31, 24, 31, 32, 32, 23, 29, 29, 25, 21, 32, 17,\n",
    "    26, 36, 23, 20, 34, 38, 24, 35, 25, 35, 26, 26, 22, 27, 19, 22, 22, 34, 21,\n",
    "    23, 26, 27, 26, 40, 40, 38, 30, 37, 21, 37, 28, 17, 36, 37, 18, 23, 33, 20,\n",
    "    33, 20, 32, 24, 20, 16, 23, 41, 28, 19, 39, 23, 26, 39, 22, 25, 35, 27, 21,\n",
    "    30, 32, 19, 37, 27, 19, 18, 25, 26, 37, 31, 25, 33, 38, 37, 37, 24, 33])\n",
    "\n",
    "## to complete\n",
    "plt.figure()\n",
    "plt.hist(data1, bins=bins)\n",
    "plt.title(\"Data-set 1\")\n",
    "plt.xlabel('Age')\n",
    "plt.ylabel('Frequency')\n",
    "\n",
    "plt.figure()\n",
    "plt.hist(data2, bins=bins)\n",
    "plt.title(\"Data-set 2\")\n",
    "plt.xlabel('Age')\n",
    "plt.ylabel('Frequency')\n",
    "\n",
    "plt.figure()\n",
    "plt.hist(data3, bins=bins)\n",
    "plt.title(\"Data-set 3\")\n",
    "plt.xlabel('Age')\n",
    "plt.ylabel('Frequency')\n",
    "\n",
    "# here I have started to use the numpy libraries\n",
    "# it is better practice to use standard libraries where possible\n",
    "mean1 = np.mean(data1)\n",
    "mean2 = np.mean(data2)\n",
    "mean3 = np.mean(data3)\n",
    "\n",
    "std1 = np.std(data1)\n",
    "std2 = np.std(data2)\n",
    "std3 = np.std(data3)\n",
    "\n",
    "print(f\"Data-set 1 has mean = {mean1} and standard deviation {std1}\")\n",
    "print(f\"Data-set 2 has mean = {mean2} and standard deviation {std2}\")\n",
    "print(f\"Data-set 3 has mean = {mean3} and standard deviation {std3}\")\n",
    "\n",
    "# Data set 1 is not bell shaped, instead there is a skew/bias with\n",
    "# more values at the lower end than the upper end\n",
    "# Data set 2 appears roughly normal. It is approximately symmetric and\n",
    "# bell shaped. We can check whether the empirical rule holds\n",
    "# Data set 3 appears to have two \"modes\", this suggests a mixture \n",
    "# distribution.\n",
    "\n",
    "# checking the empirical rule\n",
    "# we count the number of data=points in data2 that lie between\n",
    "# mean +/- 1, 2 and 3 standard deviations\n",
    "# 1 standard deviation\n",
    "lower = mean2 - std2\n",
    "upper = mean2 + std2\n",
    "# this is again using boolean vectors produced by elementwise comparisons < and >\n",
    "# the & operator is an elementwise and operation\n",
    "# the sum function counts the number of True elements in the resulting vector\n",
    "within1std = np.sum((data2 > lower) & (data2 < upper))/data2.size\n",
    "# 2 standard deviation\n",
    "print(f\"within1std = {within1std:.3f}\")\n",
    "lower = mean2 - 2*std2\n",
    "upper = mean2 + 2*std2\n",
    "within2std = np.sum((data2 > lower) & (data2 < upper))/data2.size\n",
    "print(f\"within2std = {within2std:.3f}\")\n",
    "# 3 standard deviation\n",
    "lower = mean2 - 3*std2\n",
    "upper = mean2 + 3*std2\n",
    "within3std = np.sum((data2 > lower) & (data2 < upper))/data2.size\n",
    "print(f\"within3std = {within3std:.3f}\")\n",
    "# So approximately 68.4% of the data lies within 1 standard deviation of the mean (target 68%)\n",
    "# approximately 94.7% of the data lies within 2 standard devition of the mean (target 95%)\n",
    "# and approximately 99.6% of the data lies within 2 standard devition of the mean (target 99.7%)\n",
    "# which very closely match the values of the empirical rule\n"
   ]
  },
  {
   "cell_type": "markdown",
   "metadata": {},
   "source": [
    "## Exercise: Pearson's r\n",
    "Pearson's product moment correlation coefficient sometimes just called the r-value or Pearson's r is defined in (Ross, 2017, Sec. 3.7). Your job is to write the function and then apply it to the smoking vs free radicals and school vs pulse-rate data-sets. Compare your answers with the library function <code>numpy.pearsonr</code>."
   ]
  },
  {
   "cell_type": "code",
   "execution_count": 18,
   "metadata": {},
   "outputs": [],
   "source": [
    "## write your own function to calculate r (Pearson's product moment correlation coefficient)\n",
    "## to complete\n",
    "\n",
    "def calc_r(xys):\n",
    "    xs = xys[:,0]\n",
    "    ys = xys[:,1]\n",
    "    xmean = np.mean(xs)\n",
    "    ymean = np.mean(ys)\n",
    "    xdevs = xs - xmean\n",
    "    ydevs = ys - ymean\n",
    "    numer = np.sum(xdevs*ydevs)\n",
    "    denom = np.sqrt(np.sum(xdevs**2)* np.sum(ydevs**2))\n",
    "    return numer/denom\n",
    "    "
   ]
  },
  {
   "cell_type": "code",
   "execution_count": 19,
   "metadata": {},
   "outputs": [
    {
     "name": "stdout",
     "output_type": "stream",
     "text": [
      "For smoking data:\n",
      "r = 0.87596\n",
      "scipy r = 0.87596\n"
     ]
    },
    {
     "data": {
      "image/png": "[encoded data removed]",
      "text/plain": [
       "<matplotlib.figure.Figure at 0x7f8badfced30>"
      ]
     },
     "metadata": {
      "needs_background": "light"
     },
     "output_type": "display_data"
    }
   ],
   "source": [
    "smoking_data = [\n",
    "    (18,202), (32, 644), (25, 411), (60, 755), (12, 144),\n",
    "    (25, 302), (50, 512), (15, 223), (22, 183), (30, 375)]\n",
    "\n",
    "## calculate Pearson's r on the above data and report it\n",
    "## plot the data too\n",
    "# to complete \n",
    "smoking_data  = np.array(smoking_data)\n",
    "\n",
    "plt.figure()\n",
    "plt.plot(smoking_data[:,0], smoking_data[:,1], '+', ms=8)\n",
    "plt.xlabel(\"Number of cigarettes smoked\")\n",
    "plt.ylabel(\"Free radicals\")\n",
    "\n",
    "r = calc_r(smoking_data)\n",
    "print(f\"For smoking data:\\nr = {r:.5f}\")\n",
    "\n",
    "# scipy version\n",
    "r, _ = stats.pearsonr(smoking_data[:,0], smoking_data[:,1])\n",
    "print(f\"scipy r = {r:.5f}\")\n"
   ]
  },
  {
   "cell_type": "code",
   "execution_count": 20,
   "metadata": {},
   "outputs": [
    {
     "name": "stdout",
     "output_type": "stream",
     "text": [
      "For school_vs_pulse_rate:\n",
      "r = -0.76380\n",
      "scipy r = -0.76380\n"
     ]
    },
    {
     "data": {
      "image/png": "[encoded data removed]",
      "text/plain": [
       "<matplotlib.figure.Figure at 0x7f8bade5d6a0>"
      ]
     },
     "metadata": {
      "needs_background": "light"
     },
     "output_type": "display_data"
    }
   ],
   "source": [
    "school_vs_pulse_rate = [\n",
    "  (12, 73), (16, 67), (13, 74), (18, 63), (19, 73),\n",
    "  (12, 84), (18, 60), (19, 62), (12, 76), (14, 71)]\n",
    "\n",
    "## calculate Pearson's r on the above data and report it\n",
    "## plot the data too\n",
    "## to complete\n",
    "school_vs_pulse_rate  = np.array(school_vs_pulse_rate)\n",
    "\n",
    "plt.figure()\n",
    "plt.plot(school_vs_pulse_rate[:,0], school_vs_pulse_rate[:,1], '+', ms=8)\n",
    "plt.xlabel(\"Number of cigarettes smoked\")\n",
    "plt.xlabel(\"Free radicals\")\n",
    "\n",
    "r = calc_r(school_vs_pulse_rate)\n",
    "print(f\"For school_vs_pulse_rate:\\nr = {r:.5f}\")\n",
    "\n",
    "# scipy version\n",
    "r, _ = stats.pearsonr(school_vs_pulse_rate[:,0], school_vs_pulse_rate[:,1])\n",
    "print(f\"scipy r = {r:.5f}\")\n",
    "# in this case there are no differences between Numpy and the textbook values"
   ]
  }
 ],
 "metadata": {
  "kernelspec": {
   "display_name": "Python 3",
   "language": "python",
   "name": "python3"
  },
  "language_info": {
   "codemirror_mode": {
    "name": "ipython",
    "version": 3
   },
   "file_extension": ".py",
   "mimetype": "text/x-python",
   "name": "python",
   "nbconvert_exporter": "python",
   "pygments_lexer": "ipython3",
   "version": "3.7.3"
  }
 },
 "nbformat": 4,
 "nbformat_minor": 4
}
