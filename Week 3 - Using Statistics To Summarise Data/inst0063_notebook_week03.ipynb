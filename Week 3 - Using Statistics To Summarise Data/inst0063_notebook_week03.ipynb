{
 "cells": [
  {
   "cell_type": "markdown",
   "metadata": {},
   "source": [
    "# Week 3 - Using statistics to summarise datasets\n",
    "\n",
    "This is a Jupyter notebook to explore the material in (Ross, 2017, Chp. 3) with the use of Python. \n",
    "\n"
   ]
  },
  {
   "cell_type": "code",
   "execution_count": 1,
   "metadata": {},
   "outputs": [],
   "source": [
    "%matplotlib inline\n",
    "# from now on we'll start each notebook with the library imports\n",
    "# and special commands to keep these things in one place (which\n",
    "# is good practice). The line above is jupyter command to get \n",
    "# matplotlib to plot inline (between cells)\n",
    "# Next we import the libraries and give them short names\n",
    "import numpy as np\n",
    "import scipy.stats as stats\n",
    "import matplotlib.pyplot as plt\n",
    "from collections import Counter"
   ]
  },
  {
   "cell_type": "markdown",
   "metadata": {},
   "source": [
    "## Some data-sets\n",
    "\n",
    "We will be making use of a number of datasets in this notebook, and so we define them here to make them accessible throughout."
   ]
  },
  {
   "cell_type": "code",
   "execution_count": 2,
   "metadata": {},
   "outputs": [],
   "source": [
    "\n",
    "\n",
    "# for illustrative purposes we have removed or added some the values from some of the datasets\n",
    "# below compared to the original versions in (Ross, 2017)\n",
    "# anonymous values based on those from (Ross, 2017, p. 86, Q8)\n",
    "anon_data = np.array([75, 55, 21, 46, 98, 103, 88, 35, 22, 29, 73, 37, 121, 144, 133,\n",
    "    52, 54, 63, 21, 7])\n",
    "# some values from (Ross, 2017, Ex. 3.11)\n",
    "league_bowling_scores = np.array([122, 126, 133, 140, 145, 145, 149, 150, 157, 162, 166,\n",
    "    175, 177, 177, 183, 188, 199, 212])\n",
    "# some ages at death as given in obituaries of the New York Times August 1, 2013 as\n",
    "# presented in (Ross, 2017, p. 86, Q0)\n",
    "obituary_data = [92, 90, 92, 74, 74, 69, 80, 94, 98, 65, 96, 84, 69, 86, 91, 88, 74,\n",
    "    97, 85, 88, 68, 77, 94, 88, 65, 76, 75, 60, 69, 97, 92, 85, 70, 80, 93, 91,\n",
    "    68, 82, 78, 89]\n",
    "\n",
    "\n",
    "# From (Ross, 2017, p. 82) explanation for 90th percentile\n",
    "example1_data = np.arange(1,13)\n",
    "example2_data = np.arange(1,21)\n",
    "# The above datasets are constructed so that the values equal the index\n",
    "# e.g. [v1, v2,...] = [1, 2, ...]\n",
    "# In particular, they are to check that the 90th percentile is as calculated on p. 82\n",
    "\n",
    "# for ease of reference we'll put each dataset in a dictionary\n",
    "datasets = dict([\n",
    "    (\"Anonymous\", anon_data), (\"League Bowling\", league_bowling_scores),\n",
    "    (\"Obituary\", obituary_data), (\"Example 1\", example1_data),\n",
    "    (\"Example 2\", example2_data)])"
   ]
  },
  {
   "cell_type": "markdown",
   "metadata": {},
   "source": [
    "## Exercise A: Mean\n",
    "\n",
    "The mean is probably the most widely used and understood form of averaging. We can average any collection with the following function:\n"
   ]
  },
  {
   "cell_type": "code",
   "execution_count": 3,
   "metadata": {},
   "outputs": [],
   "source": [
    "def calc_mean_first_attempt(data):\n",
    "    n = len(data)\n",
    "    tot = 0\n",
    "    for x in data:\n",
    "        tot += x\n",
    "    return tot/n\n",
    "        \n"
   ]
  },
  {
   "cell_type": "markdown",
   "metadata": {},
   "source": [
    "we can simplify this if we allow ourselves to use <code>numpy.array</code> objects."
   ]
  },
  {
   "cell_type": "code",
   "execution_count": 4,
   "metadata": {},
   "outputs": [],
   "source": [
    "def calc_mean(data):\n",
    "    data = np.array(data)\n",
    "    return np.sum(data)/data.size"
   ]
  },
  {
   "cell_type": "markdown",
   "metadata": {},
   "source": [
    "In fact we can just use the library function <code>numpy.mean</code>.\n",
    "`\n",
    "All the above methods are applied to some of our data-sets defined at the beginning of the notebook. <code>numpy.sum</code> and <code>numpy.mean</code> are both described as \"reductions\" in the Numpy documentation. There is an informative explanation [here](https://scipy-lectures.org/intro/numpy/operations.html#basic-reductions)."
   ]
  },
  {
   "cell_type": "code",
   "execution_count": 5,
   "metadata": {},
   "outputs": [
    {
     "name": "stdout",
     "output_type": "stream",
     "text": [
      "Means for Anonymous Data:\n",
      "\tcalc_mean_first_attempt(data) = 63.85\n",
      "\tcalc_mean(data) = 63.85\n",
      "\tnp.mean(data) = 63.85\n",
      "\n",
      "Means for League Bowling Data:\n",
      "\tcalc_mean_first_attempt(data) = 161.44444444444446\n",
      "\tcalc_mean(data) = 161.44444444444446\n",
      "\tnp.mean(data) = 161.44444444444446\n",
      "\n",
      "Means for Obituary Data:\n",
      "\tcalc_mean_first_attempt(data) = 82.075\n",
      "\tcalc_mean(data) = 82.075\n",
      "\tnp.mean(data) = 82.075\n",
      "\n"
     ]
    }
   ],
   "source": [
    "for name in [\"Anonymous\", \"League Bowling\", \"Obituary\"]:\n",
    "    data = datasets[name]\n",
    "    print(f\"Means for {name} Data:\")\n",
    "    print(f\"\\tcalc_mean_first_attempt(data) = {calc_mean_first_attempt(data)}\")\n",
    "    print(f\"\\tcalc_mean(data) = {calc_mean(data)}\")\n",
    "    print(f\"\\tnp.mean(data) = {np.mean(data)}\")\n",
    "    print(\"\") # newline\n",
    "    \n",
    "    "
   ]
  },
  {
   "cell_type": "markdown",
   "metadata": {},
   "source": [
    "### Means from frequency tables\n",
    "\n",
    "Below is the frequency count data for the severity of motorcyle accidents from (Weiss, 1992) as reported in (Ross, 2017, p. 70). Note that there are three variables, one list of severity types, one list of frequencies of accidents with helmets and one set of frequencies without helmets.\n",
    "\n",
    "Write a function <code>calc_mean_from_frequencies</code> that takes two inputs: values and frequency counts, and produces a mean based on this. Then apply this to the data to give two sample means. There is more than one way to do this, but you might want to consider calculating the weights first then performing a weighted average with elementwise multiplication and then summing the terms using <code>np.sum</code>. You can read up on elementwise operations [here](https://scipy-lectures.org/intro/numpy/operations.html#elementwise-operations). As mentioned before, <code>numpy.sum</code> is what is described as a reduction, and you can read up more about reductions [here](https://scipy-lectures.org/intro/numpy/operations.html#basic-reductions)."
   ]
  },
  {
   "cell_type": "code",
   "execution_count": 6,
   "metadata": {},
   "outputs": [
    {
     "name": "stdout",
     "output_type": "stream",
     "text": [
      "[0 1 2 3 4 5 6]\n",
      "[248  58  11   3   2   8   1]\n",
      "[227 135  33  14   3  21   6]\n",
      "\n",
      "\n",
      "[ 0 58 22  9  8 40  6]\n",
      "143\n",
      "331\n",
      "Helmet Mean = 0.43202416918429004\n",
      "\n",
      "\n",
      "[  0 135  66  42  12 105  36]\n",
      "396\n",
      "439\n",
      "No Helmet Mean = 0.9020501138952164\n",
      "\n",
      "\n",
      "[144 204 270 190 160]\n",
      "968\n",
      "54\n",
      "Quiz 3 Mean = 17.925925925925927\n"
     ]
    }
   ],
   "source": [
    "severities = np.arange(7)\n",
    "with_helmet = np.array([248, 58, 11, 3, 2, 8, 1])\n",
    "without_helmet = np.array([227, 135, 33, 14, 3, 21, 6])\n",
    "\n",
    "age = np.array([16,17,18,19,20])\n",
    "count = np.array([9,12,15,10,8])\n",
    "\n",
    "def calc_mean_from_frequencies(values, frequencyCounts):\n",
    "    weights = np.multiply(values, frequencyCounts)\n",
    "    print(weights)\n",
    "    \n",
    "    sum_weights = np.sum(weights)\n",
    "    print(sum_weights)\n",
    "    \n",
    "    divisor = np.sum(frequencyCounts)\n",
    "    print(divisor)\n",
    "    \n",
    "    mean = sum_weights/divisor\n",
    "    \n",
    "    return mean\n",
    "\n",
    "\n",
    "print(severities)\n",
    "print(with_helmet)\n",
    "print(without_helmet)\n",
    "print(\"\\n\")\n",
    "\n",
    "\n",
    "helmet = calc_mean_from_frequencies(severities, with_helmet)\n",
    "print(f\"Helmet Mean = {helmet}\")\n",
    "\n",
    "print(\"\\n\")\n",
    "\n",
    "no_helmet = calc_mean_from_frequencies(severities, without_helmet)\n",
    "print(f\"No Helmet Mean = {no_helmet}\")\n",
    "\n",
    "print(\"\\n\")\n",
    "\n",
    "quiz3mean = calc_mean_from_frequencies(age, count)\n",
    "print(f\"Quiz 3 Mean = {quiz3mean}\")\n",
    "\n"
   ]
  },
  {
   "cell_type": "markdown",
   "metadata": {},
   "source": [
    "## Exercise B: Median and Mode\n",
    "\n",
    "Now try writing functions for the median and the mode too, first from raw observations and then from frequency count data. You can use any functions from the <code>numpy</code> library you like, except for <code>numpy.median</code>. Compare your results for the median with <code>numpy.median</code> on the data-sets you have already seen.\n"
   ]
  },
  {
   "cell_type": "code",
   "execution_count": 7,
   "metadata": {},
   "outputs": [],
   "source": [
    "## Median functions\n",
    "## to complete\n",
    "\n",
    "# FREQUENCY COUNT DATA FUNCTION\n",
    "def median_fc(values, frequencyCounts):\n",
    "    x = [item for item, count in zip(values, frequencyCounts) for i in range(count)]\n",
    "    median = median_ro(x)\n",
    "    return median\n",
    "\n",
    "# RAW OBSERVATION FUNCTION\n",
    "def median_ro(data):\n",
    "    n = len(data)\n",
    "    data.sort()\n",
    "  \n",
    "    if n % 2 == 0:\n",
    "        median1 = data[n//2] \n",
    "        median2 = data[n//2 - 1] \n",
    "        median = (median1 + median2)/2\n",
    "    else: \n",
    "        median = data[n//2] \n",
    "    return print(\"Median is = \" + str(median)) \n"
   ]
  },
  {
   "cell_type": "code",
   "execution_count": 8,
   "metadata": {},
   "outputs": [],
   "source": [
    "## Mode functions\n",
    "## to complete\n",
    "import collections\n",
    "\n",
    "# FREQUENCY COUNT DATA FUNCTION\n",
    "def mode_fc(values, frequencyCounts):\n",
    "    x = [item for item, count in zip(values, frequencyCounts) for i in range(count)]\n",
    "    mode = mode_ro(x)\n",
    "    return mode\n",
    "\n",
    "# RAW OBSERVATION FUNCTION\n",
    "def mode_ro(num_list):\n",
    "    \n",
    "    data = collections.Counter(num_list)\n",
    "    data_list = dict(data)\n",
    "    \n",
    "    max_value = max(list(data.values()))\n",
    "    mode_val = [num for num, freq in data_list.items() if freq == max_value]\n",
    "    \n",
    "    if len(mode_val) == len(num_list):\n",
    "        print(\"No mode in the list\")\n",
    "    else:\n",
    "        print(\"The Mode of the list is : \" + ', '.join(map(str, mode_val)))\n",
    "    return mode_val\n"
   ]
  },
  {
   "cell_type": "code",
   "execution_count": 9,
   "metadata": {},
   "outputs": [
    {
     "name": "stdout",
     "output_type": "stream",
     "text": [
      "Median is = 84.5\n",
      "Median using median() is = 84.5\n",
      "The Mode of the list is : 69, 74, 88, 92\n"
     ]
    },
    {
     "data": {
      "text/plain": [
       "[69, 74, 88, 92]"
      ]
     },
     "execution_count": 9,
     "metadata": {},
     "output_type": "execute_result"
    }
   ],
   "source": [
    "## Apply functions to obituary data\n",
    "## to complete\n",
    "\n",
    "# MEDIAN FOR OBITUARY DATA (RAW OBERSERVATION DATA)\n",
    "median_ro(obituary_data)\n",
    "\n",
    "# USING NP MEDIAN FUNCTION\n",
    "x = np.median(obituary_data)\n",
    "print(f\"Median using median() is = {x}\")\n",
    "\n",
    "# MODE FOR OBITUARY DATA (RAW OBERSERVATION DATA)\n",
    "mode_ro(obituary_data)\n"
   ]
  },
  {
   "cell_type": "code",
   "execution_count": 10,
   "metadata": {},
   "outputs": [
    {
     "name": "stdout",
     "output_type": "stream",
     "text": [
      "Median is = 0\n",
      "The Mode of the list is : 0\n"
     ]
    },
    {
     "data": {
      "text/plain": [
       "[0]"
      ]
     },
     "execution_count": 10,
     "metadata": {},
     "output_type": "execute_result"
    }
   ],
   "source": [
    "## apply functions to motorcycle accident severity data\n",
    "## to complete\n",
    "\n",
    "# MEDIAN FOR MOTORCYCLE ACCIDENT SEVERITY DATA (FREQUENCY COUNT DATA)\n",
    "median_fc(severities, with_helmet)\n",
    "\n",
    "# MODE FOR MOTORCYCLE ACCIDENT SEVERITY DATA (FREQUENCY COUNT DATA)\n",
    "mode_fc(severities, with_helmet)\n"
   ]
  },
  {
   "cell_type": "code",
   "execution_count": 11,
   "metadata": {},
   "outputs": [
    {
     "name": "stdout",
     "output_type": "stream",
     "text": [
      "The Mode of the list is : 18\n",
      "Median is = 18.0\n"
     ]
    }
   ],
   "source": [
    "# Quiz 3 Mode Median\n",
    "\n",
    "# Mode\n",
    "mode_fc(age, count)\n",
    "\n",
    "# Median \n",
    "median_fc(age, count)"
   ]
  },
  {
   "cell_type": "code",
   "execution_count": 14,
   "metadata": {},
   "outputs": [
    {
     "name": "stdout",
     "output_type": "stream",
     "text": [
      "Median is = 13.0\n",
      "None\n"
     ]
    }
   ],
   "source": [
    "mdata1 = [1,4,9,10,13,13,15,16,18,19]\n",
    "print(median_ro(mdata1))"
   ]
  },
  {
   "cell_type": "markdown",
   "metadata": {},
   "source": [
    "## Exercise C: Sample 100p percentile\n",
    "Here we can use one of two methods. The first we construct ourselves using the sorting functionality along with the ceil and floor functions. \n",
    "\n",
    "Below are three data-sets. For each find the 3rd percentile, the 45th percentile and the 90th percentile. To do this you will need to write a function that given a data-set and a value $0 < p < 1$ as arguments, calculates and returns the 100p percentile, then call this function on the three data-sets with each of the appropriate p values and output the results. "
   ]
  },
  {
   "cell_type": "code",
   "execution_count": 34,
   "metadata": {},
   "outputs": [
    {
     "name": "stdout",
     "output_type": "stream",
     "text": [
      "anon_data 3rd percentile is = 21\n",
      "anon_data 45th percentile is = 54\n",
      "anon_data 90rd percentile is = 133\n",
      "\n",
      "\n",
      "league_bowling_scores 3rd percentile is = 126\n",
      "league_bowling_scores 45th percentile is = 157\n",
      "league_bowling_scores 90rd percentile is = 199\n",
      "\n",
      "\n",
      "obituary_data 3rd percentile is = 65\n",
      "obituary_data 45th percentile is = 82\n",
      "obituary_data 90rd percentile is = 96\n"
     ]
    }
   ],
   "source": [
    "## writing your own function to calculate sample 100p percentile\n",
    "## to complete\n",
    "\n",
    "def percentile_calculator(data, perc):\n",
    "    a_list = sorted(list(data))\n",
    "#     print(a_list)\n",
    "    length = len(a_list)\n",
    "#     print(length)\n",
    "    pth = round(length*perc)\n",
    "#     print(pth)\n",
    "    return a_list[pth]\n",
    "\n",
    "\n",
    "# ANON_DATA 3RD 45TH 90TH\n",
    "a = percentile_calculator(anon_data, 0.03)\n",
    "print(f\"anon_data 3rd percentile is = {a}\")\n",
    "b = percentile_calculator(anon_data, 0.45)\n",
    "print(f\"anon_data 45th percentile is = {b}\")\n",
    "c = percentile_calculator(anon_data, 0.90)\n",
    "print(f\"anon_data 90rd percentile is = {c}\")\n",
    "\n",
    "print(\"\\n\")\n",
    "\n",
    "# LEAGUE_BOWLING_SCORES 3RD 45TH 90TH\n",
    "a = percentile_calculator(league_bowling_scores, 0.03)\n",
    "print(f\"league_bowling_scores 3rd percentile is = {a}\")\n",
    "b = percentile_calculator(league_bowling_scores, 0.45)\n",
    "print(f\"league_bowling_scores 45th percentile is = {b}\")\n",
    "c = percentile_calculator(league_bowling_scores, 0.90)\n",
    "print(f\"league_bowling_scores 90rd percentile is = {c}\")\n",
    "\n",
    "print(\"\\n\")\n",
    "\n",
    "# OBITUARY_DATA 3RD 45TH 90TH\n",
    "a = percentile_calculator(obituary_data, 0.03)\n",
    "print(f\"obituary_data 3rd percentile is = {a}\")\n",
    "b = percentile_calculator(obituary_data, 0.45)\n",
    "print(f\"obituary_data 45th percentile is = {b}\")\n",
    "c = percentile_calculator(obituary_data, 0.90)\n",
    "print(f\"obituary_data 90rd percentile is = {c}\")"
   ]
  },
  {
   "cell_type": "markdown",
   "metadata": {},
   "source": [
    "The second approach to find the percentile values uses the library function <code>numpy.percentile</code>. However, the second method requires an appropriate choice for the <code>interpolation</code> input parameter. Look up the function's documentation and determine what values this can take. Now re-run this on the 3 data-sets from above and the two simple example datasets from below and check  which value for <code>interpolation</code> (if any) gives the same answers as your other function above."
   ]
  },
  {
   "cell_type": "code",
   "execution_count": 25,
   "metadata": {},
   "outputs": [
    {
     "name": "stdout",
     "output_type": "stream",
     "text": [
      "anon_data 3rd percentile is = 21\n",
      "anon_data 45th percentile is = 54\n",
      "anon_data 90rd percentile is = 133\n",
      "\n",
      "\n",
      "league_bowling_scores 3rd percentile is = 126\n",
      "league_bowling_scores 45th percentile is = 157\n",
      "league_bowling_scores 90rd percentile is = 199\n",
      "\n",
      "\n",
      "obituary_data 3rd percentile is = 65\n",
      "obituary_data 45th percentile is = 82\n",
      "obituary_data 90rd percentile is = 96\n"
     ]
    }
   ],
   "source": [
    "## to complete\n",
    "\n",
    "def percentile_calculator2(data, perc):\n",
    "    a_list = np.sort(np.array(data))\n",
    "    percentileVal = np.percentile(a_list, perc, interpolation = 'higher')\n",
    "    return percentileVal\n",
    "\n",
    "\n",
    "# ANON_DATA 3RD 45TH 90TH\n",
    "a = percentile_calculator2(anon_data, 3)\n",
    "print(f\"anon_data 3rd percentile is = {a}\")\n",
    "b = percentile_calculator2(anon_data, 45)\n",
    "print(f\"anon_data 45th percentile is = {b}\")\n",
    "c = percentile_calculator2(anon_data, 90)\n",
    "print(f\"anon_data 90rd percentile is = {c}\")\n",
    "\n",
    "print(\"\\n\")\n",
    "\n",
    "# LEAGUE_BOWLING_SCORES 3RD 45TH 90TH\n",
    "a = percentile_calculator2(league_bowling_scores, 3)\n",
    "print(f\"league_bowling_scores 3rd percentile is = {a}\")\n",
    "b = percentile_calculator2(league_bowling_scores, 45)\n",
    "print(f\"league_bowling_scores 45th percentile is = {b}\")\n",
    "c = percentile_calculator2(league_bowling_scores, 90)\n",
    "print(f\"league_bowling_scores 90rd percentile is = {c}\")\n",
    "\n",
    "print(\"\\n\")\n",
    "\n",
    "# OBITUARY_DATA 3RD 45TH 90TH\n",
    "a = percentile_calculator2(obituary_data, 3)\n",
    "print(f\"obituary_data 3rd percentile is = {a}\")\n",
    "b = percentile_calculator2(obituary_data, 45)\n",
    "print(f\"obituary_data 45th percentile is = {b}\")\n",
    "c = percentile_calculator2(obituary_data, 90)\n",
    "print(f\"obituary_data 90rd percentile is = {c}\")\n",
    "\n",
    "\n",
    "# 'linear’, ‘lower’, ‘higher’, ‘midpoint’, ‘nearest’ - out of these interpolation = ‘higher’ is the closes to my function above"
   ]
  },
  {
   "cell_type": "code",
   "execution_count": 36,
   "metadata": {},
   "outputs": [
    {
     "name": "stdout",
     "output_type": "stream",
     "text": [
      "[2.35, 2.38, 2.51, 2.53, 2.66, 2.67, 2.73, 2.8, 2.95, 2.97, 2.98, 3.07, 3.12, 3.12, 3.23, 3.24, 3.27, 3.33, 3.38, 3.44, 3.55, 3.7, 3.71, 3.77, 3.85, 3.86, 3.88, 3.99, 4.12, 4.16, 4.23, 4.39, 4.55, 4.57, 4.67, 4.7, 4.8, 5.04, 5.09, 5.12]\n",
      "LQ = 2.98\n",
      "UQ = 4.23\n",
      "IRQ = 1.2500000000000004\n"
     ]
    }
   ],
   "source": [
    "quiz3data = [3.71, 4.23, 4.16, 2.98, 3.23, 4.67, 3.99, 5.04, 4.55, 3.24, 2.80, 3.44, 3.27, 2.66, 2.95, 4.70, 5.12, 3.77, 3.12, 2.38, 4.57, 3.88, 2.97, 3.70, 2.53, 2.67, 4.12, 4.80, 3.55, 3.86, 2.51, 3.33, 3.85, 2.35, 3.12, 4.39, 5.09, 3.38, 2.73, 3.07]\n",
    "sor = sorted(quiz3data)\n",
    "print(sor)\n",
    "a3 = percentile_calculator2(quiz3data, 25)\n",
    "print(f\"LQ = {a3}\")\n",
    "b3 = percentile_calculator2(quiz3data, 75)\n",
    "print(f\"UQ = {b3}\")\n",
    "iqrquiz3 = b3 - a3\n",
    "print(f\"IRQ = {iqrquiz3}\")"
   ]
  },
  {
   "cell_type": "markdown",
   "metadata": {},
   "source": [
    "## Exercise D: Variance and Standard deviation\n",
    "Again there are library functions from Numpy for these calculations, but before we use them, convince yourself that you understand the definitions by writing these in terms of more primitive functions. Think about calculating first the mean then the deviations of the data.\n",
    "\n",
    "For this, you can use the existing Numpy functions <code>numpy.sum</code>, <code>numpy.mean</code>, <code>numpy.sqrt</code> and the elementwise arithmetic operations  <code>+</code>, <code>-</code>, <code>*</code>, <code>/</code> and <code>**</code> (to the power of). If you are unclear by what is meant by elementwise operations, then try reading [this](https://scipy-lectures.org/intro/numpy/operations.html#elementwise-operations) explanation.\n",
    "\n",
    "Optional: If you fancy a bit more practice, try implementing the mean absolute deviation and the inter-quartile range too."
   ]
  },
  {
   "cell_type": "code",
   "execution_count": 37,
   "metadata": {},
   "outputs": [
    {
     "name": "stdout",
     "output_type": "stream",
     "text": [
      "0.6666666666666666\n",
      "0.816496580927726\n"
     ]
    }
   ],
   "source": [
    "## write functions that calculate the variance and standard deviation of data\n",
    "## to complete\n",
    "\n",
    "def variance1(data):\n",
    "    mean_data = sum(data) / len(data)\n",
    "    vari = sum((x-mean_data)**2 for x in data) / len(data)\n",
    "    return vari\n",
    "\n",
    "def sd1(data):\n",
    "    var = variance1(data)\n",
    "    std = var ** 0.5\n",
    "    return std\n",
    "                    \n",
    "x = [1,2,3] \n",
    "print(variance1(x))\n",
    "print(sd1(x))"
   ]
  },
  {
   "cell_type": "code",
   "execution_count": 39,
   "metadata": {},
   "outputs": [
    {
     "name": "stdout",
     "output_type": "stream",
     "text": [
      "STD = 0.7945571093382778\n"
     ]
    }
   ],
   "source": [
    "quiz3data = [3.71, 4.23, 4.16, 2.98, 3.23, 4.67, 3.99, 5.04, 4.55, 3.24, 2.80, 3.44, 3.27, 2.66, 2.95, 4.70, 5.12, 3.77, 3.12, 2.38, 4.57, 3.88, 2.97, 3.70, 2.53, 2.67, 4.12, 4.80, 3.55, 3.86, 2.51, 3.33, 3.85, 2.35, 3.12, 4.39, 5.09, 3.38, 2.73, 3.07]\n",
    "q3std = sd1(quiz3data)\n",
    "print(f\"STD = {q3std}\")"
   ]
  },
  {
   "cell_type": "code",
   "execution_count": 23,
   "metadata": {},
   "outputs": [
    {
     "name": "stdout",
     "output_type": "stream",
     "text": [
      "6.0\n",
      "2.0\n",
      "7\n",
      "2\n",
      "5\n"
     ]
    }
   ],
   "source": [
    "import pandas as pd  \n",
    "\n",
    "# MEAN ABSOLUTE DEVIATION (MAD) FUNCTION\n",
    "def mad1(data):\n",
    "    series = pd.Series(list) \n",
    "    res = series.mad() \n",
    "    return result \n",
    "\n",
    "# IQR FUNCTION\n",
    "def iqrange(data):\n",
    "    uq = percentile_calculator(data, 0.75)\n",
    "    lq = percentile_calculator(data, 0.25)\n",
    "    print(uq)\n",
    "    print(lq)\n",
    "    iqr = uq - lq\n",
    "    return iqr\n",
    "\n",
    "h = [1,2,2,4,5,6,7,8]\n",
    "print(iqrange(h))"
   ]
  },
  {
   "cell_type": "code",
   "execution_count": 16,
   "metadata": {},
   "outputs": [
    {
     "name": "stdout",
     "output_type": "stream",
     "text": [
      "Variance of obituary data = 111.56937500000001\n",
      "Standard Deviation of obituary data = 10.562640531609508\n"
     ]
    }
   ],
   "source": [
    "## Apply functions to obituary data\n",
    "## to complete\n",
    "\n",
    "odv = variance1(obituary_data)\n",
    "print(f\"Variance of obituary data = {odv}\")\n",
    "\n",
    "odst = sd1(obituary_data)\n",
    "print(f\"Standard Deviation of obituary data = {odst}\")\n"
   ]
  },
  {
   "cell_type": "markdown",
   "metadata": {},
   "source": [
    "Look at the following data-sets from (Ross, 2017, p. 96, Q2). Which of these data-sets would you say had the larger variance? Calculate the variance of each to check your answers.\n"
   ]
  },
  {
   "cell_type": "code",
   "execution_count": 17,
   "metadata": {},
   "outputs": [
    {
     "name": "stdout",
     "output_type": "stream",
     "text": [
      "Variance of Data A = 8.555555555555555\n",
      "Standard Deviation of Data A = 2.9249881291307074\n",
      "\n",
      "\n",
      "Variance of Data B = 19.22222222222222\n",
      "Standard Deviation of Data B = 4.384315479321969\n"
     ]
    }
   ],
   "source": [
    "dataA = [66, 68, 71, 72, 72, 75]\n",
    "dataB = [ 2,  5,  9, 10, 10, 16]\n",
    "\n",
    "## to complete\n",
    "\n",
    "# Data A - variance and standard deviation\n",
    "var_dataA = variance1(dataA)\n",
    "print(f\"Variance of Data A = {var_dataA}\")\n",
    "std_dataA = sd1(dataA)\n",
    "print(f\"Standard Deviation of Data A = {std_dataA}\")\n",
    "\n",
    "print('\\n')\n",
    "\n",
    "# Data B - variance and standard deviation\n",
    "var_dataB = variance1(dataB)\n",
    "print(f\"Variance of Data B = {var_dataB}\")\n",
    "std_dataB = sd1(dataB)\n",
    "print(f\"Standard Deviation of Data B = {std_dataB}\")\n",
    "\n",
    "# B had larger deviation"
   ]
  },
  {
   "cell_type": "code",
   "execution_count": 25,
   "metadata": {},
   "outputs": [
    {
     "name": "stdout",
     "output_type": "stream",
     "text": [
      "Quiz 3 STD = 0.7945571093382778\n",
      "30.0\n",
      "10.0\n",
      "4.23\n",
      "2.98\n",
      "Quiz 3 IQR = 1.2500000000000004\n"
     ]
    }
   ],
   "source": [
    "# QUIZ 3\n",
    "# STD \n",
    "quiz3data = [3.71, 4.23, 4.16, 2.98, 3.23, 4.67, 3.99, 5.04, 4.55, 3.24, 2.80, 3.44, 3.27, 2.66, 2.95, 4.70, 5.12, 3.77, 3.12, 2.38, 4.57, 3.88, 2.97, 3.70, 2.53, 2.67, 4.12, 4.80, 3.55, 3.86, 2.51, 3.33, 3.85, 2.35, 3.12, 4.39, 5.09, 3.38, 2.73, 3.07]\n",
    "quiz3std = sd1(quiz3data)\n",
    "print(f\"Quiz 3 STD = {quiz3std}\")\n",
    "\n",
    "# IQR\n",
    "quiz3iqr = iqrange(quiz3data)\n",
    "print(f\"Quiz 3 IQR = {quiz3iqr}\")"
   ]
  },
  {
   "cell_type": "markdown",
   "metadata": {},
   "source": [
    "### A box plot\n",
    "\n",
    "There is a simple way to draw a box plot with matplotlib. See below:"
   ]
  },
  {
   "cell_type": "code",
   "execution_count": 51,
   "metadata": {},
   "outputs": [
    {
     "name": "stdout",
     "output_type": "stream",
     "text": [
      "0 and Anonymous\n",
      "1 and League Bowling\n",
      "2 and Obituary\n"
     ]
    },
    {
     "data": {
      "image/png": "[encoded data removed]",
      "text/plain": [
       "<Figure size 432x288 with 1 Axes>"
      ]
     },
     "metadata": {
      "needs_background": "light"
     },
     "output_type": "display_data"
    },
    {
     "data": {
      "image/png": "[encoded data removed]",
      "text/plain": [
       "<Figure size 432x288 with 1 Axes>"
      ]
     },
     "metadata": {
      "needs_background": "light"
     },
     "output_type": "display_data"
    },
    {
     "data": {
      "image/png": "[encoded data removed]",
      "text/plain": [
       "<Figure size 432x288 with 1 Axes>"
      ]
     },
     "metadata": {
      "needs_background": "light"
     },
     "output_type": "display_data"
    }
   ],
   "source": [
    "# A short snippet of code showing how to draw boxplots\n",
    "for i,name in enumerate([\"Anonymous\", \"League Bowling\", \"Obituary\"]):\n",
    "    plt.figure()\n",
    "    print(f\"{i} and {name}\")\n",
    "    data = datasets[name]\n",
    "    # draw horizontal box-plots default is vertical\n",
    "    plt.boxplot(data, vert=False)\n",
    "    plt.yticks([])\n",
    "    plt.title(f\"Box-plot for {name} data\")\n",
    "    "
   ]
  },
  {
   "cell_type": "markdown",
   "metadata": {},
   "source": [
    "## Exercise E: Normal data and the empirical rule\n",
    "\n",
    "The following data-sets represent the ages of participants in 3 different studies. Histogram these datasets given the bins provided and decide which (if any) are approximately normally distributed. Explain your reasons. \n",
    "\n",
    "Calculate the mean and standard deviation of each data-set. What can you now say about any of the data-sets? (Hint: consider the empirical rule)."
   ]
  },
  {
   "cell_type": "code",
   "execution_count": 54,
   "metadata": {},
   "outputs": [
    {
     "data": {
      "image/png": "[encoded data removed]",
      "text/plain": [
       "<Figure size 432x288 with 1 Axes>"
      ]
     },
     "metadata": {
      "needs_background": "light"
     },
     "output_type": "display_data"
    },
    {
     "data": {
      "image/png": "[encoded data removed]",
      "text/plain": [
       "<Figure size 432x288 with 1 Axes>"
      ]
     },
     "metadata": {
      "needs_background": "light"
     },
     "output_type": "display_data"
    },
    {
     "data": {
      "image/png": "[encoded data removed]",
      "text/plain": [
       "<Figure size 432x288 with 1 Axes>"
      ]
     },
     "metadata": {
      "needs_background": "light"
     },
     "output_type": "display_data"
    }
   ],
   "source": [
    "bins = np.linspace(17.5, 41.5, 9)\n",
    "\n",
    "data1 = np.array([\n",
    "    19, 34, 25, 34, 23, 20, 24, 31, 34, 34, 28, 27, 32, 39, 31, 19, 24, 21, 19,\n",
    "    30, 37, 32, 20, 20, 35, 28, 28, 40, 20, 21, 18, 33, 35, 30, 40, 29, 31, 36,\n",
    "    27, 21, 34, 38, 21, 29, 37, 27, 18, 35, 36, 40, 23, 25, 35, 19, 29, 20, 28,\n",
    "    26, 30, 28, 19, 37, 37, 36, 40, 37, 19, 19, 40, 36, 22, 24, 38, 21, 40, 19,\n",
    "    35, 18, 19, 22, 29, 25, 22, 18, 34, 20, 35, 34, 24, 22, 20, 30, 40, 32, 38,\n",
    "    33, 26, 35, 22, 21, 26, 33, 25, 19, 39, 18, 18, 22, 24, 39, 38, 24, 30, 20,\n",
    "    21, 23, 19, 23, 28, 20, 35, 25, 30, 22, 22, 27, 19, 26, 39, 18, 20, 19, 27,\n",
    "    18, 30, 31, 28, 26, 27, 18, 22, 21, 34, 30, 20, 19, 38, 35, 24, 26, 21, 19,\n",
    "    18, 35, 39, 35, 18, 37, 22, 19, 25, 33, 29, 40, 27, 38, 20, 25, 26, 27, 29,\n",
    "    18, 37, 25, 19, 34, 39, 21, 32, 29, 23, 31, 36, 27, 32, 25, 29, 40, 28, 31,\n",
    "    28, 31, 39, 39, 28, 21, 35, 29, 35, 37, 37, 21, 21, 37, 32, 25, 32, 36, 20,\n",
    "    28, 32, 40, 24, 36, 28, 28, 29, 28, 39, 38, 28, 25, 39, 22, 33, 18, 32, 24,\n",
    "    28, 27, 34, 22, 32, 29, 36, 23, 38, 34, 39, 19, 20, 18, 21, 36, 29, 40, 26,\n",
    "    28, 24, 40, 25, 26, 35, 24, 20, 23, 25, 18, 19, 28, 30, 28, 37, 31, 26, 30,\n",
    "    34, 29, 31, 40, 37, 24, 21, 27, 40, 23, 20, 19, 23, 37, 36, 31, 33, 29, 40\n",
    "    ])\n",
    "\n",
    "data2 = np.array([\n",
    "    42, 25, 25, 19, 43, 27, 18, 24, 43, 12, 30, 24, 22, 32, 20, 29, 25, 23,\n",
    "    16, 31, 29, 31, 33, 24, 32, 31, 34, 44, 34, 20, 27, 16, 32, 29, 26, 33,\n",
    "    22, 36, 17, 37, 31, 31, 30, 21, 28, 29, 34, 43, 28, 30, 24, 42, 21, 27,\n",
    "    31, 26, 39, 39, 30, 26, 21, 35, 28, 27, 22, 25, 25, 26, 30, 27, 12, 20,\n",
    "    33, 21, 20, 18, 21, 34, 22, 29, 23, 15, 36, 25, 36, 31, 30, 33, 37, 28,\n",
    "    31, 28, 38, 34, 31, 28, 25, 32, 23, 32, 35, 36, 27, 29, 25, 27, 27, 37,\n",
    "    25, 24, 23, 26, 24, 30, 28, 34, 47, 30, 37, 39, 20, 29, 26, 27, 34, 26,\n",
    "    31, 41, 24, 34, 25, 27, 42, 32, 27, 33, 21, 29, 21, 28, 33, 48, 31, 25,\n",
    "    26, 23, 20, 28, 19, 37, 25, 21, 21, 43, 34, 39, 29, 41, 41, 13, 18, 40,\n",
    "    32, 18, 27, 25, 30, 35, 20, 17, 23, 36, 35, 28, 28, 27, 23, 25, 28, 26,\n",
    "    32, 30, 20, 33, 37, 42, 28, 33, 35, 22, 27, 19, 24, 28, 25, 12, 23, 25,\n",
    "    31, 37, 42, 31, 29, 25, 46, 25, 40, 22, 21, 34, 29, 29, 22, 32, 29, 24,\n",
    "    31, 19, 34, 26, 31, 38, 38, 30, 26, 25, 22, 16, 36, 29, 38, 29, 31,  9,\n",
    "    25, 52, 27, 35, 31, 33, 36, 30, 25, 32, 26, 31, 26, 29, 25, 16, 30, 26,\n",
    "    28, 25, 25, 15, 24, 27, 25, 24, 41, 36, 21, 41, 22, 26, 14, 31, 31, 24,\n",
    "    30, 22, 30, 34, 21, 16, 22, 40, 34, 29, 20, 19, 30, 29, 28,])\n",
    "\n",
    "data3 = np.array([\n",
    "    33, 25, 36, 23, 36, 34, 33, 19, 24, 36, 33, 38, 31, 32, 33, 19, 22, 31, 35,\n",
    "    34, 24, 36, 23, 36, 39, 25, 21, 38, 20, 22, 19, 25, 32, 18, 36, 30, 37, 32,\n",
    "    37, 13, 34, 20, 33, 17, 20, 26, 43, 22, 17, 33, 37, 36, 40, 28, 32, 21, 26,\n",
    "    30, 37, 39, 26, 26, 31, 22, 32, 35, 31, 34, 33, 20, 34, 21, 30, 25, 37, 22,\n",
    "    22, 22, 19, 22, 25, 24, 22, 27, 23, 37, 32, 36, 22, 19, 31, 33, 19, 33, 24,\n",
    "    23, 20, 23, 32, 21, 26, 20, 24, 35, 32, 36, 36, 20, 24, 19, 16, 35, 29, 31,\n",
    "    20, 16, 34, 34, 34, 25, 35, 31, 33, 23, 17, 23, 27, 22, 28, 33, 21, 34, 20,\n",
    "    34, 19, 27, 35, 34, 35, 25, 30, 26, 20, 33, 34, 37, 37, 36, 26, 27, 32, 36,\n",
    "    22, 22, 25, 34, 16, 25, 36, 25, 36, 34, 18, 16, 21, 30, 33, 36, 34, 21, 22,\n",
    "    29, 33, 32, 21, 23, 32, 35, 32, 33, 13, 30, 19, 31, 36, 36, 21, 19, 28, 21,\n",
    "    33, 30, 25, 38, 36, 20, 33, 31, 24, 31, 32, 32, 23, 29, 29, 25, 21, 32, 17,\n",
    "    26, 36, 23, 20, 34, 38, 24, 35, 25, 35, 26, 26, 22, 27, 19, 22, 22, 34, 21,\n",
    "    23, 26, 27, 26, 40, 40, 38, 30, 37, 21, 37, 28, 17, 36, 37, 18, 23, 33, 20,\n",
    "    33, 20, 32, 24, 20, 16, 23, 41, 28, 19, 39, 23, 26, 39, 22, 25, 35, 27, 21,\n",
    "    30, 32, 19, 37, 27, 19, 18, 25, 26, 37, 31, 25, 33, 38, 37, 37, 24, 33])\n",
    "\n",
    "## to complete\n",
    "\n",
    "datasets2 = dict([(\"Data 1\", data1), (\"Data 2\", data2), (\"Data 3\", data3)])\n",
    "\n",
    "for i,name in enumerate([\"Data 1\", \"Data 2\", \"Data 3\"]):\n",
    "    plt.figure()\n",
    "    data = datasets2[name]\n",
    "    plt.hist(data, bins=bins)\n",
    "    plt.yticks([])\n",
    "    plt.title(f\"Histogram for {name} data\")\n",
    "\n",
    "\n",
    "# DATA SET 2 APPROX. DISTRIB DUE TO CONCENTRATION IN MIDDLE AND LOWER ON EITHER SIDE OF PEAK (ALMOST SYMMETRICAL)"
   ]
  },
  {
   "cell_type": "code",
   "execution_count": 58,
   "metadata": {},
   "outputs": [
    {
     "name": "stdout",
     "output_type": "stream",
     "text": [
      "Mean of data 1 = 28.294736842105262\n",
      "SD of data 1 = 6.863900508741791\n",
      "\n",
      "\n",
      "Mean of data 2 = 28.470175438596492\n",
      "SD of data 2 = 7.081232049413601\n",
      "\n",
      "\n",
      "Mean of data 3 = 28.137323943661972\n",
      "SD of data 3 = 6.715455257657198\n"
     ]
    }
   ],
   "source": [
    "# DATA 1 MEAN AND SD\n",
    "d1_mean = np.mean(data1)\n",
    "print(f\"Mean of data 1 = {d1_mean}\")\n",
    "d1_sd = np.std(data1)\n",
    "print(f\"SD of data 1 = {d1_sd}\")\n",
    "\n",
    "print('\\n')\n",
    "\n",
    "# DATA 2 MEAN AND SD\n",
    "d2_mean = np.mean(data2)\n",
    "print(f\"Mean of data 2 = {d2_mean}\")\n",
    "d2_sd = np.std(data2)\n",
    "print(f\"SD of data 2 = {d2_sd}\")\n",
    "\n",
    "print('\\n')\n",
    "\n",
    "# DATA 3 MEAN AND SD\n",
    "d3_mean = np.mean(data3)\n",
    "print(f\"Mean of data 3 = {d3_mean}\")\n",
    "d3_sd = np.std(data3)\n",
    "print(f\"SD of data 3 = {d3_sd}\")\n",
    "\n",
    "\n",
    "# ALL DATA SETS HAVE SIMILAR MEANS\n",
    "# DATA SET 2 HAS A HIGHER STANDARD DEVIATION FROM 1 AND 3 THEREFORE, IT SHOWS DATA IS MORE SPREAD \n"
   ]
  },
  {
   "cell_type": "markdown",
   "metadata": {},
   "source": [
    "## Exercise F: Pearson's r\n",
    "Pearson's product moment correlation coefficient sometimes just called the r-value or Pearson's r is defined in (Ross, 2017, Sec. 3.7). Your job is to write the function and then apply it to the smoking vs free radicals and school vs pulse-rate data-sets. Compare your answers with the library function <code>numpy.pearsonr</code>."
   ]
  },
  {
   "cell_type": "code",
   "execution_count": 76,
   "metadata": {},
   "outputs": [],
   "source": [
    "## write your own function to calculate r (Pearson's product moment correlation coefficient)\n",
    "## to complete\n",
    "\n",
    "def ppmcc(data1, data2):\n",
    "    size = len(data1)\n",
    "    \n",
    "    data1 = np.array(data1)\n",
    "    data2 = np.array(data2)\n",
    "    \n",
    "    xy = np.multiply(data1, data2)\n",
    "    \n",
    "    xsquared = np.square(data1)\n",
    "    ysquared = np.square(data2)\n",
    "    \n",
    "    xsum = np.sum(data1)\n",
    "    ysum = np.sum(data2)\n",
    "    \n",
    "    xysum = np.sum(xy)\n",
    "    \n",
    "    xsquaredsum = np.sum(xsquared)\n",
    "    ysquaredsum = np.sum(ysquared)\n",
    "    \n",
    "    top = size(xysum)-(xsum)(ysum)\n",
    "    \n",
    "    bottom1 = size(xsquaredsum)-(xsum**2)\n",
    "    bottom2 = size(ysquaredsum)-(ysum**2)\n",
    "    bottom3 = (bottom1*bottom2)**0.5\n",
    "    \n",
    "    r_value = top/bottom3\n",
    "    return r_value\n",
    "    \n"
   ]
  },
  {
   "cell_type": "code",
   "execution_count": 82,
   "metadata": {},
   "outputs": [
    {
     "name": "stdout",
     "output_type": "stream",
     "text": [
      "[[1.        0.8759639]\n",
      " [0.8759639 1.       ]]\n"
     ]
    },
    {
     "data": {
      "text/plain": [
       "Text(0.5, 1.0, 'Scatter')"
      ]
     },
     "execution_count": 82,
     "metadata": {},
     "output_type": "execute_result"
    },
    {
     "data": {
      "image/png": "[encoded data removed]",
      "text/plain": [
       "<Figure size 432x288 with 1 Axes>"
      ]
     },
     "metadata": {
      "needs_background": "light"
     },
     "output_type": "display_data"
    }
   ],
   "source": [
    "smoking_data = [\n",
    "    (18,202), (32, 644), (25, 411), (60, 755), (12, 144),\n",
    "    (25, 302), (50, 512), (15, 223), (22, 183), (30, 375)]\n",
    "\n",
    "## calculate Pearson's r on the above data and report it\n",
    "## plot the data too\n",
    "# to complete \n",
    "\n",
    "x = [i[0] for i in smoking_data]\n",
    "y = [i[1] for i in smoking_data]\n",
    "# smoking_rval = ppmcc(x,y)\n",
    "# print(smoking_rval)\n",
    "\n",
    "z = np.corrcoef(x,y)\n",
    "print(z)\n",
    "\n",
    "# SCATTER PLOT FOR SMOKING DATA\n",
    "plt.figure()\n",
    "plt.scatter(x,y)\n",
    "plt.title(f\"Scatter\")"
   ]
  },
  {
   "cell_type": "code",
   "execution_count": 83,
   "metadata": {},
   "outputs": [
    {
     "name": "stdout",
     "output_type": "stream",
     "text": [
      "[[ 1.         -0.76380325]\n",
      " [-0.76380325  1.        ]]\n"
     ]
    },
    {
     "data": {
      "text/plain": [
       "Text(0.5, 1.0, 'Scatter')"
      ]
     },
     "execution_count": 83,
     "metadata": {},
     "output_type": "execute_result"
    },
    {
     "data": {
      "image/png": "[encoded data removed]",
      "text/plain": [
       "<Figure size 432x288 with 1 Axes>"
      ]
     },
     "metadata": {
      "needs_background": "light"
     },
     "output_type": "display_data"
    }
   ],
   "source": [
    "school_vs_pulse_rate = [\n",
    "  (12, 73), (16, 67), (13, 74), (18, 63), (19, 73),\n",
    "  (12, 84), (18, 60), (19, 62), (12, 76), (14, 71)]\n",
    "\n",
    "## calculate Pearson's r on the above data and report it\n",
    "## plot the data too\n",
    "## to complete\n",
    "\n",
    "a = [i[0] for i in school_vs_pulse_rate]\n",
    "b = [i[1] for i in school_vs_pulse_rate]\n",
    "\n",
    "c = np.corrcoef(a,b)\n",
    "print(c)\n",
    "\n",
    "# SCATTER PLOT FOR SCHOOL DATA\n",
    "plt.figure()\n",
    "plt.scatter(a,b)\n",
    "plt.title(f\"Scatter\")"
   ]
  }
 ],
 "metadata": {
  "kernelspec": {
   "display_name": "Python 3",
   "language": "python",
   "name": "python3"
  },
  "language_info": {
   "codemirror_mode": {
    "name": "ipython",
    "version": 3
   },
   "file_extension": ".py",
   "mimetype": "text/x-python",
   "name": "python",
   "nbconvert_exporter": "python",
   "pygments_lexer": "ipython3",
   "version": "3.7.3"
  }
 },
 "nbformat": 4,
 "nbformat_minor": 4
}
