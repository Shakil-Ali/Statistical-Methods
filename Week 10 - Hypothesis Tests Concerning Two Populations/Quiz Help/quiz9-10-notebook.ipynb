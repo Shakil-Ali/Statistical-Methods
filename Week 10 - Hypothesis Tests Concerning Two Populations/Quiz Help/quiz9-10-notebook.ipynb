{
 "cells": [
  {
   "cell_type": "markdown",
   "metadata": {},
   "source": [
    "# QUIZ 9/10"
   ]
  },
  {
   "cell_type": "markdown",
   "metadata": {},
   "source": [
    "## Question 1 - Part A\n",
    "\n",
    "A scientist works with a colony of many thousands of mice. The average weight of all the mice is known to be 19.5 grammes with SD 3.4 grammes. She asks her first lab assistant to select 22 mice for an experiment, but is concerned that the selection of the mice may not be truly random and is instead is biased in some way. The selected mice may have been those that were slowest in avoiding the assistant, and this might influence the outcome of the experiment. The weights of the mice selected by the first assistant are as follows:\n",
    "\n",
    "13.7,22.1,17.0,12.4,16.4,7.8,20.4,21.1,19.7,17.5,18.4,25.2,15.1,23.0,18.3,23.9,14.8,20.6,17.2,16.0,18.4,15.5\n",
    "\n",
    "She decides to perform a hypothesis test at 10% significance level to see if the weights recorded indicated that the sample was not consistent with a random sample from the colony. In particular, she wants to test the null hypothesis that the sample distributions mean is the same as the mean of the colony. Consider the most appropriate test:\n"
   ]
  },
  {
   "cell_type": "code",
   "execution_count": 28,
   "metadata": {},
   "outputs": [],
   "source": [
    "%matplotlib inline\n",
    "import numpy as np\n",
    "import scipy.stats as stats\n",
    "import matplotlib.pyplot as plt\n",
    "from collections import Counter\n",
    "from collections import defaultdict"
   ]
  },
  {
   "cell_type": "code",
   "execution_count": 2,
   "metadata": {},
   "outputs": [
    {
     "name": "stdout",
     "output_type": "stream",
     "text": [
      "data = [13.7 22.1 17.  12.4 16.4  7.8 20.4 21.1 19.7 17.5 18.4 25.2 15.1 23.\n",
      " 18.3 23.9 14.8 20.6 17.2 16.  18.4 15.5]\n",
      "Sample Size = 22\n",
      "mean = 19.5\n",
      "sd = 3.4\n",
      "\n",
      "\n",
      "H0: mu = mu0\n",
      "H1: mu != mu0\n"
     ]
    }
   ],
   "source": [
    "data = np.array([13.7,22.1,17.0,12.4,16.4,7.8,20.4,21.1,19.7,17.5,18.4,25.2,15.1,23.0,18.3,23.9,14.8,20.6,17.2,16.0,18.4,15.5])\n",
    "print(f\"data = {data}\")\n",
    "n = len(data)\n",
    "print(f\"Sample Size = {n}\")\n",
    "mean = 19.5\n",
    "print(f\"mean = {mean}\")\n",
    "sd = 3.4\n",
    "print(f\"sd = {sd}\")\n",
    "print('\\n')\n",
    "\n",
    "print(\"H0: mu = mu0\")\n",
    "print(\"H1: mu != mu0\")\n"
   ]
  },
  {
   "cell_type": "markdown",
   "metadata": {},
   "source": [
    "### What is the value the test statistic? (give your answer to 3 decimal places)"
   ]
  },
  {
   "cell_type": "code",
   "execution_count": 3,
   "metadata": {},
   "outputs": [
    {
     "name": "stdout",
     "output_type": "stream",
     "text": [
      "x_bar = 17.931818181818183\n",
      "Test Statistic = -2.163360210078986 = -2.163\n"
     ]
    }
   ],
   "source": [
    "x_bar = np.sum(data)/n\n",
    "print(f\"x_bar = {x_bar}\")\n",
    "test_stat = (x_bar-mean)/(sd/(n**0.5))\n",
    "print(f\"Test Statistic = {test_stat} = {round(test_stat,3)}\")\n"
   ]
  },
  {
   "cell_type": "markdown",
   "metadata": {},
   "source": [
    "### What is the value of the (z-percentile) threshold use for the significance level test? (give your answer to 3 decimal places)"
   ]
  },
  {
   "cell_type": "code",
   "execution_count": 4,
   "metadata": {},
   "outputs": [
    {
     "name": "stdout",
     "output_type": "stream",
     "text": [
      "Significance Level = 0.1\n",
      "Because two tailed, each tail gets half the sl = 0.05\n",
      "z-percentile = 1.644853627 = 1.645\n"
     ]
    }
   ],
   "source": [
    "sig_lev = 0.1\n",
    "print(f\"Significance Level = {sig_lev}\")\n",
    "print(f\"Because two tailed, each tail gets half the sl = {sig_lev/2}\")\n",
    "# In excel =NORM.S.INV(1-halfsl = 0.95)\n",
    "z_perc = 1.644853627\n",
    "print(f\"z-percentile = {z_perc} = {round(z_perc,3)}\")\n"
   ]
  },
  {
   "cell_type": "markdown",
   "metadata": {},
   "source": [
    "### What is the p-value of the test statistic? (give your answer to 3 significant figures) "
   ]
  },
  {
   "cell_type": "code",
   "execution_count": 5,
   "metadata": {},
   "outputs": [
    {
     "name": "stdout",
     "output_type": "stream",
     "text": [
      "The p-value is probability of getting a sample as extreme as ours, given null hyp. is TRUE\n",
      "p-value = 0.030513485 = 0.0305\n"
     ]
    }
   ],
   "source": [
    "print(f\"The p-value is probability of getting a sample as extreme as ours, given null hyp. is TRUE\")\n",
    "# pval = NORM.S.DIST(test_stat,TRUE)*2 (because of two tailed)\n",
    "pval = 0.030513485\n",
    "print(f\"p-value = {pval} = {round(pval,4)}\")\n"
   ]
  },
  {
   "cell_type": "markdown",
   "metadata": {},
   "source": [
    "### What should the scientist conclude (choose the best answer) "
   ]
  },
  {
   "cell_type": "code",
   "execution_count": 6,
   "metadata": {},
   "outputs": [
    {
     "name": "stdout",
     "output_type": "stream",
     "text": [
      "reject H0 at 10% level of significance as 1.645 < Z < 1.645 (Z = |-2.163| = 2.163)\n",
      "B. There is a significant difference between the mean of the colony and that of the sampling distribution.\n"
     ]
    }
   ],
   "source": [
    "print(\"reject H0 at 10% level of significance as 1.645 < Z < 1.645 (Z = |-2.163| = 2.163)\")\n",
    "print(\"B. There is a significant difference between the mean of the colony and that of the sampling distribution.\")"
   ]
  },
  {
   "cell_type": "markdown",
   "metadata": {},
   "source": [
    "## Question 1 - Part B\n",
    "\n",
    "The scientist has two lab assistants and subsequently decides that so long as the second assistant doesn't appear to collect mice differently from the first the experiments can go ahead. She asks the second assistant to collect $12$ mice and decides to test whether there is a difference between the two assistants sampling distributions. The weights of the mice collected by the second assistant are as follows:\n",
    "\n",
    "21.0,21.9,21.0,22.3,19.0,12.9,13.7,21.3,21.2,18.7,16.4,22.8\n",
    "\n",
    "The scientist assumes that the variance of the two sampling approaches are unknown, but equal, and conducts the appropriate hypothesis test again at a 10% level of significance. Consider the appropriate hypothesis test:\n"
   ]
  },
  {
   "cell_type": "code",
   "execution_count": 7,
   "metadata": {},
   "outputs": [
    {
     "name": "stdout",
     "output_type": "stream",
     "text": [
      "data1 = [13.7 22.1 17.  12.4 16.4  7.8 20.4 21.1 19.7 17.5 18.4 25.2 15.1 23.\n",
      " 18.3 23.9 14.8 20.6 17.2 16.  18.4 15.5]\n",
      "n = 22\n",
      "data2 = [21.  21.9 21.  22.3 19.  12.9 13.7 21.3 21.2 18.7 16.4 22.8]\n",
      "m = 12\n",
      "\n",
      "\n",
      "H0: μx = μy\n",
      "H1: μx != μy\n"
     ]
    }
   ],
   "source": [
    "data1 = np.array([13.7,22.1,17.0,12.4,16.4,7.8,20.4,21.1,19.7,17.5,18.4,25.2,15.1,23.0,18.3,23.9,14.8,20.6,17.2,16.0,18.4,15.5])\n",
    "print(f\"data1 = {data1}\")\n",
    "n = len(data1)\n",
    "print(f\"n = {n}\")\n",
    "data2 = np.array([21.0,21.9,21.0,22.3,19.0,12.9,13.7,21.3,21.2,18.7,16.4,22.8])\n",
    "print(f\"data2 = {data2}\")\n",
    "m = len(data2)\n",
    "print(f\"m = {m}\")\n",
    "\n",
    "print('\\n')\n",
    "\n",
    "print(\"H0: μx = μy\")\n",
    "print(\"H1: μx != μy\")\n"
   ]
  },
  {
   "cell_type": "markdown",
   "metadata": {},
   "source": [
    "### How many degrees of freedom are there in the test statistic?"
   ]
  },
  {
   "cell_type": "code",
   "execution_count": 8,
   "metadata": {},
   "outputs": [
    {
     "name": "stdout",
     "output_type": "stream",
     "text": [
      "dof = 32\n"
     ]
    }
   ],
   "source": [
    "dof = (n+m)-2\n",
    "print(f\"dof = {dof}\")\n"
   ]
  },
  {
   "cell_type": "markdown",
   "metadata": {},
   "source": [
    "### What is the value the test statistic? (give your answer to 3 decimal places) "
   ]
  },
  {
   "cell_type": "code",
   "execution_count": 9,
   "metadata": {},
   "outputs": [
    {
     "name": "stdout",
     "output_type": "stream",
     "text": [
      "x_bar = 17.931818181818183\n",
      "y_bar = 19.349999999999998\n",
      "Sx2 = 16.2394155844158\n",
      "Sy2 = 11.140909090909105\n",
      "Sp2 = 14.486803977272874\n",
      "test_stat = -0.7601238149669005 = -0.76\n"
     ]
    }
   ],
   "source": [
    "x_bar = np.sum(data1)/n\n",
    "print(f\"x_bar = {x_bar}\")\n",
    "y_bar = np.sum(data2)/m\n",
    "print(f\"y_bar = {y_bar}\")\n",
    "sd1 = 4.0298158251235\n",
    "Sx2 = sd1**2\n",
    "print(f\"Sx2 = {Sx2}\")\n",
    "sd2 = 3.337800037586\n",
    "Sy2 = sd2**2\n",
    "print(f\"Sy2 = {Sy2}\")\n",
    "Sp2 = (((n-1)/dof)*Sx2)+(((m-1)/dof)*Sy2)\n",
    "print(f\"Sp2 = {Sp2}\")\n",
    "test_stat = (x_bar-y_bar)/(Sp2*((1/n)+(1/m)))\n",
    "print(f\"test_stat = {test_stat} = {round(test_stat,3)}\")\n"
   ]
  },
  {
   "cell_type": "markdown",
   "metadata": {},
   "source": [
    "### What is the value of the (percentile) threshold use for the significance level test? (give your answer to 3 decimal places)"
   ]
  },
  {
   "cell_type": "code",
   "execution_count": 10,
   "metadata": {},
   "outputs": [
    {
     "name": "stdout",
     "output_type": "stream",
     "text": [
      "Significance Level = 0.1\n",
      "t32,0.1\n",
      "percentile = 1.694\n"
     ]
    }
   ],
   "source": [
    "sig_lev = 0.1\n",
    "print(f\"Significance Level = {sig_lev}\")\n",
    "print(f\"t32,0.1\")\n",
    "percentile = 1.694\n",
    "print(f\"percentile = {percentile}\")\n"
   ]
  },
  {
   "cell_type": "markdown",
   "metadata": {},
   "source": [
    "### What is the p-value of the test statistic? (give your answer to 3 significant figures) "
   ]
  },
  {
   "cell_type": "code",
   "execution_count": 11,
   "metadata": {},
   "outputs": [
    {
     "name": "stdout",
     "output_type": "stream",
     "text": [
      "p-value = 0.447180579\n"
     ]
    }
   ],
   "source": [
    "pval = 0.447180579\n",
    "print(f\"p-value = {pval}\")\n"
   ]
  },
  {
   "cell_type": "markdown",
   "metadata": {},
   "source": [
    "### What should the scientist conclude (choose the best answer)"
   ]
  },
  {
   "cell_type": "code",
   "execution_count": 12,
   "metadata": {},
   "outputs": [
    {
     "name": "stdout",
     "output_type": "stream",
     "text": [
      "|TS| > t_dof,alpha/2\n",
      "|TS| ≥ tn+m−2, α/2\n",
      "0.7601238149669005 < 1.694\n",
      "Therefore, do not reject H0\n"
     ]
    }
   ],
   "source": [
    "print(\"|TS| > t_dof,alpha/2\")\n",
    "print(\"|TS| ≥ tn+m−2, α/2\")\n",
    "print(f\"{np.abs(test_stat)} < {percentile}\")\n",
    "print(\"Therefore, do not reject H0\")\n"
   ]
  },
  {
   "cell_type": "markdown",
   "metadata": {},
   "source": [
    "## Question 2\n",
    "\n",
    "An experimenter wishes to investigate whether average performance on a particular mobile game is degraded if a particular cognitively fatiguing task is carried out in advance. To do so, he brings in participants on two occasions 1 week apart, and asks them to play the game, on one occasion asking them to complete the fatiguing task first. To control for recent prior experience with the game, he randomises whether they take the fatiguing task before their first or second session.\n",
    "\n",
    "He records the time it takes for each individual to complete a specific level in the game, with stronger players completing the level more quickly. The table shows the times recorded by each player during each session, and which session included the fatiguing task. He wishes to test whether times are longer after the fatiguing task as this would represent a significant finding.\n",
    "\n",
    "Table can be found in question 2 of quiz\n",
    "\n",
    "The experimenter performs a paired sample t-test at 5% significance leve, and calculates the corresponding t-distributed test statistic:\n"
   ]
  },
  {
   "cell_type": "markdown",
   "metadata": {},
   "source": [
    "### If the mean session time without a fatiguing task is μx and mean time after a fatiguing task is μy, which of the following is the best null hypothesis for this test:"
   ]
  },
  {
   "cell_type": "code",
   "execution_count": 13,
   "metadata": {},
   "outputs": [
    {
     "name": "stdout",
     "output_type": "stream",
     "text": [
      "C - because want to check if muy is greater than mux (if fatiguing session time greater than non fatiguing sessioon)\n"
     ]
    }
   ],
   "source": [
    "print(f\"C - because want to check if muy is greater than mux (if fatiguing session time greater than non fatiguing sessioon)\")"
   ]
  },
  {
   "cell_type": "code",
   "execution_count": 14,
   "metadata": {},
   "outputs": [
    {
     "name": "stdout",
     "output_type": "stream",
     "text": [
      "non_fat_data = [197.  100.3  75.5 122.6 100.7  88.9  85.3  99.6 101.9 159.3 118.2 126.8\n",
      " 145.1 150.1  97.2  77.6  96.8]\n",
      "n = 17\n",
      "\n",
      "\n",
      "fat_data = [223.1 129.3  82.  139.2 129.8 109.5  80.8  95.2  94.3 169.5 106.6 130.8\n",
      " 168.  136.1 117.4  76.5  80.9]\n",
      "m = 17\n"
     ]
    }
   ],
   "source": [
    "non_fat_data = np.array([197.0,100.3,75.5,122.6,100.7,88.9,85.3,99.6,101.9,159.3,118.2,126.8,145.1,150.1,97.2,77.6,96.8])\n",
    "print(f\"non_fat_data = {non_fat_data}\")\n",
    "n = len(non_fat_data)\n",
    "print(f\"n = {n}\")\n",
    "print('\\n')\n",
    "\n",
    "fat_data = np.array([223.1,129.3,82.0,139.2,129.8,109.5,80.8,95.2,94.3,169.5,106.6,130.8,168.0,136.1,117.4,76.5,80.9])\n",
    "print(f\"fat_data = {fat_data}\")\n",
    "m = len(fat_data)\n",
    "print(f\"m = {m}\")\n"
   ]
  },
  {
   "cell_type": "markdown",
   "metadata": {},
   "source": [
    "### How many degrees of freedom does the test statistic have? (give the precise answer) "
   ]
  },
  {
   "cell_type": "code",
   "execution_count": 15,
   "metadata": {},
   "outputs": [
    {
     "name": "stdout",
     "output_type": "stream",
     "text": [
      "dof = 16\n"
     ]
    }
   ],
   "source": [
    "dof = n-1\n",
    "print(f\"dof = {dof}\")"
   ]
  },
  {
   "cell_type": "markdown",
   "metadata": {},
   "source": [
    "### What is the value of the test statistic? (give the answer to 3 decimal places)"
   ]
  },
  {
   "cell_type": "code",
   "execution_count": 16,
   "metadata": {},
   "outputs": [
    {
     "name": "stdout",
     "output_type": "stream",
     "text": [
      "difference values = [-26.1 -29.   -6.5 -16.6 -29.1 -20.6   4.5   4.4   7.6 -10.2  11.6  -4.\n",
      " -22.9  14.  -20.2   1.1  15.9]\n",
      "d_bar = -7.41764705882353\n",
      "S_d = 15.633027349738\n",
      "test_stat = -1.956354430454838 = -1.956\n"
     ]
    }
   ],
   "source": [
    "diff = non_fat_data - fat_data\n",
    "print(f\"difference values = {diff}\")\n",
    "d_bar = np.mean(diff)\n",
    "print(f\"d_bar = {d_bar}\")\n",
    "S_d = 15.633027349738\n",
    "print(f\"S_d = {S_d}\")\n",
    "test_stat = ((n**0.5)*(d_bar))/S_d\n",
    "print(f\"test_stat = {test_stat} = {round(test_stat,3)}\")\n"
   ]
  },
  {
   "cell_type": "markdown",
   "metadata": {},
   "source": [
    "### What is the threshold value at which to reject the null hypothesis? (give the answer to 3 decimal places)"
   ]
  },
  {
   "cell_type": "code",
   "execution_count": 17,
   "metadata": {},
   "outputs": [
    {
     "name": "stdout",
     "output_type": "stream",
     "text": [
      "Significance Level = 0.05\n",
      "alphaover2 = 0.025\n",
      "dof = 16\n",
      "t_16,0.025\n",
      "threshold = 2.12\n"
     ]
    }
   ],
   "source": [
    "sig_lev = 0.05\n",
    "print(f\"Significance Level = {sig_lev}\")\n",
    "alphaover2 = sig_lev/2\n",
    "print(f\"alphaover2 = {alphaover2}\")\n",
    "print(f\"dof = {dof}\")\n",
    "print(f\"t_{dof},{alphaover2}\")\n",
    "threshold = 2.120\n",
    "print(f\"threshold = {threshold}\")\n"
   ]
  },
  {
   "cell_type": "markdown",
   "metadata": {},
   "source": [
    "### Does the experimenter reject the null hypothesis?"
   ]
  },
  {
   "cell_type": "code",
   "execution_count": 18,
   "metadata": {},
   "outputs": [
    {
     "name": "stdout",
     "output_type": "stream",
     "text": [
      "Reject H0 if |TS| > tn−1,alpha/2\n",
      "1.956354430454838 < 2.12\n",
      "Therefore, cannot reject null hypothesis\n"
     ]
    }
   ],
   "source": [
    "print(f\"Reject H0 if |TS| > tn−1,alpha/2\")\n",
    "print(f\"{np.abs(test_stat)} < {threshold}\")\n",
    "print(f\"Therefore, cannot reject null hypothesis\")"
   ]
  },
  {
   "cell_type": "markdown",
   "metadata": {},
   "source": [
    "## Question 3 - Part A\n",
    "\n",
    "During the COVID pandemic, a researcher is interested in the social influences on the wearing of a mask. She is first interested in whether the sight of others wearing (or not wearing) masks affects the observer's choice to wear a mask. To investigate this, she records data at a shop in her local area.\n",
    "\n",
    "When queuing outside to enter the shop, a customer must wait for another to leave the shop before entering. When they do, the researcher records whether the leaving customer is wearing a mask and whether the person entering then chooses to put on a mask or not.\n",
    "\n",
    "Table on question 3a\n",
    "\n",
    "Her recorded the data is shown in the Table. For example, she observed 212 customers put on a mask, after seeing someone leave who was not wearing one. She constructs the appropriate hypothesis test to test whether this data showed a difference of any kind between the whether or not the departing customer wore a mask or not.\n"
   ]
  },
  {
   "cell_type": "code",
   "execution_count": 19,
   "metadata": {},
   "outputs": [
    {
     "name": "stdout",
     "output_type": "stream",
     "text": [
      "previous customer without a mask = 250\n",
      "Puts on mask (when sees prev without mask) = 212\n",
      "p_hat1 = 0.848\n",
      "\n",
      "\n",
      "previous customer with a mask = 1823\n",
      "Puts on mask (when sees prev with mask) = 1618\n",
      "p_hat2 = 0.8875479978058146\n"
     ]
    }
   ],
   "source": [
    "prev_no_mask = 212+38\n",
    "print(f\"previous customer without a mask = {prev_no_mask}\")\n",
    "X1 = 212\n",
    "print(f\"Puts on mask (when sees prev without mask) = {X1}\")\n",
    "p_hat1 = X1/prev_no_mask\n",
    "print(f\"p_hat1 = {p_hat1}\")\n",
    "print('\\n')\n",
    "\n",
    "prev_mask = 1618+205\n",
    "print(f\"previous customer with a mask = {prev_mask}\")\n",
    "X2 = 1618\n",
    "print(f\"Puts on mask (when sees prev with mask) = {X2}\")\n",
    "p_hat2 = X2/prev_mask\n",
    "print(f\"p_hat2 = {p_hat2}\")\n"
   ]
  },
  {
   "cell_type": "markdown",
   "metadata": {},
   "source": [
    "### What is the value of the appropriate test statistic for the this test (give your answer to 3 decimal places) "
   ]
  },
  {
   "cell_type": "code",
   "execution_count": 20,
   "metadata": {},
   "outputs": [
    {
     "name": "stdout",
     "output_type": "stream",
     "text": [
      "pooled estimator = 0.8827785817655571\n",
      "test_stat = -1.8228830615365312 = -1.823\n"
     ]
    }
   ],
   "source": [
    "pooled_est = (X1+X2)/(prev_no_mask+prev_mask)\n",
    "print(f\"pooled estimator = {pooled_est}\")\n",
    "test_stat = (p_hat1-p_hat2)/(((1/prev_no_mask)+(1/prev_mask))*pooled_est*(1-pooled_est))**0.5\n",
    "print(f\"test_stat = {test_stat} = {round(test_stat,3)}\")\n"
   ]
  },
  {
   "cell_type": "markdown",
   "metadata": {},
   "source": [
    "### Indicate whether or not this should be rejected at the 5% significance level"
   ]
  },
  {
   "cell_type": "code",
   "execution_count": 21,
   "metadata": {},
   "outputs": [
    {
     "name": "stdout",
     "output_type": "stream",
     "text": [
      "H0: p1 = p2\n",
      "H1: p1 != p2\n",
      "\n",
      "\n",
      "Significance Level = 0.05\n",
      "Reject H0 if |TS| > zalpha/2\n",
      "Reject H0 if 1.8228830615365312 > Z_0.025\n",
      "1.823 < 1.96\n",
      "Therefore, cannot reject H0\n"
     ]
    }
   ],
   "source": [
    "print(\"H0: p1 = p2\")\n",
    "print(\"H1: p1 != p2\")\n",
    "print('\\n')\n",
    "\n",
    "sig_level = 0.05\n",
    "print(f\"Significance Level = {sig_level}\")\n",
    "print(\"Reject H0 if |TS| > zalpha/2\")\n",
    "print(f\"Reject H0 if {np.abs(test_stat)} > Z_{sig_level/2}\")\n",
    "Z = 1.96\n",
    "print(f\"{round(np.abs(test_stat),3)} < {Z}\")\n",
    "print(\"Therefore, cannot reject H0\")"
   ]
  },
  {
   "cell_type": "markdown",
   "metadata": {},
   "source": [
    "### What is the p-value of the test statistic? (give your answer to 3 significant figures)"
   ]
  },
  {
   "cell_type": "code",
   "execution_count": 22,
   "metadata": {},
   "outputs": [
    {
     "name": "stdout",
     "output_type": "stream",
     "text": [
      "test_stat = -1.8228830615365312\n",
      "2Pr(Z >= |TS|) = 2Pr(Z >= 1.8228830615365312) = 0.0683\n"
     ]
    }
   ],
   "source": [
    "print(f\"test_stat = {test_stat}\")\n",
    "alpha = 0.05\n",
    "p_val = 0.0683\n",
    "print(f\"2Pr(Z >= |TS|) = 2Pr(Z >= {np.abs(test_stat)}) = {p_val}\")\n"
   ]
  },
  {
   "cell_type": "markdown",
   "metadata": {},
   "source": [
    "## Question 3 - Part B\n",
    "\n",
    "In a second study, our researcher reads a report that in a survey 81.5% of people reported that they felt it is important to wear masks when travelling on London buses. However, she fears that a recent news story has undermined people's willingness to wear masks. She wishes to test whether the proportion of people now wearing masks on London buses is lower than this number. She conducts a study where a random selection of bus commuters are observed and it is recorded whether or not they are wearing a mask. She observes 1554 people wearing masks appropriately, 420 not wearing masks, and 33 wearing masks inappropriately. She decides that those wearing masks inappropriately should be excluded as they do not inform either way about the hypothesis.\n",
    "\n",
    "(Lecture 9 used for this question)\n"
   ]
  },
  {
   "cell_type": "code",
   "execution_count": 23,
   "metadata": {},
   "outputs": [
    {
     "name": "stdout",
     "output_type": "stream",
     "text": [
      "H0: p ≤ p0 = H0: p ≤ 81.5%\n",
      "H1: p ≥ p0 = H1: p ≥ 81.5%\n"
     ]
    }
   ],
   "source": [
    "print(f\"H0: p ≤ p0 = H0: p ≤ 81.5%\")\n",
    "print(f\"H1: p ≥ p0 = H1: p ≥ 81.5%\")\n"
   ]
  },
  {
   "cell_type": "markdown",
   "metadata": {},
   "source": [
    "### What is the sample size? (give the precise value)"
   ]
  },
  {
   "cell_type": "code",
   "execution_count": 24,
   "metadata": {},
   "outputs": [
    {
     "name": "stdout",
     "output_type": "stream",
     "text": [
      "n = 1974\n"
     ]
    }
   ],
   "source": [
    "n = 1554 + 420\n",
    "print(f\"n = {n}\")\n"
   ]
  },
  {
   "cell_type": "markdown",
   "metadata": {},
   "source": [
    "### What is the associated test statistic? (give the precise value)"
   ]
  },
  {
   "cell_type": "code",
   "execution_count": 25,
   "metadata": {},
   "outputs": [
    {
     "name": "stdout",
     "output_type": "stream",
     "text": [
      "Characteristic of interest = 1554\n",
      "p-hat = 0.7872340425531915\n",
      "In this case have binomial distribution\n",
      "np = 1608.81 > 5\n",
      "secondtest = 365.1900000000001 > 5\n",
      "Therefore CLT (Central Limit Theorem) applies here, therefore test stat will be approx normally distributed\n",
      "test_stat = -3.177031781584959\n"
     ]
    }
   ],
   "source": [
    "p = 0.815\n",
    "X = 1554\n",
    "print(f\"Characteristic of interest = {X}\")\n",
    "p_hat = X/n\n",
    "print(f\"p-hat = {p_hat}\")\n",
    "print(\"In this case have binomial distribution\")\n",
    "np = n*p\n",
    "print(f\"np = {np} > 5\")\n",
    "secondtest = n*(1-p)\n",
    "print(f\"secondtest = {secondtest} > 5\")\n",
    "print(\"Therefore CLT (Central Limit Theorem) applies here, therefore test stat will be approx normally distributed\")\n",
    "test_stat = (p_hat-p)/(((p*(1-p))/n)**0.5)\n",
    "print(f\"test_stat = {test_stat}\")\n"
   ]
  },
  {
   "cell_type": "markdown",
   "metadata": {},
   "source": [
    "### What is the associated p-value? (give the answer to 3 significant figures)"
   ]
  },
  {
   "cell_type": "code",
   "execution_count": 26,
   "metadata": {},
   "outputs": [
    {
     "name": "stdout",
     "output_type": "stream",
     "text": [
      "p-value = 0.000743954 = 0.001\n",
      "p-value is lower than 5% significance level and 1% significance level.\n",
      "Therefore, we can reject the null hypothesis\n"
     ]
    }
   ],
   "source": [
    "# using excel\n",
    "pval = 0.000743954\n",
    "print(f\"p-value = {pval} = {pval:.3f}\")\n",
    "print(f\"p-value is lower than 5% significance level and 1% significance level.\")\n",
    "print(f\"Therefore, we can reject the null hypothesis\")\n"
   ]
  },
  {
   "cell_type": "markdown",
   "metadata": {},
   "source": [
    "### Can she conclude that the news story has affected peoples willingness to wear a mask? Give the most appropriate response"
   ]
  },
  {
   "cell_type": "code",
   "execution_count": 27,
   "metadata": {},
   "outputs": [
    {
     "name": "stdout",
     "output_type": "stream",
     "text": [
      "No. There are other potential causes for a reduction in mask use.\n"
     ]
    }
   ],
   "source": [
    "print(f\"No. There are other potential causes for a reduction in mask use.\")"
   ]
  }
 ],
 "metadata": {
  "kernelspec": {
   "display_name": "Python 3",
   "language": "python",
   "name": "python3"
  },
  "language_info": {
   "codemirror_mode": {
    "name": "ipython",
    "version": 3
   },
   "file_extension": ".py",
   "mimetype": "text/x-python",
   "name": "python",
   "nbconvert_exporter": "python",
   "pygments_lexer": "ipython3",
   "version": "3.7.3"
  }
 },
 "nbformat": 4,
 "nbformat_minor": 2
}
