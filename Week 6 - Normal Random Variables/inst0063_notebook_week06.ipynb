{
 "cells": [
  {
   "cell_type": "markdown",
   "metadata": {},
   "source": [
    "# Week 6 - Normal Random Variables\n",
    "\n",
    "This is a Jupyter notebook to explore the material in (Ross, 2017, Chp. 6). \n",
    "\n"
   ]
  },
  {
   "cell_type": "code",
   "execution_count": 1,
   "metadata": {},
   "outputs": [],
   "source": [
    "%matplotlib inline\n",
    "# from now on we'll start each notebook with the library imports\n",
    "# and special commands to keep these things in one place (which\n",
    "# is good practice). The line above is jupyter command to get \n",
    "# matplotlib to plot inline (between cells)\n",
    "# Next we import the libraries and give them short names\n",
    "import numpy as np\n",
    "import scipy.stats as stats\n",
    "import math\n",
    "import matplotlib.pyplot as plt\n",
    "from collections import Counter\n",
    "from collections import defaultdict"
   ]
  },
  {
   "cell_type": "markdown",
   "metadata": {},
   "source": [
    "## Exercise A\n",
    "\n",
    "Complete questions 2, 3 and 8 from (Ross, 2017, p. 266-267). Their text is repeated for convenience. Answer in the markdown block below, but you can use a code block to perform any required computation.\n",
    "\n",
    "> 2. A random variable is said to be a uniform random variable in the interval\n",
    "(a, b) if its set of possible values is this interval and if its density curve is\n",
    "a horizontal line. That is, its density curve is as given in Fig. 6.3.\n",
    ">\n",
    ">     (a) Explain why the height of the density curve is 1/(b − a). (Hint: Re-\n",
    "member that the total area under the density curve must equal 1,\n",
    "and recall the formula for the area of a rectangle.)\n",
    ">\n",
    ">     (b) What is P {X ≤ (a + b)/2}?\n",
    "\n",
    "> 3. Suppose that X is a uniform random variable over the interval (0, 1).\n",
    "That is, a = 0 and b = 1 for the random variable in Prob. 2. Find\n",
    ">\n",
    ">     (a) P {X > 1/3}\n",
    ">\n",
    ">     (b) P {X ≤ 0.7}\n",
    ">\n",
    ">     (c) P {0.3 < X ≤ 0.9}\n",
    ">\n",
    ">     (d) P {0.2 ≤ X < 0.8}\n",
    "\n",
    "\n",
    "> 8. It is now 2 p.m., and Joan is planning on studying for her statistics\n",
    "test until 6 p.m., when she will have to go out to dinner. However,\n",
    "she knows that she will probably have interruptions and thinks that\n",
    "the amount of time she will actually spend studying in the next 4\n",
    "hours is a random variable whose probability density curve is as follows:\n",
    ">\n",
    ">     (there follows a triangle whose base runs from 0 to 4 and whose apex is directly above 2).\n",
    ">\n",
    ">     (a) What is the height of the curve at the value 2? (Hint: You will have to recall the formula for the area of a triangle.)\n",
    ">\n",
    ">     (b) What is the probability she will study more than 3 hours?\n",
    ">\n",
    ">     (c) What is the probability she will study between 1 and 3 hours?"
   ]
  },
  {
   "cell_type": "markdown",
   "metadata": {},
   "source": [
    "*(to complete)*\n",
    "\n",
    "#### Exercise A - Question 2\n",
    "\n",
    "##### (a) Explain why the height of the density curve is 1/(b − a). (Hint: Re- member that the total area under the density curve must equal 1, and recall the formula for the area of a rectangle.)\n",
    "\n",
    "*Total area under the density curve* = 1\n",
    "\n",
    "*Forumula for area of a rectangle* = $height$ * $base$ = $a$ * $b$\n",
    "\n",
    "We know:\n",
    "\n",
    "*Base of the density curve* = $b$ - $a$\n",
    "\n",
    "Therefore rearranging the area of a rectangle formula for height:\n",
    "\n",
    "$height$ = $\\frac{1}{base}$\n",
    "\n",
    "$height$ = $\\frac{1}{(b - a)}$\n",
    "\n",
    "##### (b) What is P {X ≤ (a + b)/2}?\n",
    "\n",
    "$f(x)$ >= 0 for all x\n",
    "\n",
    "*Total area under the density curve* = 1\n",
    "\n",
    "P {${X ≤ \\frac{(a + b)}{2}}$} = height * base\n",
    "\n",
    "P {${X ≤ \\frac{(a + b)}{2}}$} = $\\frac{1}{(b - a)}$ * $\\frac{(a + b)}{2}$\n",
    "\n",
    "P {${X ≤ \\frac{(a + b)}{2}}$} = $\\frac{(a + b)}{2(b - a)}$\n",
    "\n",
    "\n",
    "#### Exercise A - Question 3\n",
    "\n",
    "Suppose that X is a uniform random variable over the interval (0, 1). That is, a = 0 and b = 1 for the random variable in Prob. 2. Find\n",
    "\n",
    "##### (a) P {X > 1/3}\n",
    "\n",
    "P {${X > 1/3}$} = 1 * $\\frac{2}{3}$\n",
    "\n",
    "P {${X > 1/3}$} = $\\frac{2}{3}$\n",
    "\n",
    "##### (b) P {X ≤ 0.7}\n",
    "\n",
    "P {${X ≤ 0.7}$} = 1 * 0.7\n",
    "\n",
    "P {${X ≤ 0.7}$} = 0.7\n",
    "\n",
    "##### (c) P {0.3 < X ≤ 0.9}\n",
    "\n",
    "P {${0.3 < X ≤ 0.9}$} = 1 * 0.6\n",
    "\n",
    "P {${0.3 < X ≤ 0.9}$} = 0.6\n",
    "\n",
    "##### (d) P {0.2 ≤ X < 0.8}\n",
    "\n",
    "P {${0.2 ≤ X < 0.8}$} = 1 * 0.6\n",
    "\n",
    "P {${0.2 ≤ X < 0.8}$} = 0.6\n",
    "\n",
    "\n",
    "#### Exercise A - Question 8\n",
    "\n",
    "It is now 2 p.m., and Joan is planning on studying for her statistics test until 6 p.m., when she will have to go out to dinner. However, she knows that she will probably have interruptions and thinks that the amount of time she will actually spend studying in the next 4 hours is a random variable whose probability density curve is as follows:\n",
    "\n",
    "(there follows a triangle whose base runs from 0 to 4 and whose apex is directly above 2).\n",
    "\n",
    "##### (a) What is the height of the curve at the value 2? (Hint: You will have to recall the formula for the area of a triangle.)\n",
    "\n",
    "**Area of a triangle** = $\\frac{1}{2}$*$b$*$h$\n",
    "\n",
    "Values we know:\n",
    "\n",
    "Area of the triangle = 1\n",
    "\n",
    "Base = 4\n",
    "\n",
    "Rearrange formula for height (h):\n",
    "\n",
    "**Height** = $\\frac{Area * 2}{b}$\n",
    "\n",
    "**Height** = $\\frac{1 * 2}{4}$\n",
    "\n",
    "**Height** = $\\frac{1}{2}$\n",
    "\n",
    "##### (b) What is the probability she will study more than 3 hours?\n",
    "\n",
    "$P(X > 3)$ = $\\frac{1}{2}$ * $b$ * $h$\n",
    "\n",
    "Base = 1\n",
    "\n",
    "Height (using density function foruma) = $\\frac{2(X - a)}{(b - a)(c - a)}$\n",
    "\n",
    "$a$ = lowest value\n",
    "\n",
    "$b$ = highest value\n",
    "\n",
    "$c$ = middle value\n",
    "\n",
    "Therefore, Height (using density function foruma) = $\\frac{2(3 - 0)}{(4 - 0)(2 - 0)}$\n",
    "\n",
    "Height = $\\frac{3}{4}$\n",
    "\n",
    "$P(X > 3)$ = $\\frac{1}{2}$ * $1$ * $0.75$\n",
    "\n",
    "$P(X > 3)$ = 0.375\n",
    "\n",
    "##### (c) What is the probability she will study between 1 and 3 hours?\n",
    "\n",
    "$P(1 ≤ X ≤ 3)$ = Total area - 2(answer to (b))\n",
    "\n",
    "$P(1 ≤ X ≤ 3)$ = 1 - 2(0.375)\n",
    "\n",
    "$P(1 ≤ X ≤ 3)$ = 0.25"
   ]
  },
  {
   "cell_type": "markdown",
   "metadata": {},
   "source": [
    "## Using `plot` for functions\n",
    "\n",
    "The `plot` function from `matplotlib.pyplot` takes a sequence of x-coordinates and a sequence of y-coordinates and draws straight lines between the corresponding sequence of (𝑥,𝑦) points. This can be used to plot frequency polygons (as seen in week 2) but can also be used to draw known functions.\n",
    "\n",
    "For our purposes, a known function $f:(a,b)\\to \\mathbb{R}$ is one where you know the value of the function for all inputs over some interval of the real line, $(a,b) \\subseteq \\mathbb{R}$. We will differentiate between piecewise linear functions (those made up of a finite number of straight lines) and smooth functions (which may contain curved lines).\n",
    "\n",
    "`plot` can be used to plot both piecewise linear and smooth functions. For smooth functions, it essentially tricks the eye, by drawing lots of very short linear sections that approximate the smooth function. Look at the two examples in the code block below and try to anticipate the shape of the resulting plot. Experiment with the arguments to `np.linspace` to see what effect it has on the second plot.\n",
    "\n",
    "Note that the second uses `numpy` array's elementwise arithmetic. Remind yourself of that by looking at the link [here](https://scipy-lectures.org/intro/numpy/operations.html#elementwise-operations) or returning to your notebook for week 3."
   ]
  },
  {
   "cell_type": "code",
   "execution_count": 2,
   "metadata": {},
   "outputs": [
    {
     "data": {
      "text/plain": [
       "Text(0, 0.5, '$f(x)$')"
      ]
     },
     "execution_count": 2,
     "metadata": {},
     "output_type": "execute_result"
    },
    {
     "data": {
      "image/png": "[encoded data removed]",
      "text/plain": [
       "<Figure size 432x288 with 1 Axes>"
      ]
     },
     "metadata": {
      "needs_background": "light"
     },
     "output_type": "display_data"
    },
    {
     "data": {
      "image/png": "[encoded data removed]",
      "text/plain": [
       "<Figure size 432x288 with 1 Axes>"
      ]
     },
     "metadata": {
      "needs_background": "light"
     },
     "output_type": "display_data"
    }
   ],
   "source": [
    "## a piecewise linear function plot\n",
    "# the sequence of x coordinates as a numpy array\n",
    "xs = np.array([0, 1, 2, 3, 4, 5, 6])\n",
    "# the sequence of y coordinates as a numpy array\n",
    "ys = np.array([0, 1, 1, 2, 1, 1, 0])\n",
    "plt.figure()\n",
    "plt.plot(xs, ys, '-', lw=2)\n",
    "plt.xlabel(\"$x$\")\n",
    "plt.ylabel(\"$f(x)$\")\n",
    "# ensure the base of the plot is at y=0\n",
    "plt.ylim(0, None)\n",
    "\n",
    "## a \"smooth\" function plot\n",
    "# to trick the eye we need to evalute our function at lots\n",
    "# of closely packed points. Let's first create the x=values\n",
    "# at which we want to evalute the function\n",
    "lower_bound = -5\n",
    "upper_bound = 5\n",
    "number_of_points = 101\n",
    "xs = np.linspace(lower_bound, upper_bound, number_of_points)\n",
    "# the sequence of y coordinates are calculated at every x-value\n",
    "# one of the most effective ways to do this is to write a function\n",
    "# make sure that your function works with inputs that are numpy arrays\n",
    "def f(xs):\n",
    "    return xs**3 - 4*xs**2 + xs + 6\n",
    "    \n",
    "ys = f(xs)\n",
    "plt.figure()\n",
    "plt.plot(xs, ys, '-', lw=2)\n",
    "plt.xlabel(\"$x$\")\n",
    "plt.ylabel(\"$f(x)$\")\n"
   ]
  },
  {
   "cell_type": "markdown",
   "metadata": {},
   "source": [
    "## Exercise B\n",
    "\n",
    "1. Consider the RV, $X$, in Exercise A question 3. Plot the probability density $p_X(x)$ and cumulative distribution function $F_X(x)$ for values $x \\in (-1,2)$ using the `plot` function from `matplotlib.pyplot`.\n",
    "2. Consider the same RV, $X$ as in B.1. Plot the cumulative distribution function $F_X(x)$ for values $x \\in (-1,2)$ again using the `plot` function from `matplotlib.pyplot`.\n",
    "3. Write a function `normal_dist`, which takes three arguments:  a numpy array, `xs`, of values at which to evaluate, a mean `mu`, and a standard deviation `sigma`. It should evaluate the probability density of the normal RV, $X$, with mean $\\mu = $`mu` and standard deviation $\\sigma=$`sigma` using the formula:\n",
    "    $$p_X(x) = \\frac{1}{\\sqrt{2\\pi \\sigma^2}}e^{- (x-\\mu)^2 / 2\\sigma^2}$$\n",
    "    Make use of the elementwise arithmetic of numpy arrays (you should not use a for loop). Note that operators `+`, `-`, `*` and `/` all perform elementwise arithmetic on two numpy arrays of the same size. Note also that operator `**` is an elementwise power and `numpy.exp` is the elementwise exponential. `np.pi` is the value $\\pi$ and `np.sqrt` will perform a square-root.\n",
    "4. Edit `normal_dist` so that your mean and standard deviation takes default values $0$ and $1$ respectively (see [here](https://www.w3schools.com/python/gloss_python_function_default_parameter.asp) for details on default values to functions). \n",
    "5. Using your function `normal_dist`, plot the probability density of a normal RV with mean $6$ and standard deviation $2$ in the range $(0,12)$ on a separate plot.\n",
    "6. Again using your function `normal_dist`, plot the probability density of a standard normal RV in the range $(-3,3)$ on a separate plot.\n"
   ]
  },
  {
   "cell_type": "code",
   "execution_count": 3,
   "metadata": {},
   "outputs": [
    {
     "name": "stdout",
     "output_type": "stream",
     "text": [
      "Exercise B - Question 1\n",
      "\n",
      "\n"
     ]
    },
    {
     "data": {
      "text/plain": [
       "Text(0, 0.5, '$f(x)$')"
      ]
     },
     "execution_count": 3,
     "metadata": {},
     "output_type": "execute_result"
    },
    {
     "data": {
      "image/png": "[encoded data removed]",
      "text/plain": [
       "<Figure size 432x288 with 1 Axes>"
      ]
     },
     "metadata": {
      "needs_background": "light"
     },
     "output_type": "display_data"
    },
    {
     "data": {
      "image/png": "[encoded data removed]",
      "text/plain": [
       "<Figure size 432x288 with 1 Axes>"
      ]
     },
     "metadata": {
      "needs_background": "light"
     },
     "output_type": "display_data"
    }
   ],
   "source": [
    "## to complete\n",
    "\n",
    "print(\"Exercise B - Question 1\")\n",
    "print('\\n')\n",
    "\n",
    "# PDF Graph\n",
    "xs = np.array([-1, 0,0 ,1,1 ,2])\n",
    "ys = np.array([0, 0,1, 1,0, 0])\n",
    "plt.figure()\n",
    "plt.plot(xs, ys, '-', lw=2)\n",
    "plt.xlabel(\"$x$\")\n",
    "plt.ylabel(\"$f(x)$\")\n",
    "plt.ylim(0, None)\n",
    "\n",
    "# CDF Graph\n",
    "lower_bound = -1\n",
    "upper_bound = 2\n",
    "number_of_points = 101\n",
    "xs = np.linspace(lower_bound, upper_bound, number_of_points)\n",
    "# the sequence of y coordinates are calculated at every x-value\n",
    "# one of the most effective ways to do this is to write a function\n",
    "# make sure that your function works with inputs that are numpy arrays\n",
    "def f(xs):\n",
    "    return xs**3 - 4*xs**2 + xs + 6\n",
    "    \n",
    "ys = f(xs)\n",
    "plt.figure()\n",
    "plt.plot(xs, ys, '-', lw=2)\n",
    "plt.xlabel(\"$x$\")\n",
    "plt.ylabel(\"$f(x)$\")\n"
   ]
  },
  {
   "cell_type": "code",
   "execution_count": 4,
   "metadata": {},
   "outputs": [
    {
     "name": "stdout",
     "output_type": "stream",
     "text": [
      "Exercise B - Question 2\n",
      "\n",
      "\n"
     ]
    },
    {
     "data": {
      "text/plain": [
       "Text(0, 0.5, '$f(x)$')"
      ]
     },
     "execution_count": 4,
     "metadata": {},
     "output_type": "execute_result"
    },
    {
     "data": {
      "image/png": "[encoded data removed]",
      "text/plain": [
       "<Figure size 432x288 with 1 Axes>"
      ]
     },
     "metadata": {
      "needs_background": "light"
     },
     "output_type": "display_data"
    }
   ],
   "source": [
    "print(\"Exercise B - Question 2\")\n",
    "print('\\n')\n",
    "\n",
    "xs = np.array([-1, 0,0 ,1,1 ,2])\n",
    "lower_bound = -1\n",
    "upper_bound = 2\n",
    "number_of_points = 101\n",
    "xs = np.linspace(lower_bound, upper_bound, number_of_points)\n",
    "# the sequence of y coordinates are calculated at every x-value\n",
    "# one of the most effective ways to do this is to write a function\n",
    "# make sure that your function works with inputs that are numpy arrays\n",
    "def f(xs):\n",
    "    return xs**3 - 4*xs**2 + xs + 6\n",
    "    \n",
    "ys = f(xs)\n",
    "plt.figure()\n",
    "plt.plot(xs, ys, '-', lw=2)\n",
    "plt.xlabel(\"$x$\")\n",
    "plt.ylabel(\"$f(x)$\")\n"
   ]
  },
  {
   "cell_type": "code",
   "execution_count": 5,
   "metadata": {},
   "outputs": [
    {
     "name": "stdout",
     "output_type": "stream",
     "text": [
      "Exercise B - Question 3\n",
      "\n",
      "\n"
     ]
    }
   ],
   "source": [
    "print(\"Exercise B - Question 3\")\n",
    "print('\\n')\n",
    "\n",
    "# Normal Distribution Function\n",
    "# def normal_dist(xs, mu, sigma):\n",
    "#     pdf_firstpart = 1/np.sqrt(2*np.pi*(sigma**2))\n",
    "#     holder = np.array([1])\n",
    "#     pdf_secondpart = np.exp(holder)\n",
    "#     pdf_output = []\n",
    "#     for i in xs:\n",
    "#         pdf_thirdpart = (-(i-mu)**2)/(2*(sigma**2))\n",
    "#         val = pdf_firstpart * (pdf_secondpart ** pdf_thirdpart)\n",
    "#         pdf_output.append(val)\n",
    "#     pdf_output = np.array(pdf_output)\n",
    "#     return pdf_output\n",
    "\n",
    "# test = np.array([1,2,2,3,5,6,7,8,9,10])\n",
    "# testout = normal_dist(test, 5, 1)\n",
    "# print(testout)"
   ]
  },
  {
   "cell_type": "code",
   "execution_count": 6,
   "metadata": {},
   "outputs": [
    {
     "name": "stdout",
     "output_type": "stream",
     "text": [
      "Exercise B - Question 4\n",
      "\n",
      "\n",
      "[[2.41970725e-01]\n",
      " [5.39909665e-02]\n",
      " [5.39909665e-02]\n",
      " [4.43184841e-03]\n",
      " [1.48671951e-06]\n",
      " [6.07588285e-09]\n",
      " [9.13472041e-12]\n",
      " [5.05227108e-15]\n",
      " [1.02797736e-18]\n",
      " [7.69459863e-23]]\n"
     ]
    }
   ],
   "source": [
    "print(\"Exercise B - Question 4\")\n",
    "print('\\n')\n",
    "\n",
    "# Normal Distribution Function (edited for default values)\n",
    "def normal_dist(xs, mu=0, sigma=1):\n",
    "    pdf_firstpart = 1/np.sqrt(2*np.pi*(sigma**2))\n",
    "    holder = np.array([1])\n",
    "    pdf_secondpart = np.exp(holder)\n",
    "    pdf_output = []\n",
    "    for i in xs:\n",
    "        pdf_thirdpart = (-(i-mu)**2)/(2*(sigma**2))\n",
    "        val = pdf_firstpart * (pdf_secondpart ** pdf_thirdpart)\n",
    "        pdf_output.append(val)\n",
    "    pdf_output = np.array(pdf_output)\n",
    "    return pdf_output\n",
    "\n",
    "test = np.array([1,2,2,3,5,6,7,8,9,10])\n",
    "testout = normal_dist(test)\n",
    "print(testout)"
   ]
  },
  {
   "cell_type": "code",
   "execution_count": 7,
   "metadata": {},
   "outputs": [
    {
     "name": "stdout",
     "output_type": "stream",
     "text": [
      "Exercise B - Question 5\n",
      "\n",
      "\n"
     ]
    },
    {
     "data": {
      "text/plain": [
       "(0, 0.2093339010004537)"
      ]
     },
     "execution_count": 7,
     "metadata": {},
     "output_type": "execute_result"
    },
    {
     "data": {
      "image/png": "[encoded data removed]",
      "text/plain": [
       "<Figure size 432x288 with 1 Axes>"
      ]
     },
     "metadata": {
      "needs_background": "light"
     },
     "output_type": "display_data"
    }
   ],
   "source": [
    "print(\"Exercise B - Question 5\")\n",
    "print('\\n')\n",
    "\n",
    "bq5 = np.arange(0,13)\n",
    "bq5_pdf = normal_dist(bq5, 6, 2)\n",
    "# print(bq5)\n",
    "# print(bq5_pdf)\n",
    "\n",
    "plt.figure()\n",
    "plt.plot(bq5, bq5_pdf, '-', lw=2)\n",
    "plt.xlabel(\"$x$\")\n",
    "plt.ylabel(\"$f(x)$\")\n",
    "plt.ylim(0, None)\n"
   ]
  },
  {
   "cell_type": "code",
   "execution_count": 8,
   "metadata": {},
   "outputs": [
    {
     "name": "stdout",
     "output_type": "stream",
     "text": [
      "Exercise B - Question 6\n",
      "\n",
      "\n"
     ]
    },
    {
     "data": {
      "text/plain": [
       "(0, 0.4186678020009074)"
      ]
     },
     "execution_count": 8,
     "metadata": {},
     "output_type": "execute_result"
    },
    {
     "data": {
      "image/png": "[encoded data removed]",
      "text/plain": [
       "<Figure size 432x288 with 1 Axes>"
      ]
     },
     "metadata": {
      "needs_background": "light"
     },
     "output_type": "display_data"
    }
   ],
   "source": [
    "print(\"Exercise B - Question 6\")\n",
    "print('\\n')\n",
    "\n",
    "bq6 = np.arange(-3,4)\n",
    "bq6_pdf = normal_dist(bq6)\n",
    "# print(bq5)\n",
    "# print(bq5_pdf)\n",
    "\n",
    "plt.figure()\n",
    "plt.plot(bq6, bq6_pdf, '-', lw=2)\n",
    "plt.xlabel(\"$x$\")\n",
    "plt.ylabel(\"$f(x)$\")\n",
    "plt.ylim(0, None)\n"
   ]
  },
  {
   "cell_type": "markdown",
   "metadata": {},
   "source": [
    "## Exercise C\n",
    "\n",
    "Look up `matplotlib.pyplot.fill_between` [here](https://matplotlib.org/3.1.1/api/_as_gen/matplotlib.pyplot.fill_between.html). To use this function for parts 1. and 3. below, you will need x values and corresponding y values for the upper bound, you can use a single value of `0` for the lower bound. There is a short section of code at the start of the code bloc to show you how to extract sub-parts of a numpy array that satisfy certain properties.\n",
    "\n",
    "1. Use your function from B.3 and B.4 and `matplotlib.pyplot.plot` to plot the probability density function for a standard normal RV, $Z$, then use the `matplotlib.pyplot.fill_between` function to colour the region under the curve corresponding to $Z < 1.23$.  Label the diagram appropriately to indicate this value.\n",
    "2. Use (Ross, 2017, Tbl. 61) to find $\\Pr(Z < 1.23)$. \n",
    "3. Similarly to C.1 plot the probability density function for a standard normal RV, $Z$, on a new plot, then use the `matplotlib.pyplot.fill_between` function to colour the two regions under the curve corresponding to $Z < -1.59$ and to $Z > 1.59$. Colour the first region green and the second red and use a transparency (`alpha`) or 0.25. Label the diagram appropriately to indicate these values.\n",
    "4. Use (Ross, 2017, Tbl. 61) to find $\\Pr(Z < 1.59)$ and $\\Pr(Z > 1.59)$.\n",
    "\n",
    "*For the labels, with large regions such as these we can use the `matplotlib.pyplot.text` function to place a label within the region. If you wish to point to a small region with an arrow and place the text label elsewhere you may find `matplotlib.pyplot.annotate` more helpful.*"
   ]
  },
  {
   "cell_type": "code",
   "execution_count": 9,
   "metadata": {},
   "outputs": [
    {
     "name": "stdout",
     "output_type": "stream",
     "text": [
      "values = [-1.   -0.75 -0.5  -0.25  0.    0.25  0.5   0.75  1.  ]\n",
      "positive_mask = [False False False False False  True  True  True  True]\n",
      "magnitude_mask = [ True  True  True False False False  True  True  True]\n",
      "positive_values = [0.25 0.5  0.75 1.  ]\n",
      "magnitude_values = [-1.   -0.75 -0.5   0.5   0.75  1.  ]\n",
      "or_masked_values = [-1.    0.5   0.75  1.  ]\n",
      "and_masked_values = [-0.25  0.    0.25  0.5 ]\n",
      "\n",
      "Exercise C - Question 1\n",
      "\n",
      "[0.   0.02 0.04 0.06 0.08 0.1  0.12 0.14 0.16 0.18 0.2  0.22 0.24 0.26\n",
      " 0.28 0.3  0.32 0.34 0.36 0.38 0.4  0.42 0.44 0.46 0.48 0.5  0.52 0.54\n",
      " 0.56 0.58 0.6  0.62 0.64 0.66 0.68 0.7  0.72 0.74 0.76 0.78 0.8  0.82\n",
      " 0.84 0.86 0.88 0.9  0.92 0.94 0.96 0.98 1.   1.02 1.04 1.06 1.08 1.1\n",
      " 1.12 1.14 1.16 1.18 1.2  1.22 1.24 1.26 1.28 1.3  1.32 1.34 1.36 1.38\n",
      " 1.4  1.42 1.44 1.46 1.48 1.5  1.52 1.54 1.56 1.58 1.6  1.62 1.64 1.66\n",
      " 1.68 1.7  1.72 1.74 1.76 1.78 1.8  1.82 1.84 1.86 1.88 1.9  1.92 1.94\n",
      " 1.96 1.98 2.  ]\n"
     ]
    },
    {
     "data": {
      "text/plain": [
       "<matplotlib.collections.PolyCollection at 0x1d6d323fbe0>"
      ]
     },
     "execution_count": 9,
     "metadata": {},
     "output_type": "execute_result"
    },
    {
     "data": {
      "image/png": "[encoded data removed]",
      "text/plain": [
       "<Figure size 432x288 with 1 Axes>"
      ]
     },
     "metadata": {
      "needs_background": "light"
     },
     "output_type": "display_data"
    }
   ],
   "source": [
    "## notes on extracting sub-parts of numpy arrays.\n",
    "# imagine you have a sequence of values in a numpy array, e.g.\n",
    "values = np.linspace(-1, 1, 9)\n",
    "# we can visualise these values\n",
    "print(f\"values = {values}\")\n",
    "\n",
    "# When using a boolean expression (constraint) with our numpy array values,\n",
    "# we create a mask which is a numpy array of boolean values, which are True\n",
    "# if the corresponding element of values satisfies that constraint and\n",
    "# False otherwise.\n",
    "# for example here is a mask of positive values\n",
    "positive_mask = (values > 0)\n",
    "print(f\"positive_mask = {positive_mask}\")\n",
    "# for another example, here is a mask where the absolute value\n",
    "# is greater than or equal to 0.5\n",
    "magnitude_mask = (np.abs(values) >= 0.5)\n",
    "print(f\"magnitude_mask = {magnitude_mask}\")\n",
    "\n",
    "# we can then use these masks to extract the elements from an array\n",
    "# corresponding to the True values (and throwing away the False elements)\n",
    "# For example, positive values comes from the positive mask\n",
    "positive_values = values[positive_mask]\n",
    "print(f\"positive_values = {positive_values}\")\n",
    "# and magnitude_values comes from the magnitude_mask\n",
    "magnitude_values = values[magnitude_mask]\n",
    "print(f\"magnitude_values = {magnitude_values}\")\n",
    "\n",
    "# operators | (or) and & (and) can elementwise combine masks.\n",
    "# For instance for values that are either greater than 0.4\n",
    "# or less than -0.9 use\n",
    "or_masked_values = values[(values < -0.9) | (values > 0.4)]\n",
    "print(f\"or_masked_values = {or_masked_values}\")\n",
    "# For values that are both greater than -0.3 and less than\n",
    "# 0.7 use\n",
    "and_masked_values = values[(values > -0.3) & (values < 0.7)]\n",
    "print(f\"and_masked_values = {and_masked_values}\")\n",
    "print()\n",
    "\n",
    "## to complete\n",
    "print(\"Exercise C - Question 1\")\n",
    "print()\n",
    "\n",
    "lower_bound = 0\n",
    "upper_bound = 2\n",
    "xs = np.linspace(lower_bound, upper_bound, number_of_points)    \n",
    "print(xs)\n",
    "ys = normal_dist(xs)\n",
    "plt.figure()\n",
    "plt.plot(xs, ys, '-', lw=2)\n",
    "plt.xlabel(\"$x$\")\n",
    "plt.ylabel(\"$f(x)$\")\n",
    "plt.fill_between(xs, 1.23, color=\"red\", alpha=\"0.5\")\n"
   ]
  },
  {
   "cell_type": "code",
   "execution_count": 10,
   "metadata": {},
   "outputs": [
    {
     "name": "stdout",
     "output_type": "stream",
     "text": [
      "Exercise C - Question 2\n",
      "\n",
      "\n",
      "Pr(𝑍 < 1.23) = 0.8907\n"
     ]
    }
   ],
   "source": [
    "print(\"Exercise C - Question 2\")\n",
    "print('\\n')\n",
    "print(\"Pr(𝑍 < 1.23) = 0.8907\")"
   ]
  },
  {
   "cell_type": "code",
   "execution_count": 11,
   "metadata": {},
   "outputs": [
    {
     "name": "stdout",
     "output_type": "stream",
     "text": [
      "Exercise C - Question 3\n",
      "\n"
     ]
    },
    {
     "data": {
      "text/plain": [
       "<matplotlib.collections.PolyCollection at 0x1d6d3241da0>"
      ]
     },
     "execution_count": 11,
     "metadata": {},
     "output_type": "execute_result"
    },
    {
     "data": {
      "image/png": "[encoded data removed]",
      "text/plain": [
       "<Figure size 432x288 with 1 Axes>"
      ]
     },
     "metadata": {
      "needs_background": "light"
     },
     "output_type": "display_data"
    }
   ],
   "source": [
    "print(\"Exercise C - Question 3\")\n",
    "print()\n",
    "\n",
    "lower_bound = 0\n",
    "upper_bound = 2\n",
    "xs = np.linspace(lower_bound, upper_bound, 1000)    \n",
    "ys = normal_dist(xs)\n",
    "plt.figure()\n",
    "plt.plot(xs, ys, '-', lw=2)\n",
    "plt.xlabel(\"$x$\")\n",
    "plt.ylabel(\"$f(x)$\")\n",
    "plt.fill_between(xs, 1.23, color=\"green\", alpha=\"0.5\")\n"
   ]
  },
  {
   "cell_type": "code",
   "execution_count": 12,
   "metadata": {},
   "outputs": [
    {
     "name": "stdout",
     "output_type": "stream",
     "text": [
      "Exercise C - Question 4\n",
      "\n",
      "Pr(𝑍 < 1.59 = 0.9441)\n",
      "Pr(𝑍 > 1.59) = 1 - 0.9441 = 0.0559 \n"
     ]
    }
   ],
   "source": [
    "print(\"Exercise C - Question 4\")\n",
    "print()\n",
    "\n",
    "print(\"Pr(𝑍 < 1.59 = 0.9441)\") \n",
    "print(\"Pr(𝑍 > 1.59) = 1 - 0.9441 = 0.0559 \") "
   ]
  },
  {
   "cell_type": "code",
   "execution_count": 13,
   "metadata": {},
   "outputs": [
    {
     "name": "stdout",
     "output_type": "stream",
     "text": [
      "Extra to understand highlighting feature\n"
     ]
    },
    {
     "data": {
      "image/png": "[encoded data removed]",
      "text/plain": [
       "<Figure size 432x288 with 1 Axes>"
      ]
     },
     "metadata": {},
     "output_type": "display_data"
    }
   ],
   "source": [
    "print(\"Extra to understand highlighting feature\")\n",
    "\n",
    "plt.style.use('ggplot')\n",
    "mean=1000\n",
    "std=250\n",
    "x=np.linspace(mean-3*std, mean+3*std,1000)\n",
    "iq=stats.norm(mean,std)\n",
    "plt.plot(x,iq.pdf(x),'b')\n",
    "\n",
    "px=np.arange(0,500,10)\n",
    "plt.fill_between(px,iq.pdf(px),color='r')\n",
    "\n",
    "plt.show()\n"
   ]
  },
  {
   "cell_type": "code",
   "execution_count": 14,
   "metadata": {},
   "outputs": [
    {
     "name": "stdout",
     "output_type": "stream",
     "text": [
      "Exercise C1\n"
     ]
    },
    {
     "ename": "ValueError",
     "evalue": "Input passed into argument \"'y1'\"is not 1-dimensional.",
     "output_type": "error",
     "traceback": [
      "\u001b[1;31m---------------------------------------------------------------------------\u001b[0m",
      "\u001b[1;31mValueError\u001b[0m                                Traceback (most recent call last)",
      "\u001b[1;32m<ipython-input-14-fddd31a985e7>\u001b[0m in \u001b[0;36m<module>\u001b[1;34m\u001b[0m\n\u001b[0;32m     11\u001b[0m \u001b[0mregion_xs\u001b[0m \u001b[1;33m=\u001b[0m \u001b[0mxs\u001b[0m\u001b[1;33m[\u001b[0m\u001b[0mxs\u001b[0m \u001b[1;33m<\u001b[0m \u001b[1;36m1.23\u001b[0m\u001b[1;33m]\u001b[0m\u001b[1;33m\u001b[0m\u001b[1;33m\u001b[0m\u001b[0m\n\u001b[0;32m     12\u001b[0m \u001b[0mregion_ys\u001b[0m \u001b[1;33m=\u001b[0m \u001b[0mnormal_dist\u001b[0m\u001b[1;33m(\u001b[0m\u001b[0mregion_xs\u001b[0m\u001b[1;33m)\u001b[0m\u001b[1;33m\u001b[0m\u001b[1;33m\u001b[0m\u001b[0m\n\u001b[1;32m---> 13\u001b[1;33m \u001b[0mplt\u001b[0m\u001b[1;33m.\u001b[0m\u001b[0mfill_between\u001b[0m\u001b[1;33m(\u001b[0m\u001b[0mregion_xs\u001b[0m\u001b[1;33m,\u001b[0m \u001b[0mregion_ys\u001b[0m\u001b[1;33m,\u001b[0m \u001b[1;36m0\u001b[0m\u001b[1;33m,\u001b[0m \u001b[0mcolor\u001b[0m\u001b[1;33m=\u001b[0m\u001b[1;34m'r'\u001b[0m\u001b[1;33m,\u001b[0m \u001b[0malpha\u001b[0m\u001b[1;33m=\u001b[0m\u001b[1;36m0.25\u001b[0m\u001b[1;33m)\u001b[0m\u001b[1;33m\u001b[0m\u001b[1;33m\u001b[0m\u001b[0m\n\u001b[0m\u001b[0;32m     14\u001b[0m \u001b[0mtextx\u001b[0m \u001b[1;33m=\u001b[0m \u001b[1;33m-\u001b[0m\u001b[1;36m0.25\u001b[0m\u001b[1;33m\u001b[0m\u001b[1;33m\u001b[0m\u001b[0m\n\u001b[0;32m     15\u001b[0m \u001b[0mtexty\u001b[0m \u001b[1;33m=\u001b[0m \u001b[1;33m(\u001b[0m\u001b[1;36m0\u001b[0m\u001b[1;33m+\u001b[0m\u001b[0mnormal_dist\u001b[0m\u001b[1;33m(\u001b[0m\u001b[0mtextx\u001b[0m\u001b[1;33m)\u001b[0m\u001b[1;33m)\u001b[0m\u001b[1;33m/\u001b[0m\u001b[1;36m3\u001b[0m\u001b[1;33m\u001b[0m\u001b[1;33m\u001b[0m\u001b[0m\n",
      "\u001b[1;32mC:\\ProgramData\\Anaconda3\\lib\\site-packages\\matplotlib\\pyplot.py\u001b[0m in \u001b[0;36mfill_between\u001b[1;34m(x, y1, y2, where, interpolate, step, data, **kwargs)\u001b[0m\n\u001b[0;32m   2583\u001b[0m     return gca().fill_between(\n\u001b[0;32m   2584\u001b[0m         \u001b[0mx\u001b[0m\u001b[1;33m,\u001b[0m \u001b[0my1\u001b[0m\u001b[1;33m,\u001b[0m \u001b[0my2\u001b[0m\u001b[1;33m=\u001b[0m\u001b[0my2\u001b[0m\u001b[1;33m,\u001b[0m \u001b[0mwhere\u001b[0m\u001b[1;33m=\u001b[0m\u001b[0mwhere\u001b[0m\u001b[1;33m,\u001b[0m \u001b[0minterpolate\u001b[0m\u001b[1;33m=\u001b[0m\u001b[0minterpolate\u001b[0m\u001b[1;33m,\u001b[0m \u001b[0mstep\u001b[0m\u001b[1;33m=\u001b[0m\u001b[0mstep\u001b[0m\u001b[1;33m,\u001b[0m\u001b[1;33m\u001b[0m\u001b[1;33m\u001b[0m\u001b[0m\n\u001b[1;32m-> 2585\u001b[1;33m         **({\"data\": data} if data is not None else {}), **kwargs)\n\u001b[0m\u001b[0;32m   2586\u001b[0m \u001b[1;33m\u001b[0m\u001b[0m\n\u001b[0;32m   2587\u001b[0m \u001b[1;33m\u001b[0m\u001b[0m\n",
      "\u001b[1;32mC:\\ProgramData\\Anaconda3\\lib\\site-packages\\matplotlib\\__init__.py\u001b[0m in \u001b[0;36minner\u001b[1;34m(ax, data, *args, **kwargs)\u001b[0m\n\u001b[0;32m   1587\u001b[0m     \u001b[1;32mdef\u001b[0m \u001b[0minner\u001b[0m\u001b[1;33m(\u001b[0m\u001b[0max\u001b[0m\u001b[1;33m,\u001b[0m \u001b[1;33m*\u001b[0m\u001b[0margs\u001b[0m\u001b[1;33m,\u001b[0m \u001b[0mdata\u001b[0m\u001b[1;33m=\u001b[0m\u001b[1;32mNone\u001b[0m\u001b[1;33m,\u001b[0m \u001b[1;33m**\u001b[0m\u001b[0mkwargs\u001b[0m\u001b[1;33m)\u001b[0m\u001b[1;33m:\u001b[0m\u001b[1;33m\u001b[0m\u001b[1;33m\u001b[0m\u001b[0m\n\u001b[0;32m   1588\u001b[0m         \u001b[1;32mif\u001b[0m \u001b[0mdata\u001b[0m \u001b[1;32mis\u001b[0m \u001b[1;32mNone\u001b[0m\u001b[1;33m:\u001b[0m\u001b[1;33m\u001b[0m\u001b[1;33m\u001b[0m\u001b[0m\n\u001b[1;32m-> 1589\u001b[1;33m             \u001b[1;32mreturn\u001b[0m \u001b[0mfunc\u001b[0m\u001b[1;33m(\u001b[0m\u001b[0max\u001b[0m\u001b[1;33m,\u001b[0m \u001b[1;33m*\u001b[0m\u001b[0mmap\u001b[0m\u001b[1;33m(\u001b[0m\u001b[0msanitize_sequence\u001b[0m\u001b[1;33m,\u001b[0m \u001b[0margs\u001b[0m\u001b[1;33m)\u001b[0m\u001b[1;33m,\u001b[0m \u001b[1;33m**\u001b[0m\u001b[0mkwargs\u001b[0m\u001b[1;33m)\u001b[0m\u001b[1;33m\u001b[0m\u001b[1;33m\u001b[0m\u001b[0m\n\u001b[0m\u001b[0;32m   1590\u001b[0m \u001b[1;33m\u001b[0m\u001b[0m\n\u001b[0;32m   1591\u001b[0m         \u001b[0mbound\u001b[0m \u001b[1;33m=\u001b[0m \u001b[0mnew_sig\u001b[0m\u001b[1;33m.\u001b[0m\u001b[0mbind\u001b[0m\u001b[1;33m(\u001b[0m\u001b[0max\u001b[0m\u001b[1;33m,\u001b[0m \u001b[1;33m*\u001b[0m\u001b[0margs\u001b[0m\u001b[1;33m,\u001b[0m \u001b[1;33m**\u001b[0m\u001b[0mkwargs\u001b[0m\u001b[1;33m)\u001b[0m\u001b[1;33m\u001b[0m\u001b[1;33m\u001b[0m\u001b[0m\n",
      "\u001b[1;32mC:\\ProgramData\\Anaconda3\\lib\\site-packages\\matplotlib\\axes\\_axes.py\u001b[0m in \u001b[0;36mfill_between\u001b[1;34m(self, x, y1, y2, where, interpolate, step, **kwargs)\u001b[0m\n\u001b[0;32m   5221\u001b[0m             \u001b[1;32mif\u001b[0m \u001b[0marray\u001b[0m\u001b[1;33m.\u001b[0m\u001b[0mndim\u001b[0m \u001b[1;33m>\u001b[0m \u001b[1;36m1\u001b[0m\u001b[1;33m:\u001b[0m\u001b[1;33m\u001b[0m\u001b[1;33m\u001b[0m\u001b[0m\n\u001b[0;32m   5222\u001b[0m                 raise ValueError('Input passed into argument \"%r\"' % name +\n\u001b[1;32m-> 5223\u001b[1;33m                                  'is not 1-dimensional.')\n\u001b[0m\u001b[0;32m   5224\u001b[0m \u001b[1;33m\u001b[0m\u001b[0m\n\u001b[0;32m   5225\u001b[0m         \u001b[1;32mif\u001b[0m \u001b[0mwhere\u001b[0m \u001b[1;32mis\u001b[0m \u001b[1;32mNone\u001b[0m\u001b[1;33m:\u001b[0m\u001b[1;33m\u001b[0m\u001b[1;33m\u001b[0m\u001b[0m\n",
      "\u001b[1;31mValueError\u001b[0m: Input passed into argument \"'y1'\"is not 1-dimensional."
     ]
    },
    {
     "data": {
      "image/png": "[encoded data removed]",
      "text/plain": [
       "<Figure size 432x288 with 1 Axes>"
      ]
     },
     "metadata": {},
     "output_type": "display_data"
    }
   ],
   "source": [
    "print(\"Exercise C1\")\n",
    "\n",
    "# Use your function from B.3 and B.4 and matplotlib.pyplot.plot to plot the probability density function for a \n",
    "#standard normal RV,  𝑍 , then use the matplotlib.pyplot.fill_between function to colour the region under the \n",
    "# curve corresponding to  𝑍<1.23 . \n",
    "# Label the diagram appropriately to indicate this value.\n",
    "plt.figure()\n",
    "xs = np.linspace(-3.5, 3.5, 101)    \n",
    "ys = normal_dist(xs)\n",
    "plt.plot(xs,ys,'b')\n",
    "region_xs = xs[xs < 1.23]\n",
    "region_ys = normal_dist(region_xs)\n",
    "plt.fill_between(region_xs, region_ys, 0, color='r', alpha=0.25)\n",
    "textx = -0.25\n",
    "texty = (0+normal_dist(textx))/3\n",
    "plt.text(textx, texty, \"$\\Pr(Z < 1.23)$\", color='r', fontsize=12, horizontalalignment='center', verticalalignment='center')"
   ]
  },
  {
   "cell_type": "markdown",
   "metadata": {},
   "source": [
    "## Exercise D"
   ]
  },
  {
   "cell_type": "markdown",
   "metadata": {},
   "source": [
    "\n",
    "1. You most likely completed Exercise C using the function `normal_dist` you defined in Exercise B. Now, look up [`scipy.stats.norm.pdf`](https://docs.scipy.org/doc/scipy/reference/generated/scipy.stats.norm.html). This has the same functionality as `normal_dist` (it evaluates the probability density function for a normal distribution). Recreate the C.1 plot using `scipy.stats.norm.pdf`.\n",
    "2. Look up the cumulative distribution function  [`scipy.stats.norm.cdf`](https://docs.scipy.org/doc/scipy/reference/generated/scipy.stats.norm.html) which should allow you to calculate the areas from Exercise C.2 without using Table 6.1. Do the results agree?"
   ]
  },
  {
   "cell_type": "code",
   "execution_count": 15,
   "metadata": {},
   "outputs": [
    {
     "name": "stdout",
     "output_type": "stream",
     "text": [
      "Exercise D - Question 1\n",
      "\n",
      "\n"
     ]
    },
    {
     "data": {
      "image/png": "[encoded data removed]",
      "text/plain": [
       "<Figure size 432x288 with 1 Axes>"
      ]
     },
     "metadata": {},
     "output_type": "display_data"
    },
    {
     "name": "stdout",
     "output_type": "stream",
     "text": [
      "\n",
      "\n",
      "Exercise D - Question 2\n",
      "[2.32629079e-04 3.01790625e-04 3.89712363e-04 5.00936914e-04\n",
      " 6.40952984e-04 8.16352313e-04 1.03500297e-03 1.30623845e-03\n",
      " 1.64106123e-03 2.05235899e-03 2.55513033e-03 3.16671628e-03\n",
      " 3.90703257e-03 4.79879660e-03 5.86774172e-03 7.14281074e-03\n",
      " 8.65631903e-03 1.04440771e-02 1.25454614e-02 1.50034230e-02\n",
      " 1.78644206e-02 2.11782696e-02 2.49978951e-02 2.93789800e-02\n",
      " 3.43795024e-02 4.00591569e-02 4.64786579e-02 5.36989281e-02\n",
      " 6.17801767e-02 7.07808770e-02 8.07566592e-02 9.17591357e-02\n",
      " 1.03834681e-01 1.17023196e-01 1.31356881e-01 1.46859056e-01\n",
      " 1.63543059e-01 1.81411255e-01 2.00454193e-01 2.20649946e-01\n",
      " 2.41963652e-01 2.64347292e-01 2.87739719e-01 3.12066949e-01\n",
      " 3.37242727e-01 3.63169349e-01 3.89738752e-01 4.16833837e-01\n",
      " 4.44329995e-01 4.72096830e-01 5.00000000e-01 5.27903170e-01\n",
      " 5.55670005e-01 5.83166163e-01 6.10261248e-01 6.36830651e-01\n",
      " 6.62757273e-01 6.87933051e-01 7.12260281e-01 7.35652708e-01\n",
      " 7.58036348e-01 7.79350054e-01 7.99545807e-01 8.18588745e-01\n",
      " 8.36456941e-01 8.53140944e-01 8.68643119e-01 8.82976804e-01\n",
      " 8.96165319e-01 9.08240864e-01 9.19243341e-01 9.29219123e-01\n",
      " 9.38219823e-01 9.46301072e-01 9.53521342e-01 9.59940843e-01\n",
      " 9.65620498e-01 9.70621020e-01 9.75002105e-01 9.78821730e-01\n",
      " 9.82135579e-01 9.84996577e-01 9.87454539e-01 9.89555923e-01\n",
      " 9.91343681e-01 9.92857189e-01 9.94132258e-01 9.95201203e-01\n",
      " 9.96092967e-01 9.96833284e-01 9.97444870e-01 9.97947641e-01\n",
      " 9.98358939e-01 9.98693762e-01 9.98964997e-01 9.99183648e-01\n",
      " 9.99359047e-01 9.99499063e-01 9.99610288e-01 9.99698209e-01\n",
      " 9.99767371e-01]\n"
     ]
    }
   ],
   "source": [
    "# scipy.stats is imported with alias stats\n",
    "## to complete\n",
    "\n",
    "print(\"Exercise D - Question 1\")\n",
    "print('\\n')\n",
    "\n",
    "plt.style.use('ggplot')\n",
    "mean=1000\n",
    "std=250\n",
    "x=np.linspace(mean-3*std, mean+3*std,1000)\n",
    "iq=stats.norm(mean,std)\n",
    "plt.plot(x,iq.pdf(x),'b')\n",
    "\n",
    "px=np.arange(0,500,10)\n",
    "plt.fill_between(px,iq.pdf(px),color='r')\n",
    "\n",
    "plt.show()\n",
    "\n",
    "print('\\n')\n",
    "print(\"Exercise D - Question 2\")\n",
    "\n",
    "stats.norm.cdf(xs)\n",
    "print(stats.norm.cdf(xs))\n"
   ]
  },
  {
   "cell_type": "markdown",
   "metadata": {},
   "source": [
    "## Exercise E\n",
    "\n",
    "Look at questions  4., 6. and 7. from (Ross, 2017, Sec. 6.5). The question text is repeated for convenience. Solve the problems by converting to standard normal then comparing the two methods: a) looking up in Table 6.1, b) using `scipy.stats.norm.pdf` for a standard normal distribution.\n",
    "\n",
    "> 4. The scores on a scholastic achievement test were normally distributed\n",
    "with mean 520 and standard deviation 94.\n",
    ">\n",
    ">    (a) If your score was 700, by how many standard deviations did it exceed the average score?\n",
    "> \n",
    ">    (b) What percentage of examination takers received a higher score than you did?\n",
    "\n",
    "> 6. The life of a certain automobile tire is normally distributed with mean\n",
    "35,000 miles and standard deviation 5000 miles.\n",
    "> \n",
    ">    (a) What proportion of such tires last between 30,000 and 40,000 miles?\n",
    "> \n",
    ">    (b) What proportion of such tires last over 40,000 miles?\n",
    "> \n",
    ">    (c) What proportion last over 50,000 miles?\n",
    "\n",
    "> 7. Suppose you purchased such a tire as described in Prob. 6. If the tire is in\n",
    "working condition after 40,000 miles, what is the conditional probability\n",
    "that it will still be working after an additional 10,000 miles?\n",
    "\n",
    "Addendum: Can you calculate these directly from `scipy.stats.norm.cdf` without converting to standard normal RV $Z$.\n"
   ]
  },
  {
   "cell_type": "code",
   "execution_count": 16,
   "metadata": {},
   "outputs": [
    {
     "name": "stdout",
     "output_type": "stream",
     "text": [
      "Exercise E - Question 4\n",
      "\n",
      "\n",
      "(a)\n",
      "Score 700 is standardised as = 1.9148936170212767 \n",
      "Therefore the score 700 is approximately 1.91 (2dp) standard deviations from the mean (average score)\n",
      "\n",
      "\n",
      "(b) - Method 1 - z table\n",
      "P(x > 700) = P(z > 1.91)\n",
      "P(x > 700) = 1 - P(z < 1.91)\n",
      "P(x > 700) = 1 - 0.9719\n",
      "P(x > 700) = 0.03\n",
      "Therefore about 3% got higher than my score of 700\n",
      "\n",
      "\n",
      "(b) - Method 2 - scipy.stats.norm.pdf\n",
      "P(x > 700) = P(z > 1.91)\n",
      "P(x > 700) = 1 - P(z < 1.91)\n",
      "P(x > 700) = 1 - 0.9722469639944284\n",
      "P(x > 700) = 0.027753036005571552\n",
      "Therefore about 3% got higher than my score of 700\n",
      "\n",
      "\n",
      "Exercise E - Question 6\n",
      "\n",
      "\n",
      "(a)\n",
      "Tire which lasts 30,000 miles standardised as = -1.0\n",
      "Tire which lasts 40,000 miles standardised as = 1.0\n",
      "P(30,000 < Z < 40,000)\n",
      "P(-1 < Z < 1)\n",
      "0.6826894921370859\n",
      "\n",
      "\n",
      "(b)\n",
      "P(X > 40,0000) = 1 - P(X < 40,0000)\n",
      "P(X > 40,0000) = 0.15869999999999995\n",
      "\n",
      "\n",
      "(c)\n",
      "P(X > 50,0000) = 1 - P(X < 50,0000)\n",
      "P(X > 50,0000) = 1 - 0.9986501019683699\n",
      "P(X > 50,0000) = 0.0013498980316301035\n",
      "\n",
      "\n",
      "Exercise E - Question 7\n",
      "\n",
      "\n",
      "P(X > 50,000|P(X > 40,000) = [P(X > 50,000 n P(X > 40,000)]/P(x > 40,000) = P(X > 50,000/P(X > 40,000)\n",
      "P(X > 50,000|P(X > 40,000) = 0.008505973734279167\n",
      "\n",
      "\n",
      "Addendum: Since skew and kurtosis of our sample are based on central moments, we get exactly the same results if we test the standardized sample\n"
     ]
    }
   ],
   "source": [
    "## to complete\n",
    "\n",
    "print(\"Exercise E - Question 4\")\n",
    "print('\\n')\n",
    "\n",
    "# (a)\n",
    "mu = 520\n",
    "std = 94\n",
    "x = 700\n",
    "z = (700-mu)/std\n",
    "print(\"(a)\")\n",
    "print(f\"Score 700 is standardised as = {z} \")\n",
    "print(\"Therefore the score 700 is approximately 1.91 (2dp) standard deviations from the mean (average score)\")\n",
    "\n",
    "print('\\n')\n",
    "\n",
    "# (b)\n",
    "# Method 1 - z table\n",
    "print(\"(b) - Method 1 - z table\")\n",
    "print(\"P(x > 700) = P(z > 1.91)\")\n",
    "print(\"P(x > 700) = 1 - P(z < 1.91)\")\n",
    "print(\"P(x > 700) = 1 - 0.9719\")\n",
    "print(f\"P(x > 700) = {round((1 - 0.9719),2)}\")\n",
    "print(f\"Therefore about {int(round((1 - 0.9719),2)*100)}% got higher than my score of 700\")\n",
    "\n",
    "print('\\n')\n",
    "\n",
    "# Method 2 - scipy.stats.norm.pdf\n",
    "print(\"(b) - Method 2 - scipy.stats.norm.pdf\")\n",
    "print(f\"P(x > 700) = P(z > 1.91)\")\n",
    "print(f\"P(x > 700) = 1 - P(z < 1.91)\")\n",
    "print(f\"P(x > 700) = 1 - {stats.norm.cdf(z)}\")\n",
    "print(f\"P(x > 700) = {1 - stats.norm.cdf(z)}\")\n",
    "print(f\"Therefore about {int(round((1 - stats.norm.cdf(z)),2)*100)}% got higher than my score of 700\")\n",
    "\n",
    "print('\\n')\n",
    "\n",
    "print(\"Exercise E - Question 6\")\n",
    "print('\\n')\n",
    "\n",
    "# (a) \n",
    "mu = 35000\n",
    "std = 5000\n",
    "x1 = 30000\n",
    "x2 = 40000\n",
    "x3 = 50000\n",
    "z1 = (x1-mu)/std\n",
    "z2 = (x2-mu)/std\n",
    "z3 = (x3-mu)/std\n",
    "print(\"(a)\")\n",
    "print(f\"Tire which lasts 30,000 miles standardised as = {z1}\")\n",
    "print(f\"Tire which lasts 40,000 miles standardised as = {z2}\")\n",
    "print(\"P(30,000 < Z < 40,000)\")\n",
    "print(\"P(-1 < Z < 1)\")\n",
    "print(f\"{(stats.norm.cdf(z2) - stats.norm.cdf(z1))}\")\n",
    "# Table method same - just locate value and minus\n",
    "\n",
    "print('\\n')\n",
    "\n",
    "# (b)\n",
    "print(\"(b)\")\n",
    "print(\"P(X > 40,0000) = 1 - P(X < 40,0000)\")\n",
    "print(f\"P(X > 40,0000) = {1 - 0.8413}\")\n",
    "\n",
    "print('\\n')\n",
    "\n",
    "# (c)\n",
    "print(\"(c)\")\n",
    "print(\"P(X > 50,0000) = 1 - P(X < 50,0000)\")\n",
    "print(f\"P(X > 50,0000) = 1 - {stats.norm.cdf(z3)}\")\n",
    "print(f\"P(X > 50,0000) = {1 - stats.norm.cdf(z3)}\")\n",
    "\n",
    "print('\\n')\n",
    "\n",
    "print(\"Exercise E - Question 7\")\n",
    "print('\\n')\n",
    "\n",
    "print(\"P(X > 50,000|P(X > 40,000) = [P(X > 50,000 n P(X > 40,000)]/P(x > 40,000) = P(X > 50,000/P(X > 40,000)\")\n",
    "print(f\"P(X > 50,000|P(X > 40,000) = {(1 - stats.norm.cdf(z3))/(1 - 0.8413)}\")\n",
    "\n",
    "print('\\n')\n",
    "\n",
    "print(\"Addendum: Since skew and kurtosis of our sample are based on central moments, we get exactly the same results if we test the standardized sample\")"
   ]
  },
  {
   "cell_type": "markdown",
   "metadata": {},
   "source": [
    "## Exercise F\n",
    "\n",
    "1. Use the conversion method and `scipy` to confirm the values from the milk delivery example calculations in the slides.\n",
    "2. Use the conversion method and `scipy` to confirm the university course example calculations in the slides."
   ]
  },
  {
   "cell_type": "code",
   "execution_count": 17,
   "metadata": {},
   "outputs": [
    {
     "name": "stdout",
     "output_type": "stream",
     "text": [
      "Exercise F - Question 1\n",
      "\n",
      "\n",
      "Questions on slide 23: Weekly customer demand for a milk delivery firm is roughly\n",
      "normally distributed with mean 1000 litres and SD 100. Assuming demand each week is independent\n",
      "(a) What is the probability that demand this week and next is each below 1100l?\n",
      "(b) What is the probability that total demand over the two weeks is below 2200l?\n",
      "\n",
      "\n",
      "(a) If Xi is demand in week i then:\n",
      "Pr(X1 < 1100) = Pr(X2 < 1100) = Pr(Z < 1) = 0.8413\n",
      "Pr((X1 < 1100) and (X2 < 1100)) = 0.8413**2 = 0.7071\n",
      "\n",
      "\n",
      "(b) RV X1 + X2 has mean 2000 & SD (2*(100**2))**0.5 = 141\n",
      "Pr(X1 + X2 < 2200) = Pr(Z < (2200 − 2000)/141) = Pr(Z < 1.41) = 0.9207\n"
     ]
    }
   ],
   "source": [
    "## to complete\n",
    "\n",
    "print(\"Exercise F - Question 1\")\n",
    "print('\\n')\n",
    "\n",
    "print(\"Questions on slide 23: Weekly customer demand for a milk delivery firm is roughly\")\n",
    "print(\"normally distributed with mean 1000 litres and SD 100. Assuming demand each week is independent\")\n",
    "print(\"(a) What is the probability that demand this week and next is each below 1100l?\")\n",
    "print(\"(b) What is the probability that total demand over the two weeks is below 2200l?\")\n",
    "\n",
    "print('\\n')\n",
    "\n",
    "print(\"(a) If Xi is demand in week i then:\")\n",
    "print(\"Pr(X1 < 1100) = Pr(X2 < 1100) = Pr(Z < 1) = 0.8413\")\n",
    "print(\"Pr((X1 < 1100) and (X2 < 1100)) = 0.8413**2 = 0.7071\") \n",
    "\n",
    "print('\\n')\n",
    "\n",
    "print(\"(b) RV X1 + X2 has mean 2000 & SD (2*(100**2))**0.5 = 141\")\n",
    "print(\"Pr(X1 + X2 < 2200) = Pr(Z < (2200 − 2000)/141) = Pr(Z < 1.41) = 0.9207\")"
   ]
  },
  {
   "cell_type": "markdown",
   "metadata": {},
   "source": [
    "## Exercise G\n",
    "\n",
    "1. Look up the percent point (percentile) function for the normal distribution [`scipy.stats.norm.ppf`](https://docs.scipy.org/doc/scipy/reference/generated/scipy.stats.norm.html). Now check the working on the slide example about men's heights in the UK using this function."
   ]
  },
  {
   "cell_type": "code",
   "execution_count": 18,
   "metadata": {},
   "outputs": [
    {
     "name": "stdout",
     "output_type": "stream",
     "text": [
      "Exercise G\n",
      "\n",
      "\n",
      "In the UK, Men’s heights are roughly normally distributed with mean 175.3cm and standard deviation 7.5cm, what height are:\n",
      "(a) 10% of men taller than (and 90% shorter than)\n",
      "(b) 5% of men shorter than (and 95% taller than)\n",
      "\n",
      "\n",
      "(a) x0.9 = 173.5 + 7.5z0.9 = 183.1cm\n",
      "(a) x0.9 = 183.1116367415845\n",
      "(b) x0.05 = 173.5 + 7.5z0.05 = 161.2cm\n",
      "(b)x0.05 = 161.16359779786396\n"
     ]
    }
   ],
   "source": [
    "## to complete\n",
    "\n",
    "print(\"Exercise G\")\n",
    "print('\\n')\n",
    "print(\"In the UK, Men’s heights are roughly normally distributed with mean 175.3cm and standard deviation 7.5cm, what height are:\")\n",
    "print(\"(a) 10% of men taller than (and 90% shorter than)\")\n",
    "print(\"(b) 5% of men shorter than (and 95% taller than)\")\n",
    "\n",
    "print('\\n')\n",
    "\n",
    "print(\"(a) x0.9 = 173.5 + 7.5z0.9 = 183.1cm\")\n",
    "print(f\"(a) x0.9 = {173.5 + (7.5*stats.norm.ppf(0.9))}\")\n",
    "\n",
    "print(\"(b) x0.05 = 173.5 + 7.5z0.05 = 161.2cm\")\n",
    "print(f\"(b)x0.05 = {173.5 + (7.5*stats.norm.ppf(0.05))}\")"
   ]
  },
  {
   "cell_type": "markdown",
   "metadata": {},
   "source": [
    "## Exercise H\n",
    "\n",
    "Complete questions 6., 7. and 8. from(Ross, 2017, Sec. 6.7). Use the manual method and `scipy.stats.norm.ppf` and compare the outputs. The text is repeated for convenience:\n",
    "\n",
    "> 6. The time it takes for high school boys to run 1 mile is normally distributed \n",
    "with mean 460 seconds and standard deviation 40 seconds. All\n",
    "those falling in the slowest 20 percent are deemed to need additional\n",
    "training. What is the critical time above which one is deemed to need\n",
    "additional training?\n",
    "\n",
    "> 7. In Prob. 6, the fastest 5 percent all ran the mile in less than x seconds.\n",
    "What is the smallest value of x for which the preceding is a true statement?\n",
    "\n",
    "> 8. Repeat Prob. 7, replacing fastest 5 percent by fastest 1 percent."
   ]
  },
  {
   "cell_type": "code",
   "execution_count": 19,
   "metadata": {},
   "outputs": [
    {
     "name": "stdout",
     "output_type": "stream",
     "text": [
      "Exercise H - Question 6\n",
      "\n",
      "\n",
      "x0.20 = 460 + 40z0.20\n",
      "x0.20 = 482.30117297086565\n",
      "Critical time above which one is deemed to need additional training = 482 seconds\n",
      "\n",
      "\n",
      "Exercise H - Question 7\n",
      "\n",
      "\n",
      "x0.95 = 460 + 40z0.95\n",
      "x0.95 = 460.0023165720527\n",
      "Smallest value of x for which the preceding is a true statement = 460 seconds\n",
      "Exercise H - Question 8\n",
      "\n",
      "\n",
      "x0.95 = 460 + 40z0.95\n",
      "x0.95 = 460.0001875215332\n",
      "Smallest value of x for which the preceding is a true statement (fastest 1 %) = 460 seconds\n"
     ]
    }
   ],
   "source": [
    "## to complete\n",
    "\n",
    "print(\"Exercise H - Question 6\")\n",
    "print('\\n')\n",
    "\n",
    "mu6 = 460\n",
    "std6 = 40\n",
    "print(f\"x0.20 = 460 + 40z0.20\")\n",
    "print(f\"x0.20 = {460 + (40**stats.norm.ppf(0.8))}\")\n",
    "val = 460 + (40**stats.norm.ppf(0.8))\n",
    "print(f\"Critical time above which one is deemed to need additional training = {int(round(val,0))} seconds\")\n",
    "\n",
    "print('\\n')\n",
    "\n",
    "print(\"Exercise H - Question 7\")\n",
    "print('\\n')\n",
    "\n",
    "print(f\"x0.95 = 460 + 40z0.95\")\n",
    "print(f\"x0.95 = {460 + (40**stats.norm.ppf(0.05))}\")\n",
    "val = 460 + (40**stats.norm.ppf(0.05))\n",
    "print(f\"Smallest value of x for which the preceding is a true statement = {int(round(val,0))} seconds\")\n",
    "\n",
    "\n",
    "print(\"Exercise H - Question 8\")\n",
    "print('\\n')\n",
    "\n",
    "print(f\"x0.95 = 460 + 40z0.95\")\n",
    "print(f\"x0.95 = {460 + (40**stats.norm.ppf(0.01))}\")\n",
    "val = 460 + (40**stats.norm.ppf(0.01))\n",
    "print(f\"Smallest value of x for which the preceding is a true statement (fastest 1 %) = {int(round(val,0))} seconds\")\n"
   ]
  }
 ],
 "metadata": {
  "kernelspec": {
   "display_name": "Python 3",
   "language": "python",
   "name": "python3"
  },
  "language_info": {
   "codemirror_mode": {
    "name": "ipython",
    "version": 3
   },
   "file_extension": ".py",
   "mimetype": "text/x-python",
   "name": "python",
   "nbconvert_exporter": "python",
   "pygments_lexer": "ipython3",
   "version": "3.7.3"
  }
 },
 "nbformat": 4,
 "nbformat_minor": 4
}
